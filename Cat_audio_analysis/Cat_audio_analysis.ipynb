{
 "cells": [
  {
   "cell_type": "code",
   "execution_count": 1,
   "metadata": {},
   "outputs": [
    {
     "name": "stderr",
     "output_type": "stream",
     "text": [
      "Using TensorFlow backend.\n"
     ]
    }
   ],
   "source": [
    "import tensorflow as tf\n",
    "from keras import backend as k\n",
    "config = tf.ConfigProto()                                   # Set GPU options for tensorflow GPU \n",
    "config.gpu_options.allow_growth = True                      # Don't pre-allocate memory; allocate as-needed\n",
    "config.gpu_options.per_process_gpu_memory_fraction = 0.8    # Only allow a total of half the GPU memory to be allocated\n",
    "k.tensorflow_backend.set_session(tf.Session(config=config))"
   ]
  },
  {
   "cell_type": "code",
   "execution_count": 32,
   "metadata": {},
   "outputs": [
    {
     "name": "stdout",
     "output_type": "stream",
     "text": [
      "ffmpeg version N-93994-gd81913e680 Copyright (c) 2000-2019 the FFmpeg developers\n",
      "built with gcc 8.3.1 (GCC) 20190414\n",
      "configuration: --enable-gpl --enable-version3 --enable-sdl2 --enable-fontconfig --enable-gnutls --enable-iconv --enable-libass --enable-libdav1d --enable-libbluray --enable-libfreetype --enable-libmp3lame --enable-libopencore-amrnb --enable-libopencore-amrwb --enable-libopenjpeg --enable-libopus --enable-libshine --enable-libsnappy --enable-libsoxr --enable-libtheora --enable-libtwolame --enable-libvpx --enable-libwavpack --enable-libwebp --enable-libx264 --enable-libx265 --enable-libxml2 --enable-libzimg --enable-lzma --enable-zlib --enable-gmp --enable-libvidstab --enable-libvorbis --enable-libvo-amrwbenc --enable-libmysofa --enable-libspeex --enable-libxvid --enable-libaom --enable-libmfx --enable-amf --enable-ffnvcodec --enable-cuvid --enable-d3d11va --enable-nvenc --enable-nvdec --enable-dxva2 --enable-avisynth --enable-libopenmpt\n",
      "libavutil      56. 28.100 / 56. 28.100\n",
      "libavcodec     58. 52.102 / 58. 52.102\n",
      "libavformat    58. 27.103 / 58. 27.103\n",
      "libavdevice    58.  7.100 / 58.  7.100\n",
      "libavfilter     7. 55.100 /  7. 55.100\n",
      "libswscale      5.  4.101 /  5.  4.101\n",
      "libswresample   3.  4.100 /  3.  4.100\n",
      "libpostproc    55.  4.100 / 55.  4.100\n"
     ]
    }
   ],
   "source": [
    "# If librosa report \"no backend error\", install audio codec\n",
    "#!apt-get -y install libav-tools\n",
    "# or ffmpeg\n",
    "#!apt-get -y install software-properties-common\n",
    "#!add-apt-repository ppa:mc3man/trusty-media  \n",
    "#!apt-get -y install ffmpeg  \n",
    "#!apt-get -y install frei0r-plugins  \n",
    "#!ffmpeg -version"
   ]
  },
  {
   "cell_type": "code",
   "execution_count": 3,
   "metadata": {},
   "outputs": [],
   "source": [
    "import keras\n",
    "from keras.layers import Activation, Dense, Dropout, Conv2D, \\\n",
    "                         Flatten, MaxPooling2D\n",
    "from keras.models import Sequential\n",
    "from keras.callbacks import EarlyStopping,ReduceLROnPlateau,ModelCheckpoint,TensorBoard,ProgbarLogger\n",
    "from sklearn.model_selection import train_test_split\n",
    "import librosa\n",
    "import librosa.display\n",
    "import numpy as np\n",
    "import pandas as pd\n",
    "import random\n",
    "import warnings\n",
    "warnings.filterwarnings('ignore')\n",
    "\n",
    "#object serialization\n",
    "import _pickle as cPickle  #python 3 change\n",
    "import os  \n",
    "\n",
    "%matplotlib inline"
   ]
  },
  {
   "cell_type": "code",
   "execution_count": 4,
   "metadata": {},
   "outputs": [],
   "source": [
    "#enable memory profiler for memory management usage %%memit \n",
    "from memory_profiler import memory_usage\n",
    "%load_ext memory_profiler\n",
    "\n",
    "#enable garbage collection control\n",
    "import gc\n",
    "gc.enable()"
   ]
  },
  {
   "cell_type": "code",
   "execution_count": 5,
   "metadata": {},
   "outputs": [],
   "source": [
    "#progress tracker\n",
    "from tqdm import tqdm, tqdm_notebook"
   ]
  },
  {
   "cell_type": "code",
   "execution_count": 7,
   "metadata": {},
   "outputs": [],
   "source": [
    "# when set to TRUE, training data get loaded from a saved serialized data object file \n",
    "# All audio files data get saved to a serialized object file to save reloading time on training runs \n",
    "#\n",
    "# Note: \n",
    "# On first time run, if serialized file doesn't exist, this flag will get overrident \n",
    "#\n",
    "SKIP_AUDIO_RELOAD = False"
   ]
  },
  {
   "cell_type": "code",
   "execution_count": 8,
   "metadata": {},
   "outputs": [],
   "source": [
    "#location of the sound files\n",
    "train_input = pd.read_csv('csv_output_dir/catsound_dataset.csv')\n",
    "\n",
    "\n",
    "#TRAIN_INPUT=INPUT_PATH+'/train'\n",
    "#TRAIN_AUDIO_DIR=TRAIN_INPUT+'/Train'\n",
    "\n",
    "#TEST_INPUT=INPUT_PATH+'/test'\n",
    "#TEST_AUDIO_DIR=TEST_INPUT+'/Test'"
   ]
  },
  {
   "cell_type": "code",
   "execution_count": null,
   "metadata": {},
   "outputs": [],
   "source": []
  },
  {
   "cell_type": "code",
   "execution_count": 8,
   "metadata": {},
   "outputs": [],
   "source": [
    "# training file"
   ]
  },
  {
   "cell_type": "code",
   "execution_count": 20,
   "metadata": {},
   "outputs": [
    {
     "data": {
      "text/html": [
       "<div>\n",
       "<style scoped>\n",
       "    .dataframe tbody tr th:only-of-type {\n",
       "        vertical-align: middle;\n",
       "    }\n",
       "\n",
       "    .dataframe tbody tr th {\n",
       "        vertical-align: top;\n",
       "    }\n",
       "\n",
       "    .dataframe thead th {\n",
       "        text-align: right;\n",
       "    }\n",
       "</style>\n",
       "<table border=\"1\" class=\"dataframe\">\n",
       "  <thead>\n",
       "    <tr style=\"text-align: right;\">\n",
       "      <th></th>\n",
       "      <th>Unnamed: 0</th>\n",
       "      <th>path</th>\n",
       "      <th>label</th>\n",
       "    </tr>\n",
       "  </thead>\n",
       "  <tbody>\n",
       "    <tr>\n",
       "      <th>0</th>\n",
       "      <td>0</td>\n",
       "      <td>../CatSound_dataset/Angry/car_extcoll0103.mp3</td>\n",
       "      <td>0</td>\n",
       "    </tr>\n",
       "    <tr>\n",
       "      <th>1</th>\n",
       "      <td>1</td>\n",
       "      <td>../CatSound_dataset/Angry/car_extcoll0104.mp3</td>\n",
       "      <td>0</td>\n",
       "    </tr>\n",
       "    <tr>\n",
       "      <th>2</th>\n",
       "      <td>2</td>\n",
       "      <td>../CatSound_dataset/Angry/car_extcoll0117.mp3</td>\n",
       "      <td>0</td>\n",
       "    </tr>\n",
       "    <tr>\n",
       "      <th>3</th>\n",
       "      <td>3</td>\n",
       "      <td>../CatSound_dataset/Angry/car_extcoll0128.mp3</td>\n",
       "      <td>0</td>\n",
       "    </tr>\n",
       "    <tr>\n",
       "      <th>4</th>\n",
       "      <td>4</td>\n",
       "      <td>../CatSound_dataset/Angry/car_extcoll0149.mp3</td>\n",
       "      <td>0</td>\n",
       "    </tr>\n",
       "  </tbody>\n",
       "</table>\n",
       "</div>"
      ],
      "text/plain": [
       "   Unnamed: 0                                           path  label\n",
       "0           0  ../CatSound_dataset/Angry/car_extcoll0103.mp3      0\n",
       "1           1  ../CatSound_dataset/Angry/car_extcoll0104.mp3      0\n",
       "2           2  ../CatSound_dataset/Angry/car_extcoll0117.mp3      0\n",
       "3           3  ../CatSound_dataset/Angry/car_extcoll0128.mp3      0\n",
       "4           4  ../CatSound_dataset/Angry/car_extcoll0149.mp3      0"
      ]
     },
     "execution_count": 20,
     "metadata": {},
     "output_type": "execute_result"
    }
   ],
   "source": [
    "# training file\n",
    "TEST_FILE= pd.read_csv('csv_output_dir/catsound_dataset_t.csv')\n",
    "\n",
    "#show info\n",
    "test_input=TEST_FILE\n",
    "test_input.head()"
   ]
  },
  {
   "cell_type": "code",
   "execution_count": 21,
   "metadata": {},
   "outputs": [
    {
     "data": {
      "text/plain": [
       "label\n",
       "0    299\n",
       "1    290\n",
       "2    298\n",
       "3    297\n",
       "4    287\n",
       "5    298\n",
       "6    295\n",
       "7    292\n",
       "8    295\n",
       "9    299\n",
       "Name: label, dtype: int64"
      ]
     },
     "execution_count": 21,
     "metadata": {},
     "output_type": "execute_result"
    }
   ],
   "source": [
    "#labels\n",
    "valid_train_label = train_input[['label']]\n",
    "#x=data['label'].unique()\n",
    "valid_train_label.count()\n",
    "\n",
    "\n",
    "#unique classes\n",
    "x = train_input.groupby('label')['label'].count()\n",
    "x"
   ]
  },
  {
   "cell_type": "code",
   "execution_count": 50,
   "metadata": {},
   "outputs": [
    {
     "data": {
      "text/plain": [
       "path     2950\n",
       "label    2950\n",
       "dtype: int64"
      ]
     },
     "execution_count": 50,
     "metadata": {},
     "output_type": "execute_result"
    }
   ],
   "source": [
    "# train data size\n",
    "valid_train_data = train_input[['path', 'label']] \n",
    "valid_train_data.count()"
   ]
  },
  {
   "cell_type": "code",
   "execution_count": 92,
   "metadata": {
    "scrolled": true
   },
   "outputs": [
    {
     "data": {
      "text/plain": [
       "path     110\n",
       "label    110\n",
       "dtype: int64"
      ]
     },
     "execution_count": 92,
     "metadata": {},
     "output_type": "execute_result"
    }
   ],
   "source": [
    "# test data size\n",
    "valid_test_data = test_input[['path', 'label']] \n",
    "valid_test_data.count()"
   ]
  },
  {
   "cell_type": "code",
   "execution_count": 93,
   "metadata": {},
   "outputs": [
    {
     "name": "stdout",
     "output_type": "stream",
     "text": [
      "input: 65489  load: 65489  offset: 0\n",
      "y shape: (65489,)  melspec shape: (128, 128)\n"
     ]
    }
   ],
   "source": [
    "# sample-1 load\n",
    "sample1=train_input['path'][0][3:]\n",
    "duration=2.97 \n",
    "sr=22050\n",
    "sample1\n",
    "\n",
    "\n",
    "y, sr = librosa.load(sample1, duration=duration,  sr=sr)\n",
    "ps = librosa.feature.melspectrogram(y=y, sr=sr)\n",
    "\n",
    "input_length=sr*duration\n",
    "offset = len(y) - round(input_length)\n",
    "print (\"input:\", round(input_length), \" load:\", len(y) , \" offset:\", offset)\n",
    "print (\"y shape:\", y.shape, \" melspec shape:\", ps.shape)\n"
   ]
  },
  {
   "cell_type": "code",
   "execution_count": 25,
   "metadata": {},
   "outputs": [
    {
     "data": {
      "text/plain": [
       "<matplotlib.collections.PolyCollection at 0x1a617d4d6d8>"
      ]
     },
     "execution_count": 25,
     "metadata": {},
     "output_type": "execute_result"
    },
    {
     "data": {
      "image/png": "[encoded data removed]",
      "text/plain": [
       "<Figure size 432x288 with 1 Axes>"
      ]
     },
     "metadata": {},
     "output_type": "display_data"
    }
   ],
   "source": [
    "librosa.display.waveplot(y,sr)"
   ]
  },
  {
   "cell_type": "code",
   "execution_count": 26,
   "metadata": {},
   "outputs": [
    {
     "data": {
      "text/plain": [
       "<matplotlib.axes._subplots.AxesSubplot at 0x1a617d95940>"
      ]
     },
     "execution_count": 26,
     "metadata": {},
     "output_type": "execute_result"
    },
    {
     "data": {
      "image/png": "[encoded data removed]",
      "text/plain": [
       "<Figure size 432x288 with 1 Axes>"
      ]
     },
     "metadata": {},
     "output_type": "display_data"
    }
   ],
   "source": [
    "librosa.display.specshow(ps, y_axis='mel', x_axis='time')"
   ]
  },
  {
   "cell_type": "code",
   "execution_count": 51,
   "metadata": {},
   "outputs": [
    {
     "data": {
      "text/html": [
       "<div>\n",
       "<style scoped>\n",
       "    .dataframe tbody tr th:only-of-type {\n",
       "        vertical-align: middle;\n",
       "    }\n",
       "\n",
       "    .dataframe tbody tr th {\n",
       "        vertical-align: top;\n",
       "    }\n",
       "\n",
       "    .dataframe thead th {\n",
       "        text-align: right;\n",
       "    }\n",
       "</style>\n",
       "<table border=\"1\" class=\"dataframe\">\n",
       "  <thead>\n",
       "    <tr style=\"text-align: right;\">\n",
       "      <th></th>\n",
       "      <th>path</th>\n",
       "      <th>label</th>\n",
       "    </tr>\n",
       "  </thead>\n",
       "  <tbody>\n",
       "    <tr>\n",
       "      <th>0</th>\n",
       "      <td>../CatSound_dataset/Angry/car_extcoll0103.mp3</td>\n",
       "      <td>0</td>\n",
       "    </tr>\n",
       "    <tr>\n",
       "      <th>1</th>\n",
       "      <td>../CatSound_dataset/Angry/car_extcoll0104.mp3</td>\n",
       "      <td>0</td>\n",
       "    </tr>\n",
       "    <tr>\n",
       "      <th>2</th>\n",
       "      <td>../CatSound_dataset/Angry/car_extcoll0117.mp3</td>\n",
       "      <td>0</td>\n",
       "    </tr>\n",
       "    <tr>\n",
       "      <th>3</th>\n",
       "      <td>../CatSound_dataset/Angry/car_extcoll0128.mp3</td>\n",
       "      <td>0</td>\n",
       "    </tr>\n",
       "    <tr>\n",
       "      <th>4</th>\n",
       "      <td>../CatSound_dataset/Angry/car_extcoll0149.mp3</td>\n",
       "      <td>0</td>\n",
       "    </tr>\n",
       "  </tbody>\n",
       "</table>\n",
       "</div>"
      ],
      "text/plain": [
       "                                            path  label\n",
       "0  ../CatSound_dataset/Angry/car_extcoll0103.mp3      0\n",
       "1  ../CatSound_dataset/Angry/car_extcoll0104.mp3      0\n",
       "2  ../CatSound_dataset/Angry/car_extcoll0117.mp3      0\n",
       "3  ../CatSound_dataset/Angry/car_extcoll0128.mp3      0\n",
       "4  ../CatSound_dataset/Angry/car_extcoll0149.mp3      0"
      ]
     },
     "execution_count": 51,
     "metadata": {},
     "output_type": "execute_result"
    }
   ],
   "source": [
    "#for i in range(len(valid_train_data)):\n",
    "#    valid_train_data['path'][0] = train_input['path'][0][3:]\n",
    "\n",
    "\n",
    "#print (\"sample\",valid_train_data.path[1])\n",
    "valid_train_data['path'] = train_input['path']\n",
    "valid_train_data.head(5)"
   ]
  },
  {
   "cell_type": "code",
   "execution_count": 94,
   "metadata": {},
   "outputs": [],
   "source": [
    "#\n",
    "# set duration on audio loading to make audio content to ensure each training data have same size\n",
    "# \n",
    "# for instance, 3 seconds audio will have 128*128 which will be use on this notebook\n",
    "#\n",
    "def audio_norm(data):\n",
    "    max_data = np.max(data)\n",
    "    min_data = np.min(data)\n",
    "    data = (data-min_data)/(max_data-min_data+0.0001)\n",
    "    return data-0.5\n",
    "\n",
    "#fix the load audio file size\n",
    "audio_play_duration=2.97\n",
    "\n",
    "def load_audio_file(file_path, duration=2.97, sr=22050):\n",
    "\n",
    "    input_length=sr*duration\n",
    "    y, sr = librosa.load(file_path[3:],sr=sr, duration=duration)\n",
    "    dur = librosa.get_duration(y=y)\n",
    "    if (round(dur) < duration):\n",
    "        offset = len(y) - round(input_length)\n",
    "        print (\"fixing audio length :\", file_path)\n",
    "        print (\"input:\", round(input_length), \" load:\", len(y) , \" offset:\", offset)\n",
    "        y = librosa.util.fix_length(y, round(input_length))         \n",
    "    ps = librosa.feature.melspectrogram(y=y, sr=sr)\n",
    "    return ps"
   ]
  },
  {
   "cell_type": "code",
   "execution_count": 77,
   "metadata": {},
   "outputs": [
    {
     "name": "stdout",
     "output_type": "stream",
     "text": [
      "loading train audio data, may take more than 15 minutes. please wait!\n"
     ]
    },
    {
     "name": "stderr",
     "output_type": "stream",
     "text": [
      "29it [00:07,  3.68it/s]"
     ]
    },
    {
     "name": "stdout",
     "output_type": "stream",
     "text": [
      "fixing audio length : ../CatSound_dataset/Angry/cat02.mp3\n",
      "input: 65489  load: 53568  offset: -11921\n"
     ]
    },
    {
     "name": "stderr",
     "output_type": "stream",
     "text": [
      "53it [00:14,  3.67it/s]"
     ]
    },
    {
     "name": "stdout",
     "output_type": "stream",
     "text": [
      "fixing audio length : ../CatSound_dataset/Angry/cat07.mp3\n",
      "input: 65489  load: 50688  offset: -14801\n"
     ]
    },
    {
     "name": "stderr",
     "output_type": "stream",
     "text": [
      "58it [00:15,  3.67it/s]"
     ]
    },
    {
     "name": "stdout",
     "output_type": "stream",
     "text": [
      "fixing audio length : ../CatSound_dataset/Angry/cat14.mp3\n",
      "input: 65489  load: 35136  offset: -30353\n"
     ]
    },
    {
     "name": "stderr",
     "output_type": "stream",
     "text": [
      "60it [00:16,  3.83it/s]"
     ]
    },
    {
     "name": "stdout",
     "output_type": "stream",
     "text": [
      "fixing audio length : ../CatSound_dataset/Angry/cat16.mp3\n",
      "input: 65489  load: 40896  offset: -24593\n"
     ]
    },
    {
     "name": "stderr",
     "output_type": "stream",
     "text": [
      "\r",
      "61it [00:16,  3.93it/s]"
     ]
    },
    {
     "name": "stdout",
     "output_type": "stream",
     "text": [
      "fixing audio length : ../CatSound_dataset/Angry/cat17.mp3\n",
      "input: 65489  load: 38592  offset: -26897\n"
     ]
    },
    {
     "name": "stderr",
     "output_type": "stream",
     "text": [
      "63it [00:16,  3.96it/s]"
     ]
    },
    {
     "name": "stdout",
     "output_type": "stream",
     "text": [
      "fixing audio length : ../CatSound_dataset/Angry/cat24.mp3\n",
      "input: 65489  load: 51840  offset: -13649\n"
     ]
    },
    {
     "name": "stderr",
     "output_type": "stream",
     "text": [
      "74it [00:19,  3.82it/s]"
     ]
    },
    {
     "name": "stdout",
     "output_type": "stream",
     "text": [
      "fixing audio length : ../CatSound_dataset/Angry/Cat_angry1019.mp3\n",
      "input: 65489  load: 40320  offset: -25169\n"
     ]
    },
    {
     "name": "stderr",
     "output_type": "stream",
     "text": [
      "76it [00:20,  3.89it/s]"
     ]
    },
    {
     "name": "stdout",
     "output_type": "stream",
     "text": [
      "fixing audio length : ../CatSound_dataset/Angry/Cat_angry1021.mp3\n",
      "input: 65489  load: 47232  offset: -18257\n"
     ]
    },
    {
     "name": "stderr",
     "output_type": "stream",
     "text": [
      "\r",
      "77it [00:20,  3.97it/s]"
     ]
    },
    {
     "name": "stdout",
     "output_type": "stream",
     "text": [
      "fixing audio length : ../CatSound_dataset/Angry/Cat_angry1022.mp3\n",
      "input: 65489  load: 47232  offset: -18257\n"
     ]
    },
    {
     "name": "stderr",
     "output_type": "stream",
     "text": [
      "\r",
      "78it [00:20,  4.00it/s]"
     ]
    },
    {
     "name": "stdout",
     "output_type": "stream",
     "text": [
      "fixing audio length : ../CatSound_dataset/Angry/Cat_angry1023.mp3\n",
      "input: 65489  load: 45504  offset: -19985\n"
     ]
    },
    {
     "name": "stderr",
     "output_type": "stream",
     "text": [
      "80it [00:21,  4.02it/s]"
     ]
    },
    {
     "name": "stdout",
     "output_type": "stream",
     "text": [
      "fixing audio length : ../CatSound_dataset/Angry/Cat_Angry1026.mp3\n",
      "input: 65489  load: 52416  offset: -13073\n"
     ]
    },
    {
     "name": "stderr",
     "output_type": "stream",
     "text": [
      "84it [00:22,  3.96it/s]"
     ]
    },
    {
     "name": "stdout",
     "output_type": "stream",
     "text": [
      "fixing audio length : ../CatSound_dataset/Angry/Cat_Angry1030.mp3\n",
      "input: 65489  load: 52416  offset: -13073\n"
     ]
    },
    {
     "name": "stderr",
     "output_type": "stream",
     "text": [
      "\r",
      "85it [00:22,  3.94it/s]"
     ]
    },
    {
     "name": "stdout",
     "output_type": "stream",
     "text": [
      "fixing audio length : ../CatSound_dataset/Angry/Cat_Angry1031.mp3\n",
      "input: 65489  load: 54720  offset: -10769\n"
     ]
    },
    {
     "name": "stderr",
     "output_type": "stream",
     "text": [
      "\r",
      "86it [00:22,  3.88it/s]"
     ]
    },
    {
     "name": "stdout",
     "output_type": "stream",
     "text": [
      "fixing audio length : ../CatSound_dataset/Angry/Cat_Angry1032.mp3\n",
      "input: 65489  load: 50688  offset: -14801\n"
     ]
    },
    {
     "name": "stderr",
     "output_type": "stream",
     "text": [
      "\r",
      "87it [00:23,  3.94it/s]"
     ]
    },
    {
     "name": "stdout",
     "output_type": "stream",
     "text": [
      "fixing audio length : ../CatSound_dataset/Angry/Cat_Angry1033.mp3\n",
      "input: 65489  load: 31680  offset: -33809\n"
     ]
    },
    {
     "name": "stderr",
     "output_type": "stream",
     "text": [
      "91it [00:24,  4.03it/s]"
     ]
    },
    {
     "name": "stdout",
     "output_type": "stream",
     "text": [
      "fixing audio length : ../CatSound_dataset/Angry/Cat_Angry1037.mp3\n",
      "input: 65489  load: 51264  offset: -14225\n"
     ]
    },
    {
     "name": "stderr",
     "output_type": "stream",
     "text": [
      "\r",
      "92it [00:24,  4.00it/s]"
     ]
    },
    {
     "name": "stdout",
     "output_type": "stream",
     "text": [
      "fixing audio length : ../CatSound_dataset/Angry/Cat_Angry1038.mp3\n",
      "input: 65489  load: 35136  offset: -30353\n"
     ]
    },
    {
     "name": "stderr",
     "output_type": "stream",
     "text": [
      "94it [00:24,  4.14it/s]"
     ]
    },
    {
     "name": "stdout",
     "output_type": "stream",
     "text": [
      "fixing audio length : ../CatSound_dataset/Angry/Cat_Angry1040.mp3\n",
      "input: 65489  load: 51264  offset: -14225\n"
     ]
    },
    {
     "name": "stderr",
     "output_type": "stream",
     "text": [
      "96it [00:25,  4.08it/s]"
     ]
    },
    {
     "name": "stdout",
     "output_type": "stream",
     "text": [
      "fixing audio length : ../CatSound_dataset/Angry/Cat_Angry1043.mp3\n",
      "input: 65489  load: 43776  offset: -21713\n"
     ]
    },
    {
     "name": "stderr",
     "output_type": "stream",
     "text": [
      "\r",
      "97it [00:25,  4.06it/s]"
     ]
    },
    {
     "name": "stdout",
     "output_type": "stream",
     "text": [
      "fixing audio length : ../CatSound_dataset/Angry/Cat_Angry1044.mp3\n",
      "input: 65489  load: 39744  offset: -25745\n"
     ]
    },
    {
     "name": "stderr",
     "output_type": "stream",
     "text": [
      "\r",
      "98it [00:25,  4.12it/s]"
     ]
    },
    {
     "name": "stdout",
     "output_type": "stream",
     "text": [
      "fixing audio length : ../CatSound_dataset/Angry/Cat_Angry1045.mp3\n",
      "input: 65489  load: 34560  offset: -30929\n"
     ]
    },
    {
     "name": "stderr",
     "output_type": "stream",
     "text": [
      "100it [00:26,  4.19it/s]"
     ]
    },
    {
     "name": "stdout",
     "output_type": "stream",
     "text": [
      "fixing audio length : ../CatSound_dataset/Angry/Cat_Angry1047.mp3\n",
      "input: 65489  load: 54720  offset: -10769\n"
     ]
    },
    {
     "name": "stderr",
     "output_type": "stream",
     "text": [
      "\r",
      "101it [00:26,  4.06it/s]"
     ]
    },
    {
     "name": "stdout",
     "output_type": "stream",
     "text": [
      "fixing audio length : ../CatSound_dataset/Angry/Cat_Angry1048.mp3\n",
      "input: 65489  load: 36288  offset: -29201\n"
     ]
    },
    {
     "name": "stderr",
     "output_type": "stream",
     "text": [
      "116it [00:30,  3.72it/s]"
     ]
    },
    {
     "name": "stdout",
     "output_type": "stream",
     "text": [
      "fixing audio length : ../CatSound_dataset/Angry/cat_flickr01408.mp3\n",
      "input: 65489  load: 53568  offset: -11921\n"
     ]
    },
    {
     "name": "stderr",
     "output_type": "stream",
     "text": [
      "118it [00:31,  3.68it/s]"
     ]
    },
    {
     "name": "stdout",
     "output_type": "stream",
     "text": [
      "fixing audio length : ../CatSound_dataset/Angry/cat_flickr01416.mp3\n",
      "input: 65489  load: 43776  offset: -21713\n"
     ]
    },
    {
     "name": "stderr",
     "output_type": "stream",
     "text": [
      "\r",
      "119it [00:31,  3.83it/s]"
     ]
    },
    {
     "name": "stdout",
     "output_type": "stream",
     "text": [
      "fixing audio length : ../CatSound_dataset/Angry/cat_flickr01417.mp3\n",
      "input: 65489  load: 43776  offset: -21713\n"
     ]
    },
    {
     "name": "stderr",
     "output_type": "stream",
     "text": [
      "121it [00:31,  3.91it/s]"
     ]
    },
    {
     "name": "stdout",
     "output_type": "stream",
     "text": [
      "fixing audio length : ../CatSound_dataset/Angry/cat_flickr01420.mp3\n",
      "input: 65489  load: 33984  offset: -31505\n"
     ]
    },
    {
     "name": "stderr",
     "output_type": "stream",
     "text": [
      "126it [00:33,  3.99it/s]"
     ]
    },
    {
     "name": "stdout",
     "output_type": "stream",
     "text": [
      "fixing audio length : ../CatSound_dataset/Angry/cat_flickr01437.mp3\n",
      "input: 65489  load: 50688  offset: -14801\n"
     ]
    },
    {
     "name": "stderr",
     "output_type": "stream",
     "text": [
      "129it [00:33,  3.86it/s]"
     ]
    },
    {
     "name": "stdout",
     "output_type": "stream",
     "text": [
      "fixing audio length : ../CatSound_dataset/Angry/cat_flickr01441.mp3\n",
      "input: 65489  load: 33984  offset: -31505\n"
     ]
    },
    {
     "name": "stderr",
     "output_type": "stream",
     "text": [
      "\r",
      "130it [00:34,  4.04it/s]"
     ]
    },
    {
     "name": "stdout",
     "output_type": "stream",
     "text": [
      "fixing audio length : ../CatSound_dataset/Angry/cat_flickr01442.mp3\n",
      "input: 65489  load: 52992  offset: -12497\n"
     ]
    },
    {
     "name": "stderr",
     "output_type": "stream",
     "text": [
      "\r",
      "131it [00:34,  4.01it/s]"
     ]
    },
    {
     "name": "stdout",
     "output_type": "stream",
     "text": [
      "fixing audio length : ../CatSound_dataset/Angry/cat_flickr01446.mp3\n",
      "input: 65489  load: 54144  offset: -11345\n"
     ]
    },
    {
     "name": "stderr",
     "output_type": "stream",
     "text": [
      "160it [00:42,  3.54it/s]"
     ]
    },
    {
     "name": "stdout",
     "output_type": "stream",
     "text": [
      "fixing audio length : ../CatSound_dataset/Angry/cat_flickr01504.mp3\n",
      "input: 65489  load: 50112  offset: -15377\n"
     ]
    },
    {
     "name": "stderr",
     "output_type": "stream",
     "text": [
      "174it [00:45,  3.80it/s]"
     ]
    },
    {
     "name": "stdout",
     "output_type": "stream",
     "text": [
      "fixing audio length : ../CatSound_dataset/Angry/FIGHT_CONFUSION (3).mp3\n",
      "input: 65489  load: 47808  offset: -17681\n"
     ]
    },
    {
     "name": "stderr",
     "output_type": "stream",
     "text": [
      "180it [00:47,  3.58it/s]"
     ]
    },
    {
     "name": "stdout",
     "output_type": "stream",
     "text": [
      "fixing audio length : ../CatSound_dataset/Angry/FIGHT_CONFUSION (9).mp3\n",
      "input: 65489  load: 52416  offset: -13073\n"
     ]
    },
    {
     "name": "stderr",
     "output_type": "stream",
     "text": [
      "300it [01:19,  3.71it/s]"
     ]
    },
    {
     "name": "stdout",
     "output_type": "stream",
     "text": [
      "fixing audio length : ../CatSound_dataset/Defence/car_extcoll0161.mp3\n",
      "input: 65489  load: 36864  offset: -28625\n"
     ]
    },
    {
     "name": "stderr",
     "output_type": "stream",
     "text": [
      "303it [01:19,  3.91it/s]"
     ]
    },
    {
     "name": "stdout",
     "output_type": "stream",
     "text": [
      "fixing audio length : ../CatSound_dataset/Defence/car_extcoll0166.mp3\n",
      "input: 65489  load: 47232  offset: -18257\n"
     ]
    },
    {
     "name": "stderr",
     "output_type": "stream",
     "text": [
      "310it [01:21,  3.95it/s]"
     ]
    },
    {
     "name": "stdout",
     "output_type": "stream",
     "text": [
      "fixing audio length : ../CatSound_dataset/Defence/car_extcoll0251.mp3\n",
      "input: 65489  load: 29952  offset: -35537\n"
     ]
    },
    {
     "name": "stderr",
     "output_type": "stream",
     "text": [
      "\r",
      "311it [01:21,  4.09it/s]"
     ]
    },
    {
     "name": "stdout",
     "output_type": "stream",
     "text": [
      "fixing audio length : ../CatSound_dataset/Defence/car_extcoll02516.mp3\n",
      "input: 65489  load: 33984  offset: -31505\n"
     ]
    },
    {
     "name": "stderr",
     "output_type": "stream",
     "text": [
      "\r",
      "312it [01:22,  4.22it/s]"
     ]
    },
    {
     "name": "stdout",
     "output_type": "stream",
     "text": [
      "fixing audio length : ../CatSound_dataset/Defence/car_extcoll0255.mp3\n",
      "input: 65489  load: 24768  offset: -40721\n"
     ]
    },
    {
     "name": "stderr",
     "output_type": "stream",
     "text": [
      "\r",
      "313it [01:22,  4.40it/s]"
     ]
    },
    {
     "name": "stdout",
     "output_type": "stream",
     "text": [
      "fixing audio length : ../CatSound_dataset/Defence/car_extcoll0259.mp3\n",
      "input: 65489  load: 26496  offset: -38993\n"
     ]
    },
    {
     "name": "stderr",
     "output_type": "stream",
     "text": [
      "\r",
      "314it [01:22,  4.47it/s]"
     ]
    },
    {
     "name": "stdout",
     "output_type": "stream",
     "text": [
      "fixing audio length : ../CatSound_dataset/Defence/car_extcoll0263.mp3\n",
      "input: 65489  load: 25920  offset: -39569\n"
     ]
    },
    {
     "name": "stderr",
     "output_type": "stream",
     "text": [
      "\r",
      "315it [01:22,  4.58it/s]"
     ]
    },
    {
     "name": "stdout",
     "output_type": "stream",
     "text": [
      "fixing audio length : ../CatSound_dataset/Defence/car_extcoll0265.mp3\n",
      "input: 65489  load: 23040  offset: -42449\n"
     ]
    },
    {
     "name": "stderr",
     "output_type": "stream",
     "text": [
      "\r",
      "316it [01:23,  4.70it/s]"
     ]
    },
    {
     "name": "stdout",
     "output_type": "stream",
     "text": [
      "fixing audio length : ../CatSound_dataset/Defence/car_extcoll0268.mp3\n",
      "input: 65489  load: 20160  offset: -45329\n"
     ]
    },
    {
     "name": "stderr",
     "output_type": "stream",
     "text": [
      "\r",
      "317it [01:23,  4.79it/s]"
     ]
    },
    {
     "name": "stdout",
     "output_type": "stream",
     "text": [
      "fixing audio length : ../CatSound_dataset/Defence/car_extcoll0276.mp3\n",
      "input: 65489  load: 26496  offset: -38993\n"
     ]
    },
    {
     "name": "stderr",
     "output_type": "stream",
     "text": [
      "\r",
      "318it [01:23,  4.81it/s]"
     ]
    },
    {
     "name": "stdout",
     "output_type": "stream",
     "text": [
      "fixing audio length : ../CatSound_dataset/Defence/car_extcoll0287.mp3\n",
      "input: 65489  load: 48384  offset: -17105\n"
     ]
    },
    {
     "name": "stderr",
     "output_type": "stream",
     "text": [
      "321it [01:24,  4.27it/s]"
     ]
    },
    {
     "name": "stdout",
     "output_type": "stream",
     "text": [
      "fixing audio length : ../CatSound_dataset/Defence/cat01.mp3\n",
      "input: 65489  load: 48384  offset: -17105\n"
     ]
    },
    {
     "name": "stderr",
     "output_type": "stream",
     "text": [
      "\r",
      "322it [01:24,  4.15it/s]"
     ]
    },
    {
     "name": "stdout",
     "output_type": "stream",
     "text": [
      "fixing audio length : ../CatSound_dataset/Defence/cat04.mp3\n",
      "input: 65489  load: 42624  offset: -22865\n"
     ]
    },
    {
     "name": "stderr",
     "output_type": "stream",
     "text": [
      "\r",
      "323it [01:24,  4.19it/s]"
     ]
    },
    {
     "name": "stdout",
     "output_type": "stream",
     "text": [
      "fixing audio length : ../CatSound_dataset/Defence/cat06.mp3\n",
      "input: 65489  load: 34560  offset: -30929\n"
     ]
    },
    {
     "name": "stderr",
     "output_type": "stream",
     "text": [
      "325it [01:25,  4.27it/s]"
     ]
    },
    {
     "name": "stdout",
     "output_type": "stream",
     "text": [
      "fixing audio length : ../CatSound_dataset/Defence/cat08.mp3\n",
      "input: 65489  load: 41472  offset: -24017\n"
     ]
    },
    {
     "name": "stderr",
     "output_type": "stream",
     "text": [
      "327it [01:25,  4.20it/s]"
     ]
    },
    {
     "name": "stdout",
     "output_type": "stream",
     "text": [
      "fixing audio length : ../CatSound_dataset/Defence/cat11.mp3\n",
      "input: 65489  load: 51840  offset: -13649\n"
     ]
    },
    {
     "name": "stderr",
     "output_type": "stream",
     "text": [
      "329it [01:26,  4.10it/s]"
     ]
    },
    {
     "name": "stdout",
     "output_type": "stream",
     "text": [
      "fixing audio length : ../CatSound_dataset/Defence/Cathiss1010.mp3\n",
      "input: 65489  load: 36288  offset: -29201\n"
     ]
    },
    {
     "name": "stderr",
     "output_type": "stream",
     "text": [
      "\r",
      "330it [01:26,  4.14it/s]"
     ]
    },
    {
     "name": "stdout",
     "output_type": "stream",
     "text": [
      "fixing audio length : ../CatSound_dataset/Defence/cat_flickr0105.mp3\n",
      "input: 65489  load: 39168  offset: -26321\n"
     ]
    },
    {
     "name": "stderr",
     "output_type": "stream",
     "text": [
      "\r",
      "331it [01:26,  4.21it/s]"
     ]
    },
    {
     "name": "stdout",
     "output_type": "stream",
     "text": [
      "fixing audio length : ../CatSound_dataset/Defence/cat_flickr0124.mp3\n",
      "input: 65489  load: 26496  offset: -38993\n"
     ]
    },
    {
     "name": "stderr",
     "output_type": "stream",
     "text": [
      "\r",
      "332it [01:26,  4.39it/s]"
     ]
    },
    {
     "name": "stdout",
     "output_type": "stream",
     "text": [
      "fixing audio length : ../CatSound_dataset/Defence/cat_flickr01347.mp3\n",
      "input: 65489  load: 35712  offset: -29777\n"
     ]
    },
    {
     "name": "stderr",
     "output_type": "stream",
     "text": [
      "\r",
      "333it [01:26,  4.43it/s]"
     ]
    },
    {
     "name": "stdout",
     "output_type": "stream",
     "text": [
      "fixing audio length : ../CatSound_dataset/Defence/cat_flickr01351.mp3\n",
      "input: 65489  load: 29952  offset: -35537\n"
     ]
    },
    {
     "name": "stderr",
     "output_type": "stream",
     "text": [
      "335it [01:27,  4.37it/s]"
     ]
    },
    {
     "name": "stdout",
     "output_type": "stream",
     "text": [
      "fixing audio length : ../CatSound_dataset/Defence/cat_flickr01356.mp3\n",
      "input: 65489  load: 29376  offset: -36113\n"
     ]
    },
    {
     "name": "stderr",
     "output_type": "stream",
     "text": [
      "\r",
      "336it [01:27,  4.36it/s]"
     ]
    },
    {
     "name": "stdout",
     "output_type": "stream",
     "text": [
      "fixing audio length : ../CatSound_dataset/Defence/cat_flickr01364.mp3\n",
      "input: 65489  load: 23616  offset: -41873\n"
     ]
    },
    {
     "name": "stderr",
     "output_type": "stream",
     "text": [
      "\r",
      "337it [01:27,  4.49it/s]"
     ]
    },
    {
     "name": "stdout",
     "output_type": "stream",
     "text": [
      "fixing audio length : ../CatSound_dataset/Defence/cat_flickr01413.mp3\n",
      "input: 65489  load: 25344  offset: -40145\n"
     ]
    },
    {
     "name": "stderr",
     "output_type": "stream",
     "text": [
      "\r",
      "338it [01:28,  4.59it/s]"
     ]
    },
    {
     "name": "stdout",
     "output_type": "stream",
     "text": [
      "fixing audio length : ../CatSound_dataset/Defence/cat_flickr01440.mp3\n",
      "input: 65489  load: 28224  offset: -37265\n"
     ]
    },
    {
     "name": "stderr",
     "output_type": "stream",
     "text": [
      "\r",
      "339it [01:28,  4.64it/s]"
     ]
    },
    {
     "name": "stdout",
     "output_type": "stream",
     "text": [
      "fixing audio length : ../CatSound_dataset/Defence/cat_flickr01465.mp3\n",
      "input: 65489  load: 36864  offset: -28625\n"
     ]
    },
    {
     "name": "stderr",
     "output_type": "stream",
     "text": [
      "\r",
      "340it [01:28,  4.54it/s]"
     ]
    },
    {
     "name": "stdout",
     "output_type": "stream",
     "text": [
      "fixing audio length : ../CatSound_dataset/Defence/cat_flickr01468.mp3\n",
      "input: 65489  load: 28800  offset: -36689\n"
     ]
    },
    {
     "name": "stderr",
     "output_type": "stream",
     "text": [
      "\r",
      "341it [01:28,  4.59it/s]"
     ]
    },
    {
     "name": "stdout",
     "output_type": "stream",
     "text": [
      "fixing audio length : ../CatSound_dataset/Defence/cat_flickr01470.mp3\n",
      "input: 65489  load: 30528  offset: -34961\n"
     ]
    },
    {
     "name": "stderr",
     "output_type": "stream",
     "text": [
      "\r",
      "342it [01:28,  4.59it/s]"
     ]
    },
    {
     "name": "stdout",
     "output_type": "stream",
     "text": [
      "fixing audio length : ../CatSound_dataset/Defence/cat_flickr01471.mp3\n",
      "input: 65489  load: 39168  offset: -26321\n"
     ]
    },
    {
     "name": "stderr",
     "output_type": "stream",
     "text": [
      "\r",
      "343it [01:29,  4.51it/s]"
     ]
    },
    {
     "name": "stdout",
     "output_type": "stream",
     "text": [
      "fixing audio length : ../CatSound_dataset/Defence/cat_flickr01473.mp3\n",
      "input: 65489  load: 25920  offset: -39569\n"
     ]
    },
    {
     "name": "stderr",
     "output_type": "stream",
     "text": [
      "346it [01:29,  4.29it/s]"
     ]
    },
    {
     "name": "stdout",
     "output_type": "stream",
     "text": [
      "fixing audio length : ../CatSound_dataset/Defence/cat_flickr0155.mp3\n",
      "input: 65489  load: 48960  offset: -16529\n"
     ]
    },
    {
     "name": "stderr",
     "output_type": "stream",
     "text": [
      "\r",
      "347it [01:30,  4.14it/s]"
     ]
    },
    {
     "name": "stdout",
     "output_type": "stream",
     "text": [
      "fixing audio length : ../CatSound_dataset/Defence/cat_flickr0156.mp3\n",
      "input: 65489  load: 48960  offset: -16529\n"
     ]
    },
    {
     "name": "stderr",
     "output_type": "stream",
     "text": [
      "352it [01:31,  3.87it/s]"
     ]
    },
    {
     "name": "stdout",
     "output_type": "stream",
     "text": [
      "fixing audio length : ../CatSound_dataset/Defence/Cat_Hass1043.mp3\n",
      "input: 65489  load: 31680  offset: -33809\n"
     ]
    },
    {
     "name": "stderr",
     "output_type": "stream",
     "text": [
      "\r",
      "353it [01:31,  4.07it/s]"
     ]
    },
    {
     "name": "stdout",
     "output_type": "stream",
     "text": [
      "fixing audio length : ../CatSound_dataset/Defence/Cat_Hass1050.mp3\n",
      "input: 65489  load: 32832  offset: -32657\n"
     ]
    },
    {
     "name": "stderr",
     "output_type": "stream",
     "text": [
      "\r",
      "354it [01:31,  4.21it/s]"
     ]
    },
    {
     "name": "stdout",
     "output_type": "stream",
     "text": [
      "fixing audio length : ../CatSound_dataset/Defence/Cat_Hass1054.mp3\n",
      "input: 65489  load: 40320  offset: -25169\n"
     ]
    },
    {
     "name": "stderr",
     "output_type": "stream",
     "text": [
      "\r",
      "355it [01:32,  4.25it/s]"
     ]
    },
    {
     "name": "stdout",
     "output_type": "stream",
     "text": [
      "fixing audio length : ../CatSound_dataset/Defence/Cat_Hass1066.mp3\n",
      "input: 65489  load: 50112  offset: -15377\n"
     ]
    },
    {
     "name": "stderr",
     "output_type": "stream",
     "text": [
      "\r",
      "356it [01:32,  4.18it/s]"
     ]
    },
    {
     "name": "stdout",
     "output_type": "stream",
     "text": [
      "fixing audio length : ../CatSound_dataset/Defence/Cat_hiss.mp3\n",
      "input: 65489  load: 21312  offset: -44177\n"
     ]
    },
    {
     "name": "stderr",
     "output_type": "stream",
     "text": [
      "\r",
      "357it [01:32,  4.40it/s]"
     ]
    },
    {
     "name": "stdout",
     "output_type": "stream",
     "text": [
      "fixing audio length : ../CatSound_dataset/Defence/Cat_Hiss10010.mp3\n",
      "input: 65489  load: 31104  offset: -34385\n"
     ]
    },
    {
     "name": "stderr",
     "output_type": "stream",
     "text": [
      "\r",
      "358it [01:32,  4.47it/s]"
     ]
    },
    {
     "name": "stdout",
     "output_type": "stream",
     "text": [
      "fixing audio length : ../CatSound_dataset/Defence/Cat_Hiss10012.mp3\n",
      "input: 65489  load: 24768  offset: -40721\n"
     ]
    },
    {
     "name": "stderr",
     "output_type": "stream",
     "text": [
      "\r",
      "359it [01:32,  4.60it/s]"
     ]
    },
    {
     "name": "stdout",
     "output_type": "stream",
     "text": [
      "fixing audio length : ../CatSound_dataset/Defence/Cat_Hiss10013.mp3\n",
      "input: 65489  load: 29376  offset: -36113\n"
     ]
    },
    {
     "name": "stderr",
     "output_type": "stream",
     "text": [
      "\r",
      "360it [01:33,  4.61it/s]"
     ]
    },
    {
     "name": "stdout",
     "output_type": "stream",
     "text": [
      "fixing audio length : ../CatSound_dataset/Defence/Cat_HIss10023.mp3\n",
      "input: 65489  load: 36288  offset: -29201\n"
     ]
    },
    {
     "name": "stderr",
     "output_type": "stream",
     "text": [
      "\r",
      "361it [01:33,  4.57it/s]"
     ]
    },
    {
     "name": "stdout",
     "output_type": "stream",
     "text": [
      "fixing audio length : ../CatSound_dataset/Defence/Cat_HIss10024.mp3\n",
      "input: 65489  load: 54144  offset: -11345\n"
     ]
    },
    {
     "name": "stderr",
     "output_type": "stream",
     "text": [
      "\r",
      "362it [01:33,  4.36it/s]"
     ]
    },
    {
     "name": "stdout",
     "output_type": "stream",
     "text": [
      "fixing audio length : ../CatSound_dataset/Defence/Cat_HIss10028.mp3\n",
      "input: 65489  load: 38016  offset: -27473\n"
     ]
    },
    {
     "name": "stderr",
     "output_type": "stream",
     "text": [
      "\r",
      "363it [01:33,  4.35it/s]"
     ]
    },
    {
     "name": "stdout",
     "output_type": "stream",
     "text": [
      "fixing audio length : ../CatSound_dataset/Defence/Cat_HIss10031.mp3\n",
      "input: 65489  load: 30528  offset: -34961\n"
     ]
    },
    {
     "name": "stderr",
     "output_type": "stream",
     "text": [
      "\r",
      "364it [01:34,  4.39it/s]"
     ]
    },
    {
     "name": "stdout",
     "output_type": "stream",
     "text": [
      "fixing audio length : ../CatSound_dataset/Defence/Cat_HIss10033.mp3\n",
      "input: 65489  load: 35136  offset: -30353\n"
     ]
    },
    {
     "name": "stderr",
     "output_type": "stream",
     "text": [
      "\r",
      "365it [01:34,  4.42it/s]"
     ]
    },
    {
     "name": "stdout",
     "output_type": "stream",
     "text": [
      "fixing audio length : ../CatSound_dataset/Defence/Cat_HIss10034.mp3\n",
      "input: 65489  load: 21312  offset: -44177\n"
     ]
    },
    {
     "name": "stderr",
     "output_type": "stream",
     "text": [
      "\r",
      "366it [01:34,  4.59it/s]"
     ]
    },
    {
     "name": "stdout",
     "output_type": "stream",
     "text": [
      "fixing audio length : ../CatSound_dataset/Defence/Cat_HIss10035.mp3\n",
      "input: 65489  load: 42624  offset: -22865\n"
     ]
    },
    {
     "name": "stderr",
     "output_type": "stream",
     "text": [
      "\r",
      "367it [01:34,  4.49it/s]"
     ]
    },
    {
     "name": "stdout",
     "output_type": "stream",
     "text": [
      "fixing audio length : ../CatSound_dataset/Defence/Cat_HIss10036.mp3\n",
      "input: 65489  load: 50112  offset: -15377\n"
     ]
    },
    {
     "name": "stderr",
     "output_type": "stream",
     "text": [
      "\r",
      "368it [01:35,  4.36it/s]"
     ]
    },
    {
     "name": "stdout",
     "output_type": "stream",
     "text": [
      "fixing audio length : ../CatSound_dataset/Defence/Cat_Hiss10038.mp3\n",
      "input: 65489  load: 52416  offset: -13073\n"
     ]
    },
    {
     "name": "stderr",
     "output_type": "stream",
     "text": [
      "\r",
      "369it [01:35,  4.15it/s]"
     ]
    },
    {
     "name": "stdout",
     "output_type": "stream",
     "text": [
      "fixing audio length : ../CatSound_dataset/Defence/Cat_Hiss10043.mp3\n",
      "input: 65489  load: 52992  offset: -12497\n"
     ]
    },
    {
     "name": "stderr",
     "output_type": "stream",
     "text": [
      "\r",
      "370it [01:35,  4.09it/s]"
     ]
    },
    {
     "name": "stdout",
     "output_type": "stream",
     "text": [
      "fixing audio length : ../CatSound_dataset/Defence/Cat_Hiss10044.mp3\n",
      "input: 65489  load: 33984  offset: -31505\n"
     ]
    },
    {
     "name": "stderr",
     "output_type": "stream",
     "text": [
      "\r",
      "371it [01:35,  4.20it/s]"
     ]
    },
    {
     "name": "stdout",
     "output_type": "stream",
     "text": [
      "fixing audio length : ../CatSound_dataset/Defence/Cat_Hiss10045.mp3\n",
      "input: 65489  load: 51840  offset: -13649\n"
     ]
    },
    {
     "name": "stderr",
     "output_type": "stream",
     "text": [
      "\r",
      "372it [01:36,  4.13it/s]"
     ]
    },
    {
     "name": "stdout",
     "output_type": "stream",
     "text": [
      "fixing audio length : ../CatSound_dataset/Defence/Cat_Hiss10047.mp3\n",
      "input: 65489  load: 41472  offset: -24017\n"
     ]
    },
    {
     "name": "stderr",
     "output_type": "stream",
     "text": [
      "374it [01:36,  4.05it/s]"
     ]
    },
    {
     "name": "stdout",
     "output_type": "stream",
     "text": [
      "fixing audio length : ../CatSound_dataset/Defence/Cat_Hiss10049.mp3\n",
      "input: 65489  load: 49536  offset: -15953\n"
     ]
    },
    {
     "name": "stderr",
     "output_type": "stream",
     "text": [
      "\r",
      "375it [01:36,  4.01it/s]"
     ]
    },
    {
     "name": "stdout",
     "output_type": "stream",
     "text": [
      "fixing audio length : ../CatSound_dataset/Defence/Cat_Hiss10051.mp3\n",
      "input: 65489  load: 39168  offset: -26321\n"
     ]
    },
    {
     "name": "stderr",
     "output_type": "stream",
     "text": [
      "\r",
      "376it [01:37,  4.09it/s]"
     ]
    },
    {
     "name": "stdout",
     "output_type": "stream",
     "text": [
      "fixing audio length : ../CatSound_dataset/Defence/Cat_Hiss10053.mp3\n",
      "input: 65489  load: 25920  offset: -39569\n"
     ]
    },
    {
     "name": "stderr",
     "output_type": "stream",
     "text": [
      "378it [01:37,  4.09it/s]"
     ]
    },
    {
     "name": "stdout",
     "output_type": "stream",
     "text": [
      "fixing audio length : ../CatSound_dataset/Defence/Cat_Hiss10055.mp3\n",
      "input: 65489  load: 39168  offset: -26321\n"
     ]
    },
    {
     "name": "stderr",
     "output_type": "stream",
     "text": [
      "380it [01:37,  4.16it/s]"
     ]
    },
    {
     "name": "stdout",
     "output_type": "stream",
     "text": [
      "fixing audio length : ../CatSound_dataset/Defence/Cat_Hiss10057.mp3\n",
      "input: 65489  load: 52992  offset: -12497\n"
     ]
    },
    {
     "name": "stderr",
     "output_type": "stream",
     "text": [
      "\r",
      "381it [01:38,  4.03it/s]"
     ]
    },
    {
     "name": "stdout",
     "output_type": "stream",
     "text": [
      "fixing audio length : ../CatSound_dataset/Defence/Cat_Hiss10059.mp3\n",
      "input: 65489  load: 31680  offset: -33809\n"
     ]
    },
    {
     "name": "stderr",
     "output_type": "stream",
     "text": [
      "389it [01:40,  3.92it/s]"
     ]
    },
    {
     "name": "stdout",
     "output_type": "stream",
     "text": [
      "fixing audio length : ../CatSound_dataset/Defence/Cat_Hiss1041.mp3\n",
      "input: 65489  load: 21312  offset: -44177\n"
     ]
    },
    {
     "name": "stderr",
     "output_type": "stream",
     "text": [
      "\r",
      "390it [01:40,  4.14it/s]"
     ]
    },
    {
     "name": "stdout",
     "output_type": "stream",
     "text": [
      "fixing audio length : ../CatSound_dataset/Defence/Cat_HIss1051.mp3\n",
      "input: 65489  load: 31680  offset: -33809\n"
     ]
    },
    {
     "name": "stderr",
     "output_type": "stream",
     "text": [
      "393it [01:41,  4.02it/s]"
     ]
    },
    {
     "name": "stdout",
     "output_type": "stream",
     "text": [
      "fixing audio length : ../CatSound_dataset/Defence/Cat_Hiss1061.mp3\n",
      "input: 65489  load: 38592  offset: -26897\n"
     ]
    },
    {
     "name": "stderr",
     "output_type": "stream",
     "text": [
      "\r",
      "394it [01:41,  4.05it/s]"
     ]
    },
    {
     "name": "stdout",
     "output_type": "stream",
     "text": [
      "fixing audio length : ../CatSound_dataset/Defence/Cat_Hiss1065.mp3\n",
      "input: 65489  load: 44928  offset: -20561\n"
     ]
    },
    {
     "name": "stderr",
     "output_type": "stream",
     "text": [
      "\r",
      "395it [01:41,  4.09it/s]"
     ]
    },
    {
     "name": "stdout",
     "output_type": "stream",
     "text": [
      "fixing audio length : ../CatSound_dataset/Defence/Cat_Hiss1071.mp3\n",
      "input: 65489  load: 27072  offset: -38417\n"
     ]
    },
    {
     "name": "stderr",
     "output_type": "stream",
     "text": [
      "\r",
      "396it [01:41,  4.28it/s]"
     ]
    },
    {
     "name": "stdout",
     "output_type": "stream",
     "text": [
      "fixing audio length : ../CatSound_dataset/Defence/Cat_Hiss1073.mp3\n",
      "input: 65489  load: 34560  offset: -30929\n"
     ]
    },
    {
     "name": "stderr",
     "output_type": "stream",
     "text": [
      "\r",
      "397it [01:42,  4.34it/s]"
     ]
    },
    {
     "name": "stdout",
     "output_type": "stream",
     "text": [
      "fixing audio length : ../CatSound_dataset/Defence/Cat_Hiss1075.mp3\n",
      "input: 65489  load: 52992  offset: -12497\n"
     ]
    },
    {
     "name": "stderr",
     "output_type": "stream",
     "text": [
      "\r",
      "398it [01:42,  4.23it/s]"
     ]
    },
    {
     "name": "stdout",
     "output_type": "stream",
     "text": [
      "fixing audio length : ../CatSound_dataset/Defence/Cat_Hiss1077.mp3\n",
      "input: 65489  load: 33408  offset: -32081\n"
     ]
    },
    {
     "name": "stderr",
     "output_type": "stream",
     "text": [
      "\r",
      "399it [01:42,  4.26it/s]"
     ]
    },
    {
     "name": "stdout",
     "output_type": "stream",
     "text": [
      "fixing audio length : ../CatSound_dataset/Defence/Cat_Hiss1078.mp3\n",
      "input: 65489  load: 50112  offset: -15377\n"
     ]
    },
    {
     "name": "stderr",
     "output_type": "stream",
     "text": [
      "\r",
      "400it [01:42,  4.17it/s]"
     ]
    },
    {
     "name": "stdout",
     "output_type": "stream",
     "text": [
      "fixing audio length : ../CatSound_dataset/Defence/Cat_Hiss1083.mp3\n",
      "input: 65489  load: 36288  offset: -29201\n"
     ]
    },
    {
     "name": "stderr",
     "output_type": "stream",
     "text": [
      "\r",
      "401it [01:43,  4.25it/s]"
     ]
    },
    {
     "name": "stdout",
     "output_type": "stream",
     "text": [
      "fixing audio length : ../CatSound_dataset/Defence/Cat_Hiss1088.mp3\n",
      "input: 65489  load: 37440  offset: -28049\n"
     ]
    },
    {
     "name": "stderr",
     "output_type": "stream",
     "text": [
      "\r",
      "402it [01:43,  4.32it/s]"
     ]
    },
    {
     "name": "stdout",
     "output_type": "stream",
     "text": [
      "fixing audio length : ../CatSound_dataset/Defence/Cat_HIss1093.mp3\n",
      "input: 65489  load: 46080  offset: -19409\n"
     ]
    },
    {
     "name": "stderr",
     "output_type": "stream",
     "text": [
      "\r",
      "403it [01:43,  4.26it/s]"
     ]
    },
    {
     "name": "stdout",
     "output_type": "stream",
     "text": [
      "fixing audio length : ../CatSound_dataset/Defence/Cat_Hiss1095.mp3\n",
      "input: 65489  load: 43200  offset: -22289\n"
     ]
    },
    {
     "name": "stderr",
     "output_type": "stream",
     "text": [
      "\r",
      "404it [01:43,  4.25it/s]"
     ]
    },
    {
     "name": "stdout",
     "output_type": "stream",
     "text": [
      "fixing audio length : ../CatSound_dataset/Defence/Cat_Hiss1096.mp3\n",
      "input: 65489  load: 35136  offset: -30353\n"
     ]
    },
    {
     "name": "stderr",
     "output_type": "stream",
     "text": [
      "\r",
      "405it [01:43,  4.34it/s]"
     ]
    },
    {
     "name": "stdout",
     "output_type": "stream",
     "text": [
      "fixing audio length : ../CatSound_dataset/Defence/Cat_Hiss1097.mp3\n",
      "input: 65489  load: 37440  offset: -28049\n"
     ]
    },
    {
     "name": "stderr",
     "output_type": "stream",
     "text": [
      "\r",
      "406it [01:44,  4.36it/s]"
     ]
    },
    {
     "name": "stdout",
     "output_type": "stream",
     "text": [
      "fixing audio length : ../CatSound_dataset/Defence/Cat_Hissing1025.mp3\n",
      "input: 65489  load: 37440  offset: -28049\n"
     ]
    },
    {
     "name": "stderr",
     "output_type": "stream",
     "text": [
      "\r",
      "407it [01:44,  4.40it/s]"
     ]
    },
    {
     "name": "stdout",
     "output_type": "stream",
     "text": [
      "fixing audio length : ../CatSound_dataset/Defence/Cat_YoutubeLLT42345.mp3\n",
      "input: 65489  load: 36864  offset: -28625\n"
     ]
    },
    {
     "name": "stderr",
     "output_type": "stream",
     "text": [
      "409it [01:44,  4.18it/s]"
     ]
    },
    {
     "name": "stdout",
     "output_type": "stream",
     "text": [
      "fixing audio length : ../CatSound_dataset/Defence/Cat_YoutubeLLT42357 (2).mp3\n",
      "input: 65489  load: 25920  offset: -39569\n"
     ]
    },
    {
     "name": "stderr",
     "output_type": "stream",
     "text": [
      "\r",
      "410it [01:45,  4.30it/s]"
     ]
    },
    {
     "name": "stdout",
     "output_type": "stream",
     "text": [
      "fixing audio length : ../CatSound_dataset/Defence/Cat_YoutubeLLT42359.mp3\n",
      "input: 65489  load: 31104  offset: -34385\n"
     ]
    },
    {
     "name": "stderr",
     "output_type": "stream",
     "text": [
      "\r",
      "411it [01:45,  4.38it/s]"
     ]
    },
    {
     "name": "stdout",
     "output_type": "stream",
     "text": [
      "fixing audio length : ../CatSound_dataset/Defence/Cat_YoutubeLLT42360.mp3\n",
      "input: 65489  load: 40320  offset: -25169\n"
     ]
    },
    {
     "name": "stderr",
     "output_type": "stream",
     "text": [
      "\r",
      "412it [01:45,  4.38it/s]"
     ]
    },
    {
     "name": "stdout",
     "output_type": "stream",
     "text": [
      "fixing audio length : ../CatSound_dataset/Defence/Cat_YoutubeLLT42361.mp3\n",
      "input: 65489  load: 31104  offset: -34385\n"
     ]
    },
    {
     "name": "stderr",
     "output_type": "stream",
     "text": [
      "\r",
      "413it [01:45,  4.42it/s]"
     ]
    },
    {
     "name": "stdout",
     "output_type": "stream",
     "text": [
      "fixing audio length : ../CatSound_dataset/Defence/Cat_YoutubeLLT42363.mp3\n",
      "input: 65489  load: 41472  offset: -24017\n"
     ]
    },
    {
     "name": "stderr",
     "output_type": "stream",
     "text": [
      "415it [01:46,  4.12it/s]"
     ]
    },
    {
     "name": "stdout",
     "output_type": "stream",
     "text": [
      "fixing audio length : ../CatSound_dataset/Defence/Cat_YoutubeLLT42366 (2).mp3\n",
      "input: 65489  load: 51264  offset: -14225\n"
     ]
    },
    {
     "name": "stderr",
     "output_type": "stream",
     "text": [
      "417it [01:46,  4.14it/s]"
     ]
    },
    {
     "name": "stdout",
     "output_type": "stream",
     "text": [
      "fixing audio length : ../CatSound_dataset/Defence/Edit9001Hiss (2).mp3\n",
      "input: 65489  load: 23040  offset: -42449\n"
     ]
    },
    {
     "name": "stderr",
     "output_type": "stream",
     "text": [
      "\r",
      "418it [01:46,  4.30it/s]"
     ]
    },
    {
     "name": "stdout",
     "output_type": "stream",
     "text": [
      "fixing audio length : ../CatSound_dataset/Defence/Edit9001Hiss.mp3\n",
      "input: 65489  load: 50112  offset: -15377\n"
     ]
    },
    {
     "name": "stderr",
     "output_type": "stream",
     "text": [
      "\r",
      "419it [01:47,  4.22it/s]"
     ]
    },
    {
     "name": "stdout",
     "output_type": "stream",
     "text": [
      "fixing audio length : ../CatSound_dataset/Defence/Edit9003Hiss.mp3\n",
      "input: 65489  load: 21312  offset: -44177\n"
     ]
    },
    {
     "name": "stderr",
     "output_type": "stream",
     "text": [
      "\r",
      "420it [01:47,  4.42it/s]"
     ]
    },
    {
     "name": "stdout",
     "output_type": "stream",
     "text": [
      "fixing audio length : ../CatSound_dataset/Defence/Edit9006Hiss.mp3\n",
      "input: 65489  load: 23040  offset: -42449\n"
     ]
    },
    {
     "name": "stderr",
     "output_type": "stream",
     "text": [
      "\r",
      "421it [01:47,  4.55it/s]"
     ]
    },
    {
     "name": "stdout",
     "output_type": "stream",
     "text": [
      "fixing audio length : ../CatSound_dataset/Defence/Edit9013Hiss.mp3\n",
      "input: 65489  load: 28224  offset: -37265\n"
     ]
    },
    {
     "name": "stderr",
     "output_type": "stream",
     "text": [
      "\r",
      "422it [01:47,  4.63it/s]"
     ]
    },
    {
     "name": "stdout",
     "output_type": "stream",
     "text": [
      "fixing audio length : ../CatSound_dataset/Defence/Edit9014Hiss.mp3\n",
      "input: 65489  load: 31104  offset: -34385\n"
     ]
    },
    {
     "name": "stderr",
     "output_type": "stream",
     "text": [
      "\r",
      "423it [01:48,  4.64it/s]"
     ]
    },
    {
     "name": "stdout",
     "output_type": "stream",
     "text": [
      "fixing audio length : ../CatSound_dataset/Defence/Edit9015Hiss.mp3\n",
      "input: 65489  load: 31104  offset: -34385\n"
     ]
    },
    {
     "name": "stderr",
     "output_type": "stream",
     "text": [
      "\r",
      "424it [01:48,  4.65it/s]"
     ]
    },
    {
     "name": "stdout",
     "output_type": "stream",
     "text": [
      "fixing audio length : ../CatSound_dataset/Defence/Edit9016Hiss.mp3\n",
      "input: 65489  load: 28800  offset: -36689\n"
     ]
    },
    {
     "name": "stderr",
     "output_type": "stream",
     "text": [
      "\r",
      "425it [01:48,  4.68it/s]"
     ]
    },
    {
     "name": "stdout",
     "output_type": "stream",
     "text": [
      "fixing audio length : ../CatSound_dataset/Defence/Edit9017Hiss.mp3\n",
      "input: 65489  load: 28800  offset: -36689\n"
     ]
    },
    {
     "name": "stderr",
     "output_type": "stream",
     "text": [
      "\r",
      "426it [01:48,  4.70it/s]"
     ]
    },
    {
     "name": "stdout",
     "output_type": "stream",
     "text": [
      "fixing audio length : ../CatSound_dataset/Defence/Edit9018Hiss.mp3\n",
      "input: 65489  load: 44928  offset: -20561\n"
     ]
    },
    {
     "name": "stderr",
     "output_type": "stream",
     "text": [
      "\r",
      "427it [01:48,  4.55it/s]"
     ]
    },
    {
     "name": "stdout",
     "output_type": "stream",
     "text": [
      "fixing audio length : ../CatSound_dataset/Defence/Edit9019Hiss.mp3\n",
      "input: 65489  load: 20736  offset: -44753\n"
     ]
    },
    {
     "name": "stderr",
     "output_type": "stream",
     "text": [
      "\r",
      "428it [01:49,  4.70it/s]"
     ]
    },
    {
     "name": "stdout",
     "output_type": "stream",
     "text": [
      "fixing audio length : ../CatSound_dataset/Defence/Edit9020Hiss.mp3\n",
      "input: 65489  load: 22464  offset: -43025\n"
     ]
    },
    {
     "name": "stderr",
     "output_type": "stream",
     "text": [
      "\r",
      "429it [01:49,  4.78it/s]"
     ]
    },
    {
     "name": "stdout",
     "output_type": "stream",
     "text": [
      "fixing audio length : ../CatSound_dataset/Defence/Edit9021Hiss.mp3\n",
      "input: 65489  load: 23040  offset: -42449\n"
     ]
    },
    {
     "name": "stderr",
     "output_type": "stream",
     "text": [
      "\r",
      "430it [01:49,  4.85it/s]"
     ]
    },
    {
     "name": "stdout",
     "output_type": "stream",
     "text": [
      "fixing audio length : ../CatSound_dataset/Defence/Edit9022Hiss.mp3\n",
      "input: 65489  load: 17280  offset: -48209\n"
     ]
    },
    {
     "name": "stderr",
     "output_type": "stream",
     "text": [
      "\r",
      "431it [01:49,  4.93it/s]"
     ]
    },
    {
     "name": "stdout",
     "output_type": "stream",
     "text": [
      "fixing audio length : ../CatSound_dataset/Defence/Edit9024Hiss.mp3\n",
      "input: 65489  load: 29952  offset: -35537\n"
     ]
    },
    {
     "name": "stderr",
     "output_type": "stream",
     "text": [
      "\r",
      "432it [01:49,  4.88it/s]"
     ]
    },
    {
     "name": "stdout",
     "output_type": "stream",
     "text": [
      "fixing audio length : ../CatSound_dataset/Defence/Edit9025Hiss.mp3\n",
      "input: 65489  load: 17856  offset: -47633\n"
     ]
    },
    {
     "name": "stderr",
     "output_type": "stream",
     "text": [
      "\r",
      "433it [01:50,  4.97it/s]"
     ]
    },
    {
     "name": "stdout",
     "output_type": "stream",
     "text": [
      "fixing audio length : ../CatSound_dataset/Defence/Edit9027Hiss.mp3\n",
      "input: 65489  load: 19008  offset: -46481\n"
     ]
    },
    {
     "name": "stderr",
     "output_type": "stream",
     "text": [
      "\r",
      "434it [01:50,  5.02it/s]"
     ]
    },
    {
     "name": "stdout",
     "output_type": "stream",
     "text": [
      "fixing audio length : ../CatSound_dataset/Defence/Edit9028Hiss.mp3\n",
      "input: 65489  load: 33408  offset: -32081\n"
     ]
    },
    {
     "name": "stderr",
     "output_type": "stream",
     "text": [
      "\r",
      "435it [01:50,  4.88it/s]"
     ]
    },
    {
     "name": "stdout",
     "output_type": "stream",
     "text": [
      "fixing audio length : ../CatSound_dataset/Defence/Edit9029Hiss.mp3\n",
      "input: 65489  load: 13824  offset: -51665\n"
     ]
    },
    {
     "name": "stderr",
     "output_type": "stream",
     "text": [
      "\r",
      "436it [01:50,  5.01it/s]"
     ]
    },
    {
     "name": "stdout",
     "output_type": "stream",
     "text": [
      "fixing audio length : ../CatSound_dataset/Defence/Edit9030Hiss.mp3\n",
      "input: 65489  load: 22464  offset: -43025\n"
     ]
    },
    {
     "name": "stderr",
     "output_type": "stream",
     "text": [
      "\r",
      "437it [01:50,  5.00it/s]"
     ]
    },
    {
     "name": "stdout",
     "output_type": "stream",
     "text": [
      "fixing audio length : ../CatSound_dataset/Defence/Edit9031Hiss.mp3\n",
      "input: 65489  load: 18432  offset: -47057\n"
     ]
    },
    {
     "name": "stderr",
     "output_type": "stream",
     "text": [
      "\r",
      "438it [01:51,  5.02it/s]"
     ]
    },
    {
     "name": "stdout",
     "output_type": "stream",
     "text": [
      "fixing audio length : ../CatSound_dataset/Defence/Edit9032Hiss.mp3\n",
      "input: 65489  load: 23040  offset: -42449\n"
     ]
    },
    {
     "name": "stderr",
     "output_type": "stream",
     "text": [
      "\r",
      "439it [01:51,  5.02it/s]"
     ]
    },
    {
     "name": "stdout",
     "output_type": "stream",
     "text": [
      "fixing audio length : ../CatSound_dataset/Defence/Edit9033Hiss.mp3\n",
      "input: 65489  load: 13248  offset: -52241\n"
     ]
    },
    {
     "name": "stderr",
     "output_type": "stream",
     "text": [
      "\r",
      "440it [01:51,  5.02it/s]"
     ]
    },
    {
     "name": "stdout",
     "output_type": "stream",
     "text": [
      "fixing audio length : ../CatSound_dataset/Defence/Edit9034Hiss.mp3\n",
      "input: 65489  load: 17280  offset: -48209\n"
     ]
    },
    {
     "name": "stderr",
     "output_type": "stream",
     "text": [
      "\r",
      "441it [01:51,  5.09it/s]"
     ]
    },
    {
     "name": "stdout",
     "output_type": "stream",
     "text": [
      "fixing audio length : ../CatSound_dataset/Defence/Edit9035Hiss.mp3\n",
      "input: 65489  load: 30528  offset: -34961\n"
     ]
    },
    {
     "name": "stderr",
     "output_type": "stream",
     "text": [
      "\r",
      "442it [01:51,  4.93it/s]"
     ]
    },
    {
     "name": "stdout",
     "output_type": "stream",
     "text": [
      "fixing audio length : ../CatSound_dataset/Defence/Edit9036Hiss.mp3\n",
      "input: 65489  load: 15552  offset: -49937\n"
     ]
    },
    {
     "name": "stderr",
     "output_type": "stream",
     "text": [
      "\r",
      "443it [01:52,  5.01it/s]"
     ]
    },
    {
     "name": "stdout",
     "output_type": "stream",
     "text": [
      "fixing audio length : ../CatSound_dataset/Defence/Edit9038Hiss.mp3\n",
      "input: 65489  load: 22464  offset: -43025\n"
     ]
    },
    {
     "name": "stderr",
     "output_type": "stream",
     "text": [
      "\r",
      "444it [01:52,  4.99it/s]"
     ]
    },
    {
     "name": "stdout",
     "output_type": "stream",
     "text": [
      "fixing audio length : ../CatSound_dataset/Defence/Edit9039Hiss.mp3\n",
      "input: 65489  load: 48384  offset: -17105\n"
     ]
    },
    {
     "name": "stderr",
     "output_type": "stream",
     "text": [
      "\r",
      "445it [01:52,  4.69it/s]"
     ]
    },
    {
     "name": "stdout",
     "output_type": "stream",
     "text": [
      "fixing audio length : ../CatSound_dataset/Defence/Edit9040Hiss.mp3\n",
      "input: 65489  load: 14400  offset: -51089\n"
     ]
    },
    {
     "name": "stderr",
     "output_type": "stream",
     "text": [
      "\r",
      "446it [01:52,  4.89it/s]"
     ]
    },
    {
     "name": "stdout",
     "output_type": "stream",
     "text": [
      "fixing audio length : ../CatSound_dataset/Defence/Edit9041Hiss.mp3\n",
      "input: 65489  load: 27072  offset: -38417\n"
     ]
    },
    {
     "name": "stderr",
     "output_type": "stream",
     "text": [
      "\r",
      "447it [01:52,  4.86it/s]"
     ]
    },
    {
     "name": "stdout",
     "output_type": "stream",
     "text": [
      "fixing audio length : ../CatSound_dataset/Defence/Edit9042Hiss.mp3\n",
      "input: 65489  load: 20736  offset: -44753\n"
     ]
    },
    {
     "name": "stderr",
     "output_type": "stream",
     "text": [
      "\r",
      "448it [01:53,  4.90it/s]"
     ]
    },
    {
     "name": "stdout",
     "output_type": "stream",
     "text": [
      "fixing audio length : ../CatSound_dataset/Defence/Edit9043Hiss.mp3\n",
      "input: 65489  load: 20736  offset: -44753\n"
     ]
    },
    {
     "name": "stderr",
     "output_type": "stream",
     "text": [
      "\r",
      "449it [01:53,  4.93it/s]"
     ]
    },
    {
     "name": "stdout",
     "output_type": "stream",
     "text": [
      "fixing audio length : ../CatSound_dataset/Defence/Edit9044Hiss.mp3\n",
      "input: 65489  load: 21888  offset: -43601\n"
     ]
    },
    {
     "name": "stderr",
     "output_type": "stream",
     "text": [
      "\r",
      "450it [01:53,  4.94it/s]"
     ]
    },
    {
     "name": "stdout",
     "output_type": "stream",
     "text": [
      "fixing audio length : ../CatSound_dataset/Defence/Edit9045Hiss.mp3\n",
      "input: 65489  load: 23616  offset: -41873\n"
     ]
    },
    {
     "name": "stderr",
     "output_type": "stream",
     "text": [
      "\r",
      "451it [01:53,  4.93it/s]"
     ]
    },
    {
     "name": "stdout",
     "output_type": "stream",
     "text": [
      "fixing audio length : ../CatSound_dataset/Defence/Edit9046Hiss.mp3\n",
      "input: 65489  load: 22464  offset: -43025\n"
     ]
    },
    {
     "name": "stderr",
     "output_type": "stream",
     "text": [
      "\r",
      "452it [01:53,  4.85it/s]"
     ]
    },
    {
     "name": "stdout",
     "output_type": "stream",
     "text": [
      "fixing audio length : ../CatSound_dataset/Defence/Edit9047Hiss.mp3\n",
      "input: 65489  load: 48384  offset: -17105\n"
     ]
    },
    {
     "name": "stderr",
     "output_type": "stream",
     "text": [
      "\r",
      "453it [01:54,  4.56it/s]"
     ]
    },
    {
     "name": "stdout",
     "output_type": "stream",
     "text": [
      "fixing audio length : ../CatSound_dataset/Defence/Edit9048Hiss.mp3\n",
      "input: 65489  load: 20736  offset: -44753\n"
     ]
    },
    {
     "name": "stderr",
     "output_type": "stream",
     "text": [
      "\r",
      "454it [01:54,  4.69it/s]"
     ]
    },
    {
     "name": "stdout",
     "output_type": "stream",
     "text": [
      "fixing audio length : ../CatSound_dataset/Defence/Edit9049Hiss.mp3\n",
      "input: 65489  load: 16128  offset: -49361\n"
     ]
    },
    {
     "name": "stderr",
     "output_type": "stream",
     "text": [
      "\r",
      "455it [01:54,  4.77it/s]"
     ]
    },
    {
     "name": "stdout",
     "output_type": "stream",
     "text": [
      "fixing audio length : ../CatSound_dataset/Defence/Edit9050Hiss.mp3\n",
      "input: 65489  load: 20160  offset: -45329\n"
     ]
    },
    {
     "name": "stderr",
     "output_type": "stream",
     "text": [
      "\r",
      "456it [01:54,  4.86it/s]"
     ]
    },
    {
     "name": "stdout",
     "output_type": "stream",
     "text": [
      "fixing audio length : ../CatSound_dataset/Defence/Edit9051Hiss.mp3\n",
      "input: 65489  load: 16704  offset: -48785\n"
     ]
    },
    {
     "name": "stderr",
     "output_type": "stream",
     "text": [
      "\r",
      "457it [01:55,  4.97it/s]"
     ]
    },
    {
     "name": "stdout",
     "output_type": "stream",
     "text": [
      "fixing audio length : ../CatSound_dataset/Defence/Edit9053Hiss.mp3\n",
      "input: 65489  load: 6912  offset: -58577\n"
     ]
    },
    {
     "name": "stderr",
     "output_type": "stream",
     "text": [
      "\r",
      "458it [01:55,  5.15it/s]"
     ]
    },
    {
     "name": "stdout",
     "output_type": "stream",
     "text": [
      "fixing audio length : ../CatSound_dataset/Defence/Edit9055Hiss.mp3\n",
      "input: 65489  load: 25344  offset: -40145\n"
     ]
    },
    {
     "name": "stderr",
     "output_type": "stream",
     "text": [
      "\r",
      "459it [01:55,  5.07it/s]"
     ]
    },
    {
     "name": "stdout",
     "output_type": "stream",
     "text": [
      "fixing audio length : ../CatSound_dataset/Defence/Edit9056Hiss.mp3\n",
      "input: 65489  load: 28224  offset: -37265\n"
     ]
    },
    {
     "name": "stderr",
     "output_type": "stream",
     "text": [
      "\r",
      "460it [01:55,  4.97it/s]"
     ]
    },
    {
     "name": "stdout",
     "output_type": "stream",
     "text": [
      "fixing audio length : ../CatSound_dataset/Defence/Edit9057Hiss.mp3\n",
      "input: 65489  load: 34560  offset: -30929\n"
     ]
    },
    {
     "name": "stderr",
     "output_type": "stream",
     "text": [
      "\r",
      "461it [01:55,  4.83it/s]"
     ]
    },
    {
     "name": "stdout",
     "output_type": "stream",
     "text": [
      "fixing audio length : ../CatSound_dataset/Defence/Edit9058Hiss.mp3\n",
      "input: 65489  load: 12672  offset: -52817\n"
     ]
    },
    {
     "name": "stderr",
     "output_type": "stream",
     "text": [
      "\r",
      "462it [01:56,  4.99it/s]"
     ]
    },
    {
     "name": "stdout",
     "output_type": "stream",
     "text": [
      "fixing audio length : ../CatSound_dataset/Defence/Edit9060Hiss.mp3\n",
      "input: 65489  load: 24192  offset: -41297\n"
     ]
    },
    {
     "name": "stderr",
     "output_type": "stream",
     "text": [
      "\r",
      "463it [01:56,  4.96it/s]"
     ]
    },
    {
     "name": "stdout",
     "output_type": "stream",
     "text": [
      "fixing audio length : ../CatSound_dataset/Defence/Edit9061Hiss.mp3\n",
      "input: 65489  load: 19584  offset: -45905\n"
     ]
    },
    {
     "name": "stderr",
     "output_type": "stream",
     "text": [
      "\r",
      "464it [01:56,  4.99it/s]"
     ]
    },
    {
     "name": "stdout",
     "output_type": "stream",
     "text": [
      "fixing audio length : ../CatSound_dataset/Defence/Edit9062Hiss.mp3\n",
      "input: 65489  load: 16128  offset: -49361\n"
     ]
    },
    {
     "name": "stderr",
     "output_type": "stream",
     "text": [
      "\r",
      "465it [01:56,  5.05it/s]"
     ]
    },
    {
     "name": "stdout",
     "output_type": "stream",
     "text": [
      "fixing audio length : ../CatSound_dataset/Defence/Edit9063Hiss.mp3\n",
      "input: 65489  load: 48384  offset: -17105\n"
     ]
    },
    {
     "name": "stderr",
     "output_type": "stream",
     "text": [
      "\r",
      "466it [01:56,  4.67it/s]"
     ]
    },
    {
     "name": "stdout",
     "output_type": "stream",
     "text": [
      "fixing audio length : ../CatSound_dataset/Defence/Edit9064Hiss.mp3\n",
      "input: 65489  load: 22464  offset: -43025\n"
     ]
    },
    {
     "name": "stderr",
     "output_type": "stream",
     "text": [
      "\r",
      "467it [01:57,  4.75it/s]"
     ]
    },
    {
     "name": "stdout",
     "output_type": "stream",
     "text": [
      "fixing audio length : ../CatSound_dataset/Defence/Edit9065Hiss.mp3\n",
      "input: 65489  load: 27648  offset: -37841\n"
     ]
    },
    {
     "name": "stderr",
     "output_type": "stream",
     "text": [
      "\r",
      "468it [01:57,  4.65it/s]"
     ]
    },
    {
     "name": "stdout",
     "output_type": "stream",
     "text": [
      "fixing audio length : ../CatSound_dataset/Defence/Edit9066Hiss.mp3\n",
      "input: 65489  load: 27072  offset: -38417\n"
     ]
    },
    {
     "name": "stderr",
     "output_type": "stream",
     "text": [
      "\r",
      "469it [01:57,  4.68it/s]"
     ]
    },
    {
     "name": "stdout",
     "output_type": "stream",
     "text": [
      "fixing audio length : ../CatSound_dataset/Defence/Edit9067Hiss.mp3\n",
      "input: 65489  load: 39744  offset: -25745\n"
     ]
    },
    {
     "name": "stderr",
     "output_type": "stream",
     "text": [
      "\r",
      "470it [01:57,  4.56it/s]"
     ]
    },
    {
     "name": "stdout",
     "output_type": "stream",
     "text": [
      "fixing audio length : ../CatSound_dataset/Defence/Edit9068Hiss.mp3\n",
      "input: 65489  load: 41472  offset: -24017\n"
     ]
    },
    {
     "name": "stderr",
     "output_type": "stream",
     "text": [
      "\r",
      "471it [01:57,  4.49it/s]"
     ]
    },
    {
     "name": "stdout",
     "output_type": "stream",
     "text": [
      "fixing audio length : ../CatSound_dataset/Defence/Edit9069Hiss.mp3\n",
      "input: 65489  load: 29376  offset: -36113\n"
     ]
    },
    {
     "name": "stderr",
     "output_type": "stream",
     "text": [
      "\r",
      "472it [01:58,  4.54it/s]"
     ]
    },
    {
     "name": "stdout",
     "output_type": "stream",
     "text": [
      "fixing audio length : ../CatSound_dataset/Defence/Edit9070Hiss.mp3\n",
      "input: 65489  load: 29952  offset: -35537\n"
     ]
    },
    {
     "name": "stderr",
     "output_type": "stream",
     "text": [
      "474it [01:58,  4.30it/s]"
     ]
    },
    {
     "name": "stdout",
     "output_type": "stream",
     "text": [
      "fixing audio length : ../CatSound_dataset/Defence/Edit9072Hiss.mp3\n",
      "input: 65489  load: 16704  offset: -48785\n"
     ]
    },
    {
     "name": "stderr",
     "output_type": "stream",
     "text": [
      "\r",
      "475it [01:58,  4.53it/s]"
     ]
    },
    {
     "name": "stdout",
     "output_type": "stream",
     "text": [
      "fixing audio length : ../CatSound_dataset/Defence/Edit9073Hiss.mp3\n",
      "input: 65489  load: 15552  offset: -49937\n"
     ]
    },
    {
     "name": "stderr",
     "output_type": "stream",
     "text": [
      "\r",
      "476it [01:59,  4.74it/s]"
     ]
    },
    {
     "name": "stdout",
     "output_type": "stream",
     "text": [
      "fixing audio length : ../CatSound_dataset/Defence/Edit9074Hiss.mp3\n",
      "input: 65489  load: 13248  offset: -52241\n"
     ]
    },
    {
     "name": "stderr",
     "output_type": "stream",
     "text": [
      "\r",
      "477it [01:59,  4.92it/s]"
     ]
    },
    {
     "name": "stdout",
     "output_type": "stream",
     "text": [
      "fixing audio length : ../CatSound_dataset/Defence/Edit9075Hiss.mp3\n",
      "input: 65489  load: 15552  offset: -49937\n"
     ]
    },
    {
     "name": "stderr",
     "output_type": "stream",
     "text": [
      "\r",
      "478it [01:59,  5.05it/s]"
     ]
    },
    {
     "name": "stdout",
     "output_type": "stream",
     "text": [
      "fixing audio length : ../CatSound_dataset/Defence/Edit9076Hiss.mp3\n",
      "input: 65489  load: 12672  offset: -52817\n"
     ]
    },
    {
     "name": "stderr",
     "output_type": "stream",
     "text": [
      "\r",
      "479it [01:59,  5.17it/s]"
     ]
    },
    {
     "name": "stdout",
     "output_type": "stream",
     "text": [
      "fixing audio length : ../CatSound_dataset/Defence/Edit9078Hiss.mp3\n",
      "input: 65489  load: 25344  offset: -40145\n"
     ]
    },
    {
     "name": "stderr",
     "output_type": "stream",
     "text": [
      "\r",
      "480it [01:59,  5.07it/s]"
     ]
    },
    {
     "name": "stdout",
     "output_type": "stream",
     "text": [
      "fixing audio length : ../CatSound_dataset/Defence/Edit9079Hiss.mp3\n",
      "input: 65489  load: 19008  offset: -46481\n"
     ]
    },
    {
     "name": "stderr",
     "output_type": "stream",
     "text": [
      "\r",
      "481it [02:00,  5.08it/s]"
     ]
    },
    {
     "name": "stdout",
     "output_type": "stream",
     "text": [
      "fixing audio length : ../CatSound_dataset/Defence/Edit9080Hiss.mp3\n",
      "input: 65489  load: 14976  offset: -50513\n"
     ]
    },
    {
     "name": "stderr",
     "output_type": "stream",
     "text": [
      "\r",
      "482it [02:00,  5.15it/s]"
     ]
    },
    {
     "name": "stdout",
     "output_type": "stream",
     "text": [
      "fixing audio length : ../CatSound_dataset/Defence/Edit9081Hiss.mp3\n",
      "input: 65489  load: 19008  offset: -46481\n"
     ]
    },
    {
     "name": "stderr",
     "output_type": "stream",
     "text": [
      "\r",
      "483it [02:00,  5.12it/s]"
     ]
    },
    {
     "name": "stdout",
     "output_type": "stream",
     "text": [
      "fixing audio length : ../CatSound_dataset/Defence/Edit9112Hiss.mp3\n",
      "input: 65489  load: 28800  offset: -36689\n"
     ]
    },
    {
     "name": "stderr",
     "output_type": "stream",
     "text": [
      "\r",
      "484it [02:00,  5.00it/s]"
     ]
    },
    {
     "name": "stdout",
     "output_type": "stream",
     "text": [
      "fixing audio length : ../CatSound_dataset/Defence/Edit9114Hiss.mp3\n",
      "input: 65489  load: 14976  offset: -50513\n"
     ]
    },
    {
     "name": "stderr",
     "output_type": "stream",
     "text": [
      "\r",
      "485it [02:00,  5.06it/s]"
     ]
    },
    {
     "name": "stdout",
     "output_type": "stream",
     "text": [
      "fixing audio length : ../CatSound_dataset/Defence/Edit9115Hiss.mp3\n",
      "input: 65489  load: 12672  offset: -52817\n"
     ]
    },
    {
     "name": "stderr",
     "output_type": "stream",
     "text": [
      "\r",
      "486it [02:00,  5.16it/s]"
     ]
    },
    {
     "name": "stdout",
     "output_type": "stream",
     "text": [
      "fixing audio length : ../CatSound_dataset/Defence/Edit9116Hiss.mp3\n",
      "input: 65489  load: 42624  offset: -22865\n"
     ]
    },
    {
     "name": "stderr",
     "output_type": "stream",
     "text": [
      "\r",
      "487it [02:01,  4.86it/s]"
     ]
    },
    {
     "name": "stdout",
     "output_type": "stream",
     "text": [
      "fixing audio length : ../CatSound_dataset/Defence/Edit9119Hiss.mp3\n",
      "input: 65489  load: 25920  offset: -39569\n"
     ]
    },
    {
     "name": "stderr",
     "output_type": "stream",
     "text": [
      "\r",
      "488it [02:01,  4.84it/s]"
     ]
    },
    {
     "name": "stdout",
     "output_type": "stream",
     "text": [
      "fixing audio length : ../CatSound_dataset/Defence/hiss.mp3\n",
      "input: 65489  load: 29588  offset: -35901\n"
     ]
    },
    {
     "name": "stderr",
     "output_type": "stream",
     "text": [
      "\r",
      "489it [02:01,  4.78it/s]"
     ]
    },
    {
     "name": "stdout",
     "output_type": "stream",
     "text": [
      "fixing audio length : ../CatSound_dataset/Defence/LastEntry_cat1001Hiss.mp3\n",
      "input: 65489  load: 22464  offset: -43025\n"
     ]
    },
    {
     "name": "stderr",
     "output_type": "stream",
     "text": [
      "\r",
      "490it [02:01,  4.82it/s]"
     ]
    },
    {
     "name": "stdout",
     "output_type": "stream",
     "text": [
      "fixing audio length : ../CatSound_dataset/Defence/LastEntry_cat1013Hiss.mp3\n",
      "input: 65489  load: 35712  offset: -29777\n"
     ]
    },
    {
     "name": "stderr",
     "output_type": "stream",
     "text": [
      "\r",
      "491it [02:02,  4.68it/s]"
     ]
    },
    {
     "name": "stdout",
     "output_type": "stream",
     "text": [
      "fixing audio length : ../CatSound_dataset/Defence/LastEntry_cat1017Hiss (2).mp3\n",
      "input: 65489  load: 50112  offset: -15377\n"
     ]
    },
    {
     "name": "stderr",
     "output_type": "stream",
     "text": [
      "\r",
      "492it [02:02,  4.47it/s]"
     ]
    },
    {
     "name": "stdout",
     "output_type": "stream",
     "text": [
      "fixing audio length : ../CatSound_dataset/Defence/LastEntry_cat1017Hiss.mp3\n",
      "input: 65489  load: 49536  offset: -15953\n"
     ]
    },
    {
     "name": "stderr",
     "output_type": "stream",
     "text": [
      "\r",
      "493it [02:02,  4.34it/s]"
     ]
    },
    {
     "name": "stdout",
     "output_type": "stream",
     "text": [
      "fixing audio length : ../CatSound_dataset/Defence/LastEntry_cat1042Hiss.mp3\n",
      "input: 65489  load: 33408  offset: -32081\n"
     ]
    },
    {
     "name": "stderr",
     "output_type": "stream",
     "text": [
      "\r",
      "494it [02:02,  4.38it/s]"
     ]
    },
    {
     "name": "stdout",
     "output_type": "stream",
     "text": [
      "fixing audio length : ../CatSound_dataset/Defence/LastEntry_cat1044Hiss.mp3\n",
      "input: 65489  load: 44352  offset: -21137\n"
     ]
    },
    {
     "name": "stderr",
     "output_type": "stream",
     "text": [
      "\r",
      "495it [02:03,  4.34it/s]"
     ]
    },
    {
     "name": "stdout",
     "output_type": "stream",
     "text": [
      "fixing audio length : ../CatSound_dataset/Defence/LastEntry_cat1045Hiss.mp3\n",
      "input: 65489  load: 43776  offset: -21713\n"
     ]
    },
    {
     "name": "stderr",
     "output_type": "stream",
     "text": [
      "\r",
      "496it [02:03,  4.30it/s]"
     ]
    },
    {
     "name": "stdout",
     "output_type": "stream",
     "text": [
      "fixing audio length : ../CatSound_dataset/Defence/LastEntry_cat1046Hiss.mp3\n",
      "input: 65489  load: 54144  offset: -11345\n"
     ]
    },
    {
     "name": "stderr",
     "output_type": "stream",
     "text": [
      "\r",
      "497it [02:03,  4.18it/s]"
     ]
    },
    {
     "name": "stdout",
     "output_type": "stream",
     "text": [
      "fixing audio length : ../CatSound_dataset/Defence/LastEntry_cat1047Hiss.mp3\n",
      "input: 65489  load: 48960  offset: -16529\n"
     ]
    },
    {
     "name": "stderr",
     "output_type": "stream",
     "text": [
      "\r",
      "498it [02:03,  4.17it/s]"
     ]
    },
    {
     "name": "stdout",
     "output_type": "stream",
     "text": [
      "fixing audio length : ../CatSound_dataset/Defence/LastEntry_cat1071Hiss (2).mp3\n",
      "input: 65489  load: 48960  offset: -16529\n"
     ]
    },
    {
     "name": "stderr",
     "output_type": "stream",
     "text": [
      "503it [02:04,  4.11it/s]"
     ]
    },
    {
     "name": "stdout",
     "output_type": "stream",
     "text": [
      "fixing audio length : ../CatSound_dataset/Defence/LastEntry_cat1077Hiss.mp3\n",
      "input: 65489  load: 38016  offset: -27473\n"
     ]
    },
    {
     "name": "stderr",
     "output_type": "stream",
     "text": [
      "508it [02:06,  3.82it/s]"
     ]
    },
    {
     "name": "stdout",
     "output_type": "stream",
     "text": [
      "fixing audio length : ../CatSound_dataset/Defence/LastEntry_cat1083Hiss (2).mp3\n",
      "input: 65489  load: 25920  offset: -39569\n"
     ]
    },
    {
     "name": "stderr",
     "output_type": "stream",
     "text": [
      "\r",
      "509it [02:06,  3.99it/s]"
     ]
    },
    {
     "name": "stdout",
     "output_type": "stream",
     "text": [
      "fixing audio length : ../CatSound_dataset/Defence/LastEntry_cat1083Hiss.mp3\n",
      "input: 65489  load: 33408  offset: -32081\n"
     ]
    },
    {
     "name": "stderr",
     "output_type": "stream",
     "text": [
      "\r",
      "510it [02:06,  4.14it/s]"
     ]
    },
    {
     "name": "stdout",
     "output_type": "stream",
     "text": [
      "fixing audio length : ../CatSound_dataset/Defence/LastEntry_cat1084Hiss.mp3\n",
      "input: 65489  load: 40320  offset: -25169\n"
     ]
    },
    {
     "name": "stderr",
     "output_type": "stream",
     "text": [
      "\r",
      "511it [02:06,  4.19it/s]"
     ]
    },
    {
     "name": "stdout",
     "output_type": "stream",
     "text": [
      "fixing audio length : ../CatSound_dataset/Defence/LastEntry_cat1089Hiss.mp3\n",
      "input: 65489  load: 36864  offset: -28625\n"
     ]
    },
    {
     "name": "stderr",
     "output_type": "stream",
     "text": [
      "\r",
      "512it [02:07,  4.25it/s]"
     ]
    },
    {
     "name": "stdout",
     "output_type": "stream",
     "text": [
      "fixing audio length : ../CatSound_dataset/Defence/LastEntry_cat1090Hiss (2).mp3\n",
      "input: 65489  load: 23040  offset: -42449\n"
     ]
    },
    {
     "name": "stderr",
     "output_type": "stream",
     "text": [
      "\r",
      "513it [02:07,  4.43it/s]"
     ]
    },
    {
     "name": "stdout",
     "output_type": "stream",
     "text": [
      "fixing audio length : ../CatSound_dataset/Defence/LastEntry_cat1090Hiss.mp3\n",
      "input: 65489  load: 39168  offset: -26321\n"
     ]
    },
    {
     "name": "stderr",
     "output_type": "stream",
     "text": [
      "\r",
      "514it [02:07,  4.41it/s]"
     ]
    },
    {
     "name": "stdout",
     "output_type": "stream",
     "text": [
      "fixing audio length : ../CatSound_dataset/Defence/LastEntry_cat1091Hiss.mp3\n",
      "input: 65489  load: 29376  offset: -36113\n"
     ]
    },
    {
     "name": "stderr",
     "output_type": "stream",
     "text": [
      "\r",
      "515it [02:07,  4.49it/s]"
     ]
    },
    {
     "name": "stdout",
     "output_type": "stream",
     "text": [
      "fixing audio length : ../CatSound_dataset/Defence/LastEntry_cat1092Hiss.mp3\n",
      "input: 65489  load: 24768  offset: -40721\n"
     ]
    },
    {
     "name": "stderr",
     "output_type": "stream",
     "text": [
      "\r",
      "516it [02:08,  4.59it/s]"
     ]
    },
    {
     "name": "stdout",
     "output_type": "stream",
     "text": [
      "fixing audio length : ../CatSound_dataset/Defence/LastEntry_cat1093Hiss.mp3\n",
      "input: 65489  load: 28224  offset: -37265\n"
     ]
    },
    {
     "name": "stderr",
     "output_type": "stream",
     "text": [
      "\r",
      "517it [02:08,  4.65it/s]"
     ]
    },
    {
     "name": "stdout",
     "output_type": "stream",
     "text": [
      "fixing audio length : ../CatSound_dataset/Defence/LastEntry_cat1096Hiss.mp3\n",
      "input: 65489  load: 33984  offset: -31505\n"
     ]
    },
    {
     "name": "stderr",
     "output_type": "stream",
     "text": [
      "\r",
      "518it [02:08,  4.63it/s]"
     ]
    },
    {
     "name": "stdout",
     "output_type": "stream",
     "text": [
      "fixing audio length : ../CatSound_dataset/Defence/LastEntry_cat1097Hiss.mp3\n",
      "input: 65489  load: 23616  offset: -41873\n"
     ]
    },
    {
     "name": "stderr",
     "output_type": "stream",
     "text": [
      "\r",
      "519it [02:08,  4.70it/s]"
     ]
    },
    {
     "name": "stdout",
     "output_type": "stream",
     "text": [
      "fixing audio length : ../CatSound_dataset/Defence/LastEntry_cat1200Hiss.mp3\n",
      "input: 65489  load: 33984  offset: -31505\n"
     ]
    },
    {
     "name": "stderr",
     "output_type": "stream",
     "text": [
      "\r",
      "520it [02:08,  4.65it/s]"
     ]
    },
    {
     "name": "stdout",
     "output_type": "stream",
     "text": [
      "fixing audio length : ../CatSound_dataset/Defence/LastEntry_cat1208Hiss.mp3\n",
      "input: 65489  load: 21312  offset: -44177\n"
     ]
    },
    {
     "name": "stderr",
     "output_type": "stream",
     "text": [
      "\r",
      "521it [02:09,  4.74it/s]"
     ]
    },
    {
     "name": "stdout",
     "output_type": "stream",
     "text": [
      "fixing audio length : ../CatSound_dataset/Defence/LastEntry_cat1287Hiss.mp3\n",
      "input: 65489  load: 31680  offset: -33809\n"
     ]
    },
    {
     "name": "stderr",
     "output_type": "stream",
     "text": [
      "\r",
      "522it [02:09,  4.68it/s]"
     ]
    },
    {
     "name": "stdout",
     "output_type": "stream",
     "text": [
      "fixing audio length : ../CatSound_dataset/Defence/LastEntry_cat1289Hiss.mp3\n",
      "input: 65489  load: 19584  offset: -45905\n"
     ]
    },
    {
     "name": "stderr",
     "output_type": "stream",
     "text": [
      "\r",
      "523it [02:09,  4.81it/s]"
     ]
    },
    {
     "name": "stdout",
     "output_type": "stream",
     "text": [
      "fixing audio length : ../CatSound_dataset/Defence/LastEntry_cat1291Hiss.mp3\n",
      "input: 65489  load: 40320  offset: -25169\n"
     ]
    },
    {
     "name": "stderr",
     "output_type": "stream",
     "text": [
      "\r",
      "524it [02:09,  4.65it/s]"
     ]
    },
    {
     "name": "stdout",
     "output_type": "stream",
     "text": [
      "fixing audio length : ../CatSound_dataset/Defence/LastEntry_cat1292Hiss.mp3\n",
      "input: 65489  load: 17280  offset: -48209\n"
     ]
    },
    {
     "name": "stderr",
     "output_type": "stream",
     "text": [
      "\r",
      "525it [02:09,  4.80it/s]"
     ]
    },
    {
     "name": "stdout",
     "output_type": "stream",
     "text": [
      "fixing audio length : ../CatSound_dataset/Defence/LastEntry_cat1294Hiss.mp3\n",
      "input: 65489  load: 33984  offset: -31505\n"
     ]
    },
    {
     "name": "stderr",
     "output_type": "stream",
     "text": [
      "\r",
      "526it [02:10,  4.69it/s]"
     ]
    },
    {
     "name": "stdout",
     "output_type": "stream",
     "text": [
      "fixing audio length : ../CatSound_dataset/Defence/LastEntry_cat1299Hiss.mp3\n",
      "input: 65489  load: 18432  offset: -47057\n"
     ]
    },
    {
     "name": "stderr",
     "output_type": "stream",
     "text": [
      "\r",
      "527it [02:10,  4.79it/s]"
     ]
    },
    {
     "name": "stdout",
     "output_type": "stream",
     "text": [
      "fixing audio length : ../CatSound_dataset/Defence/LastEntry_cat1302Hiss.mp3\n",
      "input: 65489  load: 33408  offset: -32081\n"
     ]
    },
    {
     "name": "stderr",
     "output_type": "stream",
     "text": [
      "\r",
      "528it [02:10,  4.72it/s]"
     ]
    },
    {
     "name": "stdout",
     "output_type": "stream",
     "text": [
      "fixing audio length : ../CatSound_dataset/Defence/LastEntry_cat1305Hiss.mp3\n",
      "input: 65489  load: 31680  offset: -33809\n"
     ]
    },
    {
     "name": "stderr",
     "output_type": "stream",
     "text": [
      "\r",
      "529it [02:10,  4.63it/s]"
     ]
    },
    {
     "name": "stdout",
     "output_type": "stream",
     "text": [
      "fixing audio length : ../CatSound_dataset/Defence/LastEntry_cat1307Hiss.mp3\n",
      "input: 65489  load: 19008  offset: -46481\n"
     ]
    },
    {
     "name": "stderr",
     "output_type": "stream",
     "text": [
      "\r",
      "530it [02:11,  4.78it/s]"
     ]
    },
    {
     "name": "stdout",
     "output_type": "stream",
     "text": [
      "fixing audio length : ../CatSound_dataset/Defence/LastEntry_cat1311Hiss.mp3\n",
      "input: 65489  load: 32256  offset: -33233\n"
     ]
    },
    {
     "name": "stderr",
     "output_type": "stream",
     "text": [
      "\r",
      "531it [02:11,  4.72it/s]"
     ]
    },
    {
     "name": "stdout",
     "output_type": "stream",
     "text": [
      "fixing audio length : ../CatSound_dataset/Defence/LastEntry_cat1312Hiss.mp3\n",
      "input: 65489  load: 41472  offset: -24017\n"
     ]
    },
    {
     "name": "stderr",
     "output_type": "stream",
     "text": [
      "\r",
      "532it [02:11,  4.61it/s]"
     ]
    },
    {
     "name": "stdout",
     "output_type": "stream",
     "text": [
      "fixing audio length : ../CatSound_dataset/Defence/LastEntry_cat1314Hiss.mp3\n",
      "input: 65489  load: 28224  offset: -37265\n"
     ]
    },
    {
     "name": "stderr",
     "output_type": "stream",
     "text": [
      "\r",
      "533it [02:11,  4.60it/s]"
     ]
    },
    {
     "name": "stdout",
     "output_type": "stream",
     "text": [
      "fixing audio length : ../CatSound_dataset/Defence/LastEntry_cat1316Hiss.mp3\n",
      "input: 65489  load: 25344  offset: -40145\n"
     ]
    },
    {
     "name": "stderr",
     "output_type": "stream",
     "text": [
      "\r",
      "534it [02:11,  4.65it/s]"
     ]
    },
    {
     "name": "stdout",
     "output_type": "stream",
     "text": [
      "fixing audio length : ../CatSound_dataset/Defence/LastEntry_cat1320Hiss.mp3\n",
      "input: 65489  load: 19584  offset: -45905\n"
     ]
    },
    {
     "name": "stderr",
     "output_type": "stream",
     "text": [
      "\r",
      "535it [02:12,  4.78it/s]"
     ]
    },
    {
     "name": "stdout",
     "output_type": "stream",
     "text": [
      "fixing audio length : ../CatSound_dataset/Defence/LastEntry_cat1321Hiss.mp3\n",
      "input: 65489  load: 39168  offset: -26321\n"
     ]
    },
    {
     "name": "stderr",
     "output_type": "stream",
     "text": [
      "\r",
      "536it [02:12,  4.64it/s]"
     ]
    },
    {
     "name": "stdout",
     "output_type": "stream",
     "text": [
      "fixing audio length : ../CatSound_dataset/Defence/LastEntry_cat1322Hiss.mp3\n",
      "input: 65489  load: 16128  offset: -49361\n"
     ]
    },
    {
     "name": "stderr",
     "output_type": "stream",
     "text": [
      "\r",
      "537it [02:12,  4.78it/s]"
     ]
    },
    {
     "name": "stdout",
     "output_type": "stream",
     "text": [
      "fixing audio length : ../CatSound_dataset/Defence/LastEntry_cat1324Hiss.mp3\n",
      "input: 65489  load: 24192  offset: -41297\n"
     ]
    },
    {
     "name": "stderr",
     "output_type": "stream",
     "text": [
      "\r",
      "538it [02:12,  4.81it/s]"
     ]
    },
    {
     "name": "stdout",
     "output_type": "stream",
     "text": [
      "fixing audio length : ../CatSound_dataset/Defence/LastEntry_cat1325Hiss.mp3\n",
      "input: 65489  load: 13824  offset: -51665\n"
     ]
    },
    {
     "name": "stderr",
     "output_type": "stream",
     "text": [
      "\r",
      "539it [02:12,  4.93it/s]"
     ]
    },
    {
     "name": "stdout",
     "output_type": "stream",
     "text": [
      "fixing audio length : ../CatSound_dataset/Defence/LastEntry_cat1326Hiss.mp3\n",
      "input: 65489  load: 14976  offset: -50513\n"
     ]
    },
    {
     "name": "stderr",
     "output_type": "stream",
     "text": [
      "\r",
      "540it [02:13,  5.00it/s]"
     ]
    },
    {
     "name": "stdout",
     "output_type": "stream",
     "text": [
      "fixing audio length : ../CatSound_dataset/Defence/LastEntry_cat1327Hiss.mp3\n",
      "input: 65489  load: 26496  offset: -38993\n"
     ]
    },
    {
     "name": "stderr",
     "output_type": "stream",
     "text": [
      "\r",
      "541it [02:13,  4.92it/s]"
     ]
    },
    {
     "name": "stdout",
     "output_type": "stream",
     "text": [
      "fixing audio length : ../CatSound_dataset/Defence/LastEntry_cat1329Hiss.mp3\n",
      "input: 65489  load: 29952  offset: -35537\n"
     ]
    },
    {
     "name": "stderr",
     "output_type": "stream",
     "text": [
      "\r",
      "542it [02:13,  4.84it/s]"
     ]
    },
    {
     "name": "stdout",
     "output_type": "stream",
     "text": [
      "fixing audio length : ../CatSound_dataset/Defence/LastEntry_cat1330Hiss.mp3\n",
      "input: 65489  load: 21312  offset: -44177\n"
     ]
    },
    {
     "name": "stderr",
     "output_type": "stream",
     "text": [
      "\r",
      "543it [02:13,  4.89it/s]"
     ]
    },
    {
     "name": "stdout",
     "output_type": "stream",
     "text": [
      "fixing audio length : ../CatSound_dataset/Defence/LastEntry_cat1332Hiss.mp3\n",
      "input: 65489  load: 18432  offset: -47057\n"
     ]
    },
    {
     "name": "stderr",
     "output_type": "stream",
     "text": [
      "\r",
      "544it [02:13,  4.90it/s]"
     ]
    },
    {
     "name": "stdout",
     "output_type": "stream",
     "text": [
      "fixing audio length : ../CatSound_dataset/Defence/LastEntry_cat1335Hiss.mp3\n",
      "input: 65489  load: 31680  offset: -33809\n"
     ]
    },
    {
     "name": "stderr",
     "output_type": "stream",
     "text": [
      "\r",
      "545it [02:14,  4.82it/s]"
     ]
    },
    {
     "name": "stdout",
     "output_type": "stream",
     "text": [
      "fixing audio length : ../CatSound_dataset/Defence/LastEntry_cat1337Hiss.mp3\n",
      "input: 65489  load: 42048  offset: -23441\n"
     ]
    },
    {
     "name": "stderr",
     "output_type": "stream",
     "text": [
      "\r",
      "546it [02:14,  4.65it/s]"
     ]
    },
    {
     "name": "stdout",
     "output_type": "stream",
     "text": [
      "fixing audio length : ../CatSound_dataset/Defence/LastEntry_cat1339Hiss.mp3\n",
      "input: 65489  load: 23040  offset: -42449\n"
     ]
    },
    {
     "name": "stderr",
     "output_type": "stream",
     "text": [
      "\r",
      "547it [02:14,  4.71it/s]"
     ]
    },
    {
     "name": "stdout",
     "output_type": "stream",
     "text": [
      "fixing audio length : ../CatSound_dataset/Defence/LastEntry_cat1341Hiss.mp3\n",
      "input: 65489  load: 16704  offset: -48785\n"
     ]
    },
    {
     "name": "stderr",
     "output_type": "stream",
     "text": [
      "\r",
      "548it [02:14,  4.84it/s]"
     ]
    },
    {
     "name": "stdout",
     "output_type": "stream",
     "text": [
      "fixing audio length : ../CatSound_dataset/Defence/LastEntry_cat1343Hiss.mp3\n",
      "input: 65489  load: 28800  offset: -36689\n"
     ]
    },
    {
     "name": "stderr",
     "output_type": "stream",
     "text": [
      "\r",
      "549it [02:14,  4.81it/s]"
     ]
    },
    {
     "name": "stdout",
     "output_type": "stream",
     "text": [
      "fixing audio length : ../CatSound_dataset/Defence/LastEntry_cat1345Hiss.mp3\n",
      "input: 65489  load: 23040  offset: -42449\n"
     ]
    },
    {
     "name": "stderr",
     "output_type": "stream",
     "text": [
      "\r",
      "550it [02:15,  4.84it/s]"
     ]
    },
    {
     "name": "stdout",
     "output_type": "stream",
     "text": [
      "fixing audio length : ../CatSound_dataset/Defence/LastEntry_cat1347Hiss.mp3\n",
      "input: 65489  load: 35136  offset: -30353\n"
     ]
    },
    {
     "name": "stderr",
     "output_type": "stream",
     "text": [
      "\r",
      "551it [02:15,  4.71it/s]"
     ]
    },
    {
     "name": "stdout",
     "output_type": "stream",
     "text": [
      "fixing audio length : ../CatSound_dataset/Defence/LastEntry_cat1349Hiss.mp3\n",
      "input: 65489  load: 24192  offset: -41297\n"
     ]
    },
    {
     "name": "stderr",
     "output_type": "stream",
     "text": [
      "\r",
      "552it [02:15,  4.76it/s]"
     ]
    },
    {
     "name": "stdout",
     "output_type": "stream",
     "text": [
      "fixing audio length : ../CatSound_dataset/Defence/LastEntry_cat1352Hiss.mp3\n",
      "input: 65489  load: 28224  offset: -37265\n"
     ]
    },
    {
     "name": "stderr",
     "output_type": "stream",
     "text": [
      "\r",
      "553it [02:15,  4.71it/s]"
     ]
    },
    {
     "name": "stdout",
     "output_type": "stream",
     "text": [
      "fixing audio length : ../CatSound_dataset/Defence/LastEntry_cat1355Hiss.mp3\n",
      "input: 65489  load: 38592  offset: -26897\n"
     ]
    },
    {
     "name": "stderr",
     "output_type": "stream",
     "text": [
      "\r",
      "554it [02:16,  4.45it/s]"
     ]
    },
    {
     "name": "stdout",
     "output_type": "stream",
     "text": [
      "fixing audio length : ../CatSound_dataset/Defence/LastEntry_cat1357Hiss.mp3\n",
      "input: 65489  load: 18432  offset: -47057\n"
     ]
    },
    {
     "name": "stderr",
     "output_type": "stream",
     "text": [
      "\r",
      "555it [02:16,  4.56it/s]"
     ]
    },
    {
     "name": "stdout",
     "output_type": "stream",
     "text": [
      "fixing audio length : ../CatSound_dataset/Defence/LastEntry_cat1360Hiss.mp3\n",
      "input: 65489  load: 19584  offset: -45905\n"
     ]
    },
    {
     "name": "stderr",
     "output_type": "stream",
     "text": [
      "\r",
      "556it [02:16,  4.62it/s]"
     ]
    },
    {
     "name": "stdout",
     "output_type": "stream",
     "text": [
      "fixing audio length : ../CatSound_dataset/Defence/LastEntry_cat1363Grl (2).mp3\n",
      "input: 65489  load: 28800  offset: -36689\n"
     ]
    },
    {
     "name": "stderr",
     "output_type": "stream",
     "text": [
      "\r",
      "557it [02:16,  4.58it/s]"
     ]
    },
    {
     "name": "stdout",
     "output_type": "stream",
     "text": [
      "fixing audio length : ../CatSound_dataset/Defence/LastEntry_cat1363Hiss (2).mp3\n",
      "input: 65489  load: 21312  offset: -44177\n"
     ]
    },
    {
     "name": "stderr",
     "output_type": "stream",
     "text": [
      "\r",
      "558it [02:16,  4.66it/s]"
     ]
    },
    {
     "name": "stdout",
     "output_type": "stream",
     "text": [
      "fixing audio length : ../CatSound_dataset/Defence/LastEntry_cat1363Hiss (3).mp3\n",
      "input: 65489  load: 19008  offset: -46481\n"
     ]
    },
    {
     "name": "stderr",
     "output_type": "stream",
     "text": [
      "\r",
      "559it [02:17,  4.74it/s]"
     ]
    },
    {
     "name": "stdout",
     "output_type": "stream",
     "text": [
      "fixing audio length : ../CatSound_dataset/Defence/LastEntry_cat1363Hiss.mp3\n",
      "input: 65489  load: 23616  offset: -41873\n"
     ]
    },
    {
     "name": "stderr",
     "output_type": "stream",
     "text": [
      "561it [02:17,  4.35it/s]"
     ]
    },
    {
     "name": "stdout",
     "output_type": "stream",
     "text": [
      "fixing audio length : ../CatSound_dataset/Defence/LastEntry_cat1367Hiss (2).mp3\n",
      "input: 65489  load: 28800  offset: -36689\n"
     ]
    },
    {
     "name": "stderr",
     "output_type": "stream",
     "text": [
      "\r",
      "562it [02:17,  4.42it/s]"
     ]
    },
    {
     "name": "stdout",
     "output_type": "stream",
     "text": [
      "fixing audio length : ../CatSound_dataset/Defence/LastEntry_cat1367Hiss.mp3\n",
      "input: 65489  load: 16704  offset: -48785\n"
     ]
    },
    {
     "name": "stderr",
     "output_type": "stream",
     "text": [
      "\r",
      "563it [02:18,  4.61it/s]"
     ]
    },
    {
     "name": "stdout",
     "output_type": "stream",
     "text": [
      "fixing audio length : ../CatSound_dataset/Defence/Last_addCat101Hiss.mp3\n",
      "input: 65489  load: 33984  offset: -31505\n"
     ]
    },
    {
     "name": "stderr",
     "output_type": "stream",
     "text": [
      "\r",
      "564it [02:18,  4.56it/s]"
     ]
    },
    {
     "name": "stdout",
     "output_type": "stream",
     "text": [
      "fixing audio length : ../CatSound_dataset/Defence/Last_addCat104Hiss.mp3\n",
      "input: 65489  load: 34560  offset: -30929\n"
     ]
    },
    {
     "name": "stderr",
     "output_type": "stream",
     "text": [
      "\r",
      "565it [02:18,  4.53it/s]"
     ]
    },
    {
     "name": "stdout",
     "output_type": "stream",
     "text": [
      "fixing audio length : ../CatSound_dataset/Defence/Last_addCat109Hiss.mp3\n",
      "input: 65489  load: 24192  offset: -41297\n"
     ]
    },
    {
     "name": "stderr",
     "output_type": "stream",
     "text": [
      "\r",
      "566it [02:18,  4.60it/s]"
     ]
    },
    {
     "name": "stdout",
     "output_type": "stream",
     "text": [
      "fixing audio length : ../CatSound_dataset/Defence/Last_addCat252hiss.mp3\n",
      "input: 65489  load: 25920  offset: -39569\n"
     ]
    },
    {
     "name": "stderr",
     "output_type": "stream",
     "text": [
      "\r",
      "567it [02:18,  4.64it/s]"
     ]
    },
    {
     "name": "stdout",
     "output_type": "stream",
     "text": [
      "fixing audio length : ../CatSound_dataset/Defence/Last_addCat259His.mp3\n",
      "input: 65489  load: 37440  offset: -28049\n"
     ]
    },
    {
     "name": "stderr",
     "output_type": "stream",
     "text": [
      "\r",
      "568it [02:19,  4.50it/s]"
     ]
    },
    {
     "name": "stdout",
     "output_type": "stream",
     "text": [
      "fixing audio length : ../CatSound_dataset/Defence/Last_addCat274Hiss.mp3\n",
      "input: 65489  load: 51264  offset: -14225\n"
     ]
    },
    {
     "name": "stderr",
     "output_type": "stream",
     "text": [
      "\r",
      "569it [02:19,  4.33it/s]"
     ]
    },
    {
     "name": "stdout",
     "output_type": "stream",
     "text": [
      "fixing audio length : ../CatSound_dataset/Defence/Last_addCat275Hiss.mp3\n",
      "input: 65489  load: 32256  offset: -33233\n"
     ]
    },
    {
     "name": "stderr",
     "output_type": "stream",
     "text": [
      "\r",
      "570it [02:19,  4.40it/s]"
     ]
    },
    {
     "name": "stdout",
     "output_type": "stream",
     "text": [
      "fixing audio length : ../CatSound_dataset/Defence/Last_addCat276Hiss.mp3\n",
      "input: 65489  load: 52992  offset: -12497\n"
     ]
    },
    {
     "name": "stderr",
     "output_type": "stream",
     "text": [
      "\r",
      "571it [02:19,  4.23it/s]"
     ]
    },
    {
     "name": "stdout",
     "output_type": "stream",
     "text": [
      "fixing audio length : ../CatSound_dataset/Defence/Last_addCat277Hiss.mp3\n",
      "input: 65489  load: 32256  offset: -33233\n"
     ]
    },
    {
     "name": "stderr",
     "output_type": "stream",
     "text": [
      "\r",
      "572it [02:20,  4.26it/s]"
     ]
    },
    {
     "name": "stdout",
     "output_type": "stream",
     "text": [
      "fixing audio length : ../CatSound_dataset/Defence/Last_addCat286Hiss.mp3\n",
      "input: 65489  load: 22464  offset: -43025\n"
     ]
    },
    {
     "name": "stderr",
     "output_type": "stream",
     "text": [
      "\r",
      "573it [02:20,  4.41it/s]"
     ]
    },
    {
     "name": "stdout",
     "output_type": "stream",
     "text": [
      "fixing audio length : ../CatSound_dataset/Defence/Last_addCat290Hiss.mp3\n",
      "input: 65489  load: 35712  offset: -29777\n"
     ]
    },
    {
     "name": "stderr",
     "output_type": "stream",
     "text": [
      "\r",
      "574it [02:20,  4.35it/s]"
     ]
    },
    {
     "name": "stdout",
     "output_type": "stream",
     "text": [
      "fixing audio length : ../CatSound_dataset/Defence/Last_addCat291Hiss.mp3\n",
      "input: 65489  load: 25920  offset: -39569\n"
     ]
    },
    {
     "name": "stderr",
     "output_type": "stream",
     "text": [
      "\r",
      "575it [02:20,  4.45it/s]"
     ]
    },
    {
     "name": "stdout",
     "output_type": "stream",
     "text": [
      "fixing audio length : ../CatSound_dataset/Defence/Last_addCat331Hiss.mp3\n",
      "input: 65489  load: 34560  offset: -30929\n"
     ]
    },
    {
     "name": "stderr",
     "output_type": "stream",
     "text": [
      "\r",
      "576it [02:20,  4.39it/s]"
     ]
    },
    {
     "name": "stdout",
     "output_type": "stream",
     "text": [
      "fixing audio length : ../CatSound_dataset/Defence/Last_addCat334Hiss.mp3\n",
      "input: 65489  load: 48960  offset: -16529\n"
     ]
    },
    {
     "name": "stderr",
     "output_type": "stream",
     "text": [
      "\r",
      "577it [02:21,  4.22it/s]"
     ]
    },
    {
     "name": "stdout",
     "output_type": "stream",
     "text": [
      "fixing audio length : ../CatSound_dataset/Defence/Last_addCat338Hiss.mp3\n",
      "input: 65489  load: 23616  offset: -41873\n"
     ]
    },
    {
     "name": "stderr",
     "output_type": "stream",
     "text": [
      "\r",
      "578it [02:21,  4.37it/s]"
     ]
    },
    {
     "name": "stdout",
     "output_type": "stream",
     "text": [
      "fixing audio length : ../CatSound_dataset/Defence/Last_addCat341Hiss.mp3\n",
      "input: 65489  load: 20736  offset: -44753\n"
     ]
    },
    {
     "name": "stderr",
     "output_type": "stream",
     "text": [
      "\r",
      "579it [02:21,  4.45it/s]"
     ]
    },
    {
     "name": "stdout",
     "output_type": "stream",
     "text": [
      "fixing audio length : ../CatSound_dataset/Defence/Last_addCat348Hiss.mp3\n",
      "input: 65489  load: 23616  offset: -41873\n"
     ]
    },
    {
     "name": "stderr",
     "output_type": "stream",
     "text": [
      "\r",
      "580it [02:21,  4.55it/s]"
     ]
    },
    {
     "name": "stdout",
     "output_type": "stream",
     "text": [
      "fixing audio length : ../CatSound_dataset/Defence/Last_addCat354Hiss.mp3\n",
      "input: 65489  load: 27072  offset: -38417\n"
     ]
    },
    {
     "name": "stderr",
     "output_type": "stream",
     "text": [
      "\r",
      "581it [02:22,  4.62it/s]"
     ]
    },
    {
     "name": "stdout",
     "output_type": "stream",
     "text": [
      "fixing audio length : ../CatSound_dataset/Defence/Online_Cat0294hiss.mp3\n",
      "input: 65489  load: 25920  offset: -39569\n"
     ]
    },
    {
     "name": "stderr",
     "output_type": "stream",
     "text": [
      "\r",
      "582it [02:22,  4.63it/s]"
     ]
    },
    {
     "name": "stdout",
     "output_type": "stream",
     "text": [
      "fixing audio length : ../CatSound_dataset/Defence/Online_Cat0296Hiss.mp3\n",
      "input: 65489  load: 33408  offset: -32081\n"
     ]
    },
    {
     "name": "stderr",
     "output_type": "stream",
     "text": [
      "\r",
      "583it [02:22,  4.56it/s]"
     ]
    },
    {
     "name": "stdout",
     "output_type": "stream",
     "text": [
      "fixing audio length : ../CatSound_dataset/Defence/Online_Cat0297Hiss.mp3\n",
      "input: 65489  load: 32256  offset: -33233\n"
     ]
    },
    {
     "name": "stderr",
     "output_type": "stream",
     "text": [
      "\r",
      "584it [02:22,  4.56it/s]"
     ]
    },
    {
     "name": "stdout",
     "output_type": "stream",
     "text": [
      "fixing audio length : ../CatSound_dataset/Defence/Online_Cat0299Hiss.mp3\n",
      "input: 65489  load: 32832  offset: -32657\n"
     ]
    },
    {
     "name": "stderr",
     "output_type": "stream",
     "text": [
      "\r",
      "585it [02:22,  4.58it/s]"
     ]
    },
    {
     "name": "stdout",
     "output_type": "stream",
     "text": [
      "fixing audio length : ../CatSound_dataset/Defence/Online_Cat0303Hiss.mp3\n",
      "input: 65489  load: 19584  offset: -45905\n"
     ]
    },
    {
     "name": "stderr",
     "output_type": "stream",
     "text": [
      "\r",
      "586it [02:23,  4.64it/s]"
     ]
    },
    {
     "name": "stdout",
     "output_type": "stream",
     "text": [
      "fixing audio length : ../CatSound_dataset/Defence/Online_Cat0384hiss.mp3\n",
      "input: 65489  load: 26808  offset: -38681\n"
     ]
    },
    {
     "name": "stderr",
     "output_type": "stream",
     "text": [
      "\r",
      "587it [02:23,  4.68it/s]"
     ]
    },
    {
     "name": "stdout",
     "output_type": "stream",
     "text": [
      "fixing audio length : ../CatSound_dataset/Defence/Online_Cat0457his.mp3\n",
      "input: 65489  load: 44928  offset: -20561\n"
     ]
    },
    {
     "name": "stderr",
     "output_type": "stream",
     "text": [
      "\r",
      "588it [02:23,  4.51it/s]"
     ]
    },
    {
     "name": "stdout",
     "output_type": "stream",
     "text": [
      "fixing audio length : ../CatSound_dataset/Defence/YashLL_Cat0223Hiss.mp3\n",
      "input: 65489  load: 29952  offset: -35537\n"
     ]
    },
    {
     "name": "stderr",
     "output_type": "stream",
     "text": [
      "\r",
      "589it [02:23,  4.55it/s]"
     ]
    },
    {
     "name": "stdout",
     "output_type": "stream",
     "text": [
      "fixing audio length : ../CatSound_dataset/Fighting/angry4.mp3\n",
      "input: 65489  load: 31992  offset: -33497\n"
     ]
    },
    {
     "name": "stderr",
     "output_type": "stream",
     "text": [
      "591it [02:24,  4.43it/s]"
     ]
    },
    {
     "name": "stdout",
     "output_type": "stream",
     "text": [
      "fixing audio length : ../CatSound_dataset/Fighting/car_extcoll0102.mp3\n",
      "input: 65489  load: 45504  offset: -19985\n"
     ]
    },
    {
     "name": "stderr",
     "output_type": "stream",
     "text": [
      "593it [02:24,  4.20it/s]"
     ]
    },
    {
     "name": "stdout",
     "output_type": "stream",
     "text": [
      "fixing audio length : ../CatSound_dataset/Fighting/car_extcoll0142.mp3\n",
      "input: 65489  load: 27072  offset: -38417\n"
     ]
    },
    {
     "name": "stderr",
     "output_type": "stream",
     "text": [
      "\r",
      "594it [02:25,  4.30it/s]"
     ]
    },
    {
     "name": "stdout",
     "output_type": "stream",
     "text": [
      "fixing audio length : ../CatSound_dataset/Fighting/car_extcoll0143.mp3\n",
      "input: 65489  load: 28800  offset: -36689\n"
     ]
    },
    {
     "name": "stderr",
     "output_type": "stream",
     "text": [
      "600it [02:26,  3.96it/s]"
     ]
    },
    {
     "name": "stdout",
     "output_type": "stream",
     "text": [
      "fixing audio length : ../CatSound_dataset/Fighting/car_extcoll0222.mp3\n",
      "input: 65489  load: 44352  offset: -21137\n"
     ]
    },
    {
     "name": "stderr",
     "output_type": "stream",
     "text": [
      "606it [02:28,  3.83it/s]"
     ]
    },
    {
     "name": "stdout",
     "output_type": "stream",
     "text": [
      "fixing audio length : ../CatSound_dataset/Fighting/car_extcoll0253.mp3\n",
      "input: 65489  load: 54144  offset: -11345\n"
     ]
    },
    {
     "name": "stderr",
     "output_type": "stream",
     "text": [
      "\r",
      "607it [02:28,  3.87it/s]"
     ]
    },
    {
     "name": "stdout",
     "output_type": "stream",
     "text": [
      "fixing audio length : ../CatSound_dataset/Fighting/car_extcoll0256.mp3\n",
      "input: 65489  load: 33408  offset: -32081\n"
     ]
    },
    {
     "name": "stderr",
     "output_type": "stream",
     "text": [
      "609it [02:28,  4.06it/s]"
     ]
    },
    {
     "name": "stdout",
     "output_type": "stream",
     "text": [
      "fixing audio length : ../CatSound_dataset/Fighting/car_extcoll0260.mp3\n",
      "input: 65489  load: 42048  offset: -23441\n"
     ]
    },
    {
     "name": "stderr",
     "output_type": "stream",
     "text": [
      "\r",
      "610it [02:29,  4.07it/s]"
     ]
    },
    {
     "name": "stdout",
     "output_type": "stream",
     "text": [
      "fixing audio length : ../CatSound_dataset/Fighting/car_extcoll0262.mp3\n",
      "input: 65489  load: 43200  offset: -22289\n"
     ]
    },
    {
     "name": "stderr",
     "output_type": "stream",
     "text": [
      "615it [02:30,  3.69it/s]"
     ]
    },
    {
     "name": "stdout",
     "output_type": "stream",
     "text": [
      "fixing audio length : ../CatSound_dataset/Fighting/car_extcoll0272.mp3\n",
      "input: 65489  load: 48384  offset: -17105\n"
     ]
    },
    {
     "name": "stderr",
     "output_type": "stream",
     "text": [
      "\r",
      "616it [02:30,  3.75it/s]"
     ]
    },
    {
     "name": "stdout",
     "output_type": "stream",
     "text": [
      "fixing audio length : ../CatSound_dataset/Fighting/car_extcoll0275.mp3\n",
      "input: 65489  load: 32832  offset: -32657\n"
     ]
    },
    {
     "name": "stderr",
     "output_type": "stream",
     "text": [
      "620it [02:31,  3.89it/s]"
     ]
    },
    {
     "name": "stdout",
     "output_type": "stream",
     "text": [
      "fixing audio length : ../CatSound_dataset/Fighting/car_extcoll0301.mp3\n",
      "input: 65489  load: 46080  offset: -19409\n"
     ]
    },
    {
     "name": "stderr",
     "output_type": "stream",
     "text": [
      "\r",
      "621it [02:31,  3.91it/s]"
     ]
    },
    {
     "name": "stdout",
     "output_type": "stream",
     "text": [
      "fixing audio length : ../CatSound_dataset/Fighting/CAT (1).mp3\n",
      "input: 65489  load: 27342  offset: -38147\n"
     ]
    },
    {
     "name": "stderr",
     "output_type": "stream",
     "text": [
      "632it [02:34,  3.79it/s]"
     ]
    },
    {
     "name": "stdout",
     "output_type": "stream",
     "text": [
      "fixing audio length : ../CatSound_dataset/Fighting/cat0333.mp3\n",
      "input: 65489  load: 48384  offset: -17105\n"
     ]
    },
    {
     "name": "stderr",
     "output_type": "stream",
     "text": [
      "\r",
      "633it [02:35,  3.86it/s]"
     ]
    },
    {
     "name": "stdout",
     "output_type": "stream",
     "text": [
      "fixing audio length : ../CatSound_dataset/Fighting/cat0334.mp3\n",
      "input: 65489  load: 47232  offset: -18257\n"
     ]
    },
    {
     "name": "stderr",
     "output_type": "stream",
     "text": [
      "663it [02:42,  3.83it/s]"
     ]
    },
    {
     "name": "stdout",
     "output_type": "stream",
     "text": [
      "fixing audio length : ../CatSound_dataset/Fighting/Edit9023fit.mp3\n",
      "input: 65489  load: 29376  offset: -36113\n"
     ]
    },
    {
     "name": "stderr",
     "output_type": "stream",
     "text": [
      "\r",
      "664it [02:43,  4.06it/s]"
     ]
    },
    {
     "name": "stdout",
     "output_type": "stream",
     "text": [
      "fixing audio length : ../CatSound_dataset/Fighting/Edit9025Fit.mp3\n",
      "input: 65489  load: 41472  offset: -24017\n"
     ]
    },
    {
     "name": "stderr",
     "output_type": "stream",
     "text": [
      "\r",
      "665it [02:43,  4.11it/s]"
     ]
    },
    {
     "name": "stdout",
     "output_type": "stream",
     "text": [
      "fixing audio length : ../CatSound_dataset/Fighting/Edit9120Fit.mp3\n",
      "input: 65489  load: 44928  offset: -20561\n"
     ]
    },
    {
     "name": "stderr",
     "output_type": "stream",
     "text": [
      "675it [02:45,  3.82it/s]"
     ]
    },
    {
     "name": "stdout",
     "output_type": "stream",
     "text": [
      "fixing audio length : ../CatSound_dataset/Fighting/LastEntry_cat1300Fit.mp3\n",
      "input: 65489  load: 35136  offset: -30353\n"
     ]
    },
    {
     "name": "stderr",
     "output_type": "stream",
     "text": [
      "677it [02:46,  3.95it/s]"
     ]
    },
    {
     "name": "stdout",
     "output_type": "stream",
     "text": [
      "fixing audio length : ../CatSound_dataset/Fighting/LastEntry_cat1306Fit.mp3\n",
      "input: 65489  load: 44352  offset: -21137\n"
     ]
    },
    {
     "name": "stderr",
     "output_type": "stream",
     "text": [
      "680it [02:47,  3.78it/s]"
     ]
    },
    {
     "name": "stdout",
     "output_type": "stream",
     "text": [
      "fixing audio length : ../CatSound_dataset/Fighting/LastEntry_cat1319Fit.mp3\n",
      "input: 65489  load: 50112  offset: -15377\n"
     ]
    },
    {
     "name": "stderr",
     "output_type": "stream",
     "text": [
      "684it [02:48,  3.89it/s]"
     ]
    },
    {
     "name": "stdout",
     "output_type": "stream",
     "text": [
      "fixing audio length : ../CatSound_dataset/Fighting/Last_addCat113Fit.mp3\n",
      "input: 65489  load: 41472  offset: -24017\n"
     ]
    },
    {
     "name": "stderr",
     "output_type": "stream",
     "text": [
      "686it [02:48,  4.02it/s]"
     ]
    },
    {
     "name": "stdout",
     "output_type": "stream",
     "text": [
      "fixing audio length : ../CatSound_dataset/Fighting/Last_addCat115Fit.mp3\n",
      "input: 65489  load: 47808  offset: -17681\n"
     ]
    },
    {
     "name": "stderr",
     "output_type": "stream",
     "text": [
      "\r",
      "687it [02:48,  3.96it/s]"
     ]
    },
    {
     "name": "stdout",
     "output_type": "stream",
     "text": [
      "fixing audio length : ../CatSound_dataset/Fighting/Last_addCat116Fit.mp3\n",
      "input: 65489  load: 45504  offset: -19985\n"
     ]
    },
    {
     "name": "stderr",
     "output_type": "stream",
     "text": [
      "692it [02:50,  3.88it/s]"
     ]
    },
    {
     "name": "stdout",
     "output_type": "stream",
     "text": [
      "fixing audio length : ../CatSound_dataset/Fighting/Last_addCat254fit.mp3\n",
      "input: 65489  load: 37440  offset: -28049\n"
     ]
    },
    {
     "name": "stderr",
     "output_type": "stream",
     "text": [
      "713it [02:55,  3.64it/s]"
     ]
    },
    {
     "name": "stdout",
     "output_type": "stream",
     "text": [
      "fixing audio length : ../CatSound_dataset/Fighting/Last_addCat317Fit.mp3\n",
      "input: 65489  load: 43776  offset: -21713\n"
     ]
    },
    {
     "name": "stderr",
     "output_type": "stream",
     "text": [
      "722it [02:58,  3.81it/s]"
     ]
    },
    {
     "name": "stdout",
     "output_type": "stream",
     "text": [
      "fixing audio length : ../CatSound_dataset/Fighting/Last_addCat364Fit.mp3\n",
      "input: 65489  load: 50112  offset: -15377\n"
     ]
    },
    {
     "name": "stderr",
     "output_type": "stream",
     "text": [
      "724it [02:58,  3.69it/s]"
     ]
    },
    {
     "name": "stdout",
     "output_type": "stream",
     "text": [
      "fixing audio length : ../CatSound_dataset/Fighting/Online_Cat0292.mp3\n",
      "input: 65489  load: 36864  offset: -28625\n"
     ]
    },
    {
     "name": "stderr",
     "output_type": "stream",
     "text": [
      "728it [02:59,  3.86it/s]"
     ]
    },
    {
     "name": "stdout",
     "output_type": "stream",
     "text": [
      "fixing audio length : ../CatSound_dataset/Fighting/Online_Cat0323ang.mp3\n",
      "input: 65489  load: 33720  offset: -31769\n"
     ]
    },
    {
     "name": "stderr",
     "output_type": "stream",
     "text": [
      "732it [03:00,  3.96it/s]"
     ]
    },
    {
     "name": "stdout",
     "output_type": "stream",
     "text": [
      "fixing audio length : ../CatSound_dataset/Fighting/Online_Cat0328fit.mp3\n",
      "input: 65489  load: 53568  offset: -11921\n"
     ]
    },
    {
     "name": "stderr",
     "output_type": "stream",
     "text": [
      "\r",
      "733it [03:00,  3.93it/s]"
     ]
    },
    {
     "name": "stdout",
     "output_type": "stream",
     "text": [
      "fixing audio length : ../CatSound_dataset/Fighting/Online_Cat0330Ang.mp3\n",
      "input: 65489  load: 53304  offset: -12185\n"
     ]
    },
    {
     "name": "stderr",
     "output_type": "stream",
     "text": [
      "\r",
      "734it [03:01,  3.94it/s]"
     ]
    },
    {
     "name": "stdout",
     "output_type": "stream",
     "text": [
      "fixing audio length : ../CatSound_dataset/Fighting/Online_Cat0334ang.mp3\n",
      "input: 65489  load: 44100  offset: -21389\n"
     ]
    },
    {
     "name": "stderr",
     "output_type": "stream",
     "text": [
      "\r",
      "735it [03:01,  4.00it/s]"
     ]
    },
    {
     "name": "stdout",
     "output_type": "stream",
     "text": [
      "fixing audio length : ../CatSound_dataset/Fighting/Online_Cat0335Ang.mp3\n",
      "input: 65489  load: 39480  offset: -26009\n"
     ]
    },
    {
     "name": "stderr",
     "output_type": "stream",
     "text": [
      "\r",
      "736it [03:01,  4.06it/s]"
     ]
    },
    {
     "name": "stdout",
     "output_type": "stream",
     "text": [
      "fixing audio length : ../CatSound_dataset/Fighting/Online_Cat0341Ang.mp3\n",
      "input: 65489  load: 52728  offset: -12761\n"
     ]
    },
    {
     "name": "stderr",
     "output_type": "stream",
     "text": [
      "\r",
      "737it [03:01,  4.01it/s]"
     ]
    },
    {
     "name": "stdout",
     "output_type": "stream",
     "text": [
      "fixing audio length : ../CatSound_dataset/Fighting/Online_Cat0350Ang.mp3\n",
      "input: 65489  load: 42360  offset: -23129\n"
     ]
    },
    {
     "name": "stderr",
     "output_type": "stream",
     "text": [
      "\r",
      "738it [03:02,  4.03it/s]"
     ]
    },
    {
     "name": "stdout",
     "output_type": "stream",
     "text": [
      "fixing audio length : ../CatSound_dataset/Fighting/Online_Cat0356ang.mp3\n",
      "input: 65489  load: 27960  offset: -37529\n"
     ]
    },
    {
     "name": "stderr",
     "output_type": "stream",
     "text": [
      "740it [03:02,  4.18it/s]"
     ]
    },
    {
     "name": "stdout",
     "output_type": "stream",
     "text": [
      "fixing audio length : ../CatSound_dataset/Fighting/Online_Cat0363fit.mp3\n",
      "input: 65489  load: 37752  offset: -27737\n"
     ]
    },
    {
     "name": "stderr",
     "output_type": "stream",
     "text": [
      "\r",
      "741it [03:02,  4.17it/s]"
     ]
    },
    {
     "name": "stdout",
     "output_type": "stream",
     "text": [
      "fixing audio length : ../CatSound_dataset/Fighting/Online_Cat0367Ang.mp3\n",
      "input: 65489  load: 26808  offset: -38681\n"
     ]
    },
    {
     "name": "stderr",
     "output_type": "stream",
     "text": [
      "\r",
      "742it [03:03,  4.33it/s]"
     ]
    },
    {
     "name": "stdout",
     "output_type": "stream",
     "text": [
      "fixing audio length : ../CatSound_dataset/Fighting/Online_Cat0367fit.mp3\n",
      "input: 65489  load: 31992  offset: -33497\n"
     ]
    },
    {
     "name": "stderr",
     "output_type": "stream",
     "text": [
      "\r",
      "743it [03:03,  4.39it/s]"
     ]
    },
    {
     "name": "stdout",
     "output_type": "stream",
     "text": [
      "fixing audio length : ../CatSound_dataset/Fighting/Online_Cat0369fit.mp3\n",
      "input: 65489  load: 17280  offset: -48209\n"
     ]
    },
    {
     "name": "stderr",
     "output_type": "stream",
     "text": [
      "\r",
      "744it [03:03,  4.55it/s]"
     ]
    },
    {
     "name": "stdout",
     "output_type": "stream",
     "text": [
      "fixing audio length : ../CatSound_dataset/Fighting/Online_Cat0382Ang.mp3\n",
      "input: 65489  load: 36600  offset: -28889\n"
     ]
    },
    {
     "name": "stderr",
     "output_type": "stream",
     "text": [
      "\r",
      "745it [03:03,  4.51it/s]"
     ]
    },
    {
     "name": "stdout",
     "output_type": "stream",
     "text": [
      "fixing audio length : ../CatSound_dataset/Fighting/Online_Cat0383fit.mp3\n",
      "input: 65489  load: 45240  offset: -20249\n"
     ]
    },
    {
     "name": "stderr",
     "output_type": "stream",
     "text": [
      "747it [03:04,  4.31it/s]"
     ]
    },
    {
     "name": "stdout",
     "output_type": "stream",
     "text": [
      "fixing audio length : ../CatSound_dataset/Fighting/Online_Cat0436fit.mp3\n",
      "input: 65489  load: 38904  offset: -26585\n"
     ]
    },
    {
     "name": "stderr",
     "output_type": "stream",
     "text": [
      "\r",
      "748it [03:04,  4.25it/s]"
     ]
    },
    {
     "name": "stdout",
     "output_type": "stream",
     "text": [
      "fixing audio length : ../CatSound_dataset/Fighting/Online_Cat0437fit.mp3\n",
      "input: 65489  load: 36600  offset: -28889\n"
     ]
    },
    {
     "name": "stderr",
     "output_type": "stream",
     "text": [
      "\r",
      "749it [03:04,  4.27it/s]"
     ]
    },
    {
     "name": "stdout",
     "output_type": "stream",
     "text": [
      "fixing audio length : ../CatSound_dataset/Fighting/Online_Cat0438fit.mp3\n",
      "input: 65489  load: 52728  offset: -12761\n"
     ]
    },
    {
     "name": "stderr",
     "output_type": "stream",
     "text": [
      "\r",
      "750it [03:04,  4.16it/s]"
     ]
    },
    {
     "name": "stdout",
     "output_type": "stream",
     "text": [
      "fixing audio length : ../CatSound_dataset/Fighting/Online_Cat0439Fit.mp3\n",
      "input: 65489  load: 39480  offset: -26009\n"
     ]
    },
    {
     "name": "stderr",
     "output_type": "stream",
     "text": [
      "752it [03:05,  4.03it/s]"
     ]
    },
    {
     "name": "stdout",
     "output_type": "stream",
     "text": [
      "fixing audio length : ../CatSound_dataset/Fighting/Online_Cat0441Fit.mp3\n",
      "input: 65489  load: 36600  offset: -28889\n"
     ]
    },
    {
     "name": "stderr",
     "output_type": "stream",
     "text": [
      "\r",
      "753it [03:05,  4.11it/s]"
     ]
    },
    {
     "name": "stdout",
     "output_type": "stream",
     "text": [
      "fixing audio length : ../CatSound_dataset/Fighting/Online_Cat0443Fit.mp3\n",
      "input: 65489  load: 39480  offset: -26009\n"
     ]
    },
    {
     "name": "stderr",
     "output_type": "stream",
     "text": [
      "757it [03:06,  3.67it/s]"
     ]
    },
    {
     "name": "stdout",
     "output_type": "stream",
     "text": [
      "fixing audio length : ../CatSound_dataset/Fighting/Online_Cat0466Fit.mp3\n",
      "input: 65489  load: 53304  offset: -12185\n"
     ]
    },
    {
     "name": "stderr",
     "output_type": "stream",
     "text": [
      "760it [03:07,  3.90it/s]"
     ]
    },
    {
     "name": "stdout",
     "output_type": "stream",
     "text": [
      "fixing audio length : ../CatSound_dataset/Fighting/Online_Cat0498Ang.mp3\n",
      "input: 65489  load: 18168  offset: -47321\n"
     ]
    },
    {
     "name": "stderr",
     "output_type": "stream",
     "text": [
      "770it [03:10,  3.55it/s]"
     ]
    },
    {
     "name": "stdout",
     "output_type": "stream",
     "text": [
      "fixing audio length : ../CatSound_dataset/Fighting/quick fight.mp3\n",
      "input: 65489  load: 19845  offset: -45644\n"
     ]
    },
    {
     "name": "stderr",
     "output_type": "stream",
     "text": [
      "\r",
      "771it [03:10,  3.87it/s]"
     ]
    },
    {
     "name": "stdout",
     "output_type": "stream",
     "text": [
      "fixing audio length : ../CatSound_dataset/Fighting/YashLL_Cat0214Fit (2).mp3\n",
      "input: 65489  load: 37440  offset: -28049\n"
     ]
    },
    {
     "name": "stderr",
     "output_type": "stream",
     "text": [
      "789it [03:15,  3.60it/s]"
     ]
    },
    {
     "name": "stdout",
     "output_type": "stream",
     "text": [
      "fixing audio length : ../CatSound_dataset/Fighting/YashLL_Cat0239Fit.mp3\n",
      "input: 65489  load: 52992  offset: -12497\n"
     ]
    },
    {
     "name": "stderr",
     "output_type": "stream",
     "text": [
      "803it [03:19,  3.34it/s]"
     ]
    },
    {
     "name": "stdout",
     "output_type": "stream",
     "text": [
      "fixing audio length : ../CatSound_dataset/Fighting/YashLL_Cat0249Fit.mp3\n",
      "input: 65489  load: 49536  offset: -15953\n"
     ]
    },
    {
     "name": "stderr",
     "output_type": "stream",
     "text": [
      "\r",
      "804it [03:19,  3.45it/s]"
     ]
    },
    {
     "name": "stdout",
     "output_type": "stream",
     "text": [
      "fixing audio length : ../CatSound_dataset/Fighting/YashLL_Cat0250Fight.mp3\n",
      "input: 65489  load: 51264  offset: -14225\n"
     ]
    },
    {
     "name": "stderr",
     "output_type": "stream",
     "text": [
      "828it [03:26,  3.58it/s]"
     ]
    },
    {
     "name": "stdout",
     "output_type": "stream",
     "text": [
      "fixing audio length : ../CatSound_dataset/Fighting/YashLL_Cat0286Fit.mp3\n",
      "input: 65489  load: 46656  offset: -18833\n"
     ]
    },
    {
     "name": "stderr",
     "output_type": "stream",
     "text": [
      "\r",
      "829it [03:26,  3.70it/s]"
     ]
    },
    {
     "name": "stdout",
     "output_type": "stream",
     "text": [
      "fixing audio length : ../CatSound_dataset/Fighting/YashLL_Cat0287Fit.mp3\n",
      "input: 65489  load: 51840  offset: -13649\n"
     ]
    },
    {
     "name": "stderr",
     "output_type": "stream",
     "text": [
      "832it [03:27,  3.71it/s]"
     ]
    },
    {
     "name": "stdout",
     "output_type": "stream",
     "text": [
      "fixing audio length : ../CatSound_dataset/Fighting/YashLL_Cat0290Fit.mp3\n",
      "input: 65489  load: 54144  offset: -11345\n"
     ]
    },
    {
     "name": "stderr",
     "output_type": "stream",
     "text": [
      "834it [03:28,  3.61it/s]"
     ]
    },
    {
     "name": "stdout",
     "output_type": "stream",
     "text": [
      "fixing audio length : ../CatSound_dataset/Fighting/YashLL_Cat0296Fit.mp3\n",
      "input: 65489  load: 47232  offset: -18257\n"
     ]
    },
    {
     "name": "stderr",
     "output_type": "stream",
     "text": [
      "\r",
      "835it [03:28,  3.77it/s]"
     ]
    },
    {
     "name": "stdout",
     "output_type": "stream",
     "text": [
      "fixing audio length : ../CatSound_dataset/Fighting/YashLL_Cat0298Fit.mp3\n",
      "input: 65489  load: 39744  offset: -25745\n"
     ]
    },
    {
     "name": "stderr",
     "output_type": "stream",
     "text": [
      "845it [03:31,  3.58it/s]"
     ]
    },
    {
     "name": "stdout",
     "output_type": "stream",
     "text": [
      "fixing audio length : ../CatSound_dataset/Fighting/YashLL_Cat0911Fit.mp3\n",
      "input: 65489  load: 40320  offset: -25169\n"
     ]
    },
    {
     "name": "stderr",
     "output_type": "stream",
     "text": [
      "\r",
      "846it [03:31,  3.76it/s]"
     ]
    },
    {
     "name": "stdout",
     "output_type": "stream",
     "text": [
      "fixing audio length : ../CatSound_dataset/Fighting/YashLL_Cat0913Fit.mp3\n",
      "input: 65489  load: 51840  offset: -13649\n"
     ]
    },
    {
     "name": "stderr",
     "output_type": "stream",
     "text": [
      "866it [03:36,  3.58it/s]"
     ]
    },
    {
     "name": "stdout",
     "output_type": "stream",
     "text": [
      "fixing audio length : ../CatSound_dataset/Fighting/YashLL_CONF_Cat0261Fit (12).mp3\n",
      "input: 65489  load: 51264  offset: -14225\n"
     ]
    },
    {
     "name": "stderr",
     "output_type": "stream",
     "text": [
      "869it [03:37,  3.71it/s]"
     ]
    },
    {
     "name": "stdout",
     "output_type": "stream",
     "text": [
      "fixing audio length : ../CatSound_dataset/Fighting/YashLL_CONF_Cat0261Fit (15).mp3\n",
      "input: 65489  load: 39744  offset: -25745\n"
     ]
    },
    {
     "name": "stderr",
     "output_type": "stream",
     "text": [
      "878it [03:40,  3.62it/s]"
     ]
    },
    {
     "name": "stdout",
     "output_type": "stream",
     "text": [
      "fixing audio length : ../CatSound_dataset/Fighting/YashLL_CONF_Cat0261Fit (23).mp3\n",
      "input: 65489  load: 45504  offset: -19985\n"
     ]
    },
    {
     "name": "stderr",
     "output_type": "stream",
     "text": [
      "881it [03:40,  3.84it/s]"
     ]
    },
    {
     "name": "stdout",
     "output_type": "stream",
     "text": [
      "fixing audio length : ../CatSound_dataset/Fighting/YashLL_CONF_Cat0261Fit (4).mp3\n",
      "input: 65489  load: 41472  offset: -24017\n"
     ]
    },
    {
     "name": "stderr",
     "output_type": "stream",
     "text": [
      "886it [03:42,  3.70it/s]"
     ]
    },
    {
     "name": "stdout",
     "output_type": "stream",
     "text": [
      "fixing audio length : ../CatSound_dataset/Fighting/YashLL_CONF_Cat0261Fit (9).mp3\n",
      "input: 65489  load: 48384  offset: -17105\n"
     ]
    },
    {
     "name": "stderr",
     "output_type": "stream",
     "text": [
      "\r",
      "887it [03:42,  3.78it/s]"
     ]
    },
    {
     "name": "stdout",
     "output_type": "stream",
     "text": [
      "fixing audio length : ../CatSound_dataset/Happy/1294_1256854279.mp3\n",
      "input: 65489  load: 19843  offset: -45646\n"
     ]
    },
    {
     "name": "stderr",
     "output_type": "stream",
     "text": [
      "\r",
      "888it [03:42,  4.06it/s]"
     ]
    },
    {
     "name": "stdout",
     "output_type": "stream",
     "text": [
      "fixing audio length : ../CatSound_dataset/Happy/1295_1256854283.mp3\n",
      "input: 65489  load: 20002  offset: -45487\n"
     ]
    },
    {
     "name": "stderr",
     "output_type": "stream",
     "text": [
      "\r",
      "889it [03:42,  4.29it/s]"
     ]
    },
    {
     "name": "stdout",
     "output_type": "stream",
     "text": [
      "fixing audio length : ../CatSound_dataset/Happy/1296_1256854286.mp3\n",
      "input: 65489  load: 15267  offset: -50222\n"
     ]
    },
    {
     "name": "stderr",
     "output_type": "stream",
     "text": [
      "891it [03:43,  4.16it/s]"
     ]
    },
    {
     "name": "stdout",
     "output_type": "stream",
     "text": [
      "fixing audio length : ../CatSound_dataset/Happy/agressive.mp3\n",
      "input: 65489  load: 18168  offset: -47321\n"
     ]
    },
    {
     "name": "stderr",
     "output_type": "stream",
     "text": [
      "\r",
      "892it [03:43,  4.40it/s]"
     ]
    },
    {
     "name": "stdout",
     "output_type": "stream",
     "text": [
      "fixing audio length : ../CatSound_dataset/Happy/ANIM1027.mp3\n",
      "input: 65489  load: 13560  offset: -51929\n"
     ]
    },
    {
     "name": "stderr",
     "output_type": "stream",
     "text": [
      "\r",
      "893it [03:43,  4.62it/s]"
     ]
    },
    {
     "name": "stdout",
     "output_type": "stream",
     "text": [
      "fixing audio length : ../CatSound_dataset/Happy/car_extcoll0261.mp3\n",
      "input: 65489  load: 20736  offset: -44753\n"
     ]
    },
    {
     "name": "stderr",
     "output_type": "stream",
     "text": [
      "\r",
      "894it [03:43,  4.72it/s]"
     ]
    },
    {
     "name": "stdout",
     "output_type": "stream",
     "text": [
      "fixing audio length : ../CatSound_dataset/Happy/Cat (2).mp3\n",
      "input: 65489  load: 32256  offset: -33233\n"
     ]
    },
    {
     "name": "stderr",
     "output_type": "stream",
     "text": [
      "\r",
      "895it [03:44,  5.03it/s]"
     ]
    },
    {
     "name": "stdout",
     "output_type": "stream",
     "text": [
      "fixing audio length : ../CatSound_dataset/Happy/cat01.mp3\n",
      "input: 65489  load: 19008  offset: -46481\n"
     ]
    },
    {
     "name": "stderr",
     "output_type": "stream",
     "text": [
      "\r",
      "896it [03:44,  5.04it/s]"
     ]
    },
    {
     "name": "stdout",
     "output_type": "stream",
     "text": [
      "fixing audio length : ../CatSound_dataset/Happy/cat010.mp3\n",
      "input: 65489  load: 37440  offset: -28049\n"
     ]
    },
    {
     "name": "stderr",
     "output_type": "stream",
     "text": [
      "\r",
      "897it [03:44,  4.67it/s]"
     ]
    },
    {
     "name": "stdout",
     "output_type": "stream",
     "text": [
      "fixing audio length : ../CatSound_dataset/Happy/cat011.mp3\n",
      "input: 65489  load: 35136  offset: -30353\n"
     ]
    },
    {
     "name": "stderr",
     "output_type": "stream",
     "text": [
      "\r",
      "898it [03:44,  4.57it/s]"
     ]
    },
    {
     "name": "stdout",
     "output_type": "stream",
     "text": [
      "fixing audio length : ../CatSound_dataset/Happy/cat01101.mp3\n",
      "input: 65489  load: 37440  offset: -28049\n"
     ]
    },
    {
     "name": "stderr",
     "output_type": "stream",
     "text": [
      "908it [03:47,  3.61it/s]"
     ]
    },
    {
     "name": "stdout",
     "output_type": "stream",
     "text": [
      "fixing audio length : ../CatSound_dataset/Happy/cat01102.mp3\n",
      "input: 65489  load: 39168  offset: -26321\n"
     ]
    },
    {
     "name": "stderr",
     "output_type": "stream",
     "text": [
      "916it [03:49,  3.63it/s]"
     ]
    },
    {
     "name": "stdout",
     "output_type": "stream",
     "text": [
      "fixing audio length : ../CatSound_dataset/Happy/cat011029.mp3\n",
      "input: 65489  load: 29376  offset: -36113\n"
     ]
    },
    {
     "name": "stderr",
     "output_type": "stream",
     "text": [
      "918it [03:50,  3.88it/s]"
     ]
    },
    {
     "name": "stdout",
     "output_type": "stream",
     "text": [
      "fixing audio length : ../CatSound_dataset/Happy/cat011030.mp3\n",
      "input: 65489  load: 27072  offset: -38417\n"
     ]
    },
    {
     "name": "stderr",
     "output_type": "stream",
     "text": [
      "926it [03:52,  3.89it/s]"
     ]
    },
    {
     "name": "stdout",
     "output_type": "stream",
     "text": [
      "fixing audio length : ../CatSound_dataset/Happy/cat02.mp3\n",
      "input: 65489  load: 37440  offset: -28049\n"
     ]
    },
    {
     "name": "stderr",
     "output_type": "stream",
     "text": [
      "\r",
      "927it [03:52,  4.00it/s]"
     ]
    },
    {
     "name": "stdout",
     "output_type": "stream",
     "text": [
      "fixing audio length : ../CatSound_dataset/Happy/cat03.mp3\n",
      "input: 65489  load: 25344  offset: -40145\n"
     ]
    },
    {
     "name": "stderr",
     "output_type": "stream",
     "text": [
      "\r",
      "928it [03:52,  4.17it/s]"
     ]
    },
    {
     "name": "stdout",
     "output_type": "stream",
     "text": [
      "fixing audio length : ../CatSound_dataset/Happy/cat04.mp3\n",
      "input: 65489  load: 33408  offset: -32081\n"
     ]
    },
    {
     "name": "stderr",
     "output_type": "stream",
     "text": [
      "\r",
      "929it [03:52,  4.25it/s]"
     ]
    },
    {
     "name": "stdout",
     "output_type": "stream",
     "text": [
      "fixing audio length : ../CatSound_dataset/Happy/cat04nn.mp3\n",
      "input: 65489  load: 23616  offset: -41873\n"
     ]
    },
    {
     "name": "stderr",
     "output_type": "stream",
     "text": [
      "\r",
      "930it [03:53,  4.46it/s]"
     ]
    },
    {
     "name": "stdout",
     "output_type": "stream",
     "text": [
      "fixing audio length : ../CatSound_dataset/Happy/cat05.mp3\n",
      "input: 65489  load: 28800  offset: -36689\n"
     ]
    },
    {
     "name": "stderr",
     "output_type": "stream",
     "text": [
      "\r",
      "931it [03:53,  4.59it/s]"
     ]
    },
    {
     "name": "stdout",
     "output_type": "stream",
     "text": [
      "fixing audio length : ../CatSound_dataset/Happy/cat06.mp3\n",
      "input: 65489  load: 36864  offset: -28625\n"
     ]
    },
    {
     "name": "stderr",
     "output_type": "stream",
     "text": [
      "\r",
      "932it [03:53,  4.48it/s]"
     ]
    },
    {
     "name": "stdout",
     "output_type": "stream",
     "text": [
      "fixing audio length : ../CatSound_dataset/Happy/cat07.mp3\n",
      "input: 65489  load: 36864  offset: -28625\n"
     ]
    },
    {
     "name": "stderr",
     "output_type": "stream",
     "text": [
      "\r",
      "933it [03:53,  4.51it/s]"
     ]
    },
    {
     "name": "stdout",
     "output_type": "stream",
     "text": [
      "fixing audio length : ../CatSound_dataset/Happy/cat08.mp3\n",
      "input: 65489  load: 20160  offset: -45329\n"
     ]
    },
    {
     "name": "stderr",
     "output_type": "stream",
     "text": [
      "\r",
      "934it [03:53,  4.63it/s]"
     ]
    },
    {
     "name": "stdout",
     "output_type": "stream",
     "text": [
      "fixing audio length : ../CatSound_dataset/Happy/cat09.mp3\n",
      "input: 65489  load: 36288  offset: -29201\n"
     ]
    },
    {
     "name": "stderr",
     "output_type": "stream",
     "text": [
      "\r",
      "935it [03:54,  4.61it/s]"
     ]
    },
    {
     "name": "stdout",
     "output_type": "stream",
     "text": [
      "fixing audio length : ../CatSound_dataset/Happy/cat10.mp3\n",
      "input: 65489  load: 28800  offset: -36689\n"
     ]
    },
    {
     "name": "stderr",
     "output_type": "stream",
     "text": [
      "\r",
      "936it [03:54,  4.65it/s]"
     ]
    },
    {
     "name": "stdout",
     "output_type": "stream",
     "text": [
      "fixing audio length : ../CatSound_dataset/Happy/cat12.mp3\n",
      "input: 65489  load: 20160  offset: -45329\n"
     ]
    },
    {
     "name": "stderr",
     "output_type": "stream",
     "text": [
      "957it [04:00,  3.75it/s]"
     ]
    },
    {
     "name": "stdout",
     "output_type": "stream",
     "text": [
      "fixing audio length : ../CatSound_dataset/Happy/cat_100.mp3\n",
      "input: 65489  load: 29112  offset: -36377\n"
     ]
    },
    {
     "name": "stderr",
     "output_type": "stream",
     "text": [
      "959it [04:00,  3.81it/s]"
     ]
    },
    {
     "name": "stdout",
     "output_type": "stream",
     "text": [
      "fixing audio length : ../CatSound_dataset/Happy/cat_110.mp3\n",
      "input: 65489  load: 28536  offset: -36953\n"
     ]
    },
    {
     "name": "stderr",
     "output_type": "stream",
     "text": [
      "962it [04:01,  3.72it/s]"
     ]
    },
    {
     "name": "stdout",
     "output_type": "stream",
     "text": [
      "fixing audio length : ../CatSound_dataset/Happy/cat_124.mp3\n",
      "input: 65489  load: 24504  offset: -40985\n"
     ]
    },
    {
     "name": "stderr",
     "output_type": "stream",
     "text": [
      "964it [04:01,  3.59it/s]"
     ]
    },
    {
     "name": "stdout",
     "output_type": "stream",
     "text": [
      "fixing audio length : ../CatSound_dataset/Happy/cat_133.mp3\n",
      "input: 65489  load: 31416  offset: -34073\n"
     ]
    },
    {
     "name": "stderr",
     "output_type": "stream",
     "text": [
      "\r",
      "965it [04:02,  3.79it/s]"
     ]
    },
    {
     "name": "stdout",
     "output_type": "stream",
     "text": [
      "fixing audio length : ../CatSound_dataset/Happy/cat_134.mp3\n",
      "input: 65489  load: 28536  offset: -36953\n"
     ]
    },
    {
     "name": "stderr",
     "output_type": "stream",
     "text": [
      "\r",
      "966it [04:02,  3.99it/s]"
     ]
    },
    {
     "name": "stdout",
     "output_type": "stream",
     "text": [
      "fixing audio length : ../CatSound_dataset/Happy/cat_135.mp3\n",
      "input: 65489  load: 27384  offset: -38105\n"
     ]
    },
    {
     "name": "stderr",
     "output_type": "stream",
     "text": [
      "968it [04:02,  3.97it/s]"
     ]
    },
    {
     "name": "stdout",
     "output_type": "stream",
     "text": [
      "fixing audio length : ../CatSound_dataset/Happy/cat_137.mp3\n",
      "input: 65489  load: 23352  offset: -42137\n"
     ]
    },
    {
     "name": "stderr",
     "output_type": "stream",
     "text": [
      "\r",
      "969it [04:03,  4.14it/s]"
     ]
    },
    {
     "name": "stdout",
     "output_type": "stream",
     "text": [
      "fixing audio length : ../CatSound_dataset/Happy/cat_138.mp3\n",
      "input: 65489  load: 27960  offset: -37529\n"
     ]
    },
    {
     "name": "stderr",
     "output_type": "stream",
     "text": [
      "\r",
      "970it [04:03,  4.20it/s]"
     ]
    },
    {
     "name": "stdout",
     "output_type": "stream",
     "text": [
      "fixing audio length : ../CatSound_dataset/Happy/cat_139.mp3\n",
      "input: 65489  load: 21624  offset: -43865\n"
     ]
    },
    {
     "name": "stderr",
     "output_type": "stream",
     "text": [
      "\r",
      "971it [04:03,  4.32it/s]"
     ]
    },
    {
     "name": "stdout",
     "output_type": "stream",
     "text": [
      "fixing audio length : ../CatSound_dataset/Happy/cat_140.mp3\n",
      "input: 65489  load: 21624  offset: -43865\n"
     ]
    },
    {
     "name": "stderr",
     "output_type": "stream",
     "text": [
      "973it [04:04,  4.12it/s]"
     ]
    },
    {
     "name": "stdout",
     "output_type": "stream",
     "text": [
      "fixing audio length : ../CatSound_dataset/Happy/cat_155.mp3\n",
      "input: 65489  load: 43512  offset: -21977\n"
     ]
    },
    {
     "name": "stderr",
     "output_type": "stream",
     "text": [
      "\r",
      "974it [04:04,  4.06it/s]"
     ]
    },
    {
     "name": "stdout",
     "output_type": "stream",
     "text": [
      "fixing audio length : ../CatSound_dataset/Happy/cat_156.mp3\n",
      "input: 65489  load: 46968  offset: -18521\n"
     ]
    },
    {
     "name": "stderr",
     "output_type": "stream",
     "text": [
      "\r",
      "975it [04:04,  4.05it/s]"
     ]
    },
    {
     "name": "stdout",
     "output_type": "stream",
     "text": [
      "fixing audio length : ../CatSound_dataset/Happy/cat_158.mp3\n",
      "input: 65489  load: 34872  offset: -30617\n"
     ]
    },
    {
     "name": "stderr",
     "output_type": "stream",
     "text": [
      "\r",
      "976it [04:04,  4.17it/s]"
     ]
    },
    {
     "name": "stdout",
     "output_type": "stream",
     "text": [
      "fixing audio length : ../CatSound_dataset/Happy/cat_18.mp3\n",
      "input: 65489  load: 29688  offset: -35801\n"
     ]
    },
    {
     "name": "stderr",
     "output_type": "stream",
     "text": [
      "\r",
      "977it [04:04,  4.28it/s]"
     ]
    },
    {
     "name": "stdout",
     "output_type": "stream",
     "text": [
      "fixing audio length : ../CatSound_dataset/Happy/cat_20.mp3\n",
      "input: 65489  load: 39480  offset: -26009\n"
     ]
    },
    {
     "name": "stderr",
     "output_type": "stream",
     "text": [
      "979it [04:05,  4.06it/s]"
     ]
    },
    {
     "name": "stdout",
     "output_type": "stream",
     "text": [
      "fixing audio length : ../CatSound_dataset/Happy/cat_4.mp3\n",
      "input: 65489  load: 36024  offset: -29465\n"
     ]
    },
    {
     "name": "stderr",
     "output_type": "stream",
     "text": [
      "981it [04:05,  4.04it/s]"
     ]
    },
    {
     "name": "stdout",
     "output_type": "stream",
     "text": [
      "fixing audio length : ../CatSound_dataset/Happy/cat_53.mp3\n",
      "input: 65489  load: 26808  offset: -38681\n"
     ]
    },
    {
     "name": "stderr",
     "output_type": "stream",
     "text": [
      "\r",
      "982it [04:06,  4.20it/s]"
     ]
    },
    {
     "name": "stdout",
     "output_type": "stream",
     "text": [
      "fixing audio length : ../CatSound_dataset/Happy/cat_54.mp3\n",
      "input: 65489  load: 24504  offset: -40985\n"
     ]
    },
    {
     "name": "stderr",
     "output_type": "stream",
     "text": [
      "\r",
      "983it [04:06,  4.37it/s]"
     ]
    },
    {
     "name": "stdout",
     "output_type": "stream",
     "text": [
      "fixing audio length : ../CatSound_dataset/Happy/cat_67.mp3\n",
      "input: 65489  load: 22200  offset: -43289\n"
     ]
    },
    {
     "name": "stderr",
     "output_type": "stream",
     "text": [
      "\r",
      "984it [04:06,  4.32it/s]"
     ]
    },
    {
     "name": "stdout",
     "output_type": "stream",
     "text": [
      "fixing audio length : ../CatSound_dataset/Happy/cat_68.mp3\n",
      "input: 65489  load: 52728  offset: -12761\n"
     ]
    },
    {
     "name": "stderr",
     "output_type": "stream",
     "text": [
      "986it [04:07,  3.87it/s]"
     ]
    },
    {
     "name": "stdout",
     "output_type": "stream",
     "text": [
      "fixing audio length : ../CatSound_dataset/Happy/cat_76.mp3\n",
      "input: 65489  load: 43512  offset: -21977\n"
     ]
    },
    {
     "name": "stderr",
     "output_type": "stream",
     "text": [
      "\r",
      "987it [04:07,  3.95it/s]"
     ]
    },
    {
     "name": "stdout",
     "output_type": "stream",
     "text": [
      "fixing audio length : ../CatSound_dataset/Happy/cat_8.mp3\n",
      "input: 65489  load: 33144  offset: -32345\n"
     ]
    },
    {
     "name": "stderr",
     "output_type": "stream",
     "text": [
      "\r",
      "988it [04:07,  4.10it/s]"
     ]
    },
    {
     "name": "stdout",
     "output_type": "stream",
     "text": [
      "fixing audio length : ../CatSound_dataset/Happy/cat_85.mp3\n",
      "input: 65489  load: 24504  offset: -40985\n"
     ]
    },
    {
     "name": "stderr",
     "output_type": "stream",
     "text": [
      "\r",
      "989it [04:07,  4.32it/s]"
     ]
    },
    {
     "name": "stdout",
     "output_type": "stream",
     "text": [
      "fixing audio length : ../CatSound_dataset/Happy/cat_86.mp3\n",
      "input: 65489  load: 39480  offset: -26009\n"
     ]
    },
    {
     "name": "stderr",
     "output_type": "stream",
     "text": [
      "\r",
      "990it [04:08,  4.39it/s]"
     ]
    },
    {
     "name": "stdout",
     "output_type": "stream",
     "text": [
      "fixing audio length : ../CatSound_dataset/Happy/cat_9.mp3\n",
      "input: 65489  load: 22200  offset: -43289\n"
     ]
    },
    {
     "name": "stderr",
     "output_type": "stream",
     "text": [
      "\r",
      "991it [04:08,  4.54it/s]"
     ]
    },
    {
     "name": "stdout",
     "output_type": "stream",
     "text": [
      "fixing audio length : ../CatSound_dataset/Happy/cat_91.mp3\n",
      "input: 65489  load: 26232  offset: -39257\n"
     ]
    },
    {
     "name": "stderr",
     "output_type": "stream",
     "text": [
      "\r",
      "992it [04:08,  4.60it/s]"
     ]
    },
    {
     "name": "stdout",
     "output_type": "stream",
     "text": [
      "fixing audio length : ../CatSound_dataset/Happy/cat_coll0101.mp3\n",
      "input: 65489  load: 54720  offset: -10769\n"
     ]
    },
    {
     "name": "stderr",
     "output_type": "stream",
     "text": [
      "1000it [04:10,  3.62it/s]"
     ]
    },
    {
     "name": "stdout",
     "output_type": "stream",
     "text": [
      "fixing audio length : ../CatSound_dataset/Happy/cat_coll0126.mp3\n",
      "input: 65489  load: 51264  offset: -14225\n"
     ]
    },
    {
     "name": "stderr",
     "output_type": "stream",
     "text": [
      "1003it [04:11,  3.71it/s]"
     ]
    },
    {
     "name": "stdout",
     "output_type": "stream",
     "text": [
      "fixing audio length : ../CatSound_dataset/Happy/cat_coll0130.mp3\n",
      "input: 65489  load: 44928  offset: -20561\n"
     ]
    },
    {
     "name": "stderr",
     "output_type": "stream",
     "text": [
      "\r",
      "1004it [04:11,  3.80it/s]"
     ]
    },
    {
     "name": "stdout",
     "output_type": "stream",
     "text": [
      "fixing audio length : ../CatSound_dataset/Happy/cat_coll0131.mp3\n",
      "input: 65489  load: 53568  offset: -11921\n"
     ]
    },
    {
     "name": "stderr",
     "output_type": "stream",
     "text": [
      "1007it [04:12,  3.84it/s]"
     ]
    },
    {
     "name": "stdout",
     "output_type": "stream",
     "text": [
      "fixing audio length : ../CatSound_dataset/Happy/cat_coll0158.mp3\n",
      "input: 65489  load: 40896  offset: -24593\n"
     ]
    },
    {
     "name": "stderr",
     "output_type": "stream",
     "text": [
      "1010it [04:13,  3.79it/s]"
     ]
    },
    {
     "name": "stdout",
     "output_type": "stream",
     "text": [
      "fixing audio length : ../CatSound_dataset/Happy/cat_flickr0111.mp3\n",
      "input: 65489  load: 28800  offset: -36689\n"
     ]
    },
    {
     "name": "stderr",
     "output_type": "stream",
     "text": [
      "1012it [04:13,  4.09it/s]"
     ]
    },
    {
     "name": "stdout",
     "output_type": "stream",
     "text": [
      "fixing audio length : ../CatSound_dataset/Happy/cat_flickr01324.mp3\n",
      "input: 65489  load: 38592  offset: -26897\n"
     ]
    },
    {
     "name": "stderr",
     "output_type": "stream",
     "text": [
      "1014it [04:14,  3.89it/s]"
     ]
    },
    {
     "name": "stdout",
     "output_type": "stream",
     "text": [
      "fixing audio length : ../CatSound_dataset/Happy/cat_flickr01337.mp3\n",
      "input: 65489  load: 44928  offset: -20561\n"
     ]
    },
    {
     "name": "stderr",
     "output_type": "stream",
     "text": [
      "1021it [04:16,  3.82it/s]"
     ]
    },
    {
     "name": "stdout",
     "output_type": "stream",
     "text": [
      "fixing audio length : ../CatSound_dataset/Happy/cat_flickr0187.mp3\n",
      "input: 65489  load: 35712  offset: -29777\n"
     ]
    },
    {
     "name": "stderr",
     "output_type": "stream",
     "text": [
      "1030it [04:18,  3.54it/s]"
     ]
    },
    {
     "name": "stdout",
     "output_type": "stream",
     "text": [
      "fixing audio length : ../CatSound_dataset/Happy/cat_youtube01113.mp3\n",
      "input: 65489  load: 42048  offset: -23441\n"
     ]
    },
    {
     "name": "stderr",
     "output_type": "stream",
     "text": [
      "1033it [04:19,  3.59it/s]"
     ]
    },
    {
     "name": "stdout",
     "output_type": "stream",
     "text": [
      "fixing audio length : ../CatSound_dataset/Happy/cat_youtube01123.mp3\n",
      "input: 65489  load: 36288  offset: -29201\n"
     ]
    },
    {
     "name": "stderr",
     "output_type": "stream",
     "text": [
      "\r",
      "1034it [04:19,  3.67it/s]"
     ]
    },
    {
     "name": "stdout",
     "output_type": "stream",
     "text": [
      "fixing audio length : ../CatSound_dataset/Happy/cat_youtube01124.mp3\n",
      "input: 65489  load: 50112  offset: -15377\n"
     ]
    },
    {
     "name": "stderr",
     "output_type": "stream",
     "text": [
      "1054it [04:25,  3.51it/s]"
     ]
    },
    {
     "name": "stdout",
     "output_type": "stream",
     "text": [
      "fixing audio length : ../CatSound_dataset/Happy/Cat_YoutubeLLT42389.mp3\n",
      "input: 65489  load: 50112  offset: -15377\n"
     ]
    },
    {
     "name": "stderr",
     "output_type": "stream",
     "text": [
      "1056it [04:25,  3.53it/s]"
     ]
    },
    {
     "name": "stdout",
     "output_type": "stream",
     "text": [
      "fixing audio length : ../CatSound_dataset/Happy/Edit9006Hpy.mp3\n",
      "input: 65489  load: 43776  offset: -21713\n"
     ]
    },
    {
     "name": "stderr",
     "output_type": "stream",
     "text": [
      "\r",
      "1057it [04:26,  3.66it/s]"
     ]
    },
    {
     "name": "stdout",
     "output_type": "stream",
     "text": [
      "fixing audio length : ../CatSound_dataset/Happy/Edit9082Hpy (2).mp3\n",
      "input: 65489  load: 23616  offset: -41873\n"
     ]
    },
    {
     "name": "stderr",
     "output_type": "stream",
     "text": [
      "\r",
      "1058it [04:26,  3.95it/s]"
     ]
    },
    {
     "name": "stdout",
     "output_type": "stream",
     "text": [
      "fixing audio length : ../CatSound_dataset/Happy/Edit9082Hpy.mp3\n",
      "input: 65489  load: 50688  offset: -14801\n"
     ]
    },
    {
     "name": "stderr",
     "output_type": "stream",
     "text": [
      "1062it [04:27,  3.69it/s]"
     ]
    },
    {
     "name": "stdout",
     "output_type": "stream",
     "text": [
      "fixing audio length : ../CatSound_dataset/Happy/Edit9085Hpy.mp3\n",
      "input: 65489  load: 45504  offset: -19985\n"
     ]
    },
    {
     "name": "stderr",
     "output_type": "stream",
     "text": [
      "1064it [04:28,  3.76it/s]"
     ]
    },
    {
     "name": "stdout",
     "output_type": "stream",
     "text": [
      "fixing audio length : ../CatSound_dataset/Happy/Edit9087Hpy.mp3\n",
      "input: 65489  load: 33984  offset: -31505\n"
     ]
    },
    {
     "name": "stderr",
     "output_type": "stream",
     "text": [
      "1066it [04:28,  3.79it/s]"
     ]
    },
    {
     "name": "stdout",
     "output_type": "stream",
     "text": [
      "fixing audio length : ../CatSound_dataset/Happy/Edit9089Hpy.mp3\n",
      "input: 65489  load: 36864  offset: -28625\n"
     ]
    },
    {
     "name": "stderr",
     "output_type": "stream",
     "text": [
      "\r",
      "1067it [04:28,  3.91it/s]"
     ]
    },
    {
     "name": "stdout",
     "output_type": "stream",
     "text": [
      "fixing audio length : ../CatSound_dataset/Happy/Edit9090Hpy.mp3\n",
      "input: 65489  load: 48384  offset: -17105\n"
     ]
    },
    {
     "name": "stderr",
     "output_type": "stream",
     "text": [
      "\r",
      "1068it [04:29,  3.88it/s]"
     ]
    },
    {
     "name": "stdout",
     "output_type": "stream",
     "text": [
      "fixing audio length : ../CatSound_dataset/Happy/Edit9091Hpy.mp3\n",
      "input: 65489  load: 42624  offset: -22865\n"
     ]
    },
    {
     "name": "stderr",
     "output_type": "stream",
     "text": [
      "\r",
      "1069it [04:29,  3.91it/s]"
     ]
    },
    {
     "name": "stdout",
     "output_type": "stream",
     "text": [
      "fixing audio length : ../CatSound_dataset/Happy/Edit9092Hpy.mp3\n",
      "input: 65489  load: 32832  offset: -32657\n"
     ]
    },
    {
     "name": "stderr",
     "output_type": "stream",
     "text": [
      "\r",
      "1070it [04:29,  4.03it/s]"
     ]
    },
    {
     "name": "stdout",
     "output_type": "stream",
     "text": [
      "fixing audio length : ../CatSound_dataset/Happy/Edit9093Hpy.mp3\n",
      "input: 65489  load: 26496  offset: -38993\n"
     ]
    },
    {
     "name": "stderr",
     "output_type": "stream",
     "text": [
      "1075it [04:30,  3.83it/s]"
     ]
    },
    {
     "name": "stdout",
     "output_type": "stream",
     "text": [
      "fixing audio length : ../CatSound_dataset/Happy/hpy.mp3\n",
      "input: 65489  load: 35136  offset: -30353\n"
     ]
    },
    {
     "name": "stderr",
     "output_type": "stream",
     "text": [
      "\r",
      "1076it [04:31,  3.98it/s]"
     ]
    },
    {
     "name": "stdout",
     "output_type": "stream",
     "text": [
      "fixing audio length : ../CatSound_dataset/Happy/hpy9.mp3\n",
      "input: 65489  load: 27072  offset: -38417\n"
     ]
    },
    {
     "name": "stderr",
     "output_type": "stream",
     "text": [
      "\r",
      "1077it [04:31,  4.16it/s]"
     ]
    },
    {
     "name": "stdout",
     "output_type": "stream",
     "text": [
      "fixing audio length : ../CatSound_dataset/Happy/LastEntry_cat1018Hpy.mp3\n",
      "input: 65489  load: 46080  offset: -19409\n"
     ]
    },
    {
     "name": "stderr",
     "output_type": "stream",
     "text": [
      "1084it [04:33,  3.75it/s]"
     ]
    },
    {
     "name": "stdout",
     "output_type": "stream",
     "text": [
      "fixing audio length : ../CatSound_dataset/Happy/Online_Cat0293.mp3\n",
      "input: 65489  load: 33984  offset: -31505\n"
     ]
    },
    {
     "name": "stderr",
     "output_type": "stream",
     "text": [
      "1087it [04:33,  3.70it/s]"
     ]
    },
    {
     "name": "stdout",
     "output_type": "stream",
     "text": [
      "fixing audio length : ../CatSound_dataset/Happy/Online_Cat0329hpy.mp3\n",
      "input: 65489  load: 49272  offset: -16217\n"
     ]
    },
    {
     "name": "stderr",
     "output_type": "stream",
     "text": [
      "\r",
      "1088it [04:34,  3.73it/s]"
     ]
    },
    {
     "name": "stdout",
     "output_type": "stream",
     "text": [
      "fixing audio length : ../CatSound_dataset/Happy/Online_Cat0331hpy.mp3\n",
      "input: 65489  load: 14136  offset: -51353\n"
     ]
    },
    {
     "name": "stderr",
     "output_type": "stream",
     "text": [
      "\r",
      "1089it [04:34,  4.04it/s]"
     ]
    },
    {
     "name": "stdout",
     "output_type": "stream",
     "text": [
      "fixing audio length : ../CatSound_dataset/Happy/Online_Cat0332hpy.mp3\n",
      "input: 65489  load: 44100  offset: -21389\n"
     ]
    },
    {
     "name": "stderr",
     "output_type": "stream",
     "text": [
      "\r",
      "1090it [04:34,  3.98it/s]"
     ]
    },
    {
     "name": "stdout",
     "output_type": "stream",
     "text": [
      "fixing audio length : ../CatSound_dataset/Happy/Online_Cat0333hpy.mp3\n",
      "input: 65489  load: 44100  offset: -21389\n"
     ]
    },
    {
     "name": "stderr",
     "output_type": "stream",
     "text": [
      "\r",
      "1091it [04:34,  3.92it/s]"
     ]
    },
    {
     "name": "stdout",
     "output_type": "stream",
     "text": [
      "fixing audio length : ../CatSound_dataset/Happy/Online_Cat0336hpy.mp3\n",
      "input: 65489  load: 48960  offset: -16529\n"
     ]
    },
    {
     "name": "stderr",
     "output_type": "stream",
     "text": [
      "1093it [04:35,  4.08it/s]"
     ]
    },
    {
     "name": "stdout",
     "output_type": "stream",
     "text": [
      "fixing audio length : ../CatSound_dataset/Happy/Online_Cat0338hpy.mp3\n",
      "input: 65489  load: 28536  offset: -36953\n"
     ]
    },
    {
     "name": "stderr",
     "output_type": "stream",
     "text": [
      "\r",
      "1094it [04:35,  4.22it/s]"
     ]
    },
    {
     "name": "stdout",
     "output_type": "stream",
     "text": [
      "fixing audio length : ../CatSound_dataset/Happy/Online_Cat0339hpy.mp3\n",
      "input: 65489  load: 11832  offset: -53657\n"
     ]
    },
    {
     "name": "stderr",
     "output_type": "stream",
     "text": [
      "1098it [04:36,  3.87it/s]"
     ]
    },
    {
     "name": "stdout",
     "output_type": "stream",
     "text": [
      "fixing audio length : ../CatSound_dataset/Happy/Online_Cat0345hpy.mp3\n",
      "input: 65489  load: 18744  offset: -46745\n"
     ]
    },
    {
     "name": "stderr",
     "output_type": "stream",
     "text": [
      "\r",
      "1099it [04:36,  4.14it/s]"
     ]
    },
    {
     "name": "stdout",
     "output_type": "stream",
     "text": [
      "fixing audio length : ../CatSound_dataset/Happy/Online_Cat0346hpy.mp3\n",
      "input: 65489  load: 12408  offset: -53081\n"
     ]
    },
    {
     "name": "stderr",
     "output_type": "stream",
     "text": [
      "1102it [04:37,  3.82it/s]"
     ]
    },
    {
     "name": "stdout",
     "output_type": "stream",
     "text": [
      "fixing audio length : ../CatSound_dataset/Happy/Online_Cat0349hpy.mp3\n",
      "input: 65489  load: 35512  offset: -29977\n"
     ]
    },
    {
     "name": "stderr",
     "output_type": "stream",
     "text": [
      "\r",
      "1103it [04:37,  3.93it/s]"
     ]
    },
    {
     "name": "stdout",
     "output_type": "stream",
     "text": [
      "fixing audio length : ../CatSound_dataset/Happy/Online_Cat0350hpy.mp3\n",
      "input: 65489  load: 21624  offset: -43865\n"
     ]
    },
    {
     "name": "stderr",
     "output_type": "stream",
     "text": [
      "\r",
      "1104it [04:38,  4.16it/s]"
     ]
    },
    {
     "name": "stdout",
     "output_type": "stream",
     "text": [
      "fixing audio length : ../CatSound_dataset/Happy/Online_Cat0351hpy.mp3\n",
      "input: 65489  load: 27384  offset: -38105\n"
     ]
    },
    {
     "name": "stderr",
     "output_type": "stream",
     "text": [
      "1107it [04:38,  4.00it/s]"
     ]
    },
    {
     "name": "stdout",
     "output_type": "stream",
     "text": [
      "fixing audio length : ../CatSound_dataset/Happy/Online_Cat0359Hpy.mp3\n",
      "input: 65489  load: 17592  offset: -47897\n"
     ]
    },
    {
     "name": "stderr",
     "output_type": "stream",
     "text": [
      "\r",
      "1108it [04:39,  4.29it/s]"
     ]
    },
    {
     "name": "stdout",
     "output_type": "stream",
     "text": [
      "fixing audio length : ../CatSound_dataset/Happy/Online_Cat0360hpy.mp3\n",
      "input: 65489  load: 19320  offset: -46169\n"
     ]
    },
    {
     "name": "stderr",
     "output_type": "stream",
     "text": [
      "1112it [04:40,  3.73it/s]"
     ]
    },
    {
     "name": "stdout",
     "output_type": "stream",
     "text": [
      "fixing audio length : ../CatSound_dataset/Happy/Online_Cat0370hpy.mp3\n",
      "input: 65489  load: 51000  offset: -14489\n"
     ]
    },
    {
     "name": "stderr",
     "output_type": "stream",
     "text": [
      "\r",
      "1113it [04:40,  3.78it/s]"
     ]
    },
    {
     "name": "stdout",
     "output_type": "stream",
     "text": [
      "fixing audio length : ../CatSound_dataset/Happy/Online_Cat0371hpy.mp3\n",
      "input: 65489  load: 40632  offset: -24857\n"
     ]
    },
    {
     "name": "stderr",
     "output_type": "stream",
     "text": [
      "1117it [04:41,  3.65it/s]"
     ]
    },
    {
     "name": "stdout",
     "output_type": "stream",
     "text": [
      "fixing audio length : ../CatSound_dataset/Happy/Online_Cat0376hpy.mp3\n",
      "input: 65489  load: 22776  offset: -42713\n"
     ]
    },
    {
     "name": "stderr",
     "output_type": "stream",
     "text": [
      "\r",
      "1118it [04:41,  3.89it/s]"
     ]
    },
    {
     "name": "stdout",
     "output_type": "stream",
     "text": [
      "fixing audio length : ../CatSound_dataset/Happy/Online_Cat0377hpy.mp3\n",
      "input: 65489  load: 15288  offset: -50201\n"
     ]
    },
    {
     "name": "stderr",
     "output_type": "stream",
     "text": [
      "\r",
      "1119it [04:41,  4.11it/s]"
     ]
    },
    {
     "name": "stdout",
     "output_type": "stream",
     "text": [
      "fixing audio length : ../CatSound_dataset/Happy/Online_Cat0379hpy.mp3\n",
      "input: 65489  load: 18168  offset: -47321\n"
     ]
    },
    {
     "name": "stderr",
     "output_type": "stream",
     "text": [
      "\r",
      "1120it [04:42,  4.37it/s]"
     ]
    },
    {
     "name": "stdout",
     "output_type": "stream",
     "text": [
      "fixing audio length : ../CatSound_dataset/Happy/Online_Cat0380hpy.mp3\n",
      "input: 65489  load: 14136  offset: -51353\n"
     ]
    },
    {
     "name": "stderr",
     "output_type": "stream",
     "text": [
      "\r",
      "1121it [04:42,  4.55it/s]"
     ]
    },
    {
     "name": "stdout",
     "output_type": "stream",
     "text": [
      "fixing audio length : ../CatSound_dataset/Happy/Online_Cat0386Hpy.mp3\n",
      "input: 65489  load: 12984  offset: -52505\n"
     ]
    },
    {
     "name": "stderr",
     "output_type": "stream",
     "text": [
      "1124it [04:43,  3.94it/s]"
     ]
    },
    {
     "name": "stdout",
     "output_type": "stream",
     "text": [
      "fixing audio length : ../CatSound_dataset/Happy/Online_Cat0391Hpy.mp3\n",
      "input: 65489  load: 15864  offset: -49625\n"
     ]
    },
    {
     "name": "stderr",
     "output_type": "stream",
     "text": [
      "1128it [04:44,  3.93it/s]"
     ]
    },
    {
     "name": "stdout",
     "output_type": "stream",
     "text": [
      "fixing audio length : ../CatSound_dataset/Happy/Online_Cat0394Hpy.mp3\n",
      "input: 65489  load: 25080  offset: -40409\n"
     ]
    },
    {
     "name": "stderr",
     "output_type": "stream",
     "text": [
      "1131it [04:44,  3.48it/s]"
     ]
    },
    {
     "name": "stdout",
     "output_type": "stream",
     "text": [
      "fixing audio length : ../CatSound_dataset/Happy/Online_Cat0397Hpy.mp3\n",
      "input: 65489  load: 31104  offset: -34385\n"
     ]
    },
    {
     "name": "stderr",
     "output_type": "stream",
     "text": [
      "\r",
      "1132it [04:45,  3.72it/s]"
     ]
    },
    {
     "name": "stdout",
     "output_type": "stream",
     "text": [
      "fixing audio length : ../CatSound_dataset/Happy/Online_Cat0398Hpy.mp3\n",
      "input: 65489  load: 20472  offset: -45017\n"
     ]
    },
    {
     "name": "stderr",
     "output_type": "stream",
     "text": [
      "1135it [04:45,  3.71it/s]"
     ]
    },
    {
     "name": "stdout",
     "output_type": "stream",
     "text": [
      "fixing audio length : ../CatSound_dataset/Happy/Online_Cat0402hpy.mp3\n",
      "input: 65489  load: 23352  offset: -42137\n"
     ]
    },
    {
     "name": "stderr",
     "output_type": "stream",
     "text": [
      "\r",
      "1136it [04:46,  4.07it/s]"
     ]
    },
    {
     "name": "stdout",
     "output_type": "stream",
     "text": [
      "fixing audio length : ../CatSound_dataset/Happy/Online_Cat0403hpy.mp3\n",
      "input: 65489  load: 44352  offset: -21137\n"
     ]
    },
    {
     "name": "stderr",
     "output_type": "stream",
     "text": [
      "\r",
      "1137it [04:46,  4.14it/s]"
     ]
    },
    {
     "name": "stdout",
     "output_type": "stream",
     "text": [
      "fixing audio length : ../CatSound_dataset/Happy/Online_Cat0404hpy.mp3\n",
      "input: 65489  load: 26808  offset: -38681\n"
     ]
    },
    {
     "name": "stderr",
     "output_type": "stream",
     "text": [
      "1140it [04:47,  3.92it/s]"
     ]
    },
    {
     "name": "stdout",
     "output_type": "stream",
     "text": [
      "fixing audio length : ../CatSound_dataset/Happy/Online_Cat0407hpy.mp3\n",
      "input: 65489  load: 20472  offset: -45017\n"
     ]
    },
    {
     "name": "stderr",
     "output_type": "stream",
     "text": [
      "1147it [04:49,  3.79it/s]"
     ]
    },
    {
     "name": "stdout",
     "output_type": "stream",
     "text": [
      "fixing audio length : ../CatSound_dataset/Happy/Online_Cat0449Hpy.mp3\n",
      "input: 65489  load: 18168  offset: -47321\n"
     ]
    },
    {
     "name": "stderr",
     "output_type": "stream",
     "text": [
      "\r",
      "1148it [04:49,  4.10it/s]"
     ]
    },
    {
     "name": "stdout",
     "output_type": "stream",
     "text": [
      "fixing audio length : ../CatSound_dataset/Happy/Online_Cat0458hpy.mp3\n",
      "input: 65489  load: 24504  offset: -40985\n"
     ]
    },
    {
     "name": "stderr",
     "output_type": "stream",
     "text": [
      "1153it [04:50,  3.90it/s]"
     ]
    },
    {
     "name": "stdout",
     "output_type": "stream",
     "text": [
      "fixing audio length : ../CatSound_dataset/Happy/Online_Cat0467Hpy.mp3\n",
      "input: 65489  load: 28536  offset: -36953\n"
     ]
    },
    {
     "name": "stderr",
     "output_type": "stream",
     "text": [
      "1155it [04:50,  4.07it/s]"
     ]
    },
    {
     "name": "stdout",
     "output_type": "stream",
     "text": [
      "fixing audio length : ../CatSound_dataset/Happy/Online_Cat0472Hpy.mp3\n",
      "input: 65489  load: 12672  offset: -52817\n"
     ]
    },
    {
     "name": "stderr",
     "output_type": "stream",
     "text": [
      "\r",
      "1156it [04:51,  4.31it/s]"
     ]
    },
    {
     "name": "stdout",
     "output_type": "stream",
     "text": [
      "fixing audio length : ../CatSound_dataset/Happy/Online_Cat0477Hpy.mp3\n",
      "input: 65489  load: 44100  offset: -21389\n"
     ]
    },
    {
     "name": "stderr",
     "output_type": "stream",
     "text": [
      "1159it [04:51,  3.94it/s]"
     ]
    },
    {
     "name": "stdout",
     "output_type": "stream",
     "text": [
      "fixing audio length : ../CatSound_dataset/Happy/Online_Cat0481hpy.mp3\n",
      "input: 65489  load: 20160  offset: -45329\n"
     ]
    },
    {
     "name": "stderr",
     "output_type": "stream",
     "text": [
      "\r",
      "1160it [04:52,  4.43it/s]"
     ]
    },
    {
     "name": "stdout",
     "output_type": "stream",
     "text": [
      "fixing audio length : ../CatSound_dataset/Happy/Online_Cat0482hpy.mp3\n",
      "input: 65489  load: 53568  offset: -11921\n"
     ]
    },
    {
     "name": "stderr",
     "output_type": "stream",
     "text": [
      "\r",
      "1161it [04:52,  4.88it/s]"
     ]
    },
    {
     "name": "stdout",
     "output_type": "stream",
     "text": [
      "fixing audio length : ../CatSound_dataset/Happy/Online_Cat0483hpy.mp3\n",
      "input: 65489  load: 44352  offset: -21137\n"
     ]
    },
    {
     "name": "stderr",
     "output_type": "stream",
     "text": [
      "\r",
      "1162it [04:52,  5.30it/s]"
     ]
    },
    {
     "name": "stdout",
     "output_type": "stream",
     "text": [
      "fixing audio length : ../CatSound_dataset/Happy/Online_Cat0494Hpy.mp3\n",
      "input: 65489  load: 15864  offset: -49625\n"
     ]
    },
    {
     "name": "stderr",
     "output_type": "stream",
     "text": [
      "\r",
      "1163it [04:52,  5.24it/s]"
     ]
    },
    {
     "name": "stdout",
     "output_type": "stream",
     "text": [
      "fixing audio length : ../CatSound_dataset/Happy/Online_Cat0495Hpy.mp3\n",
      "input: 65489  load: 53304  offset: -12185\n"
     ]
    },
    {
     "name": "stderr",
     "output_type": "stream",
     "text": [
      "\r",
      "1164it [04:52,  4.71it/s]"
     ]
    },
    {
     "name": "stdout",
     "output_type": "stream",
     "text": [
      "fixing audio length : ../CatSound_dataset/Happy/Online_Cat0496Hpy.mp3\n",
      "input: 65489  load: 44088  offset: -21401\n"
     ]
    },
    {
     "name": "stderr",
     "output_type": "stream",
     "text": [
      "\r",
      "1165it [04:53,  4.59it/s]"
     ]
    },
    {
     "name": "stdout",
     "output_type": "stream",
     "text": [
      "fixing audio length : ../CatSound_dataset/Happy/Online_Cat0497Hpy.mp3\n",
      "input: 65489  load: 14712  offset: -50777\n"
     ]
    },
    {
     "name": "stderr",
     "output_type": "stream",
     "text": [
      "\r",
      "1166it [04:53,  4.79it/s]"
     ]
    },
    {
     "name": "stdout",
     "output_type": "stream",
     "text": [
      "fixing audio length : ../CatSound_dataset/Happy/Online_Cat0499Hpy.mp3\n",
      "input: 65489  load: 44664  offset: -20825\n"
     ]
    },
    {
     "name": "stderr",
     "output_type": "stream",
     "text": [
      "\r",
      "1167it [04:53,  4.58it/s]"
     ]
    },
    {
     "name": "stdout",
     "output_type": "stream",
     "text": [
      "fixing audio length : ../CatSound_dataset/Happy/Online_Cat0500Hpy.mp3\n",
      "input: 65489  load: 13560  offset: -51929\n"
     ]
    },
    {
     "name": "stderr",
     "output_type": "stream",
     "text": [
      "\r",
      "1168it [04:53,  4.89it/s]"
     ]
    },
    {
     "name": "stdout",
     "output_type": "stream",
     "text": [
      "fixing audio length : ../CatSound_dataset/Happy/Online_Cat0502Hpy.mp3\n",
      "input: 65489  load: 11832  offset: -53657\n"
     ]
    },
    {
     "name": "stderr",
     "output_type": "stream",
     "text": [
      "\r",
      "1169it [04:53,  4.90it/s]"
     ]
    },
    {
     "name": "stdout",
     "output_type": "stream",
     "text": [
      "fixing audio length : ../CatSound_dataset/Happy/Online_Cat0503Hpy.mp3\n",
      "input: 65489  load: 18744  offset: -46745\n"
     ]
    },
    {
     "name": "stderr",
     "output_type": "stream",
     "text": [
      "\r",
      "1170it [04:54,  4.93it/s]"
     ]
    },
    {
     "name": "stdout",
     "output_type": "stream",
     "text": [
      "fixing audio length : ../CatSound_dataset/Happy/Online_Cat0504Hpy.mp3\n",
      "input: 65489  load: 13560  offset: -51929\n"
     ]
    },
    {
     "name": "stderr",
     "output_type": "stream",
     "text": [
      "\r",
      "1171it [04:54,  5.05it/s]"
     ]
    },
    {
     "name": "stdout",
     "output_type": "stream",
     "text": [
      "fixing audio length : ../CatSound_dataset/Happy/Online_Cat0505Hpy.mp3\n",
      "input: 65489  load: 19896  offset: -45593\n"
     ]
    },
    {
     "name": "stderr",
     "output_type": "stream",
     "text": [
      "\r",
      "1172it [04:54,  5.05it/s]"
     ]
    },
    {
     "name": "stdout",
     "output_type": "stream",
     "text": [
      "fixing audio length : ../CatSound_dataset/Happy/Online_Cat0506Hpy.mp3\n",
      "input: 65489  load: 17016  offset: -48473\n"
     ]
    },
    {
     "name": "stderr",
     "output_type": "stream",
     "text": [
      "\r",
      "1173it [04:54,  5.12it/s]"
     ]
    },
    {
     "name": "stdout",
     "output_type": "stream",
     "text": [
      "fixing audio length : ../CatSound_dataset/Happy/Online_Cat0507Hpy.mp3\n",
      "input: 65489  load: 14136  offset: -51353\n"
     ]
    },
    {
     "name": "stderr",
     "output_type": "stream",
     "text": [
      "\r",
      "1174it [04:54,  5.18it/s]"
     ]
    },
    {
     "name": "stdout",
     "output_type": "stream",
     "text": [
      "fixing audio length : ../CatSound_dataset/Happy/Online_Cat0509Hpy.mp3\n",
      "input: 65489  load: 25080  offset: -40409\n"
     ]
    },
    {
     "name": "stderr",
     "output_type": "stream",
     "text": [
      "\r",
      "1175it [04:55,  5.16it/s]"
     ]
    },
    {
     "name": "stdout",
     "output_type": "stream",
     "text": [
      "fixing audio length : ../CatSound_dataset/Happy/Online_Cat0512Hpy.mp3\n",
      "input: 65489  load: 14136  offset: -51353\n"
     ]
    },
    {
     "name": "stderr",
     "output_type": "stream",
     "text": [
      "\r",
      "1176it [04:55,  5.21it/s]"
     ]
    },
    {
     "name": "stdout",
     "output_type": "stream",
     "text": [
      "fixing audio length : ../CatSound_dataset/Happy/Online_Cat0513Hpy.mp3\n",
      "input: 65489  load: 15864  offset: -49625\n"
     ]
    },
    {
     "name": "stderr",
     "output_type": "stream",
     "text": [
      "\r",
      "1177it [04:55,  5.25it/s]"
     ]
    },
    {
     "name": "stdout",
     "output_type": "stream",
     "text": [
      "fixing audio length : ../CatSound_dataset/Happy/Online_Cat0514Hpy.mp3\n",
      "input: 65489  load: 19896  offset: -45593\n"
     ]
    },
    {
     "name": "stderr",
     "output_type": "stream",
     "text": [
      "\r",
      "1178it [04:55,  5.21it/s]"
     ]
    },
    {
     "name": "stdout",
     "output_type": "stream",
     "text": [
      "fixing audio length : ../CatSound_dataset/Happy/Online_Cat0516Hpy.mp3\n",
      "input: 65489  load: 35136  offset: -30353\n"
     ]
    },
    {
     "name": "stderr",
     "output_type": "stream",
     "text": [
      "1180it [04:56,  4.48it/s]"
     ]
    },
    {
     "name": "stdout",
     "output_type": "stream",
     "text": [
      "fixing audio length : ../CatSound_dataset/Happy/Online_Cat0537Hpy.mp3\n",
      "input: 65489  load: 22776  offset: -42713\n"
     ]
    },
    {
     "name": "stderr",
     "output_type": "stream",
     "text": [
      "\r",
      "1181it [04:56,  4.71it/s]"
     ]
    },
    {
     "name": "stdout",
     "output_type": "stream",
     "text": [
      "fixing audio length : ../CatSound_dataset/Happy/Online_Cat0539Hpy.mp3\n",
      "input: 65489  load: 21048  offset: -44441\n"
     ]
    },
    {
     "name": "stderr",
     "output_type": "stream",
     "text": [
      "\r",
      "1182it [04:56,  4.87it/s]"
     ]
    },
    {
     "name": "stdout",
     "output_type": "stream",
     "text": [
      "fixing audio length : ../CatSound_dataset/Happy/Online_Cat0540Hpy.mp3\n",
      "input: 65489  load: 22200  offset: -43289\n"
     ]
    },
    {
     "name": "stderr",
     "output_type": "stream",
     "text": [
      "\r",
      "1183it [04:56,  4.86it/s]"
     ]
    },
    {
     "name": "stdout",
     "output_type": "stream",
     "text": [
      "fixing audio length : ../CatSound_dataset/Happy/Online_Cat0546Hpy.mp3\n",
      "input: 65489  load: 32568  offset: -32921\n"
     ]
    },
    {
     "name": "stderr",
     "output_type": "stream",
     "text": [
      "1186it [04:57,  4.18it/s]"
     ]
    },
    {
     "name": "stdout",
     "output_type": "stream",
     "text": [
      "fixing audio length : ../CatSound_dataset/HuntingMind/car_extcoll0328.mp3\n",
      "input: 65489  load: 35712  offset: -29777\n"
     ]
    },
    {
     "name": "stderr",
     "output_type": "stream",
     "text": [
      "\r",
      "1187it [04:57,  4.21it/s]"
     ]
    },
    {
     "name": "stdout",
     "output_type": "stream",
     "text": [
      "fixing audio length : ../CatSound_dataset/HuntingMind/car_extcoll0329.mp3\n",
      "input: 65489  load: 54720  offset: -10769\n"
     ]
    },
    {
     "name": "stderr",
     "output_type": "stream",
     "text": [
      "1191it [04:58,  3.97it/s]"
     ]
    },
    {
     "name": "stdout",
     "output_type": "stream",
     "text": [
      "fixing audio length : ../CatSound_dataset/HuntingMind/cat01.mp3\n",
      "input: 65489  load: 52416  offset: -13073\n"
     ]
    },
    {
     "name": "stderr",
     "output_type": "stream",
     "text": [
      "1194it [04:59,  3.84it/s]"
     ]
    },
    {
     "name": "stdout",
     "output_type": "stream",
     "text": [
      "fixing audio length : ../CatSound_dataset/HuntingMind/cat0202.mp3\n",
      "input: 65489  load: 33408  offset: -32081\n"
     ]
    },
    {
     "name": "stderr",
     "output_type": "stream",
     "text": [
      "1212it [05:04,  3.80it/s]"
     ]
    },
    {
     "name": "stdout",
     "output_type": "stream",
     "text": [
      "fixing audio length : ../CatSound_dataset/HuntingMind/catchatter024.mp3\n",
      "input: 65489  load: 54720  offset: -10769\n"
     ]
    },
    {
     "name": "stderr",
     "output_type": "stream",
     "text": [
      "1233it [05:09,  3.76it/s]"
     ]
    },
    {
     "name": "stdout",
     "output_type": "stream",
     "text": [
      "fixing audio length : ../CatSound_dataset/HuntingMind/catchatter345.mp3\n",
      "input: 65489  load: 51264  offset: -14225\n"
     ]
    },
    {
     "name": "stderr",
     "output_type": "stream",
     "text": [
      "1235it [05:10,  3.91it/s]"
     ]
    },
    {
     "name": "stdout",
     "output_type": "stream",
     "text": [
      "fixing audio length : ../CatSound_dataset/HuntingMind/catchatter347.mp3\n",
      "input: 65489  load: 45504  offset: -19985\n"
     ]
    },
    {
     "name": "stderr",
     "output_type": "stream",
     "text": [
      "\r",
      "1236it [05:10,  4.00it/s]"
     ]
    },
    {
     "name": "stdout",
     "output_type": "stream",
     "text": [
      "fixing audio length : ../CatSound_dataset/HuntingMind/catchatter448.mp3\n",
      "input: 65489  load: 42624  offset: -22865\n"
     ]
    },
    {
     "name": "stderr",
     "output_type": "stream",
     "text": [
      "1242it [05:12,  3.93it/s]"
     ]
    },
    {
     "name": "stdout",
     "output_type": "stream",
     "text": [
      "fixing audio length : ../CatSound_dataset/HuntingMind/catchatter656.mp3\n",
      "input: 65489  load: 53568  offset: -11921\n"
     ]
    },
    {
     "name": "stderr",
     "output_type": "stream",
     "text": [
      "\r",
      "1243it [05:12,  4.03it/s]"
     ]
    },
    {
     "name": "stdout",
     "output_type": "stream",
     "text": [
      "fixing audio length : ../CatSound_dataset/HuntingMind/catchatter657.mp3\n",
      "input: 65489  load: 23040  offset: -42449\n"
     ]
    },
    {
     "name": "stderr",
     "output_type": "stream",
     "text": [
      "\r",
      "1244it [05:12,  4.23it/s]"
     ]
    },
    {
     "name": "stdout",
     "output_type": "stream",
     "text": [
      "fixing audio length : ../CatSound_dataset/HuntingMind/catchatter658.mp3\n",
      "input: 65489  load: 52992  offset: -12497\n"
     ]
    },
    {
     "name": "stderr",
     "output_type": "stream",
     "text": [
      "1247it [05:13,  4.09it/s]"
     ]
    },
    {
     "name": "stdout",
     "output_type": "stream",
     "text": [
      "fixing audio length : ../CatSound_dataset/HuntingMind/catchatter661.mp3\n",
      "input: 65489  load: 54144  offset: -11345\n"
     ]
    },
    {
     "name": "stderr",
     "output_type": "stream",
     "text": [
      "1253it [05:14,  3.75it/s]"
     ]
    },
    {
     "name": "stdout",
     "output_type": "stream",
     "text": [
      "fixing audio length : ../CatSound_dataset/HuntingMind/catchatter767.mp3\n",
      "input: 65489  load: 33408  offset: -32081\n"
     ]
    },
    {
     "name": "stderr",
     "output_type": "stream",
     "text": [
      "1276it [05:20,  3.65it/s]"
     ]
    },
    {
     "name": "stdout",
     "output_type": "stream",
     "text": [
      "fixing audio length : ../CatSound_dataset/HuntingMind/cat_youtube01147.mp3\n",
      "input: 65489  load: 43776  offset: -21713\n"
     ]
    },
    {
     "name": "stderr",
     "output_type": "stream",
     "text": [
      "1282it [05:22,  3.80it/s]"
     ]
    },
    {
     "name": "stdout",
     "output_type": "stream",
     "text": [
      "fixing audio length : ../CatSound_dataset/HuntingMind/cat_youtube01156.mp3\n",
      "input: 65489  load: 52992  offset: -12497\n"
     ]
    },
    {
     "name": "stderr",
     "output_type": "stream",
     "text": [
      "1300it [05:27,  3.53it/s]"
     ]
    },
    {
     "name": "stdout",
     "output_type": "stream",
     "text": [
      "fixing audio length : ../CatSound_dataset/HuntingMind/cat_youtube01175.mp3\n",
      "input: 65489  load: 52992  offset: -12497\n"
     ]
    },
    {
     "name": "stderr",
     "output_type": "stream",
     "text": [
      "1317it [05:31,  3.72it/s]"
     ]
    },
    {
     "name": "stdout",
     "output_type": "stream",
     "text": [
      "fixing audio length : ../CatSound_dataset/HuntingMind/cat_youtube01272.mp3\n",
      "input: 65489  load: 47808  offset: -17681\n"
     ]
    },
    {
     "name": "stderr",
     "output_type": "stream",
     "text": [
      "1325it [05:34,  3.56it/s]"
     ]
    },
    {
     "name": "stdout",
     "output_type": "stream",
     "text": [
      "fixing audio length : ../CatSound_dataset/HuntingMind/cat_youtube01280.mp3\n",
      "input: 65489  load: 41472  offset: -24017\n"
     ]
    },
    {
     "name": "stderr",
     "output_type": "stream",
     "text": [
      "1327it [05:34,  3.69it/s]"
     ]
    },
    {
     "name": "stdout",
     "output_type": "stream",
     "text": [
      "fixing audio length : ../CatSound_dataset/HuntingMind/Cat_YoutubeLLT42391.mp3\n",
      "input: 65489  load: 48384  offset: -17105\n"
     ]
    },
    {
     "name": "stderr",
     "output_type": "stream",
     "text": [
      "1344it [05:39,  3.76it/s]"
     ]
    },
    {
     "name": "stdout",
     "output_type": "stream",
     "text": [
      "fixing audio length : ../CatSound_dataset/HuntingMind/Cat_YoutubeLLT42409.mp3\n",
      "input: 65489  load: 47232  offset: -18257\n"
     ]
    },
    {
     "name": "stderr",
     "output_type": "stream",
     "text": [
      "1389it [05:51,  3.47it/s]"
     ]
    },
    {
     "name": "stdout",
     "output_type": "stream",
     "text": [
      "fixing audio length : ../CatSound_dataset/HuntingMind/Last_addCat129595Chat.mp3\n",
      "input: 65489  load: 50112  offset: -15377\n"
     ]
    },
    {
     "name": "stderr",
     "output_type": "stream",
     "text": [
      "1394it [05:52,  3.67it/s]"
     ]
    },
    {
     "name": "stdout",
     "output_type": "stream",
     "text": [
      "fixing audio length : ../CatSound_dataset/HuntingMind/Last_addCat167Chat.mp3\n",
      "input: 65489  load: 44928  offset: -20561\n"
     ]
    },
    {
     "name": "stderr",
     "output_type": "stream",
     "text": [
      "1399it [05:53,  3.83it/s]"
     ]
    },
    {
     "name": "stdout",
     "output_type": "stream",
     "text": [
      "fixing audio length : ../CatSound_dataset/HuntingMind/Last_addCat172Chat.mp3\n",
      "input: 65489  load: 52992  offset: -12497\n"
     ]
    },
    {
     "name": "stderr",
     "output_type": "stream",
     "text": [
      "1432it [06:02,  3.70it/s]"
     ]
    },
    {
     "name": "stdout",
     "output_type": "stream",
     "text": [
      "fixing audio length : ../CatSound_dataset/HuntingMind/Last_addCat229Chat.mp3\n",
      "input: 65489  load: 43776  offset: -21713\n"
     ]
    },
    {
     "name": "stderr",
     "output_type": "stream",
     "text": [
      "1461it [06:10,  3.83it/s]"
     ]
    },
    {
     "name": "stdout",
     "output_type": "stream",
     "text": [
      "fixing audio length : ../CatSound_dataset/HuntingMind/trill02987.mp3\n",
      "input: 65489  load: 51840  offset: -13649\n"
     ]
    },
    {
     "name": "stderr",
     "output_type": "stream",
     "text": [
      "1463it [06:11,  3.84it/s]"
     ]
    },
    {
     "name": "stdout",
     "output_type": "stream",
     "text": [
      "fixing audio length : ../CatSound_dataset/HuntingMind/trill02989.mp3\n",
      "input: 65489  load: 41472  offset: -24017\n"
     ]
    },
    {
     "name": "stderr",
     "output_type": "stream",
     "text": [
      "\r",
      "1464it [06:11,  3.95it/s]"
     ]
    },
    {
     "name": "stdout",
     "output_type": "stream",
     "text": [
      "fixing audio length : ../CatSound_dataset/HuntingMind/trill029892.mp3\n",
      "input: 65489  load: 49536  offset: -15953\n"
     ]
    },
    {
     "name": "stderr",
     "output_type": "stream",
     "text": [
      "1784it [07:39,  3.71it/s]"
     ]
    },
    {
     "name": "stdout",
     "output_type": "stream",
     "text": [
      "fixing audio length : ../CatSound_dataset/MotherCall/cat025.mp3\n",
      "input: 65489  load: 50112  offset: -15377\n"
     ]
    },
    {
     "name": "stderr",
     "output_type": "stream",
     "text": [
      "\r",
      "1785it [07:39,  3.81it/s]"
     ]
    },
    {
     "name": "stdout",
     "output_type": "stream",
     "text": [
      "fixing audio length : ../CatSound_dataset/MotherCall/cat026.mp3\n",
      "input: 65489  load: 47232  offset: -18257\n"
     ]
    },
    {
     "name": "stderr",
     "output_type": "stream",
     "text": [
      "1787it [07:39,  3.89it/s]"
     ]
    },
    {
     "name": "stdout",
     "output_type": "stream",
     "text": [
      "fixing audio length : ../CatSound_dataset/MotherCall/cat028.mp3\n",
      "input: 65489  load: 52992  offset: -12497\n"
     ]
    },
    {
     "name": "stderr",
     "output_type": "stream",
     "text": [
      "1795it [07:42,  3.59it/s]"
     ]
    },
    {
     "name": "stdout",
     "output_type": "stream",
     "text": [
      "fixing audio length : ../CatSound_dataset/MotherCall/cat_19.mp3\n",
      "input: 65489  load: 28536  offset: -36953\n"
     ]
    },
    {
     "name": "stderr",
     "output_type": "stream",
     "text": [
      "1801it [07:43,  3.83it/s]"
     ]
    },
    {
     "name": "stdout",
     "output_type": "stream",
     "text": [
      "fixing audio length : ../CatSound_dataset/MotherCall/cat_coll0142.mp3\n",
      "input: 65489  load: 48384  offset: -17105\n"
     ]
    },
    {
     "name": "stderr",
     "output_type": "stream",
     "text": [
      "\r",
      "1802it [07:43,  3.96it/s]"
     ]
    },
    {
     "name": "stdout",
     "output_type": "stream",
     "text": [
      "fixing audio length : ../CatSound_dataset/MotherCall/cat_coll01813.mp3\n",
      "input: 65489  load: 40896  offset: -24593\n"
     ]
    },
    {
     "name": "stderr",
     "output_type": "stream",
     "text": [
      "1811it [07:46,  3.89it/s]"
     ]
    },
    {
     "name": "stdout",
     "output_type": "stream",
     "text": [
      "fixing audio length : ../CatSound_dataset/MotherCall/cat_edit03023pill.mp3\n",
      "input: 65489  load: 19008  offset: -46481\n"
     ]
    },
    {
     "name": "stderr",
     "output_type": "stream",
     "text": [
      "1813it [07:46,  3.99it/s]"
     ]
    },
    {
     "name": "stdout",
     "output_type": "stream",
     "text": [
      "fixing audio length : ../CatSound_dataset/MotherCall/cat_flickr01296.mp3\n",
      "input: 65489  load: 47232  offset: -18257\n"
     ]
    },
    {
     "name": "stderr",
     "output_type": "stream",
     "text": [
      "\r",
      "1814it [07:46,  4.02it/s]"
     ]
    },
    {
     "name": "stdout",
     "output_type": "stream",
     "text": [
      "fixing audio length : ../CatSound_dataset/MotherCall/cat_flickr01297.mp3\n",
      "input: 65489  load: 49536  offset: -15953\n"
     ]
    },
    {
     "name": "stderr",
     "output_type": "stream",
     "text": [
      "1817it [07:47,  3.85it/s]"
     ]
    },
    {
     "name": "stdout",
     "output_type": "stream",
     "text": [
      "fixing audio length : ../CatSound_dataset/MotherCall/cat_flickr01300.mp3\n",
      "input: 65489  load: 51264  offset: -14225\n"
     ]
    },
    {
     "name": "stderr",
     "output_type": "stream",
     "text": [
      "1820it [07:48,  3.92it/s]"
     ]
    },
    {
     "name": "stdout",
     "output_type": "stream",
     "text": [
      "fixing audio length : ../CatSound_dataset/MotherCall/cat_flickr0185.mp3\n",
      "input: 65489  load: 42048  offset: -23441\n"
     ]
    },
    {
     "name": "stderr",
     "output_type": "stream",
     "text": [
      "1826it [07:50,  3.72it/s]"
     ]
    },
    {
     "name": "stdout",
     "output_type": "stream",
     "text": [
      "fixing audio length : ../CatSound_dataset/MotherCall/Cat_pills0115.mp3\n",
      "input: 65489  load: 51840  offset: -13649\n"
     ]
    },
    {
     "name": "stderr",
     "output_type": "stream",
     "text": [
      "1831it [07:51,  3.93it/s]"
     ]
    },
    {
     "name": "stdout",
     "output_type": "stream",
     "text": [
      "fixing audio length : ../CatSound_dataset/MotherCall/Cat_pills0120.mp3\n",
      "input: 65489  load: 52416  offset: -13073\n"
     ]
    },
    {
     "name": "stderr",
     "output_type": "stream",
     "text": [
      "1856it [07:57,  3.69it/s]"
     ]
    },
    {
     "name": "stdout",
     "output_type": "stream",
     "text": [
      "fixing audio length : ../CatSound_dataset/MotherCall/Cat_pills0145.mp3\n",
      "input: 65489  load: 50688  offset: -14801\n"
     ]
    },
    {
     "name": "stderr",
     "output_type": "stream",
     "text": [
      "\r",
      "1857it [07:58,  3.85it/s]"
     ]
    },
    {
     "name": "stdout",
     "output_type": "stream",
     "text": [
      "fixing audio length : ../CatSound_dataset/MotherCall/Cat_pills0146.mp3\n",
      "input: 65489  load: 46656  offset: -18833\n"
     ]
    },
    {
     "name": "stderr",
     "output_type": "stream",
     "text": [
      "\r",
      "1858it [07:58,  3.97it/s]"
     ]
    },
    {
     "name": "stdout",
     "output_type": "stream",
     "text": [
      "fixing audio length : ../CatSound_dataset/MotherCall/Cat_pills0147.mp3\n",
      "input: 65489  load: 40320  offset: -25169\n"
     ]
    },
    {
     "name": "stderr",
     "output_type": "stream",
     "text": [
      "1861it [07:59,  3.74it/s]"
     ]
    },
    {
     "name": "stdout",
     "output_type": "stream",
     "text": [
      "fixing audio length : ../CatSound_dataset/MotherCall/Cat_pills0150.mp3\n",
      "input: 65489  load: 47808  offset: -17681\n"
     ]
    },
    {
     "name": "stderr",
     "output_type": "stream",
     "text": [
      "1912it [08:13,  3.64it/s]"
     ]
    },
    {
     "name": "stdout",
     "output_type": "stream",
     "text": [
      "fixing audio length : ../CatSound_dataset/MotherCall/cat_youtube01220.mp3\n",
      "input: 65489  load: 51264  offset: -14225\n"
     ]
    },
    {
     "name": "stderr",
     "output_type": "stream",
     "text": [
      "1920it [08:15,  3.64it/s]"
     ]
    },
    {
     "name": "stdout",
     "output_type": "stream",
     "text": [
      "fixing audio length : ../CatSound_dataset/MotherCall/cat_youtube01229.mp3\n",
      "input: 65489  load: 52416  offset: -13073\n"
     ]
    },
    {
     "name": "stderr",
     "output_type": "stream",
     "text": [
      "1928it [08:17,  3.75it/s]"
     ]
    },
    {
     "name": "stdout",
     "output_type": "stream",
     "text": [
      "fixing audio length : ../CatSound_dataset/MotherCall/cat_youtube01240.mp3\n",
      "input: 65489  load: 41472  offset: -24017\n"
     ]
    },
    {
     "name": "stderr",
     "output_type": "stream",
     "text": [
      "1963it [08:26,  3.74it/s]"
     ]
    },
    {
     "name": "stdout",
     "output_type": "stream",
     "text": [
      "fixing audio length : ../CatSound_dataset/MotherCall/Edit9107Pill.mp3\n",
      "input: 65489  load: 41472  offset: -24017\n"
     ]
    },
    {
     "name": "stderr",
     "output_type": "stream",
     "text": [
      "2052it [08:50,  3.70it/s]"
     ]
    },
    {
     "name": "stdout",
     "output_type": "stream",
     "text": [
      "fixing audio length : ../CatSound_dataset/MotherCall/Online_Cat0399Pill.mp3\n",
      "input: 65489  load: 46080  offset: -19409\n"
     ]
    },
    {
     "name": "stderr",
     "output_type": "stream",
     "text": [
      "\r",
      "2053it [08:51,  3.91it/s]"
     ]
    },
    {
     "name": "stdout",
     "output_type": "stream",
     "text": [
      "fixing audio length : ../CatSound_dataset/MotherCall/Online_Cat0412pil.mp3\n",
      "input: 65489  load: 45504  offset: -19985\n"
     ]
    },
    {
     "name": "stderr",
     "output_type": "stream",
     "text": [
      "\r",
      "2054it [08:51,  3.96it/s]"
     ]
    },
    {
     "name": "stdout",
     "output_type": "stream",
     "text": [
      "fixing audio length : ../CatSound_dataset/MotherCall/Online_Cat0447Pil.mp3\n",
      "input: 65489  load: 54144  offset: -11345\n"
     ]
    },
    {
     "name": "stderr",
     "output_type": "stream",
     "text": [
      "\r",
      "2055it [08:51,  4.15it/s]"
     ]
    },
    {
     "name": "stdout",
     "output_type": "stream",
     "text": [
      "fixing audio length : ../CatSound_dataset/MotherCall/Online_Cat0448Pil.mp3\n",
      "input: 65489  load: 50074  offset: -15415\n"
     ]
    },
    {
     "name": "stderr",
     "output_type": "stream",
     "text": [
      "\r",
      "2056it [08:51,  4.18it/s]"
     ]
    },
    {
     "name": "stdout",
     "output_type": "stream",
     "text": [
      "fixing audio length : ../CatSound_dataset/MotherCall/Online_Cat0485Pil.mp3\n",
      "input: 65489  load: 40320  offset: -25169\n"
     ]
    },
    {
     "name": "stderr",
     "output_type": "stream",
     "text": [
      "\r",
      "2057it [08:52,  4.33it/s]"
     ]
    },
    {
     "name": "stdout",
     "output_type": "stream",
     "text": [
      "fixing audio length : ../CatSound_dataset/MotherCall/Online_Cat0487Pil.mp3\n",
      "input: 65489  load: 28800  offset: -36689\n"
     ]
    },
    {
     "name": "stderr",
     "output_type": "stream",
     "text": [
      "\r",
      "2058it [08:52,  4.62it/s]"
     ]
    },
    {
     "name": "stdout",
     "output_type": "stream",
     "text": [
      "fixing audio length : ../CatSound_dataset/MotherCall/Online_Cat0488Pil.mp3\n",
      "input: 65489  load: 12672  offset: -52817\n"
     ]
    },
    {
     "name": "stderr",
     "output_type": "stream",
     "text": [
      "\r",
      "2059it [08:52,  5.04it/s]"
     ]
    },
    {
     "name": "stdout",
     "output_type": "stream",
     "text": [
      "fixing audio length : ../CatSound_dataset/MotherCall/Online_Cat0489Pill.mp3\n",
      "input: 65489  load: 50424  offset: -15065\n"
     ]
    },
    {
     "name": "stderr",
     "output_type": "stream",
     "text": [
      "\r",
      "2060it [08:52,  4.66it/s]"
     ]
    },
    {
     "name": "stdout",
     "output_type": "stream",
     "text": [
      "fixing audio length : ../CatSound_dataset/MotherCall/Online_Cat0490Pill.mp3\n",
      "input: 65489  load: 29952  offset: -35537\n"
     ]
    },
    {
     "name": "stderr",
     "output_type": "stream",
     "text": [
      "\r",
      "2061it [08:52,  4.88it/s]"
     ]
    },
    {
     "name": "stdout",
     "output_type": "stream",
     "text": [
      "fixing audio length : ../CatSound_dataset/MotherCall/Online_Cat0491Pill.mp3\n",
      "input: 65489  load: 27072  offset: -38417\n"
     ]
    },
    {
     "name": "stderr",
     "output_type": "stream",
     "text": [
      "2063it [08:53,  4.42it/s]"
     ]
    },
    {
     "name": "stdout",
     "output_type": "stream",
     "text": [
      "fixing audio length : ../CatSound_dataset/MotherCall/Online_Cat0510Pill.mp3\n",
      "input: 65489  load: 12642  offset: -52847\n"
     ]
    },
    {
     "name": "stderr",
     "output_type": "stream",
     "text": [
      "2065it [08:53,  4.73it/s]"
     ]
    },
    {
     "name": "stdout",
     "output_type": "stream",
     "text": [
      "fixing audio length : ../CatSound_dataset/Paining/angry2.mp3\n",
      "input: 65489  load: 32568  offset: -32921\n"
     ]
    },
    {
     "name": "stderr",
     "output_type": "stream",
     "text": [
      "2067it [08:54,  4.52it/s]"
     ]
    },
    {
     "name": "stdout",
     "output_type": "stream",
     "text": [
      "fixing audio length : ../CatSound_dataset/Paining/car_extcoll0147.mp3\n",
      "input: 65489  load: 35712  offset: -29777\n"
     ]
    },
    {
     "name": "stderr",
     "output_type": "stream",
     "text": [
      "\r",
      "2068it [08:54,  4.45it/s]"
     ]
    },
    {
     "name": "stdout",
     "output_type": "stream",
     "text": [
      "fixing audio length : ../CatSound_dataset/Paining/car_extcoll0148.mp3\n",
      "input: 65489  load: 47808  offset: -17681\n"
     ]
    },
    {
     "name": "stderr",
     "output_type": "stream",
     "text": [
      "2071it [08:55,  3.94it/s]"
     ]
    },
    {
     "name": "stdout",
     "output_type": "stream",
     "text": [
      "fixing audio length : ../CatSound_dataset/Paining/car_extcoll0188.mp3\n",
      "input: 65489  load: 35136  offset: -30353\n"
     ]
    },
    {
     "name": "stderr",
     "output_type": "stream",
     "text": [
      "2074it [08:55,  3.87it/s]"
     ]
    },
    {
     "name": "stdout",
     "output_type": "stream",
     "text": [
      "fixing audio length : ../CatSound_dataset/Paining/car_extcoll0247.mp3\n",
      "input: 65489  load: 46080  offset: -19409\n"
     ]
    },
    {
     "name": "stderr",
     "output_type": "stream",
     "text": [
      "\r",
      "2075it [08:56,  3.95it/s]"
     ]
    },
    {
     "name": "stdout",
     "output_type": "stream",
     "text": [
      "fixing audio length : ../CatSound_dataset/Paining/car_extcoll0336.mp3\n",
      "input: 65489  load: 40896  offset: -24593\n"
     ]
    },
    {
     "name": "stderr",
     "output_type": "stream",
     "text": [
      "\r",
      "2076it [08:56,  4.09it/s]"
     ]
    },
    {
     "name": "stdout",
     "output_type": "stream",
     "text": [
      "fixing audio length : ../CatSound_dataset/Paining/car_extcoll0337.mp3\n",
      "input: 65489  load: 54144  offset: -11345\n"
     ]
    },
    {
     "name": "stderr",
     "output_type": "stream",
     "text": [
      "\r",
      "2077it [08:56,  4.03it/s]"
     ]
    },
    {
     "name": "stdout",
     "output_type": "stream",
     "text": [
      "fixing audio length : ../CatSound_dataset/Paining/car_extcoll0338.mp3\n",
      "input: 65489  load: 54144  offset: -11345\n"
     ]
    },
    {
     "name": "stderr",
     "output_type": "stream",
     "text": [
      "2085it [08:58,  3.77it/s]"
     ]
    },
    {
     "name": "stdout",
     "output_type": "stream",
     "text": [
      "fixing audio length : ../CatSound_dataset/Paining/car_extcoll0346.mp3\n",
      "input: 65489  load: 38592  offset: -26897\n"
     ]
    },
    {
     "name": "stderr",
     "output_type": "stream",
     "text": [
      "\r",
      "2086it [08:58,  3.96it/s]"
     ]
    },
    {
     "name": "stdout",
     "output_type": "stream",
     "text": [
      "fixing audio length : ../CatSound_dataset/Paining/car_extcoll0347.mp3\n",
      "input: 65489  load: 36864  offset: -28625\n"
     ]
    },
    {
     "name": "stderr",
     "output_type": "stream",
     "text": [
      "2094it [09:01,  3.83it/s]"
     ]
    },
    {
     "name": "stdout",
     "output_type": "stream",
     "text": [
      "fixing audio length : ../CatSound_dataset/Paining/Cat meow animals021.mp3\n",
      "input: 65489  load: 35448  offset: -30041\n"
     ]
    },
    {
     "name": "stderr",
     "output_type": "stream",
     "text": [
      "\r",
      "2095it [09:01,  3.95it/s]"
     ]
    },
    {
     "name": "stdout",
     "output_type": "stream",
     "text": [
      "fixing audio length : ../CatSound_dataset/Paining/cat01.mp3\n",
      "input: 65489  load: 42048  offset: -23441\n"
     ]
    },
    {
     "name": "stderr",
     "output_type": "stream",
     "text": [
      "2097it [09:01,  3.95it/s]"
     ]
    },
    {
     "name": "stdout",
     "output_type": "stream",
     "text": [
      "fixing audio length : ../CatSound_dataset/Paining/cat018.mp3\n",
      "input: 65489  load: 48960  offset: -16529\n"
     ]
    },
    {
     "name": "stderr",
     "output_type": "stream",
     "text": [
      "2099it [09:02,  4.01it/s]"
     ]
    },
    {
     "name": "stdout",
     "output_type": "stream",
     "text": [
      "fixing audio length : ../CatSound_dataset/Paining/cat03.mp3\n",
      "input: 65489  load: 40896  offset: -24593\n"
     ]
    },
    {
     "name": "stderr",
     "output_type": "stream",
     "text": [
      "2101it [09:02,  4.13it/s]"
     ]
    },
    {
     "name": "stdout",
     "output_type": "stream",
     "text": [
      "fixing audio length : ../CatSound_dataset/Paining/cat05.mp3\n",
      "input: 65489  load: 22464  offset: -43025\n"
     ]
    },
    {
     "name": "stderr",
     "output_type": "stream",
     "text": [
      "\r",
      "2102it [09:02,  4.37it/s]"
     ]
    },
    {
     "name": "stdout",
     "output_type": "stream",
     "text": [
      "fixing audio length : ../CatSound_dataset/Paining/cat06.mp3\n",
      "input: 65489  load: 26496  offset: -38993\n"
     ]
    },
    {
     "name": "stderr",
     "output_type": "stream",
     "text": [
      "\r",
      "2103it [09:03,  4.58it/s]"
     ]
    },
    {
     "name": "stdout",
     "output_type": "stream",
     "text": [
      "fixing audio length : ../CatSound_dataset/Paining/cat07.mp3\n",
      "input: 65489  load: 29952  offset: -35537\n"
     ]
    },
    {
     "name": "stderr",
     "output_type": "stream",
     "text": [
      "\r",
      "2104it [09:03,  4.58it/s]"
     ]
    },
    {
     "name": "stdout",
     "output_type": "stream",
     "text": [
      "fixing audio length : ../CatSound_dataset/Paining/cat08.mp3\n",
      "input: 65489  load: 23040  offset: -42449\n"
     ]
    },
    {
     "name": "stderr",
     "output_type": "stream",
     "text": [
      "\r",
      "2105it [09:03,  4.68it/s]"
     ]
    },
    {
     "name": "stdout",
     "output_type": "stream",
     "text": [
      "fixing audio length : ../CatSound_dataset/Paining/cat09.mp3\n",
      "input: 65489  load: 36864  offset: -28625\n"
     ]
    },
    {
     "name": "stderr",
     "output_type": "stream",
     "text": [
      "2107it [09:04,  4.42it/s]"
     ]
    },
    {
     "name": "stdout",
     "output_type": "stream",
     "text": [
      "fixing audio length : ../CatSound_dataset/Paining/cat11.mp3\n",
      "input: 65489  load: 48384  offset: -17105\n"
     ]
    },
    {
     "name": "stderr",
     "output_type": "stream",
     "text": [
      "2112it [09:05,  3.78it/s]"
     ]
    },
    {
     "name": "stdout",
     "output_type": "stream",
     "text": [
      "fixing audio length : ../CatSound_dataset/Paining/cat16.mp3\n",
      "input: 65489  load: 46656  offset: -18833\n"
     ]
    },
    {
     "name": "stderr",
     "output_type": "stream",
     "text": [
      "\r",
      "2113it [09:05,  3.77it/s]"
     ]
    },
    {
     "name": "stdout",
     "output_type": "stream",
     "text": [
      "fixing audio length : ../CatSound_dataset/Paining/cat17.mp3\n",
      "input: 65489  load: 38592  offset: -26897\n"
     ]
    },
    {
     "name": "stderr",
     "output_type": "stream",
     "text": [
      "2115it [09:06,  3.86it/s]"
     ]
    },
    {
     "name": "stdout",
     "output_type": "stream",
     "text": [
      "fixing audio length : ../CatSound_dataset/Paining/cat19.mp3\n",
      "input: 65489  load: 47232  offset: -18257\n"
     ]
    },
    {
     "name": "stderr",
     "output_type": "stream",
     "text": [
      "2117it [09:06,  3.86it/s]"
     ]
    },
    {
     "name": "stdout",
     "output_type": "stream",
     "text": [
      "fixing audio length : ../CatSound_dataset/Paining/cat21.mp3\n",
      "input: 65489  load: 24768  offset: -40721\n"
     ]
    },
    {
     "name": "stderr",
     "output_type": "stream",
     "text": [
      "2123it [09:08,  3.84it/s]"
     ]
    },
    {
     "name": "stdout",
     "output_type": "stream",
     "text": [
      "fixing audio length : ../CatSound_dataset/Paining/cat_coll0150.mp3\n",
      "input: 65489  load: 40320  offset: -25169\n"
     ]
    },
    {
     "name": "stderr",
     "output_type": "stream",
     "text": [
      "\r",
      "2124it [09:08,  3.91it/s]"
     ]
    },
    {
     "name": "stdout",
     "output_type": "stream",
     "text": [
      "fixing audio length : ../CatSound_dataset/Paining/cat_coll0151.mp3\n",
      "input: 65489  load: 35136  offset: -30353\n"
     ]
    },
    {
     "name": "stderr",
     "output_type": "stream",
     "text": [
      "\r",
      "2125it [09:08,  4.09it/s]"
     ]
    },
    {
     "name": "stdout",
     "output_type": "stream",
     "text": [
      "fixing audio length : ../CatSound_dataset/Paining/cat_coll0152.mp3\n",
      "input: 65489  load: 42624  offset: -22865\n"
     ]
    },
    {
     "name": "stderr",
     "output_type": "stream",
     "text": [
      "2127it [09:09,  3.97it/s]"
     ]
    },
    {
     "name": "stdout",
     "output_type": "stream",
     "text": [
      "fixing audio length : ../CatSound_dataset/Paining/cat_coll0154.mp3\n",
      "input: 65489  load: 47232  offset: -18257\n"
     ]
    },
    {
     "name": "stderr",
     "output_type": "stream",
     "text": [
      "2130it [09:09,  3.93it/s]"
     ]
    },
    {
     "name": "stdout",
     "output_type": "stream",
     "text": [
      "fixing audio length : ../CatSound_dataset/Paining/cat_coll0157.mp3\n",
      "input: 65489  load: 47232  offset: -18257\n"
     ]
    },
    {
     "name": "stderr",
     "output_type": "stream",
     "text": [
      "\r",
      "2131it [09:10,  3.98it/s]"
     ]
    },
    {
     "name": "stdout",
     "output_type": "stream",
     "text": [
      "fixing audio length : ../CatSound_dataset/Paining/cat_coll0160.mp3\n",
      "input: 65489  load: 28800  offset: -36689\n"
     ]
    },
    {
     "name": "stderr",
     "output_type": "stream",
     "text": [
      "\r",
      "2132it [09:10,  4.22it/s]"
     ]
    },
    {
     "name": "stdout",
     "output_type": "stream",
     "text": [
      "fixing audio length : ../CatSound_dataset/Paining/cat_coll0164.mp3\n",
      "input: 65489  load: 31104  offset: -34385\n"
     ]
    },
    {
     "name": "stderr",
     "output_type": "stream",
     "text": [
      "2145it [09:13,  3.76it/s]"
     ]
    },
    {
     "name": "stdout",
     "output_type": "stream",
     "text": [
      "fixing audio length : ../CatSound_dataset/Paining/cat_coll0177.mp3\n",
      "input: 65489  load: 34560  offset: -30929\n"
     ]
    },
    {
     "name": "stderr",
     "output_type": "stream",
     "text": [
      "\r",
      "2146it [09:14,  3.99it/s]"
     ]
    },
    {
     "name": "stdout",
     "output_type": "stream",
     "text": [
      "fixing audio length : ../CatSound_dataset/Paining/cat_coll0178.mp3\n",
      "input: 65489  load: 28800  offset: -36689\n"
     ]
    },
    {
     "name": "stderr",
     "output_type": "stream",
     "text": [
      "2148it [09:14,  4.13it/s]"
     ]
    },
    {
     "name": "stdout",
     "output_type": "stream",
     "text": [
      "fixing audio length : ../CatSound_dataset/Paining/cat_flickr0118.mp3\n",
      "input: 65489  load: 54144  offset: -11345\n"
     ]
    },
    {
     "name": "stderr",
     "output_type": "stream",
     "text": [
      "2152it [09:15,  3.81it/s]"
     ]
    },
    {
     "name": "stdout",
     "output_type": "stream",
     "text": [
      "fixing audio length : ../CatSound_dataset/Paining/cat_flickr01301.mp3\n",
      "input: 65489  load: 50112  offset: -15377\n"
     ]
    },
    {
     "name": "stderr",
     "output_type": "stream",
     "text": [
      "2206it [09:30,  3.72it/s]"
     ]
    },
    {
     "name": "stdout",
     "output_type": "stream",
     "text": [
      "fixing audio length : ../CatSound_dataset/Paining/Cat_YoutubeLLT42380.mp3\n",
      "input: 65489  load: 28800  offset: -36689\n"
     ]
    },
    {
     "name": "stderr",
     "output_type": "stream",
     "text": [
      "\r",
      "2207it [09:30,  4.01it/s]"
     ]
    },
    {
     "name": "stdout",
     "output_type": "stream",
     "text": [
      "fixing audio length : ../CatSound_dataset/Paining/Cat_YoutubeLLT42381.mp3\n",
      "input: 65489  load: 43776  offset: -21713\n"
     ]
    },
    {
     "name": "stderr",
     "output_type": "stream",
     "text": [
      "2209it [09:30,  3.93it/s]"
     ]
    },
    {
     "name": "stdout",
     "output_type": "stream",
     "text": [
      "fixing audio length : ../CatSound_dataset/Paining/Cat_YoutubeLLT42383.mp3\n",
      "input: 65489  load: 44928  offset: -20561\n"
     ]
    },
    {
     "name": "stderr",
     "output_type": "stream",
     "text": [
      "\r",
      "2210it [09:30,  4.08it/s]"
     ]
    },
    {
     "name": "stdout",
     "output_type": "stream",
     "text": [
      "fixing audio length : ../CatSound_dataset/Paining/Cat_YoutubeLLT42384.mp3\n",
      "input: 65489  load: 52416  offset: -13073\n"
     ]
    },
    {
     "name": "stderr",
     "output_type": "stream",
     "text": [
      "2214it [09:32,  3.85it/s]"
     ]
    },
    {
     "name": "stdout",
     "output_type": "stream",
     "text": [
      "fixing audio length : ../CatSound_dataset/Paining/Cat_YoutubeLLT42388.mp3\n",
      "input: 65489  load: 52992  offset: -12497\n"
     ]
    },
    {
     "name": "stderr",
     "output_type": "stream",
     "text": [
      "2226it [09:35,  3.88it/s]"
     ]
    },
    {
     "name": "stdout",
     "output_type": "stream",
     "text": [
      "fixing audio length : ../CatSound_dataset/Paining/Edit9007Hlp.mp3\n",
      "input: 65489  load: 24192  offset: -41297\n"
     ]
    },
    {
     "name": "stderr",
     "output_type": "stream",
     "text": [
      "\r",
      "2227it [09:35,  4.05it/s]"
     ]
    },
    {
     "name": "stdout",
     "output_type": "stream",
     "text": [
      "fixing audio length : ../CatSound_dataset/Paining/Edit9008Hlp.mp3\n",
      "input: 65489  load: 39168  offset: -26321\n"
     ]
    },
    {
     "name": "stderr",
     "output_type": "stream",
     "text": [
      "2231it [09:36,  3.87it/s]"
     ]
    },
    {
     "name": "stdout",
     "output_type": "stream",
     "text": [
      "fixing audio length : ../CatSound_dataset/Paining/Edit9098Hlp.mp3\n",
      "input: 65489  load: 32256  offset: -33233\n"
     ]
    },
    {
     "name": "stderr",
     "output_type": "stream",
     "text": [
      "2253it [09:42,  3.72it/s]"
     ]
    },
    {
     "name": "stdout",
     "output_type": "stream",
     "text": [
      "fixing audio length : ../CatSound_dataset/Paining/Last_addCat129568Res.mp3\n",
      "input: 65489  load: 48384  offset: -17105\n"
     ]
    },
    {
     "name": "stderr",
     "output_type": "stream",
     "text": [
      "2276it [09:48,  3.57it/s]"
     ]
    },
    {
     "name": "stdout",
     "output_type": "stream",
     "text": [
      "fixing audio length : ../CatSound_dataset/Paining/Online_Cat0303Help.mp3\n",
      "input: 65489  load: 54720  offset: -10769\n"
     ]
    },
    {
     "name": "stderr",
     "output_type": "stream",
     "text": [
      "2283it [09:50,  3.78it/s]"
     ]
    },
    {
     "name": "stdout",
     "output_type": "stream",
     "text": [
      "fixing audio length : ../CatSound_dataset/Paining/Online_Cat0314hpy.mp3\n",
      "input: 65489  load: 23352  offset: -42137\n"
     ]
    },
    {
     "name": "stderr",
     "output_type": "stream",
     "text": [
      "\r",
      "2284it [09:50,  4.05it/s]"
     ]
    },
    {
     "name": "stdout",
     "output_type": "stream",
     "text": [
      "fixing audio length : ../CatSound_dataset/Paining/Online_Cat0315hpy.mp3\n",
      "input: 65489  load: 23352  offset: -42137\n"
     ]
    },
    {
     "name": "stderr",
     "output_type": "stream",
     "text": [
      "\r",
      "2285it [09:50,  4.34it/s]"
     ]
    },
    {
     "name": "stdout",
     "output_type": "stream",
     "text": [
      "fixing audio length : ../CatSound_dataset/Paining/Online_Cat0320hpy.mp3\n",
      "input: 65489  load: 22200  offset: -43289\n"
     ]
    },
    {
     "name": "stderr",
     "output_type": "stream",
     "text": [
      "\r",
      "2286it [09:50,  4.53it/s]"
     ]
    },
    {
     "name": "stdout",
     "output_type": "stream",
     "text": [
      "fixing audio length : ../CatSound_dataset/Paining/Online_Cat0325help.mp3\n",
      "input: 65489  load: 52992  offset: -12497\n"
     ]
    },
    {
     "name": "stderr",
     "output_type": "stream",
     "text": [
      "2288it [09:51,  4.29it/s]"
     ]
    },
    {
     "name": "stdout",
     "output_type": "stream",
     "text": [
      "fixing audio length : ../CatSound_dataset/Paining/Online_Cat0326hpy.mp3\n",
      "input: 65489  load: 35448  offset: -30041\n"
     ]
    },
    {
     "name": "stderr",
     "output_type": "stream",
     "text": [
      "\r",
      "2289it [09:51,  4.32it/s]"
     ]
    },
    {
     "name": "stdout",
     "output_type": "stream",
     "text": [
      "fixing audio length : ../CatSound_dataset/Paining/Online_Cat0327help.mp3\n",
      "input: 65489  load: 53304  offset: -12185\n"
     ]
    },
    {
     "name": "stderr",
     "output_type": "stream",
     "text": [
      "2292it [09:52,  4.08it/s]"
     ]
    },
    {
     "name": "stdout",
     "output_type": "stream",
     "text": [
      "fixing audio length : ../CatSound_dataset/Paining/Online_Cat0330hlp.mp3\n",
      "input: 65489  load: 53304  offset: -12185\n"
     ]
    },
    {
     "name": "stderr",
     "output_type": "stream",
     "text": [
      "\r",
      "2293it [09:52,  4.05it/s]"
     ]
    },
    {
     "name": "stdout",
     "output_type": "stream",
     "text": [
      "fixing audio length : ../CatSound_dataset/Paining/Online_Cat0336ffhpy.mp3\n",
      "input: 65489  load: 25656  offset: -39833\n"
     ]
    },
    {
     "name": "stderr",
     "output_type": "stream",
     "text": [
      "2297it [09:53,  3.86it/s]"
     ]
    },
    {
     "name": "stdout",
     "output_type": "stream",
     "text": [
      "fixing audio length : ../CatSound_dataset/Paining/Online_Cat0358hpy.mp3\n",
      "input: 65489  load: 32568  offset: -32921\n"
     ]
    },
    {
     "name": "stderr",
     "output_type": "stream",
     "text": [
      "2299it [09:54,  3.92it/s]"
     ]
    },
    {
     "name": "stdout",
     "output_type": "stream",
     "text": [
      "fixing audio length : ../CatSound_dataset/Paining/Online_Cat0368ang.mp3\n",
      "input: 65489  load: 52728  offset: -12761\n"
     ]
    },
    {
     "name": "stderr",
     "output_type": "stream",
     "text": [
      "2301it [09:54,  3.96it/s]"
     ]
    },
    {
     "name": "stdout",
     "output_type": "stream",
     "text": [
      "fixing audio length : ../CatSound_dataset/Paining/Online_Cat0384hpy.mp3\n",
      "input: 65489  load: 35448  offset: -30041\n"
     ]
    },
    {
     "name": "stderr",
     "output_type": "stream",
     "text": [
      "2306it [09:55,  3.77it/s]"
     ]
    },
    {
     "name": "stdout",
     "output_type": "stream",
     "text": [
      "fixing audio length : ../CatSound_dataset/Paining/Online_Cat0465hpy.mp3\n",
      "input: 65489  load: 17016  offset: -48473\n"
     ]
    },
    {
     "name": "stderr",
     "output_type": "stream",
     "text": [
      "2310it [09:56,  3.88it/s]"
     ]
    },
    {
     "name": "stdout",
     "output_type": "stream",
     "text": [
      "fixing audio length : ../CatSound_dataset/Paining/Online_Cat0475Hpy.mp3\n",
      "input: 65489  load: 31416  offset: -34073\n"
     ]
    },
    {
     "name": "stderr",
     "output_type": "stream",
     "text": [
      "2313it [09:57,  4.22it/s]"
     ]
    },
    {
     "name": "stdout",
     "output_type": "stream",
     "text": [
      "fixing audio length : ../CatSound_dataset/Paining/Online_Cat0493Hlp.mp3\n",
      "input: 65489  load: 31746  offset: -33743\n"
     ]
    },
    {
     "name": "stderr",
     "output_type": "stream",
     "text": [
      "\r",
      "2314it [09:57,  4.45it/s]"
     ]
    },
    {
     "name": "stdout",
     "output_type": "stream",
     "text": [
      "fixing audio length : ../CatSound_dataset/Paining/Online_Cat0501Hlp.mp3\n",
      "input: 65489  load: 51264  offset: -14225\n"
     ]
    },
    {
     "name": "stderr",
     "output_type": "stream",
     "text": [
      "2317it [09:58,  3.92it/s]"
     ]
    },
    {
     "name": "stdout",
     "output_type": "stream",
     "text": [
      "fixing audio length : ../CatSound_dataset/Paining/Online_Cat0515Hlp.mp3\n",
      "input: 65489  load: 19404  offset: -46085\n"
     ]
    },
    {
     "name": "stderr",
     "output_type": "stream",
     "text": [
      "\r",
      "2318it [09:58,  4.18it/s]"
     ]
    },
    {
     "name": "stdout",
     "output_type": "stream",
     "text": [
      "fixing audio length : ../CatSound_dataset/Paining/Online_Cat0518Hlp.mp3\n",
      "input: 65489  load: 48120  offset: -17369\n"
     ]
    },
    {
     "name": "stderr",
     "output_type": "stream",
     "text": [
      "\r",
      "2319it [09:58,  4.20it/s]"
     ]
    },
    {
     "name": "stdout",
     "output_type": "stream",
     "text": [
      "fixing audio length : ../CatSound_dataset/Paining/Online_Cat0519Hpy.mp3\n",
      "input: 65489  load: 32568  offset: -32921\n"
     ]
    },
    {
     "name": "stderr",
     "output_type": "stream",
     "text": [
      "\r",
      "2320it [09:59,  4.30it/s]"
     ]
    },
    {
     "name": "stdout",
     "output_type": "stream",
     "text": [
      "fixing audio length : ../CatSound_dataset/Paining/Online_Cat0520Hlp.mp3\n",
      "input: 65489  load: 26808  offset: -38681\n"
     ]
    },
    {
     "name": "stderr",
     "output_type": "stream",
     "text": [
      "\r",
      "2321it [09:59,  4.51it/s]"
     ]
    },
    {
     "name": "stdout",
     "output_type": "stream",
     "text": [
      "fixing audio length : ../CatSound_dataset/Paining/Online_Cat0521Hlp.mp3\n",
      "input: 65489  load: 26808  offset: -38681\n"
     ]
    },
    {
     "name": "stderr",
     "output_type": "stream",
     "text": [
      "2332it [10:02,  3.73it/s]"
     ]
    },
    {
     "name": "stdout",
     "output_type": "stream",
     "text": [
      "fixing audio length : ../CatSound_dataset/Paining/Pain326.mp3\n",
      "input: 65489  load: 38016  offset: -27473\n"
     ]
    },
    {
     "name": "stderr",
     "output_type": "stream",
     "text": [
      "2339it [10:04,  3.74it/s]"
     ]
    },
    {
     "name": "stdout",
     "output_type": "stream",
     "text": [
      "fixing audio length : ../CatSound_dataset/Paining/Pain333.mp3\n",
      "input: 65489  load: 44352  offset: -21137\n"
     ]
    },
    {
     "name": "stderr",
     "output_type": "stream",
     "text": [
      "2343it [10:05,  3.71it/s]"
     ]
    },
    {
     "name": "stdout",
     "output_type": "stream",
     "text": [
      "fixing audio length : ../CatSound_dataset/Paining/Pain337.mp3\n",
      "input: 65489  load: 43776  offset: -21713\n"
     ]
    },
    {
     "name": "stderr",
     "output_type": "stream",
     "text": [
      "\r",
      "2344it [10:05,  3.86it/s]"
     ]
    },
    {
     "name": "stdout",
     "output_type": "stream",
     "text": [
      "fixing audio length : ../CatSound_dataset/Paining/Pain338.mp3\n",
      "input: 65489  load: 50688  offset: -14801\n"
     ]
    },
    {
     "name": "stderr",
     "output_type": "stream",
     "text": [
      "\r",
      "2345it [10:05,  3.78it/s]"
     ]
    },
    {
     "name": "stdout",
     "output_type": "stream",
     "text": [
      "fixing audio length : ../CatSound_dataset/Paining/Pain340.mp3\n",
      "input: 65489  load: 39744  offset: -25745\n"
     ]
    },
    {
     "name": "stderr",
     "output_type": "stream",
     "text": [
      "2369it [10:11,  3.69it/s]"
     ]
    },
    {
     "name": "stdout",
     "output_type": "stream",
     "text": [
      "fixing audio length : ../CatSound_dataset/Resting/cat13.mp3\n",
      "input: 65489  load: 48384  offset: -17105\n"
     ]
    },
    {
     "name": "stderr",
     "output_type": "stream",
     "text": [
      "2456it [10:35,  3.70it/s]"
     ]
    },
    {
     "name": "stdout",
     "output_type": "stream",
     "text": [
      "fixing audio length : ../CatSound_dataset/Resting/cat_flickr01376.mp3\n",
      "input: 65489  load: 53568  offset: -11921\n"
     ]
    },
    {
     "name": "stderr",
     "output_type": "stream",
     "text": [
      "2517it [10:51,  3.65it/s]"
     ]
    },
    {
     "name": "stdout",
     "output_type": "stream",
     "text": [
      "fixing audio length : ../CatSound_dataset/Resting/cat_youtube01305.mp3\n",
      "input: 65489  load: 52992  offset: -12497\n"
     ]
    },
    {
     "name": "stderr",
     "output_type": "stream",
     "text": [
      "2553it [11:01,  3.74it/s]"
     ]
    },
    {
     "name": "stdout",
     "output_type": "stream",
     "text": [
      "fixing audio length : ../CatSound_dataset/Resting/LastEntry_cat1213Purr.mp3\n",
      "input: 65489  load: 35712  offset: -29777\n"
     ]
    },
    {
     "name": "stderr",
     "output_type": "stream",
     "text": [
      "2636it [11:23,  3.78it/s]"
     ]
    },
    {
     "name": "stdout",
     "output_type": "stream",
     "text": [
      "fixing audio length : ../CatSound_dataset/Resting/purr02995.mp3\n",
      "input: 65489  load: 47808  offset: -17681\n"
     ]
    },
    {
     "name": "stderr",
     "output_type": "stream",
     "text": [
      "2639it [11:24,  3.71it/s]"
     ]
    },
    {
     "name": "stdout",
     "output_type": "stream",
     "text": [
      "fixing audio length : ../CatSound_dataset/Resting/purr10.mp3\n",
      "input: 65489  load: 21888  offset: -43601\n"
     ]
    },
    {
     "name": "stderr",
     "output_type": "stream",
     "text": [
      "2652it [11:27,  3.70it/s]"
     ]
    },
    {
     "name": "stdout",
     "output_type": "stream",
     "text": [
      "fixing audio length : ../CatSound_dataset/Warning/car_extcoll0178.mp3\n",
      "input: 65489  load: 50112  offset: -15377\n"
     ]
    },
    {
     "name": "stderr",
     "output_type": "stream",
     "text": [
      "2660it [11:29,  3.74it/s]"
     ]
    },
    {
     "name": "stdout",
     "output_type": "stream",
     "text": [
      "fixing audio length : ../CatSound_dataset/Warning/car_extcoll0243.mp3\n",
      "input: 65489  load: 53568  offset: -11921\n"
     ]
    },
    {
     "name": "stderr",
     "output_type": "stream",
     "text": [
      "2663it [11:30,  3.80it/s]"
     ]
    },
    {
     "name": "stdout",
     "output_type": "stream",
     "text": [
      "fixing audio length : ../CatSound_dataset/Warning/car_extcoll0271.mp3\n",
      "input: 65489  load: 32256  offset: -33233\n"
     ]
    },
    {
     "name": "stderr",
     "output_type": "stream",
     "text": [
      "2665it [11:31,  3.81it/s]"
     ]
    },
    {
     "name": "stdout",
     "output_type": "stream",
     "text": [
      "fixing audio length : ../CatSound_dataset/Warning/car_extcoll0278.mp3\n",
      "input: 65489  load: 42624  offset: -22865\n"
     ]
    },
    {
     "name": "stderr",
     "output_type": "stream",
     "text": [
      "\r",
      "2666it [11:31,  3.85it/s]"
     ]
    },
    {
     "name": "stdout",
     "output_type": "stream",
     "text": [
      "fixing audio length : ../CatSound_dataset/Warning/car_extcoll0279.mp3\n",
      "input: 65489  load: 44928  offset: -20561\n"
     ]
    },
    {
     "name": "stderr",
     "output_type": "stream",
     "text": [
      "\r",
      "2667it [11:31,  4.00it/s]"
     ]
    },
    {
     "name": "stdout",
     "output_type": "stream",
     "text": [
      "fixing audio length : ../CatSound_dataset/Warning/car_extcoll0280.mp3\n",
      "input: 65489  load: 33408  offset: -32081\n"
     ]
    },
    {
     "name": "stderr",
     "output_type": "stream",
     "text": [
      "2669it [11:32,  4.14it/s]"
     ]
    },
    {
     "name": "stdout",
     "output_type": "stream",
     "text": [
      "fixing audio length : ../CatSound_dataset/Warning/car_extcoll0282.mp3\n",
      "input: 65489  load: 37440  offset: -28049\n"
     ]
    },
    {
     "name": "stderr",
     "output_type": "stream",
     "text": [
      "\r",
      "2670it [11:32,  4.25it/s]"
     ]
    },
    {
     "name": "stdout",
     "output_type": "stream",
     "text": [
      "fixing audio length : ../CatSound_dataset/Warning/car_extcoll0283.mp3\n",
      "input: 65489  load: 47232  offset: -18257\n"
     ]
    },
    {
     "name": "stderr",
     "output_type": "stream",
     "text": [
      "2694it [11:38,  3.82it/s]"
     ]
    },
    {
     "name": "stdout",
     "output_type": "stream",
     "text": [
      "fixing audio length : ../CatSound_dataset/Warning/cat02.mp3\n",
      "input: 65489  load: 52992  offset: -12497\n"
     ]
    },
    {
     "name": "stderr",
     "output_type": "stream",
     "text": [
      "2703it [11:41,  3.65it/s]"
     ]
    },
    {
     "name": "stdout",
     "output_type": "stream",
     "text": [
      "fixing audio length : ../CatSound_dataset/Warning/Catgrow0112.mp3\n",
      "input: 65489  load: 42048  offset: -23441\n"
     ]
    },
    {
     "name": "stderr",
     "output_type": "stream",
     "text": [
      "2708it [11:42,  3.77it/s]"
     ]
    },
    {
     "name": "stdout",
     "output_type": "stream",
     "text": [
      "fixing audio length : ../CatSound_dataset/Warning/Cat_Angry1050.mp3\n",
      "input: 65489  load: 29952  offset: -35537\n"
     ]
    },
    {
     "name": "stderr",
     "output_type": "stream",
     "text": [
      "2715it [11:44,  3.79it/s]"
     ]
    },
    {
     "name": "stdout",
     "output_type": "stream",
     "text": [
      "fixing audio length : ../CatSound_dataset/Warning/cat_flickr0126.mp3\n",
      "input: 65489  load: 40320  offset: -25169\n"
     ]
    },
    {
     "name": "stderr",
     "output_type": "stream",
     "text": [
      "2717it [11:44,  3.85it/s]"
     ]
    },
    {
     "name": "stdout",
     "output_type": "stream",
     "text": [
      "fixing audio length : ../CatSound_dataset/Warning/cat_flickr0128.mp3\n",
      "input: 65489  load: 54720  offset: -10769\n"
     ]
    },
    {
     "name": "stderr",
     "output_type": "stream",
     "text": [
      "\r",
      "2718it [11:44,  3.90it/s]"
     ]
    },
    {
     "name": "stdout",
     "output_type": "stream",
     "text": [
      "fixing audio length : ../CatSound_dataset/Warning/cat_flickr0129.mp3\n",
      "input: 65489  load: 28800  offset: -36689\n"
     ]
    },
    {
     "name": "stderr",
     "output_type": "stream",
     "text": [
      "\r",
      "2719it [11:45,  4.13it/s]"
     ]
    },
    {
     "name": "stdout",
     "output_type": "stream",
     "text": [
      "fixing audio length : ../CatSound_dataset/Warning/cat_flickr0130.mp3\n",
      "input: 65489  load: 51264  offset: -14225\n"
     ]
    },
    {
     "name": "stderr",
     "output_type": "stream",
     "text": [
      "\r",
      "2720it [11:45,  4.03it/s]"
     ]
    },
    {
     "name": "stdout",
     "output_type": "stream",
     "text": [
      "fixing audio length : ../CatSound_dataset/Warning/cat_flickr01308.mp3\n",
      "input: 65489  load: 31104  offset: -34385\n"
     ]
    },
    {
     "name": "stderr",
     "output_type": "stream",
     "text": [
      "\r",
      "2721it [11:45,  4.25it/s]"
     ]
    },
    {
     "name": "stdout",
     "output_type": "stream",
     "text": [
      "fixing audio length : ../CatSound_dataset/Warning/cat_flickr01309.mp3\n",
      "input: 65489  load: 52992  offset: -12497\n"
     ]
    },
    {
     "name": "stderr",
     "output_type": "stream",
     "text": [
      "\r",
      "2722it [11:45,  4.17it/s]"
     ]
    },
    {
     "name": "stdout",
     "output_type": "stream",
     "text": [
      "fixing audio length : ../CatSound_dataset/Warning/cat_flickr01311.mp3\n",
      "input: 65489  load: 35136  offset: -30353\n"
     ]
    },
    {
     "name": "stderr",
     "output_type": "stream",
     "text": [
      "\r",
      "2723it [11:46,  4.28it/s]"
     ]
    },
    {
     "name": "stdout",
     "output_type": "stream",
     "text": [
      "fixing audio length : ../CatSound_dataset/Warning/cat_flickr01313.mp3\n",
      "input: 65489  load: 39744  offset: -25745\n"
     ]
    },
    {
     "name": "stderr",
     "output_type": "stream",
     "text": [
      "2725it [11:46,  4.23it/s]"
     ]
    },
    {
     "name": "stdout",
     "output_type": "stream",
     "text": [
      "fixing audio length : ../CatSound_dataset/Warning/cat_flickr01346.mp3\n",
      "input: 65489  load: 52992  offset: -12497\n"
     ]
    },
    {
     "name": "stderr",
     "output_type": "stream",
     "text": [
      "2730it [11:47,  3.87it/s]"
     ]
    },
    {
     "name": "stdout",
     "output_type": "stream",
     "text": [
      "fixing audio length : ../CatSound_dataset/Warning/cat_flickr01354.mp3\n",
      "input: 65489  load: 40896  offset: -24593\n"
     ]
    },
    {
     "name": "stderr",
     "output_type": "stream",
     "text": [
      "2735it [11:49,  4.02it/s]"
     ]
    },
    {
     "name": "stdout",
     "output_type": "stream",
     "text": [
      "fixing audio length : ../CatSound_dataset/Warning/cat_flickr01361.mp3\n",
      "input: 65489  load: 48384  offset: -17105\n"
     ]
    },
    {
     "name": "stderr",
     "output_type": "stream",
     "text": [
      "2745it [11:51,  3.78it/s]"
     ]
    },
    {
     "name": "stdout",
     "output_type": "stream",
     "text": [
      "fixing audio length : ../CatSound_dataset/Warning/cat_flickr01409.mp3\n",
      "input: 65489  load: 48384  offset: -17105\n"
     ]
    },
    {
     "name": "stderr",
     "output_type": "stream",
     "text": [
      "\r",
      "2746it [11:52,  3.89it/s]"
     ]
    },
    {
     "name": "stdout",
     "output_type": "stream",
     "text": [
      "fixing audio length : ../CatSound_dataset/Warning/cat_flickr01410.mp3\n",
      "input: 65489  load: 47232  offset: -18257\n"
     ]
    },
    {
     "name": "stderr",
     "output_type": "stream",
     "text": [
      "2749it [11:52,  3.91it/s]"
     ]
    },
    {
     "name": "stdout",
     "output_type": "stream",
     "text": [
      "fixing audio length : ../CatSound_dataset/Warning/cat_flickr01418.mp3\n",
      "input: 65489  load: 32832  offset: -32657\n"
     ]
    },
    {
     "name": "stderr",
     "output_type": "stream",
     "text": [
      "\r",
      "2750it [11:52,  4.14it/s]"
     ]
    },
    {
     "name": "stdout",
     "output_type": "stream",
     "text": [
      "fixing audio length : ../CatSound_dataset/Warning/cat_flickr01423.mp3\n",
      "input: 65489  load: 50688  offset: -14801\n"
     ]
    },
    {
     "name": "stderr",
     "output_type": "stream",
     "text": [
      "\r",
      "2751it [11:53,  4.18it/s]"
     ]
    },
    {
     "name": "stdout",
     "output_type": "stream",
     "text": [
      "fixing audio length : ../CatSound_dataset/Warning/cat_flickr01424.mp3\n",
      "input: 65489  load: 49536  offset: -15953\n"
     ]
    },
    {
     "name": "stderr",
     "output_type": "stream",
     "text": [
      "\r",
      "2752it [11:53,  4.10it/s]"
     ]
    },
    {
     "name": "stdout",
     "output_type": "stream",
     "text": [
      "fixing audio length : ../CatSound_dataset/Warning/cat_flickr01426.mp3\n",
      "input: 65489  load: 54720  offset: -10769\n"
     ]
    },
    {
     "name": "stderr",
     "output_type": "stream",
     "text": [
      "\r",
      "2753it [11:53,  4.08it/s]"
     ]
    },
    {
     "name": "stdout",
     "output_type": "stream",
     "text": [
      "fixing audio length : ../CatSound_dataset/Warning/cat_flickr01427.mp3\n",
      "input: 65489  load: 54720  offset: -10769\n"
     ]
    },
    {
     "name": "stderr",
     "output_type": "stream",
     "text": [
      "\r",
      "2754it [11:53,  3.98it/s]"
     ]
    },
    {
     "name": "stdout",
     "output_type": "stream",
     "text": [
      "fixing audio length : ../CatSound_dataset/Warning/cat_flickr01428.mp3\n",
      "input: 65489  load: 47232  offset: -18257\n"
     ]
    },
    {
     "name": "stderr",
     "output_type": "stream",
     "text": [
      "\r",
      "2755it [11:54,  4.05it/s]"
     ]
    },
    {
     "name": "stdout",
     "output_type": "stream",
     "text": [
      "fixing audio length : ../CatSound_dataset/Warning/cat_flickr01429.mp3\n",
      "input: 65489  load: 32832  offset: -32657\n"
     ]
    },
    {
     "name": "stderr",
     "output_type": "stream",
     "text": [
      "\r",
      "2756it [11:54,  4.20it/s]"
     ]
    },
    {
     "name": "stdout",
     "output_type": "stream",
     "text": [
      "fixing audio length : ../CatSound_dataset/Warning/cat_flickr01432.mp3\n",
      "input: 65489  load: 46080  offset: -19409\n"
     ]
    },
    {
     "name": "stderr",
     "output_type": "stream",
     "text": [
      "\r",
      "2757it [11:54,  4.14it/s]"
     ]
    },
    {
     "name": "stdout",
     "output_type": "stream",
     "text": [
      "fixing audio length : ../CatSound_dataset/Warning/cat_flickr01433.mp3\n",
      "input: 65489  load: 44928  offset: -20561\n"
     ]
    },
    {
     "name": "stderr",
     "output_type": "stream",
     "text": [
      "2765it [11:56,  3.63it/s]"
     ]
    },
    {
     "name": "stdout",
     "output_type": "stream",
     "text": [
      "fixing audio length : ../CatSound_dataset/Warning/cat_flickr01457.mp3\n",
      "input: 65489  load: 44352  offset: -21137\n"
     ]
    },
    {
     "name": "stderr",
     "output_type": "stream",
     "text": [
      "2773it [11:59,  3.67it/s]"
     ]
    },
    {
     "name": "stdout",
     "output_type": "stream",
     "text": [
      "fixing audio length : ../CatSound_dataset/Warning/cat_flickr01475.mp3\n",
      "input: 65489  load: 33408  offset: -32081\n"
     ]
    },
    {
     "name": "stderr",
     "output_type": "stream",
     "text": [
      "2777it [12:00,  3.68it/s]"
     ]
    },
    {
     "name": "stdout",
     "output_type": "stream",
     "text": [
      "fixing audio length : ../CatSound_dataset/Warning/Cat_Growing1082.mp3\n",
      "input: 65489  load: 34560  offset: -30929\n"
     ]
    },
    {
     "name": "stderr",
     "output_type": "stream",
     "text": [
      "2779it [12:00,  3.94it/s]"
     ]
    },
    {
     "name": "stdout",
     "output_type": "stream",
     "text": [
      "fixing audio length : ../CatSound_dataset/Warning/cat_Growl011.mp3\n",
      "input: 65489  load: 54144  offset: -11345\n"
     ]
    },
    {
     "name": "stderr",
     "output_type": "stream",
     "text": [
      "2784it [12:01,  3.80it/s]"
     ]
    },
    {
     "name": "stdout",
     "output_type": "stream",
     "text": [
      "fixing audio length : ../CatSound_dataset/Warning/cat_Growl016.mp3\n",
      "input: 65489  load: 46656  offset: -18833\n"
     ]
    },
    {
     "name": "stderr",
     "output_type": "stream",
     "text": [
      "\r",
      "2785it [12:02,  3.98it/s]"
     ]
    },
    {
     "name": "stdout",
     "output_type": "stream",
     "text": [
      "fixing audio length : ../CatSound_dataset/Warning/cat_Growl017.mp3\n",
      "input: 65489  load: 47808  offset: -17681\n"
     ]
    },
    {
     "name": "stderr",
     "output_type": "stream",
     "text": [
      "2788it [12:02,  3.86it/s]"
     ]
    },
    {
     "name": "stdout",
     "output_type": "stream",
     "text": [
      "fixing audio length : ../CatSound_dataset/Warning/Cat_Growl1062.mp3\n",
      "input: 65489  load: 50112  offset: -15377\n"
     ]
    },
    {
     "name": "stderr",
     "output_type": "stream",
     "text": [
      "2824it [12:12,  3.66it/s]"
     ]
    },
    {
     "name": "stdout",
     "output_type": "stream",
     "text": [
      "fixing audio length : ../CatSound_dataset/Warning/Edit9009Grl.mp3\n",
      "input: 65489  load: 32832  offset: -32657\n"
     ]
    },
    {
     "name": "stderr",
     "output_type": "stream",
     "text": [
      "\r",
      "2825it [12:12,  3.89it/s]"
     ]
    },
    {
     "name": "stdout",
     "output_type": "stream",
     "text": [
      "fixing audio length : ../CatSound_dataset/Warning/Edit9025Grl.mp3\n",
      "input: 65489  load: 49536  offset: -15953\n"
     ]
    },
    {
     "name": "stderr",
     "output_type": "stream",
     "text": [
      "\r",
      "2826it [12:13,  3.96it/s]"
     ]
    },
    {
     "name": "stdout",
     "output_type": "stream",
     "text": [
      "fixing audio length : ../CatSound_dataset/Warning/Edit9026Grl.mp3\n",
      "input: 65489  load: 39744  offset: -25745\n"
     ]
    },
    {
     "name": "stderr",
     "output_type": "stream",
     "text": [
      "\r",
      "2827it [12:13,  3.98it/s]"
     ]
    },
    {
     "name": "stdout",
     "output_type": "stream",
     "text": [
      "fixing audio length : ../CatSound_dataset/Warning/Edit9031Grl.mp3\n",
      "input: 65489  load: 28800  offset: -36689\n"
     ]
    },
    {
     "name": "stderr",
     "output_type": "stream",
     "text": [
      "\r",
      "2828it [12:13,  4.29it/s]"
     ]
    },
    {
     "name": "stdout",
     "output_type": "stream",
     "text": [
      "fixing audio length : ../CatSound_dataset/Warning/Edit9037Grl.mp3\n",
      "input: 65489  load: 47808  offset: -17681\n"
     ]
    },
    {
     "name": "stderr",
     "output_type": "stream",
     "text": [
      "\r",
      "2829it [12:13,  4.20it/s]"
     ]
    },
    {
     "name": "stdout",
     "output_type": "stream",
     "text": [
      "fixing audio length : ../CatSound_dataset/Warning/Edit9052Grl.mp3\n",
      "input: 65489  load: 39744  offset: -25745\n"
     ]
    },
    {
     "name": "stderr",
     "output_type": "stream",
     "text": [
      "\r",
      "2830it [12:14,  4.25it/s]"
     ]
    },
    {
     "name": "stdout",
     "output_type": "stream",
     "text": [
      "fixing audio length : ../CatSound_dataset/Warning/Edit9054Grl.mp3\n",
      "input: 65489  load: 51264  offset: -14225\n"
     ]
    },
    {
     "name": "stderr",
     "output_type": "stream",
     "text": [
      "\r",
      "2831it [12:14,  4.18it/s]"
     ]
    },
    {
     "name": "stdout",
     "output_type": "stream",
     "text": [
      "fixing audio length : ../CatSound_dataset/Warning/Edit9056Grl.mp3\n",
      "input: 65489  load: 22464  offset: -43025\n"
     ]
    },
    {
     "name": "stderr",
     "output_type": "stream",
     "text": [
      "\r",
      "2832it [12:14,  4.31it/s]"
     ]
    },
    {
     "name": "stdout",
     "output_type": "stream",
     "text": [
      "fixing audio length : ../CatSound_dataset/Warning/Edit9059Grl.mp3\n",
      "input: 65489  load: 23616  offset: -41873\n"
     ]
    },
    {
     "name": "stderr",
     "output_type": "stream",
     "text": [
      "\r",
      "2833it [12:14,  4.44it/s]"
     ]
    },
    {
     "name": "stdout",
     "output_type": "stream",
     "text": [
      "fixing audio length : ../CatSound_dataset/Warning/Edit9061Grl.mp3\n",
      "input: 65489  load: 33408  offset: -32081\n"
     ]
    },
    {
     "name": "stderr",
     "output_type": "stream",
     "text": [
      "\r",
      "2834it [12:14,  4.48it/s]"
     ]
    },
    {
     "name": "stdout",
     "output_type": "stream",
     "text": [
      "fixing audio length : ../CatSound_dataset/Warning/Edit9077Grl.mp3\n",
      "input: 65489  load: 27072  offset: -38417\n"
     ]
    },
    {
     "name": "stderr",
     "output_type": "stream",
     "text": [
      "2836it [12:15,  4.30it/s]"
     ]
    },
    {
     "name": "stdout",
     "output_type": "stream",
     "text": [
      "fixing audio length : ../CatSound_dataset/Warning/Edit9095Grl.mp3\n",
      "input: 65489  load: 48384  offset: -17105\n"
     ]
    },
    {
     "name": "stderr",
     "output_type": "stream",
     "text": [
      "2845it [12:17,  3.97it/s]"
     ]
    },
    {
     "name": "stdout",
     "output_type": "stream",
     "text": [
      "fixing audio length : ../CatSound_dataset/Warning/Edit9120Grl.mp3\n",
      "input: 65489  load: 32832  offset: -32657\n"
     ]
    },
    {
     "name": "stderr",
     "output_type": "stream",
     "text": [
      "2847it [12:18,  3.79it/s]"
     ]
    },
    {
     "name": "stdout",
     "output_type": "stream",
     "text": [
      "fixing audio length : ../CatSound_dataset/Warning/grl5.mp3\n",
      "input: 65489  load: 46080  offset: -19409\n"
     ]
    },
    {
     "name": "stderr",
     "output_type": "stream",
     "text": [
      "2857it [12:21,  3.58it/s]"
     ]
    },
    {
     "name": "stdout",
     "output_type": "stream",
     "text": [
      "fixing audio length : ../CatSound_dataset/Warning/LastEntry_cat1018Grl.mp3\n",
      "input: 65489  load: 40320  offset: -25169\n"
     ]
    },
    {
     "name": "stderr",
     "output_type": "stream",
     "text": [
      "2872it [12:24,  3.87it/s]"
     ]
    },
    {
     "name": "stdout",
     "output_type": "stream",
     "text": [
      "fixing audio length : ../CatSound_dataset/Warning/LastEntry_cat1298Grl.mp3\n",
      "input: 65489  load: 43776  offset: -21713\n"
     ]
    },
    {
     "name": "stderr",
     "output_type": "stream",
     "text": [
      "2877it [12:26,  3.82it/s]"
     ]
    },
    {
     "name": "stdout",
     "output_type": "stream",
     "text": [
      "fixing audio length : ../CatSound_dataset/Warning/LastEntry_cat1318Grl.mp3\n",
      "input: 65489  load: 37440  offset: -28049\n"
     ]
    },
    {
     "name": "stderr",
     "output_type": "stream",
     "text": [
      "\r",
      "2878it [12:26,  3.96it/s]"
     ]
    },
    {
     "name": "stdout",
     "output_type": "stream",
     "text": [
      "fixing audio length : ../CatSound_dataset/Warning/LastEntry_cat1328Grl.mp3\n",
      "input: 65489  load: 54720  offset: -10769\n"
     ]
    },
    {
     "name": "stderr",
     "output_type": "stream",
     "text": [
      "2880it [12:26,  4.06it/s]"
     ]
    },
    {
     "name": "stdout",
     "output_type": "stream",
     "text": [
      "fixing audio length : ../CatSound_dataset/Warning/LastEntry_cat1334Grl.mp3\n",
      "input: 65489  load: 33408  offset: -32081\n"
     ]
    },
    {
     "name": "stderr",
     "output_type": "stream",
     "text": [
      "2883it [12:27,  3.95it/s]"
     ]
    },
    {
     "name": "stdout",
     "output_type": "stream",
     "text": [
      "fixing audio length : ../CatSound_dataset/Warning/LastEntry_cat1338Grl.mp3\n",
      "input: 65489  load: 38016  offset: -27473\n"
     ]
    },
    {
     "name": "stderr",
     "output_type": "stream",
     "text": [
      "2886it [12:28,  3.75it/s]"
     ]
    },
    {
     "name": "stdout",
     "output_type": "stream",
     "text": [
      "fixing audio length : ../CatSound_dataset/Warning/LastEntry_cat1344Grl.mp3\n",
      "input: 65489  load: 44928  offset: -20561\n"
     ]
    },
    {
     "name": "stderr",
     "output_type": "stream",
     "text": [
      "2889it [12:29,  3.81it/s]"
     ]
    },
    {
     "name": "stdout",
     "output_type": "stream",
     "text": [
      "fixing audio length : ../CatSound_dataset/Warning/LastEntry_cat1349Grl.mp3\n",
      "input: 65489  load: 38016  offset: -27473\n"
     ]
    },
    {
     "name": "stderr",
     "output_type": "stream",
     "text": [
      "2893it [12:30,  3.82it/s]"
     ]
    },
    {
     "name": "stdout",
     "output_type": "stream",
     "text": [
      "fixing audio length : ../CatSound_dataset/Warning/LastEntry_cat1354Grl.mp3\n",
      "input: 65489  load: 43776  offset: -21713\n"
     ]
    },
    {
     "name": "stderr",
     "output_type": "stream",
     "text": [
      "\r",
      "2894it [12:30,  3.85it/s]"
     ]
    },
    {
     "name": "stdout",
     "output_type": "stream",
     "text": [
      "fixing audio length : ../CatSound_dataset/Warning/LastEntry_cat1356Grl.mp3\n",
      "input: 65489  load: 51840  offset: -13649\n"
     ]
    },
    {
     "name": "stderr",
     "output_type": "stream",
     "text": [
      "\r",
      "2895it [12:30,  3.94it/s]"
     ]
    },
    {
     "name": "stdout",
     "output_type": "stream",
     "text": [
      "fixing audio length : ../CatSound_dataset/Warning/LastEntry_cat1358Grl.mp3\n",
      "input: 65489  load: 39168  offset: -26321\n"
     ]
    },
    {
     "name": "stderr",
     "output_type": "stream",
     "text": [
      "\r",
      "2896it [12:31,  4.03it/s]"
     ]
    },
    {
     "name": "stdout",
     "output_type": "stream",
     "text": [
      "fixing audio length : ../CatSound_dataset/Warning/LastEntry_cat1359Grl.mp3\n",
      "input: 65489  load: 33408  offset: -32081\n"
     ]
    },
    {
     "name": "stderr",
     "output_type": "stream",
     "text": [
      "\r",
      "2897it [12:31,  4.17it/s]"
     ]
    },
    {
     "name": "stdout",
     "output_type": "stream",
     "text": [
      "fixing audio length : ../CatSound_dataset/Warning/LastEntry_cat1361Grl.mp3\n",
      "input: 65489  load: 54720  offset: -10769\n"
     ]
    },
    {
     "name": "stderr",
     "output_type": "stream",
     "text": [
      "\r",
      "2898it [12:31,  4.09it/s]"
     ]
    },
    {
     "name": "stdout",
     "output_type": "stream",
     "text": [
      "fixing audio length : ../CatSound_dataset/Warning/LastEntry_cat1362Grl.mp3\n",
      "input: 65489  load: 51840  offset: -13649\n"
     ]
    },
    {
     "name": "stderr",
     "output_type": "stream",
     "text": [
      "2904it [12:33,  3.81it/s]"
     ]
    },
    {
     "name": "stdout",
     "output_type": "stream",
     "text": [
      "fixing audio length : ../CatSound_dataset/Warning/Last_addCat129592Grl (2).mp3\n",
      "input: 65489  load: 50688  offset: -14801\n"
     ]
    },
    {
     "name": "stderr",
     "output_type": "stream",
     "text": [
      "\r",
      "2905it [12:33,  3.94it/s]"
     ]
    },
    {
     "name": "stdout",
     "output_type": "stream",
     "text": [
      "fixing audio length : ../CatSound_dataset/Warning/Last_addCat129592Grl (3).mp3\n",
      "input: 65489  load: 42624  offset: -22865\n"
     ]
    },
    {
     "name": "stderr",
     "output_type": "stream",
     "text": [
      "2921it [12:37,  3.66it/s]"
     ]
    },
    {
     "name": "stdout",
     "output_type": "stream",
     "text": [
      "fixing audio length : ../CatSound_dataset/Warning/Last_addCat345Grl.mp3\n",
      "input: 65489  load: 53568  offset: -11921\n"
     ]
    },
    {
     "name": "stderr",
     "output_type": "stream",
     "text": [
      "2935it [12:41,  3.77it/s]"
     ]
    },
    {
     "name": "stdout",
     "output_type": "stream",
     "text": [
      "fixing audio length : ../CatSound_dataset/Warning/Online_Cat0310grl.mp3\n",
      "input: 65489  load: 27960  offset: -37529\n"
     ]
    },
    {
     "name": "stderr",
     "output_type": "stream",
     "text": [
      "\r",
      "2936it [12:41,  4.01it/s]"
     ]
    },
    {
     "name": "stdout",
     "output_type": "stream",
     "text": [
      "fixing audio length : ../CatSound_dataset/Warning/Online_Cat0311grl.mp3\n",
      "input: 65489  load: 20472  offset: -45017\n"
     ]
    },
    {
     "name": "stderr",
     "output_type": "stream",
     "text": [
      "\r",
      "2937it [12:41,  4.34it/s]"
     ]
    },
    {
     "name": "stdout",
     "output_type": "stream",
     "text": [
      "fixing audio length : ../CatSound_dataset/Warning/Online_Cat0312grl.mp3\n",
      "input: 65489  load: 45240  offset: -20249\n"
     ]
    },
    {
     "name": "stderr",
     "output_type": "stream",
     "text": [
      "\r",
      "2938it [12:42,  4.26it/s]"
     ]
    },
    {
     "name": "stdout",
     "output_type": "stream",
     "text": [
      "fixing audio length : ../CatSound_dataset/Warning/Online_Cat0313grl.mp3\n",
      "input: 65489  load: 36024  offset: -29465\n"
     ]
    },
    {
     "name": "stderr",
     "output_type": "stream",
     "text": [
      "\r",
      "2939it [12:42,  4.35it/s]"
     ]
    },
    {
     "name": "stdout",
     "output_type": "stream",
     "text": [
      "fixing audio length : ../CatSound_dataset/Warning/Online_Cat0320ang.mp3\n",
      "input: 65489  load: 32568  offset: -32921\n"
     ]
    },
    {
     "name": "stderr",
     "output_type": "stream",
     "text": [
      "\r",
      "2940it [12:42,  4.41it/s]"
     ]
    },
    {
     "name": "stdout",
     "output_type": "stream",
     "text": [
      "fixing audio length : ../CatSound_dataset/Warning/Online_Cat0320grl.mp3\n",
      "input: 65489  load: 16440  offset: -49049\n"
     ]
    },
    {
     "name": "stderr",
     "output_type": "stream",
     "text": [
      "2949it [12:44,  3.64it/s]"
     ]
    },
    {
     "name": "stdout",
     "output_type": "stream",
     "text": [
      "fixing audio length : ../CatSound_dataset/Warning/Online_Cat0469Grl.mp3\n",
      "input: 65489  load: 35868  offset: -29621\n"
     ]
    },
    {
     "name": "stderr",
     "output_type": "stream",
     "text": [
      "2950it [12:45,  3.90it/s]\n"
     ]
    },
    {
     "name": "stdout",
     "output_type": "stream",
     "text": [
      "Number of train samples:  2698\n"
     ]
    }
   ],
   "source": [
    "# %%time\n",
    "# %%memit \n",
    "# Dataset\n",
    "train_audio_data = [] \n",
    "train_object_file='saved_train_audio_data.p'\n",
    "\n",
    "#override the reload flag if serized file doesn't exist\n",
    "if not os.path.isfile(train_object_file):\n",
    "    SKIP_AUDIO_RELOAD = False\n",
    "\n",
    "#load training data\n",
    "if SKIP_AUDIO_RELOAD is True:\n",
    "    print (\"skip re-loading TRAINING data from audio files\")\n",
    "else:\n",
    "    print (\"loading train audio data, may take more than 15 minutes. please wait!\")\n",
    "    for row in tqdm(valid_train_data.itertuples()):\n",
    "        ps = load_audio_file(file_path=row.path, duration=2.97)\n",
    "        if ps.shape != (128, 128): continue\n",
    "        train_audio_data.append( (ps, row) )\n",
    "    print(\"Number of train samples: \", len(train_audio_data))\n",
    "# this step took sometime to finish    5382\n",
    "#peak memory: 1141.30 MiB, increment: 642.16 MiB\n",
    "#CPU times: user 15min 41s, sys: 14min 57s, total: 30min 39s"
   ]
  },
  {
   "cell_type": "code",
   "execution_count": 88,
   "metadata": {},
   "outputs": [
    {
     "ename": "PicklingError",
     "evalue": "Can't pickle <class 'pandas.core.frame.Pandas'>: attribute lookup Pandas on pandas.core.frame failed",
     "output_type": "error",
     "traceback": [
      "\u001b[1;31m---------------------------------------------------------------------------\u001b[0m",
      "\u001b[1;31mPicklingError\u001b[0m                             Traceback (most recent call last)",
      "\u001b[1;32m<ipython-input-88-45a2861bcde5>\u001b[0m in \u001b[0;36m<module>\u001b[1;34m()\u001b[0m\n\u001b[0;32m      6\u001b[0m     \u001b[0mprint\u001b[0m \u001b[1;33m(\u001b[0m\u001b[1;34m\"loaded train data [%s] records from object file\"\u001b[0m \u001b[1;33m%\u001b[0m \u001b[0mlen\u001b[0m\u001b[1;33m(\u001b[0m\u001b[0mtrain_audio_data\u001b[0m\u001b[1;33m)\u001b[0m\u001b[1;33m)\u001b[0m\u001b[1;33m\u001b[0m\u001b[0m\n\u001b[0;32m      7\u001b[0m \u001b[1;32melse\u001b[0m\u001b[1;33m:\u001b[0m\u001b[1;33m\u001b[0m\u001b[0m\n\u001b[1;32m----> 8\u001b[1;33m     \u001b[0mcPickle\u001b[0m\u001b[1;33m.\u001b[0m\u001b[0mdump\u001b[0m\u001b[1;33m(\u001b[0m\u001b[0mtrain_audio_data\u001b[0m\u001b[1;33m,\u001b[0m \u001b[0mopen\u001b[0m\u001b[1;33m(\u001b[0m\u001b[0mtrain_object_file\u001b[0m\u001b[1;33m,\u001b[0m \u001b[1;34m'wb'\u001b[0m\u001b[1;33m)\u001b[0m\u001b[1;33m)\u001b[0m\u001b[1;33m\u001b[0m\u001b[0m\n\u001b[0m\u001b[0;32m      9\u001b[0m     \u001b[0mprint\u001b[0m \u001b[1;33m(\u001b[0m\u001b[1;34m\"saved loaded train data :\"\u001b[0m\u001b[1;33m,\u001b[0m\u001b[0mlen\u001b[0m\u001b[1;33m(\u001b[0m\u001b[0mtrain_audio_data\u001b[0m\u001b[1;33m)\u001b[0m\u001b[1;33m)\u001b[0m\u001b[1;33m\u001b[0m\u001b[0m\n",
      "\u001b[1;31mPicklingError\u001b[0m: Can't pickle <class 'pandas.core.frame.Pandas'>: attribute lookup Pandas on pandas.core.frame failed"
     ]
    }
   ],
   "source": [
    "# load saved audio object\n",
    "\n",
    "\n",
    "if SKIP_AUDIO_RELOAD is True:\n",
    "    train_audio_data = cPickle.load(open(train_object_file, 'rb'))\n",
    "    print (\"loaded train data [%s] records from object file\" % len(train_audio_data))  \n",
    "else:\n",
    "    cPickle.dump(train_audio_data, open(train_object_file, 'wb')) \n",
    "    print (\"saved loaded train data :\",len(train_audio_data))"
   ]
  },
  {
   "cell_type": "code",
   "execution_count": 95,
   "metadata": {},
   "outputs": [
    {
     "name": "stdout",
     "output_type": "stream",
     "text": [
      "loading test audio data, may take more than 15 minutes. please wait!\n"
     ]
    },
    {
     "name": "stderr",
     "output_type": "stream",
     "text": [
      "5it [00:01,  3.55it/s]"
     ]
    },
    {
     "name": "stdout",
     "output_type": "stream",
     "text": [
      "***data shape is wrong, replace it with zeros  (128, 118) ../CatSound_dataset/Angry/car_extcoll0150.mp3\n"
     ]
    },
    {
     "name": "stderr",
     "output_type": "stream",
     "text": [
      "\r",
      "6it [00:01,  3.60it/s]"
     ]
    },
    {
     "name": "stdout",
     "output_type": "stream",
     "text": [
      "***data shape is wrong, replace it with zeros  (128, 124) ../CatSound_dataset/Angry/car_extcoll0151.mp3\n"
     ]
    },
    {
     "name": "stderr",
     "output_type": "stream",
     "text": [
      "12it [00:03,  3.54it/s]"
     ]
    },
    {
     "name": "stdout",
     "output_type": "stream",
     "text": [
      "fixing audio length : ../CatSound_dataset/Defence/car_extcoll0161.mp3\n",
      "input: 65489  load: 36864  offset: -28625\n"
     ]
    },
    {
     "name": "stderr",
     "output_type": "stream",
     "text": [
      "\r",
      "13it [00:03,  3.75it/s]"
     ]
    },
    {
     "name": "stdout",
     "output_type": "stream",
     "text": [
      "***data shape is wrong, replace it with zeros  (128, 119) ../CatSound_dataset/Defence/car_extcoll0164.mp3\n"
     ]
    },
    {
     "name": "stderr",
     "output_type": "stream",
     "text": [
      "15it [00:04,  3.72it/s]"
     ]
    },
    {
     "name": "stdout",
     "output_type": "stream",
     "text": [
      "fixing audio length : ../CatSound_dataset/Defence/car_extcoll0166.mp3\n",
      "input: 65489  load: 47232  offset: -18257\n"
     ]
    },
    {
     "name": "stderr",
     "output_type": "stream",
     "text": [
      "\r",
      "16it [00:04,  3.82it/s]"
     ]
    },
    {
     "name": "stdout",
     "output_type": "stream",
     "text": [
      "***data shape is wrong, replace it with zeros  (128, 127) ../CatSound_dataset/Defence/car_extcoll0168.mp3\n"
     ]
    },
    {
     "name": "stderr",
     "output_type": "stream",
     "text": [
      "22it [00:06,  3.64it/s]"
     ]
    },
    {
     "name": "stdout",
     "output_type": "stream",
     "text": [
      "fixing audio length : ../CatSound_dataset/Fighting/angry4.mp3\n",
      "input: 65489  load: 31992  offset: -33497\n"
     ]
    },
    {
     "name": "stderr",
     "output_type": "stream",
     "text": [
      "\r",
      "23it [00:06,  3.85it/s]"
     ]
    },
    {
     "name": "stdout",
     "output_type": "stream",
     "text": [
      "***data shape is wrong, replace it with zeros  (128, 120) ../CatSound_dataset/Fighting/car_extcoll0101.mp3\n"
     ]
    },
    {
     "name": "stderr",
     "output_type": "stream",
     "text": [
      "\r",
      "24it [00:06,  3.82it/s]"
     ]
    },
    {
     "name": "stdout",
     "output_type": "stream",
     "text": [
      "fixing audio length : ../CatSound_dataset/Fighting/car_extcoll0102.mp3\n",
      "input: 65489  load: 45504  offset: -19985\n"
     ]
    },
    {
     "name": "stderr",
     "output_type": "stream",
     "text": [
      "\r",
      "25it [00:06,  3.85it/s]"
     ]
    },
    {
     "name": "stdout",
     "output_type": "stream",
     "text": [
      "***data shape is wrong, replace it with zeros  (128, 110) ../CatSound_dataset/Fighting/car_extcoll0136.mp3\n"
     ]
    },
    {
     "name": "stderr",
     "output_type": "stream",
     "text": [
      "\r",
      "26it [00:07,  3.85it/s]"
     ]
    },
    {
     "name": "stdout",
     "output_type": "stream",
     "text": [
      "fixing audio length : ../CatSound_dataset/Fighting/car_extcoll0142.mp3\n",
      "input: 65489  load: 27072  offset: -38417\n"
     ]
    },
    {
     "name": "stderr",
     "output_type": "stream",
     "text": [
      "\r",
      "27it [00:07,  4.04it/s]"
     ]
    },
    {
     "name": "stdout",
     "output_type": "stream",
     "text": [
      "fixing audio length : ../CatSound_dataset/Fighting/car_extcoll0143.mp3\n",
      "input: 65489  load: 28800  offset: -36689\n"
     ]
    },
    {
     "name": "stderr",
     "output_type": "stream",
     "text": [
      "29it [00:07,  3.86it/s]"
     ]
    },
    {
     "name": "stdout",
     "output_type": "stream",
     "text": [
      "***data shape is wrong, replace it with zeros  (128, 111) ../CatSound_dataset/Fighting/car_extcoll0160.mp3\n"
     ]
    },
    {
     "name": "stderr",
     "output_type": "stream",
     "text": [
      "33it [00:08,  3.82it/s]"
     ]
    },
    {
     "name": "stdout",
     "output_type": "stream",
     "text": [
      "fixing audio length : ../CatSound_dataset/Happy/1294_1256854279.mp3\n",
      "input: 65489  load: 19843  offset: -45646\n"
     ]
    },
    {
     "name": "stderr",
     "output_type": "stream",
     "text": [
      "\r",
      "34it [00:09,  4.05it/s]"
     ]
    },
    {
     "name": "stdout",
     "output_type": "stream",
     "text": [
      "fixing audio length : ../CatSound_dataset/Happy/1295_1256854283.mp3\n",
      "input: 65489  load: 20002  offset: -45487\n"
     ]
    },
    {
     "name": "stderr",
     "output_type": "stream",
     "text": [
      "\r",
      "35it [00:09,  4.21it/s]"
     ]
    },
    {
     "name": "stdout",
     "output_type": "stream",
     "text": [
      "fixing audio length : ../CatSound_dataset/Happy/1296_1256854286.mp3\n",
      "input: 65489  load: 15267  offset: -50222\n"
     ]
    },
    {
     "name": "stderr",
     "output_type": "stream",
     "text": [
      "37it [00:09,  4.02it/s]"
     ]
    },
    {
     "name": "stdout",
     "output_type": "stream",
     "text": [
      "fixing audio length : ../CatSound_dataset/Happy/agressive.mp3\n",
      "input: 65489  load: 18168  offset: -47321\n"
     ]
    },
    {
     "name": "stderr",
     "output_type": "stream",
     "text": [
      "\r",
      "38it [00:09,  4.24it/s]"
     ]
    },
    {
     "name": "stdout",
     "output_type": "stream",
     "text": [
      "fixing audio length : ../CatSound_dataset/Happy/ANIM1027.mp3\n",
      "input: 65489  load: 13560  offset: -51929\n"
     ]
    },
    {
     "name": "stderr",
     "output_type": "stream",
     "text": [
      "\r",
      "39it [00:10,  4.46it/s]"
     ]
    },
    {
     "name": "stdout",
     "output_type": "stream",
     "text": [
      "fixing audio length : ../CatSound_dataset/Happy/car_extcoll0261.mp3\n",
      "input: 65489  load: 20736  offset: -44753\n"
     ]
    },
    {
     "name": "stderr",
     "output_type": "stream",
     "text": [
      "\r",
      "40it [00:10,  4.51it/s]"
     ]
    },
    {
     "name": "stdout",
     "output_type": "stream",
     "text": [
      "fixing audio length : ../CatSound_dataset/Happy/Cat (2).mp3\n",
      "input: 65489  load: 32256  offset: -33233\n"
     ]
    },
    {
     "name": "stderr",
     "output_type": "stream",
     "text": [
      "\r",
      "41it [00:10,  4.86it/s]"
     ]
    },
    {
     "name": "stdout",
     "output_type": "stream",
     "text": [
      "fixing audio length : ../CatSound_dataset/Happy/cat01.mp3\n",
      "input: 65489  load: 19008  offset: -46481\n"
     ]
    },
    {
     "name": "stderr",
     "output_type": "stream",
     "text": [
      "\r",
      "42it [00:10,  4.83it/s]"
     ]
    },
    {
     "name": "stdout",
     "output_type": "stream",
     "text": [
      "fixing audio length : ../CatSound_dataset/Happy/cat010.mp3\n",
      "input: 65489  load: 37440  offset: -28049\n"
     ]
    },
    {
     "name": "stderr",
     "output_type": "stream",
     "text": [
      "\r",
      "43it [00:11,  4.59it/s]"
     ]
    },
    {
     "name": "stdout",
     "output_type": "stream",
     "text": [
      "fixing audio length : ../CatSound_dataset/Happy/cat011.mp3\n",
      "input: 65489  load: 35136  offset: -30353\n"
     ]
    },
    {
     "name": "stderr",
     "output_type": "stream",
     "text": [
      "\r",
      "44it [00:11,  4.48it/s]"
     ]
    },
    {
     "name": "stdout",
     "output_type": "stream",
     "text": [
      "***data shape is wrong, replace it with zeros  (128, 125) ../CatSound_dataset/HuntingMind/car_extcoll0326.mp3\n"
     ]
    },
    {
     "name": "stderr",
     "output_type": "stream",
     "text": [
      "46it [00:11,  3.96it/s]"
     ]
    },
    {
     "name": "stdout",
     "output_type": "stream",
     "text": [
      "fixing audio length : ../CatSound_dataset/HuntingMind/car_extcoll0328.mp3\n",
      "input: 65489  load: 35712  offset: -29777\n"
     ]
    },
    {
     "name": "stderr",
     "output_type": "stream",
     "text": [
      "\r",
      "47it [00:12,  4.08it/s]"
     ]
    },
    {
     "name": "stdout",
     "output_type": "stream",
     "text": [
      "fixing audio length : ../CatSound_dataset/HuntingMind/car_extcoll0329.mp3\n",
      "input: 65489  load: 54720  offset: -10769\n"
     ]
    },
    {
     "name": "stderr",
     "output_type": "stream",
     "text": [
      "49it [00:12,  3.79it/s]"
     ]
    },
    {
     "name": "stdout",
     "output_type": "stream",
     "text": [
      "***data shape is wrong, replace it with zeros  (128, 118) ../CatSound_dataset/HuntingMind/car_extcoll0331.mp3\n"
     ]
    },
    {
     "name": "stderr",
     "output_type": "stream",
     "text": [
      "\r",
      "50it [00:12,  3.75it/s]"
     ]
    },
    {
     "name": "stdout",
     "output_type": "stream",
     "text": [
      "***data shape is wrong, replace it with zeros  (128, 123) ../CatSound_dataset/HuntingMind/car_extcoll0332.mp3\n"
     ]
    },
    {
     "name": "stderr",
     "output_type": "stream",
     "text": [
      "\r",
      "51it [00:13,  3.73it/s]"
     ]
    },
    {
     "name": "stdout",
     "output_type": "stream",
     "text": [
      "fixing audio length : ../CatSound_dataset/HuntingMind/cat01.mp3\n",
      "input: 65489  load: 52416  offset: -13073\n"
     ]
    },
    {
     "name": "stderr",
     "output_type": "stream",
     "text": [
      "54it [00:13,  3.65it/s]"
     ]
    },
    {
     "name": "stdout",
     "output_type": "stream",
     "text": [
      "fixing audio length : ../CatSound_dataset/HuntingMind/cat0202.mp3\n",
      "input: 65489  load: 33408  offset: -32081\n"
     ]
    },
    {
     "name": "stderr",
     "output_type": "stream",
     "text": [
      "57it [00:14,  3.68it/s]"
     ]
    },
    {
     "name": "stdout",
     "output_type": "stream",
     "text": [
      "***data shape is wrong, replace it with zeros  (128, 118) ../CatSound_dataset/Mating/cat011.mp3\n"
     ]
    },
    {
     "name": "stderr",
     "output_type": "stream",
     "text": [
      "73it [00:19,  3.50it/s]"
     ]
    },
    {
     "name": "stdout",
     "output_type": "stream",
     "text": [
      "***data shape is wrong, replace it with zeros  (128, 114) ../CatSound_dataset/MotherCall/cat017.mp3\n"
     ]
    },
    {
     "name": "stderr",
     "output_type": "stream",
     "text": [
      "\r",
      "74it [00:19,  3.61it/s]"
     ]
    },
    {
     "name": "stdout",
     "output_type": "stream",
     "text": [
      "***data shape is wrong, replace it with zeros  (128, 116) ../CatSound_dataset/MotherCall/cat019.mp3\n"
     ]
    },
    {
     "name": "stderr",
     "output_type": "stream",
     "text": [
      "78it [00:20,  3.87it/s]"
     ]
    },
    {
     "name": "stdout",
     "output_type": "stream",
     "text": [
      "fixing audio length : ../CatSound_dataset/Paining/angry2.mp3\n",
      "input: 65489  load: 32568  offset: -32921\n"
     ]
    },
    {
     "name": "stderr",
     "output_type": "stream",
     "text": [
      "\r",
      "79it [00:20,  3.99it/s]"
     ]
    },
    {
     "name": "stdout",
     "output_type": "stream",
     "text": [
      "***data shape is wrong, replace it with zeros  (128, 114) ../CatSound_dataset/Paining/car_extcoll0146.mp3\n"
     ]
    },
    {
     "name": "stderr",
     "output_type": "stream",
     "text": [
      "\r",
      "80it [00:21,  3.90it/s]"
     ]
    },
    {
     "name": "stdout",
     "output_type": "stream",
     "text": [
      "fixing audio length : ../CatSound_dataset/Paining/car_extcoll0147.mp3\n",
      "input: 65489  load: 35712  offset: -29777\n"
     ]
    },
    {
     "name": "stderr",
     "output_type": "stream",
     "text": [
      "\r",
      "81it [00:21,  3.97it/s]"
     ]
    },
    {
     "name": "stdout",
     "output_type": "stream",
     "text": [
      "fixing audio length : ../CatSound_dataset/Paining/car_extcoll0148.mp3\n",
      "input: 65489  load: 47808  offset: -17681\n"
     ]
    },
    {
     "name": "stderr",
     "output_type": "stream",
     "text": [
      "84it [00:22,  3.67it/s]"
     ]
    },
    {
     "name": "stdout",
     "output_type": "stream",
     "text": [
      "fixing audio length : ../CatSound_dataset/Paining/car_extcoll0188.mp3\n",
      "input: 65489  load: 35136  offset: -30353\n"
     ]
    },
    {
     "name": "stderr",
     "output_type": "stream",
     "text": [
      "87it [00:23,  3.61it/s]"
     ]
    },
    {
     "name": "stdout",
     "output_type": "stream",
     "text": [
      "fixing audio length : ../CatSound_dataset/Paining/car_extcoll0247.mp3\n",
      "input: 65489  load: 46080  offset: -19409\n"
     ]
    },
    {
     "name": "stderr",
     "output_type": "stream",
     "text": [
      "89it [00:23,  3.58it/s]"
     ]
    },
    {
     "name": "stdout",
     "output_type": "stream",
     "text": [
      "***data shape is wrong, replace it with zeros  (128, 125) ../CatSound_dataset/Resting/cat010.mp3\n"
     ]
    },
    {
     "name": "stderr",
     "output_type": "stream",
     "text": [
      "93it [00:24,  3.50it/s]"
     ]
    },
    {
     "name": "stdout",
     "output_type": "stream",
     "text": [
      "***data shape is wrong, replace it with zeros  (128, 111) ../CatSound_dataset/Resting/cat05.mp3\n"
     ]
    },
    {
     "name": "stderr",
     "output_type": "stream",
     "text": [
      "100it [00:26,  3.45it/s]"
     ]
    },
    {
     "name": "stdout",
     "output_type": "stream",
     "text": [
      "fixing audio length : ../CatSound_dataset/Warning/car_extcoll0178.mp3\n",
      "input: 65489  load: 50112  offset: -15377\n"
     ]
    },
    {
     "name": "stderr",
     "output_type": "stream",
     "text": [
      "\r",
      "101it [00:26,  3.58it/s]"
     ]
    },
    {
     "name": "stdout",
     "output_type": "stream",
     "text": [
      "***data shape is wrong, replace it with zeros  (128, 127) ../CatSound_dataset/Warning/car_extcoll0182.mp3\n"
     ]
    },
    {
     "name": "stderr",
     "output_type": "stream",
     "text": [
      "108it [00:28,  3.71it/s]"
     ]
    },
    {
     "name": "stdout",
     "output_type": "stream",
     "text": [
      "fixing audio length : ../CatSound_dataset/Warning/car_extcoll0243.mp3\n",
      "input: 65489  load: 53568  offset: -11921\n"
     ]
    },
    {
     "name": "stderr",
     "output_type": "stream",
     "text": [
      "110it [00:29,  3.75it/s]\n"
     ]
    },
    {
     "name": "stdout",
     "output_type": "stream",
     "text": [
      "Number of train samples:  2698\n",
      "peak memory: 599.07 MiB, increment: 16.62 MiB\n",
      "Wall time: 30.1 s\n"
     ]
    }
   ],
   "source": [
    "%%time\n",
    "%%memit \n",
    "\n",
    "\n",
    "#load test data\n",
    "test_audio_data = []\n",
    "test_object_file='saved_test_audio_data.p'\n",
    "\n",
    "#override the reload flag if serized file doesn't exist\n",
    "if not os.path.isfile(test_object_file):\n",
    "    SKIP_AUDIO_RELOAD = False\n",
    "\n",
    "if SKIP_AUDIO_RELOAD is True:\n",
    "    print (\"skip re-loading TEST data from audio files\")\n",
    "else:\n",
    "    print (\"loading test audio data, may take more than 15 minutes. please wait!\")\n",
    "    for row in tqdm(valid_test_data.itertuples()):\n",
    "        ps = load_audio_file(file_path=row.path, duration=2.97)\n",
    "        if ps.shape != (128, 128):\n",
    "            print (\"***data shape is wrong, replace it with zeros \", ps.shape, row.path)\n",
    "            ps = np.zeros([128, 128])\n",
    "            #continue\n",
    "        test_audio_data.append( (ps, row.label) ) \n",
    "    print(\"Number of train samples: \", len(train_audio_data))\n",
    "    \n",
    "# this step took sometime to finish    3251\n",
    "#peak memory: 1586.96 MiB, increment: 445.65 MiB\n",
    "#CPU times: user 9min 32s, sys: 9min 37s, total: 19min 10s"
   ]
  },
  {
   "cell_type": "code",
   "execution_count": 96,
   "metadata": {},
   "outputs": [
    {
     "name": "stdout",
     "output_type": "stream",
     "text": [
      "save loaded test data : 110\n"
     ]
    }
   ],
   "source": [
    "# load saved data\n",
    "if SKIP_AUDIO_RELOAD is True:\n",
    "    test_audio_data = cPickle.load(open(test_object_file, 'rb'))\n",
    "    print (\"loaded test data [%s] records from object file\" % len(test_audio_data))      \n",
    "else:\n",
    "    cPickle.dump(test_audio_data, open(test_object_file, 'wb')) \n",
    "    print (\"save loaded test data :\", len(test_audio_data))"
   ]
  },
  {
   "cell_type": "code",
   "execution_count": 384,
   "metadata": {},
   "outputs": [
    {
     "name": "stdout",
     "output_type": "stream",
     "text": [
      "unique text labels count:  2950\n"
     ]
    },
    {
     "name": "stdout",
     "output_type": "stream",
     "text": [
      "labels:  ['../CatSound_dataset/Angry/Cat_Angry1026.mp3', '../CatSound_dataset/Angry/Cat_Angry1027.mp3', '../CatSound_dataset/Angry/Cat_Angry1028.mp3', '../CatSound_dataset/Angry/Cat_Angry1029.mp3', '../CatSound_dataset/Angry/Cat_Angry1030.mp3', '../CatSound_dataset/Angry/Cat_Angry1031.mp3', '../CatSound_dataset/Angry/Cat_Angry1032.mp3', '../CatSound_dataset/Angry/Cat_Angry1033.mp3', '../CatSound_dataset/Angry/Cat_Angry1034.mp3', '../CatSound_dataset/Angry/Cat_Angry1035.mp3', '../CatSound_dataset/Angry/Cat_Angry1036.mp3', '../CatSound_dataset/Angry/Cat_Angry1037.mp3', '../CatSound_dataset/Angry/Cat_Angry1038.mp3', '../CatSound_dataset/Angry/Cat_Angry1039.mp3', '../CatSound_dataset/Angry/Cat_Angry1040.mp3', '../CatSound_dataset/Angry/Cat_Angry1042.mp3', '../CatSound_dataset/Angry/Cat_Angry1043.mp3', '../CatSound_dataset/Angry/Cat_Angry1044.mp3', '../CatSound_dataset/Angry/Cat_Angry1045.mp3', '../CatSound_dataset/Angry/Cat_Angry1046.mp3', '../CatSound_dataset/Angry/Cat_Angry1047.mp3', '../CatSound_dataset/Angry/Cat_Angry1048.mp3', '../CatSound_dataset/Angry/Cat_angry1015.mp3', '../CatSound_dataset/Angry/Cat_angry1016.mp3', '../CatSound_dataset/Angry/Cat_angry1017.mp3', '../CatSound_dataset/Angry/Cat_angry1018.mp3', '../CatSound_dataset/Angry/Cat_angry1019.mp3', '../CatSound_dataset/Angry/Cat_angry1020.mp3', '../CatSound_dataset/Angry/Cat_angry1021.mp3', '../CatSound_dataset/Angry/Cat_angry1022.mp3', '../CatSound_dataset/Angry/Cat_angry1023.mp3', '../CatSound_dataset/Angry/Cat_angry1024.mp3', '../CatSound_dataset/Angry/Edit9001Ang (2).mp3', '../CatSound_dataset/Angry/Edit9004Ang.mp3', '../CatSound_dataset/Angry/Edit9011Ang.mp3', '../CatSound_dataset/Angry/FIGHT_CONFUSION (1).mp3', '../CatSound_dataset/Angry/FIGHT_CONFUSION (2).mp3', '../CatSound_dataset/Angry/FIGHT_CONFUSION (3).mp3', '../CatSound_dataset/Angry/FIGHT_CONFUSION (4).mp3', '../CatSound_dataset/Angry/FIGHT_CONFUSION (5).mp3', '../CatSound_dataset/Angry/FIGHT_CONFUSION (6).mp3', '../CatSound_dataset/Angry/FIGHT_CONFUSION (7).mp3', '../CatSound_dataset/Angry/FIGHT_CONFUSION (8).mp3', '../CatSound_dataset/Angry/FIGHT_CONFUSION (9).mp3', '../CatSound_dataset/Angry/LastEntry_cat1002Ang.mp3', '../CatSound_dataset/Angry/LastEntry_cat1003Ang.mp3', '../CatSound_dataset/Angry/LastEntry_cat1008Ang.mp3', '../CatSound_dataset/Angry/LastEntry_cat1010Ang.mp3', '../CatSound_dataset/Angry/LastEntry_cat1057Ang.mp3', '../CatSound_dataset/Angry/LastEntry_cat1070Ang.mp3', '../CatSound_dataset/Angry/LastEntry_cat1209Ang.mp3', '../CatSound_dataset/Angry/LastEntry_cat1261Ang.mp3', '../CatSound_dataset/Angry/LastEntry_cat1262Ang.mp3', '../CatSound_dataset/Angry/LastEntry_cat1263Ang.mp3', '../CatSound_dataset/Angry/LastEntry_cat1264Ang.mp3', '../CatSound_dataset/Angry/LastEntry_cat1265Ang.mp3', '../CatSound_dataset/Angry/LastEntry_cat1266Ang.mp3', '../CatSound_dataset/Angry/LastEntry_cat1267Ang.mp3', '../CatSound_dataset/Angry/LastEntry_cat1268Ang.mp3', '../CatSound_dataset/Angry/LastEntry_cat1269Ang.mp3', '../CatSound_dataset/Angry/LastEntry_cat1270Ang.mp3', '../CatSound_dataset/Angry/LastEntry_cat1271Ang.mp3', '../CatSound_dataset/Angry/LastEntry_cat1272Ang.mp3', '../CatSound_dataset/Angry/LastEntry_cat1273Ang.mp3', '../CatSound_dataset/Angry/LastEntry_cat1274Ang.mp3', '../CatSound_dataset/Angry/LastEntry_cat1275Ang.mp3', '../CatSound_dataset/Angry/LastEntry_cat1276Ang.mp3', '../CatSound_dataset/Angry/LastEntry_cat1277Ang.mp3', '../CatSound_dataset/Angry/LastEntry_cat1278Ang.mp3', '../CatSound_dataset/Angry/LastEntry_cat1279Ang (2).mp3', '../CatSound_dataset/Angry/LastEntry_cat1279Ang.mp3', '../CatSound_dataset/Angry/LastEntry_cat1280Ang.mp3', '../CatSound_dataset/Angry/LastEntry_cat1281Ang.mp3', '../CatSound_dataset/Angry/Last_addCat106Ang.mp3', '../CatSound_dataset/Angry/Last_addCat107Ang.mp3', '../CatSound_dataset/Angry/Last_addCat108Ang.mp3', '../CatSound_dataset/Angry/Last_addCat109Hiss (2).mp3', '../CatSound_dataset/Angry/Last_addCat110Ang.mp3', '../CatSound_dataset/Angry/Last_addCat173Ang.mp3', '../CatSound_dataset/Angry/Last_addCat246Ang.mp3', '../CatSound_dataset/Angry/Last_addCat247Ang.mp3', '../CatSound_dataset/Angry/Last_addCat248Ang.mp3', '../CatSound_dataset/Angry/Last_addCat249Ang.mp3', '../CatSound_dataset/Angry/Last_addCat250Ang.mp3', '../CatSound_dataset/Angry/Last_addCat253Angry.mp3', '../CatSound_dataset/Angry/Last_addCat255Ang.mp3', '../CatSound_dataset/Angry/Last_addCat256Ang.mp3', '../CatSound_dataset/Angry/Last_addCat257Ang.mp3', '../CatSound_dataset/Angry/Last_addCat271Ang.mp3', '../CatSound_dataset/Angry/Last_addCat280Ang.mp3', '../CatSound_dataset/Angry/Last_addCat281Ang.mp3', '../CatSound_dataset/Angry/Last_addCat285Ang.mp3', '../CatSound_dataset/Angry/Last_addCat287Ang.mp3', '../CatSound_dataset/Angry/Last_addCat293Ang.mp3', '../CatSound_dataset/Angry/Last_addCat294Ang.mp3', '../CatSound_dataset/Angry/Last_addCat316Ang.mp3', '../CatSound_dataset/Angry/Last_addCat320Angry.mp3', '../CatSound_dataset/Angry/Last_addCat342Ang.mp3', '../CatSound_dataset/Angry/Last_addCat358Ang.mp3', '../CatSound_dataset/Angry/Last_addCat359Ang.mp3', '../CatSound_dataset/Angry/Last_addCat360Ang.mp3', '../CatSound_dataset/Angry/Last_addCat361Ang.mp3', '../CatSound_dataset/Angry/Online_Cat0525veryAng.mp3', '../CatSound_dataset/Angry/Online_Cat0526veryAng.mp3', '../CatSound_dataset/Angry/Online_Cat0527VeryAng.mp3', '../CatSound_dataset/Angry/Online_Cat0528VeryAng.mp3', '../CatSound_dataset/Angry/Online_Cat0529VeryAng.mp3', '../CatSound_dataset/Angry/Online_Cat0530VeryAng.mp3', '../CatSound_dataset/Angry/Online_Cat0531VeryAng.mp3', '../CatSound_dataset/Angry/Online_Cat0532VeryAng.mp3', '../CatSound_dataset/Angry/Online_Cat0533VeryAng (2).mp3', '../CatSound_dataset/Angry/Online_Cat0533VeryAng (3).mp3', '../CatSound_dataset/Angry/Online_Cat0533VeryAng.mp3', '../CatSound_dataset/Angry/Online_Cat0550VeryAngry.mp3', '../CatSound_dataset/Angry/YashLL_Cat0210Ang.mp3', '../CatSound_dataset/Angry/YashLL_Cat0211Ang.mp3', '../CatSound_dataset/Angry/YashLL_Cat0212Ang.mp3', '../CatSound_dataset/Angry/YashLL_Cat0213Ang.mp3', '../CatSound_dataset/Angry/YashLL_Cat0247Angry.mp3', '../CatSound_dataset/Angry/YashLL_Cat0248Angry.mp3', '../CatSound_dataset/Angry/YashLL_Cat0253Ang (2).mp3', '../CatSound_dataset/Angry/YashLL_Cat0253Ang.mp3', '../CatSound_dataset/Angry/YashLL_Cat0254Ang.mp3', '../CatSound_dataset/Angry/YashLL_Cat0255Ang.mp3', '../CatSound_dataset/Angry/YashLL_Cat0256Ang.mp3', '../CatSound_dataset/Angry/YashLL_Cat0257Ang.mp3', '../CatSound_dataset/Angry/YashLL_Cat0265Ang (2).mp3', '../CatSound_dataset/Angry/YashLL_Cat0265Ang.mp3', '../CatSound_dataset/Angry/YashLL_Cat0266Ang.mp3', '../CatSound_dataset/Angry/YashLL_Cat0267Ang.mp3', '../CatSound_dataset/Angry/YashLL_Cat0268Ang.mp3', '../CatSound_dataset/Angry/YashLL_Cat0269Ang.mp3', '../CatSound_dataset/Angry/YashLL_Cat0270Ang.mp3', '../CatSound_dataset/Angry/YashLL_Cat0271Ang.mp3', '../CatSound_dataset/Angry/YashLL_Cat0272Ang.mp3', '../CatSound_dataset/Angry/YashLL_Cat0273Ang.mp3', '../CatSound_dataset/Angry/YashLL_Cat0274Ang.mp3', '../CatSound_dataset/Angry/YashLL_Cat0275Ang.mp3', '../CatSound_dataset/Angry/YashLL_Cat0276Ang.mp3', '../CatSound_dataset/Angry/YashLL_Cat0277Ang.mp3', '../CatSound_dataset/Angry/YashLL_Cat0278Ang.mp3', '../CatSound_dataset/Angry/YashLL_Cat0279Ang.mp3', '../CatSound_dataset/Angry/YashLL_Cat0280Ang (2).mp3', '../CatSound_dataset/Angry/YashLL_Cat0280Ang.mp3', '../CatSound_dataset/Angry/YashLL_Cat0281Ang.mp3', '../CatSound_dataset/Angry/YashLL_Cat0282Ang.mp3', '../CatSound_dataset/Angry/YashLL_Cat0283Ang.mp3', '../CatSound_dataset/Angry/YashLL_Cat0284Ang.mp3', '../CatSound_dataset/Angry/YashLL_Cat0285Ang.mp3', '../CatSound_dataset/Angry/YashLL_Cat0286Ang.mp3', '../CatSound_dataset/Angry/YashLL_Cat0287Ang.mp3', '../CatSound_dataset/Angry/YashLL_Cat0288Ang.mp3', '../CatSound_dataset/Angry/YashLL_Cat0289Ang.mp3', '../CatSound_dataset/Angry/YashLL_Cat0290Ang.mp3', '../CatSound_dataset/Angry/YashLL_Cat0291Ang.mp3', '../CatSound_dataset/Angry/YashLL_Cat0292Ang.mp3', '../CatSound_dataset/Angry/YashLL_Cat0293Ang.mp3', '../CatSound_dataset/Angry/YashLL_Cat0294Ang.mp3', '../CatSound_dataset/Angry/YashLL_Cat0295Ang.mp3', '../CatSound_dataset/Angry/YashLL_Cat0296Ang (2).mp3', '../CatSound_dataset/Angry/YashLL_Cat0296Ang.mp3', '../CatSound_dataset/Angry/car_extcoll0103.mp3', '../CatSound_dataset/Angry/car_extcoll0104.mp3', '../CatSound_dataset/Angry/car_extcoll0117.mp3', '../CatSound_dataset/Angry/car_extcoll0128.mp3', '../CatSound_dataset/Angry/car_extcoll0149.mp3', '../CatSound_dataset/Angry/car_extcoll0150.mp3', '../CatSound_dataset/Angry/car_extcoll0151.mp3', '../CatSound_dataset/Angry/car_extcoll0155.mp3', '../CatSound_dataset/Angry/car_extcoll0156.mp3', '../CatSound_dataset/Angry/car_extcoll0162.mp3', '../CatSound_dataset/Angry/car_extcoll0169.mp3', '../CatSound_dataset/Angry/car_extcoll0171.mp3', '../CatSound_dataset/Angry/car_extcoll01716.mp3', '../CatSound_dataset/Angry/car_extcoll0172.mp3', '../CatSound_dataset/Angry/car_extcoll01728.mp3', '../CatSound_dataset/Angry/car_extcoll0174.mp3', '../CatSound_dataset/Angry/car_extcoll0175.mp3', '../CatSound_dataset/Angry/car_extcoll0177.mp3', '../CatSound_dataset/Angry/car_extcoll0191.mp3', '../CatSound_dataset/Angry/car_extcoll0212.mp3', '../CatSound_dataset/Angry/car_extcoll0215.mp3', '../CatSound_dataset/Angry/car_extcoll0217.mp3', '../CatSound_dataset/Angry/car_extcoll0227.mp3', '../CatSound_dataset/Angry/car_extcoll02418.mp3', '../CatSound_dataset/Angry/car_extcoll0244.mp3', '../CatSound_dataset/Angry/car_extcoll0247.mp3', '../CatSound_dataset/Angry/car_extcoll0306.mp3', '../CatSound_dataset/Angry/car_extcoll0307.mp3', '../CatSound_dataset/Angry/cat014.mp3', '../CatSound_dataset/Angry/cat02.mp3', '../CatSound_dataset/Angry/cat03.mp3', '../CatSound_dataset/Angry/cat0319.mp3', '../CatSound_dataset/Angry/cat0327.mp3', '../CatSound_dataset/Angry/cat0328.mp3', '../CatSound_dataset/Angry/cat0329.mp3', '../CatSound_dataset/Angry/cat0330.mp3', '../CatSound_dataset/Angry/cat0331.mp3', '../CatSound_dataset/Angry/cat0344.mp3', '../CatSound_dataset/Angry/cat0350.mp3', '../CatSound_dataset/Angry/cat0367.mp3', '../CatSound_dataset/Angry/cat0368.mp3', '../CatSound_dataset/Angry/cat0371.mp3', '../CatSound_dataset/Angry/cat0374.mp3', '../CatSound_dataset/Angry/cat0375.mp3', '../CatSound_dataset/Angry/cat0376.mp3', '../CatSound_dataset/Angry/cat0377.mp3', '../CatSound_dataset/Angry/cat0378.mp3', '../CatSound_dataset/Angry/cat0381.mp3', '../CatSound_dataset/Angry/cat0382.mp3', '../CatSound_dataset/Angry/cat0383.mp3', '../CatSound_dataset/Angry/cat04.mp3', '../CatSound_dataset/Angry/cat05.mp3', '../CatSound_dataset/Angry/cat06.mp3', '../CatSound_dataset/Angry/cat07.mp3', '../CatSound_dataset/Angry/cat08.mp3', '../CatSound_dataset/Angry/cat09.mp3', '../CatSound_dataset/Angry/cat13.mp3', '../CatSound_dataset/Angry/cat13sd.mp3', '../CatSound_dataset/Angry/cat14.mp3', '../CatSound_dataset/Angry/cat15.mp3', '../CatSound_dataset/Angry/cat16.mp3', '../CatSound_dataset/Angry/cat17.mp3', '../CatSound_dataset/Angry/cat18.mp3', '../CatSound_dataset/Angry/cat24.mp3', '../CatSound_dataset/Angry/cat25.mp3', '../CatSound_dataset/Angry/cat27.mp3', '../CatSound_dataset/Angry/cat29.mp3', '../CatSound_dataset/Angry/cat_101.mp3', '../CatSound_dataset/Angry/cat_102.mp3', '../CatSound_dataset/Angry/cat_103.mp3', '../CatSound_dataset/Angry/cat_flickr01303.mp3', '../CatSound_dataset/Angry/cat_flickr01305.mp3', '../CatSound_dataset/Angry/cat_flickr01306.mp3', '../CatSound_dataset/Angry/cat_flickr01307.mp3', '../CatSound_dataset/Angry/cat_flickr01322.mp3', '../CatSound_dataset/Angry/cat_flickr01323.mp3', '../CatSound_dataset/Angry/cat_flickr01339.mp3', '../CatSound_dataset/Angry/cat_flickr01340.mp3', '../CatSound_dataset/Angry/cat_flickr01344.mp3', '../CatSound_dataset/Angry/cat_flickr0136.mp3', '../CatSound_dataset/Angry/cat_flickr0138.mp3', '../CatSound_dataset/Angry/cat_flickr0139.mp3', '../CatSound_dataset/Angry/cat_flickr0140.mp3', '../CatSound_dataset/Angry/cat_flickr01407.mp3', '../CatSound_dataset/Angry/cat_flickr01408.mp3', '../CatSound_dataset/Angry/cat_flickr0141.mp3', '../CatSound_dataset/Angry/cat_flickr01416.mp3', '../CatSound_dataset/Angry/cat_flickr01417.mp3', '../CatSound_dataset/Angry/cat_flickr0142.mp3', '../CatSound_dataset/Angry/cat_flickr01420.mp3', '../CatSound_dataset/Angry/cat_flickr0143.mp3', '../CatSound_dataset/Angry/cat_flickr01431.mp3', '../CatSound_dataset/Angry/cat_flickr01435.mp3', '../CatSound_dataset/Angry/cat_flickr01436.mp3', '../CatSound_dataset/Angry/cat_flickr01437.mp3', '../CatSound_dataset/Angry/cat_flickr01438.mp3', '../CatSound_dataset/Angry/cat_flickr0144.mp3', '../CatSound_dataset/Angry/cat_flickr01441.mp3', '../CatSound_dataset/Angry/cat_flickr01442.mp3', '../CatSound_dataset/Angry/cat_flickr01446.mp3', '../CatSound_dataset/Angry/cat_flickr01447.mp3', '../CatSound_dataset/Angry/cat_flickr01452.mp3', '../CatSound_dataset/Angry/cat_flickr01453.mp3', '../CatSound_dataset/Angry/cat_flickr01454.mp3', '../CatSound_dataset/Angry/cat_flickr01456.mp3', '../CatSound_dataset/Angry/cat_flickr01458.mp3', '../CatSound_dataset/Angry/cat_flickr01463.mp3', '../CatSound_dataset/Angry/cat_flickr01476.mp3', '../CatSound_dataset/Angry/cat_flickr014761.mp3', '../CatSound_dataset/Angry/cat_flickr01477.mp3', '../CatSound_dataset/Angry/cat_flickr014771.mp3', '../CatSound_dataset/Angry/cat_flickr01478.mp3', '../CatSound_dataset/Angry/cat_flickr01479.mp3', '../CatSound_dataset/Angry/cat_flickr0148.mp3', '../CatSound_dataset/Angry/cat_flickr01480.mp3', '../CatSound_dataset/Angry/cat_flickr01481.mp3', '../CatSound_dataset/Angry/cat_flickr014821.mp3', '../CatSound_dataset/Angry/cat_flickr0149.mp3', '../CatSound_dataset/Angry/cat_flickr01493.mp3', '../CatSound_dataset/Angry/cat_flickr01494.mp3', '../CatSound_dataset/Angry/cat_flickr01495.mp3', '../CatSound_dataset/Angry/cat_flickr01496.mp3', '../CatSound_dataset/Angry/cat_flickr014971.mp3', '../CatSound_dataset/Angry/cat_flickr01498.mp3', '../CatSound_dataset/Angry/cat_flickr01499.mp3', '../CatSound_dataset/Angry/cat_flickr01501.mp3', '../CatSound_dataset/Angry/cat_flickr01502.mp3', '../CatSound_dataset/Angry/cat_flickr01503.mp3', '../CatSound_dataset/Angry/cat_flickr01504.mp3', '../CatSound_dataset/Angry/cat_flickr0161.mp3', '../CatSound_dataset/Angry/cat_flickr0162.mp3', '../CatSound_dataset/Angry/cat_flickr0163.mp3', '../CatSound_dataset/Angry/cat_flickr0164.mp3', '../CatSound_dataset/Angry/cat_flickr0166.mp3', '../CatSound_dataset/Angry/cat_flickr0167.mp3', '../CatSound_dataset/Angry/cat_flickr0168.mp3', '../CatSound_dataset/Angry/cat_flickr0169.mp3', '../CatSound_dataset/Angry/newang.mp3', '../CatSound_dataset/Defence/Cat_HIss10023.mp3', '../CatSound_dataset/Defence/Cat_HIss10024.mp3', '../CatSound_dataset/Defence/Cat_HIss10028.mp3', '../CatSound_dataset/Defence/Cat_HIss10031.mp3', '../CatSound_dataset/Defence/Cat_HIss10033.mp3', '../CatSound_dataset/Defence/Cat_HIss10034.mp3', '../CatSound_dataset/Defence/Cat_HIss10035.mp3', '../CatSound_dataset/Defence/Cat_HIss10036.mp3', '../CatSound_dataset/Defence/Cat_HIss1051.mp3', '../CatSound_dataset/Defence/Cat_HIss1093.mp3', '../CatSound_dataset/Defence/Cat_Hass1043.mp3', '../CatSound_dataset/Defence/Cat_Hass1050.mp3', '../CatSound_dataset/Defence/Cat_Hass1054.mp3', '../CatSound_dataset/Defence/Cat_Hass1066.mp3', '../CatSound_dataset/Defence/Cat_Hiss10010.mp3', '../CatSound_dataset/Defence/Cat_Hiss10012.mp3', '../CatSound_dataset/Defence/Cat_Hiss10013.mp3', '../CatSound_dataset/Defence/Cat_Hiss10038.mp3', '../CatSound_dataset/Defence/Cat_Hiss10043.mp3', '../CatSound_dataset/Defence/Cat_Hiss10044.mp3', '../CatSound_dataset/Defence/Cat_Hiss10045.mp3', '../CatSound_dataset/Defence/Cat_Hiss10047.mp3', '../CatSound_dataset/Defence/Cat_Hiss10048.mp3', '../CatSound_dataset/Defence/Cat_Hiss10049.mp3', '../CatSound_dataset/Defence/Cat_Hiss10051.mp3', '../CatSound_dataset/Defence/Cat_Hiss10053.mp3', '../CatSound_dataset/Defence/Cat_Hiss10054.mp3', '../CatSound_dataset/Defence/Cat_Hiss10055.mp3', '../CatSound_dataset/Defence/Cat_Hiss10056.mp3', '../CatSound_dataset/Defence/Cat_Hiss10057.mp3', '../CatSound_dataset/Defence/Cat_Hiss10059.mp3', '../CatSound_dataset/Defence/Cat_Hiss10060.mp3', '../CatSound_dataset/Defence/Cat_Hiss10061.mp3', '../CatSound_dataset/Defence/Cat_Hiss100613.mp3', '../CatSound_dataset/Defence/Cat_Hiss10062.mp3', '../CatSound_dataset/Defence/Cat_Hiss10063.mp3', '../CatSound_dataset/Defence/Cat_Hiss10064.mp3', '../CatSound_dataset/Defence/Cat_Hiss10065.mp3', '../CatSound_dataset/Defence/Cat_Hiss1041.mp3', '../CatSound_dataset/Defence/Cat_Hiss10515.mp3', '../CatSound_dataset/Defence/Cat_Hiss1060.mp3', '../CatSound_dataset/Defence/Cat_Hiss1061.mp3', '../CatSound_dataset/Defence/Cat_Hiss1065.mp3', '../CatSound_dataset/Defence/Cat_Hiss1071.mp3', '../CatSound_dataset/Defence/Cat_Hiss1073.mp3', '../CatSound_dataset/Defence/Cat_Hiss1075.mp3', '../CatSound_dataset/Defence/Cat_Hiss1077.mp3', '../CatSound_dataset/Defence/Cat_Hiss1078.mp3', '../CatSound_dataset/Defence/Cat_Hiss1083.mp3', '../CatSound_dataset/Defence/Cat_Hiss1088.mp3', '../CatSound_dataset/Defence/Cat_Hiss1095.mp3', '../CatSound_dataset/Defence/Cat_Hiss1096.mp3', '../CatSound_dataset/Defence/Cat_Hiss1097.mp3', '../CatSound_dataset/Defence/Cat_Hissing1025.mp3', '../CatSound_dataset/Defence/Cat_YoutubeLLT42345.mp3', '../CatSound_dataset/Defence/Cat_YoutubeLLT42347.mp3', '../CatSound_dataset/Defence/Cat_YoutubeLLT42357 (2).mp3', '../CatSound_dataset/Defence/Cat_YoutubeLLT42359.mp3', '../CatSound_dataset/Defence/Cat_YoutubeLLT42360.mp3', '../CatSound_dataset/Defence/Cat_YoutubeLLT42361.mp3', '../CatSound_dataset/Defence/Cat_YoutubeLLT42363.mp3', '../CatSound_dataset/Defence/Cat_YoutubeLLT42364.mp3', '../CatSound_dataset/Defence/Cat_YoutubeLLT42366 (2).mp3', '../CatSound_dataset/Defence/Cat_YoutubeLLT42366.mp3', '../CatSound_dataset/Defence/Cat_hiss.mp3', '../CatSound_dataset/Defence/Cathiss1010.mp3', '../CatSound_dataset/Defence/Edit9001Hiss (2).mp3', '../CatSound_dataset/Defence/Edit9001Hiss.mp3', '../CatSound_dataset/Defence/Edit9003Hiss.mp3', '../CatSound_dataset/Defence/Edit9006Hiss.mp3', '../CatSound_dataset/Defence/Edit9013Hiss.mp3', '../CatSound_dataset/Defence/Edit9014Hiss.mp3', '../CatSound_dataset/Defence/Edit9015Hiss.mp3', '../CatSound_dataset/Defence/Edit9016Hiss.mp3', '../CatSound_dataset/Defence/Edit9017Hiss.mp3', '../CatSound_dataset/Defence/Edit9018Hiss.mp3', '../CatSound_dataset/Defence/Edit9019Hiss.mp3', '../CatSound_dataset/Defence/Edit9020Hiss.mp3', '../CatSound_dataset/Defence/Edit9021Hiss.mp3', '../CatSound_dataset/Defence/Edit9022Hiss.mp3', '../CatSound_dataset/Defence/Edit9024Hiss.mp3', '../CatSound_dataset/Defence/Edit9025Hiss.mp3', '../CatSound_dataset/Defence/Edit9027Hiss.mp3', '../CatSound_dataset/Defence/Edit9028Hiss.mp3', '../CatSound_dataset/Defence/Edit9029Hiss.mp3', '../CatSound_dataset/Defence/Edit9030Hiss.mp3', '../CatSound_dataset/Defence/Edit9031Hiss.mp3', '../CatSound_dataset/Defence/Edit9032Hiss.mp3', '../CatSound_dataset/Defence/Edit9033Hiss.mp3', '../CatSound_dataset/Defence/Edit9034Hiss.mp3', '../CatSound_dataset/Defence/Edit9035Hiss.mp3', '../CatSound_dataset/Defence/Edit9036Hiss.mp3', '../CatSound_dataset/Defence/Edit9038Hiss.mp3', '../CatSound_dataset/Defence/Edit9039Hiss.mp3', '../CatSound_dataset/Defence/Edit9040Hiss.mp3', '../CatSound_dataset/Defence/Edit9041Hiss.mp3', '../CatSound_dataset/Defence/Edit9042Hiss.mp3', '../CatSound_dataset/Defence/Edit9043Hiss.mp3', '../CatSound_dataset/Defence/Edit9044Hiss.mp3', '../CatSound_dataset/Defence/Edit9045Hiss.mp3', '../CatSound_dataset/Defence/Edit9046Hiss.mp3', '../CatSound_dataset/Defence/Edit9047Hiss.mp3', '../CatSound_dataset/Defence/Edit9048Hiss.mp3', '../CatSound_dataset/Defence/Edit9049Hiss.mp3', '../CatSound_dataset/Defence/Edit9050Hiss.mp3', '../CatSound_dataset/Defence/Edit9051Hiss.mp3', '../CatSound_dataset/Defence/Edit9053Hiss.mp3', '../CatSound_dataset/Defence/Edit9055Hiss.mp3', '../CatSound_dataset/Defence/Edit9056Hiss.mp3', '../CatSound_dataset/Defence/Edit9057Hiss.mp3', '../CatSound_dataset/Defence/Edit9058Hiss.mp3', '../CatSound_dataset/Defence/Edit9060Hiss.mp3', '../CatSound_dataset/Defence/Edit9061Hiss.mp3', '../CatSound_dataset/Defence/Edit9062Hiss.mp3', '../CatSound_dataset/Defence/Edit9063Hiss.mp3', '../CatSound_dataset/Defence/Edit9064Hiss.mp3', '../CatSound_dataset/Defence/Edit9065Hiss.mp3', '../CatSound_dataset/Defence/Edit9066Hiss.mp3', '../CatSound_dataset/Defence/Edit9067Hiss.mp3', '../CatSound_dataset/Defence/Edit9068Hiss.mp3', '../CatSound_dataset/Defence/Edit9069Hiss.mp3', '../CatSound_dataset/Defence/Edit9070Hiss.mp3', '../CatSound_dataset/Defence/Edit9071Hiss.mp3', '../CatSound_dataset/Defence/Edit9072Hiss.mp3', '../CatSound_dataset/Defence/Edit9073Hiss.mp3', '../CatSound_dataset/Defence/Edit9074Hiss.mp3', '../CatSound_dataset/Defence/Edit9075Hiss.mp3', '../CatSound_dataset/Defence/Edit9076Hiss.mp3', '../CatSound_dataset/Defence/Edit9078Hiss.mp3', '../CatSound_dataset/Defence/Edit9079Hiss.mp3', '../CatSound_dataset/Defence/Edit9080Hiss.mp3', '../CatSound_dataset/Defence/Edit9081Hiss.mp3', '../CatSound_dataset/Defence/Edit9112Hiss.mp3', '../CatSound_dataset/Defence/Edit9114Hiss.mp3', '../CatSound_dataset/Defence/Edit9115Hiss.mp3', '../CatSound_dataset/Defence/Edit9116Hiss.mp3', '../CatSound_dataset/Defence/Edit9119Hiss.mp3', '../CatSound_dataset/Defence/LastEntry_cat1001Hiss.mp3', '../CatSound_dataset/Defence/LastEntry_cat1013Hiss.mp3', '../CatSound_dataset/Defence/LastEntry_cat1017Hiss (2).mp3', '../CatSound_dataset/Defence/LastEntry_cat1017Hiss.mp3', '../CatSound_dataset/Defence/LastEntry_cat1042Hiss.mp3', '../CatSound_dataset/Defence/LastEntry_cat1044Hiss.mp3', '../CatSound_dataset/Defence/LastEntry_cat1045Hiss.mp3', '../CatSound_dataset/Defence/LastEntry_cat1046Hiss.mp3', '../CatSound_dataset/Defence/LastEntry_cat1047Hiss.mp3', '../CatSound_dataset/Defence/LastEntry_cat1071Hiss (2).mp3', '../CatSound_dataset/Defence/LastEntry_cat1071Hiss.mp3', '../CatSound_dataset/Defence/LastEntry_cat1073Hiss.mp3', '../CatSound_dataset/Defence/LastEntry_cat1074Hiss.mp3', '../CatSound_dataset/Defence/LastEntry_cat1076Hiss.mp3', '../CatSound_dataset/Defence/LastEntry_cat1077Hiss.mp3', '../CatSound_dataset/Defence/LastEntry_cat1078Hiss.mp3', '../CatSound_dataset/Defence/LastEntry_cat1079Hiss.mp3', '../CatSound_dataset/Defence/LastEntry_cat1080Hiss.mp3', '../CatSound_dataset/Defence/LastEntry_cat1082Hiss.mp3', '../CatSound_dataset/Defence/LastEntry_cat1083Hiss (2).mp3', '../CatSound_dataset/Defence/LastEntry_cat1083Hiss.mp3', '../CatSound_dataset/Defence/LastEntry_cat1084Hiss.mp3', '../CatSound_dataset/Defence/LastEntry_cat1089Hiss.mp3', '../CatSound_dataset/Defence/LastEntry_cat1090Hiss (2).mp3', '../CatSound_dataset/Defence/LastEntry_cat1090Hiss.mp3', '../CatSound_dataset/Defence/LastEntry_cat1091Hiss.mp3', '../CatSound_dataset/Defence/LastEntry_cat1092Hiss.mp3', '../CatSound_dataset/Defence/LastEntry_cat1093Hiss.mp3', '../CatSound_dataset/Defence/LastEntry_cat1096Hiss.mp3', '../CatSound_dataset/Defence/LastEntry_cat1097Hiss.mp3', '../CatSound_dataset/Defence/LastEntry_cat1200Hiss.mp3', '../CatSound_dataset/Defence/LastEntry_cat1208Hiss.mp3', '../CatSound_dataset/Defence/LastEntry_cat1287Hiss.mp3', '../CatSound_dataset/Defence/LastEntry_cat1289Hiss.mp3', '../CatSound_dataset/Defence/LastEntry_cat1291Hiss.mp3', '../CatSound_dataset/Defence/LastEntry_cat1292Hiss.mp3', '../CatSound_dataset/Defence/LastEntry_cat1294Hiss.mp3', '../CatSound_dataset/Defence/LastEntry_cat1299Hiss.mp3', '../CatSound_dataset/Defence/LastEntry_cat1302Hiss.mp3', '../CatSound_dataset/Defence/LastEntry_cat1305Hiss.mp3', '../CatSound_dataset/Defence/LastEntry_cat1307Hiss.mp3', '../CatSound_dataset/Defence/LastEntry_cat1311Hiss.mp3', '../CatSound_dataset/Defence/LastEntry_cat1312Hiss.mp3', '../CatSound_dataset/Defence/LastEntry_cat1314Hiss.mp3', '../CatSound_dataset/Defence/LastEntry_cat1316Hiss.mp3', '../CatSound_dataset/Defence/LastEntry_cat1320Hiss.mp3', '../CatSound_dataset/Defence/LastEntry_cat1321Hiss.mp3', '../CatSound_dataset/Defence/LastEntry_cat1322Hiss.mp3', '../CatSound_dataset/Defence/LastEntry_cat1324Hiss.mp3', '../CatSound_dataset/Defence/LastEntry_cat1325Hiss.mp3', '../CatSound_dataset/Defence/LastEntry_cat1326Hiss.mp3', '../CatSound_dataset/Defence/LastEntry_cat1327Hiss.mp3', '../CatSound_dataset/Defence/LastEntry_cat1329Hiss.mp3', '../CatSound_dataset/Defence/LastEntry_cat1330Hiss.mp3', '../CatSound_dataset/Defence/LastEntry_cat1332Hiss.mp3', '../CatSound_dataset/Defence/LastEntry_cat1335Hiss.mp3', '../CatSound_dataset/Defence/LastEntry_cat1337Hiss.mp3', '../CatSound_dataset/Defence/LastEntry_cat1339Hiss.mp3', '../CatSound_dataset/Defence/LastEntry_cat1341Hiss.mp3', '../CatSound_dataset/Defence/LastEntry_cat1343Hiss.mp3', '../CatSound_dataset/Defence/LastEntry_cat1345Hiss.mp3', '../CatSound_dataset/Defence/LastEntry_cat1347Hiss.mp3', '../CatSound_dataset/Defence/LastEntry_cat1349Hiss.mp3', '../CatSound_dataset/Defence/LastEntry_cat1352Hiss.mp3', '../CatSound_dataset/Defence/LastEntry_cat1355Hiss.mp3', '../CatSound_dataset/Defence/LastEntry_cat1357Hiss.mp3', '../CatSound_dataset/Defence/LastEntry_cat1360Hiss.mp3', '../CatSound_dataset/Defence/LastEntry_cat1363Grl (2).mp3', '../CatSound_dataset/Defence/LastEntry_cat1363Hiss (2).mp3', '../CatSound_dataset/Defence/LastEntry_cat1363Hiss (3).mp3', '../CatSound_dataset/Defence/LastEntry_cat1363Hiss.mp3', '../CatSound_dataset/Defence/LastEntry_cat1364Hiss.mp3', '../CatSound_dataset/Defence/LastEntry_cat1367Hiss (2).mp3', '../CatSound_dataset/Defence/LastEntry_cat1367Hiss.mp3', '../CatSound_dataset/Defence/Last_addCat101Hiss.mp3', '../CatSound_dataset/Defence/Last_addCat104Hiss.mp3', '../CatSound_dataset/Defence/Last_addCat109Hiss.mp3', '../CatSound_dataset/Defence/Last_addCat252hiss.mp3', '../CatSound_dataset/Defence/Last_addCat259His.mp3', '../CatSound_dataset/Defence/Last_addCat274Hiss.mp3', '../CatSound_dataset/Defence/Last_addCat275Hiss.mp3', '../CatSound_dataset/Defence/Last_addCat276Hiss.mp3', '../CatSound_dataset/Defence/Last_addCat277Hiss.mp3', '../CatSound_dataset/Defence/Last_addCat286Hiss.mp3', '../CatSound_dataset/Defence/Last_addCat290Hiss.mp3', '../CatSound_dataset/Defence/Last_addCat291Hiss.mp3', '../CatSound_dataset/Defence/Last_addCat331Hiss.mp3', '../CatSound_dataset/Defence/Last_addCat334Hiss.mp3', '../CatSound_dataset/Defence/Last_addCat338Hiss.mp3', '../CatSound_dataset/Defence/Last_addCat341Hiss.mp3', '../CatSound_dataset/Defence/Last_addCat348Hiss.mp3', '../CatSound_dataset/Defence/Last_addCat354Hiss.mp3', '../CatSound_dataset/Defence/Online_Cat0294hiss.mp3', '../CatSound_dataset/Defence/Online_Cat0296Hiss.mp3', '../CatSound_dataset/Defence/Online_Cat0297Hiss.mp3', '../CatSound_dataset/Defence/Online_Cat0299Hiss.mp3', '../CatSound_dataset/Defence/Online_Cat0303Hiss.mp3', '../CatSound_dataset/Defence/Online_Cat0384hiss.mp3', '../CatSound_dataset/Defence/Online_Cat0457his.mp3', '../CatSound_dataset/Defence/YashLL_Cat0223Hiss.mp3', '../CatSound_dataset/Defence/car_extcoll0159.mp3', '../CatSound_dataset/Defence/car_extcoll0161.mp3', '../CatSound_dataset/Defence/car_extcoll0164.mp3', '../CatSound_dataset/Defence/car_extcoll0165.mp3', '../CatSound_dataset/Defence/car_extcoll0166.mp3', '../CatSound_dataset/Defence/car_extcoll0168.mp3', '../CatSound_dataset/Defence/car_extcoll0180.mp3', '../CatSound_dataset/Defence/car_extcoll0181.mp3', '../CatSound_dataset/Defence/car_extcoll01817.mp3', '../CatSound_dataset/Defence/car_extcoll0235.mp3', '../CatSound_dataset/Defence/car_extcoll0236.mp3', '../CatSound_dataset/Defence/car_extcoll0251.mp3', '../CatSound_dataset/Defence/car_extcoll02516.mp3', '../CatSound_dataset/Defence/car_extcoll0255.mp3', '../CatSound_dataset/Defence/car_extcoll0259.mp3', '../CatSound_dataset/Defence/car_extcoll0263.mp3', '../CatSound_dataset/Defence/car_extcoll0265.mp3', '../CatSound_dataset/Defence/car_extcoll0268.mp3', '../CatSound_dataset/Defence/car_extcoll0276.mp3', '../CatSound_dataset/Defence/car_extcoll0287.mp3', '../CatSound_dataset/Defence/car_extcoll0290.mp3', '../CatSound_dataset/Defence/car_extcoll0292.mp3', '../CatSound_dataset/Defence/cat01.mp3', '../CatSound_dataset/Defence/cat04.mp3', '../CatSound_dataset/Defence/cat06.mp3', '../CatSound_dataset/Defence/cat07.mp3', '../CatSound_dataset/Defence/cat08.mp3', '../CatSound_dataset/Defence/cat10.mp3', '../CatSound_dataset/Defence/cat11.mp3', '../CatSound_dataset/Defence/cat13.mp3', '../CatSound_dataset/Defence/cat_flickr0105.mp3', '../CatSound_dataset/Defence/cat_flickr0124.mp3', '../CatSound_dataset/Defence/cat_flickr01347.mp3', '../CatSound_dataset/Defence/cat_flickr01351.mp3', '../CatSound_dataset/Defence/cat_flickr01355.mp3', '../CatSound_dataset/Defence/cat_flickr01356.mp3', '../CatSound_dataset/Defence/cat_flickr01364.mp3', '../CatSound_dataset/Defence/cat_flickr01413.mp3', '../CatSound_dataset/Defence/cat_flickr01440.mp3', '../CatSound_dataset/Defence/cat_flickr01465.mp3', '../CatSound_dataset/Defence/cat_flickr01468.mp3', '../CatSound_dataset/Defence/cat_flickr01470.mp3', '../CatSound_dataset/Defence/cat_flickr01471.mp3', '../CatSound_dataset/Defence/cat_flickr01473.mp3', '../CatSound_dataset/Defence/cat_flickr0153.mp3', '../CatSound_dataset/Defence/cat_flickr0154.mp3', '../CatSound_dataset/Defence/cat_flickr0155.mp3', '../CatSound_dataset/Defence/cat_flickr0156.mp3', '../CatSound_dataset/Defence/cat_flickr0157.mp3', '../CatSound_dataset/Defence/cat_flickr0175.mp3', '../CatSound_dataset/Defence/cat_flickr0176.mp3', '../CatSound_dataset/Defence/cat_flickr0181.mp3', '../CatSound_dataset/Defence/hiss.mp3', '../CatSound_dataset/Fighting/CAT (1).mp3', '../CatSound_dataset/Fighting/Cat_Anger10037.mp3', '../CatSound_dataset/Fighting/Edit9001Ang.mp3', '../CatSound_dataset/Fighting/Edit9023fit.mp3', '../CatSound_dataset/Fighting/Edit9025Fit.mp3', '../CatSound_dataset/Fighting/Edit9120Fit.mp3', '../CatSound_dataset/Fighting/LastEntry_cat1021Fit.mp3', '../CatSound_dataset/Fighting/LastEntry_cat1050Fit.mp3', '../CatSound_dataset/Fighting/LastEntry_cat1051fit.mp3', '../CatSound_dataset/Fighting/LastEntry_cat1088Fit.mp3', '../CatSound_dataset/Fighting/LastEntry_cat1201Fit.mp3', '../CatSound_dataset/Fighting/LastEntry_cat1203Fit.mp3', '../CatSound_dataset/Fighting/LastEntry_cat1204Fit.mp3', '../CatSound_dataset/Fighting/LastEntry_cat1206Ang.mp3', '../CatSound_dataset/Fighting/LastEntry_cat1207Fit.mp3', '../CatSound_dataset/Fighting/LastEntry_cat1300Fit.mp3', '../CatSound_dataset/Fighting/LastEntry_cat1303Grl.mp3', '../CatSound_dataset/Fighting/LastEntry_cat1306Fit.mp3', '../CatSound_dataset/Fighting/LastEntry_cat1313Fit.mp3', '../CatSound_dataset/Fighting/LastEntry_cat1315Fit.mp3', '../CatSound_dataset/Fighting/LastEntry_cat1319Fit.mp3', '../CatSound_dataset/Fighting/Last_addCat100ang.mp3', '../CatSound_dataset/Fighting/Last_addCat110Fit.mp3', '../CatSound_dataset/Fighting/Last_addCat112Fit.mp3', '../CatSound_dataset/Fighting/Last_addCat113Fit.mp3', '../CatSound_dataset/Fighting/Last_addCat114Fit.mp3', '../CatSound_dataset/Fighting/Last_addCat115Fit.mp3', '../CatSound_dataset/Fighting/Last_addCat116Fit.mp3', '../CatSound_dataset/Fighting/Last_addCat119Fit.mp3', '../CatSound_dataset/Fighting/Last_addCat120Fit.mp3', '../CatSound_dataset/Fighting/Last_addCat176Ang.mp3', '../CatSound_dataset/Fighting/Last_addCat251Ang.mp3', '../CatSound_dataset/Fighting/Last_addCat254fit.mp3', '../CatSound_dataset/Fighting/Last_addCat257Fit.mp3', '../CatSound_dataset/Fighting/Last_addCat258Fit.mp3', '../CatSound_dataset/Fighting/Last_addCat260Fit.mp3', '../CatSound_dataset/Fighting/Last_addCat261Fit.mp3', '../CatSound_dataset/Fighting/Last_addCat262Fit.mp3', '../CatSound_dataset/Fighting/Last_addCat263Fit.mp3', '../CatSound_dataset/Fighting/Last_addCat264Fit.mp3', '../CatSound_dataset/Fighting/Last_addCat265Fit.mp3', '../CatSound_dataset/Fighting/Last_addCat271Fit.mp3', '../CatSound_dataset/Fighting/Last_addCat272Fit.mp3', '../CatSound_dataset/Fighting/Last_addCat273Fit.mp3', '../CatSound_dataset/Fighting/Last_addCat279Fit1.mp3', '../CatSound_dataset/Fighting/Last_addCat282fit.mp3', '../CatSound_dataset/Fighting/Last_addCat282fit2.mp3', '../CatSound_dataset/Fighting/Last_addCat283fit.mp3', '../CatSound_dataset/Fighting/Last_addCat284fit.mp3', '../CatSound_dataset/Fighting/Last_addCat288Fit.mp3', '../CatSound_dataset/Fighting/Last_addCat289Fit.mp3', '../CatSound_dataset/Fighting/Last_addCat292Fit.mp3', '../CatSound_dataset/Fighting/Last_addCat315Fit.mp3', '../CatSound_dataset/Fighting/Last_addCat317Fit.mp3', '../CatSound_dataset/Fighting/Last_addCat318Fit.mp3', '../CatSound_dataset/Fighting/Last_addCat320Fit.mp3', '../CatSound_dataset/Fighting/Last_addCat324Fit.mp3', '../CatSound_dataset/Fighting/Last_addCat325Fit.mp3', '../CatSound_dataset/Fighting/Last_addCat335Fit.mp3', '../CatSound_dataset/Fighting/Last_addCat336Fit.mp3', '../CatSound_dataset/Fighting/Last_addCat339Fit.mp3', '../CatSound_dataset/Fighting/Last_addCat363Fit.mp3', '../CatSound_dataset/Fighting/Last_addCat364Fit.mp3', '../CatSound_dataset/Fighting/Last_addCat365Fit.mp3', '../CatSound_dataset/Fighting/Online_Cat0292.mp3', '../CatSound_dataset/Fighting/Online_Cat0300Angry.mp3', '../CatSound_dataset/Fighting/Online_Cat0301Angry.mp3', '../CatSound_dataset/Fighting/Online_Cat0302Angry.mp3', '../CatSound_dataset/Fighting/Online_Cat0323ang.mp3', '../CatSound_dataset/Fighting/Online_Cat0326fit.mp3', '../CatSound_dataset/Fighting/Online_Cat0327fit.mp3', '../CatSound_dataset/Fighting/Online_Cat0328fit (2).mp3', '../CatSound_dataset/Fighting/Online_Cat0328fit.mp3', '../CatSound_dataset/Fighting/Online_Cat0330Ang.mp3', '../CatSound_dataset/Fighting/Online_Cat0334ang.mp3', '../CatSound_dataset/Fighting/Online_Cat0335Ang.mp3', '../CatSound_dataset/Fighting/Online_Cat0341Ang.mp3', '../CatSound_dataset/Fighting/Online_Cat0350Ang.mp3', '../CatSound_dataset/Fighting/Online_Cat0356ang.mp3', '../CatSound_dataset/Fighting/Online_Cat0357Ang.mp3', '../CatSound_dataset/Fighting/Online_Cat0363fit.mp3', '../CatSound_dataset/Fighting/Online_Cat0367Ang.mp3', '../CatSound_dataset/Fighting/Online_Cat0367fit.mp3', '../CatSound_dataset/Fighting/Online_Cat0369fit.mp3', '../CatSound_dataset/Fighting/Online_Cat0382Ang.mp3', '../CatSound_dataset/Fighting/Online_Cat0383fit.mp3', '../CatSound_dataset/Fighting/Online_Cat0385Ang.mp3', '../CatSound_dataset/Fighting/Online_Cat0436fit.mp3', '../CatSound_dataset/Fighting/Online_Cat0437fit.mp3', '../CatSound_dataset/Fighting/Online_Cat0438fit.mp3', '../CatSound_dataset/Fighting/Online_Cat0439Fit.mp3', '../CatSound_dataset/Fighting/Online_Cat0440Fit.mp3', '../CatSound_dataset/Fighting/Online_Cat0441Fit.mp3', '../CatSound_dataset/Fighting/Online_Cat0443Fit.mp3', '../CatSound_dataset/Fighting/Online_Cat0446Fit.mp3', '../CatSound_dataset/Fighting/Online_Cat0462Ang.mp3', '../CatSound_dataset/Fighting/Online_Cat0463Ang.mp3', '../CatSound_dataset/Fighting/Online_Cat0466Fit.mp3', '../CatSound_dataset/Fighting/Online_Cat0476Fit.mp3', '../CatSound_dataset/Fighting/Online_Cat0484Ang.mp3', '../CatSound_dataset/Fighting/Online_Cat0498Ang.mp3', '../CatSound_dataset/Fighting/Online_Cat0550Fit.mp3', '../CatSound_dataset/Fighting/Online_Cat0554Fit.mp3', '../CatSound_dataset/Fighting/Online_Cat0555Fit.mp3', '../CatSound_dataset/Fighting/Online_Cat0556Fit.mp3', '../CatSound_dataset/Fighting/Online_Cat0557Fit.mp3', '../CatSound_dataset/Fighting/Online_Cat0558Fit.mp3', '../CatSound_dataset/Fighting/Online_Cat0559Fit.mp3', '../CatSound_dataset/Fighting/Online_Cat0560Fit (2).mp3', '../CatSound_dataset/Fighting/Online_Cat0560Fit.mp3', '../CatSound_dataset/Fighting/YashLL_CONF_Cat0261Fit (1).mp3', '../CatSound_dataset/Fighting/YashLL_CONF_Cat0261Fit (10).mp3', '../CatSound_dataset/Fighting/YashLL_CONF_Cat0261Fit (11).mp3', '../CatSound_dataset/Fighting/YashLL_CONF_Cat0261Fit (12).mp3', '../CatSound_dataset/Fighting/YashLL_CONF_Cat0261Fit (13).mp3', '../CatSound_dataset/Fighting/YashLL_CONF_Cat0261Fit (14).mp3', '../CatSound_dataset/Fighting/YashLL_CONF_Cat0261Fit (15).mp3', '../CatSound_dataset/Fighting/YashLL_CONF_Cat0261Fit (16).mp3', '../CatSound_dataset/Fighting/YashLL_CONF_Cat0261Fit (17).mp3', '../CatSound_dataset/Fighting/YashLL_CONF_Cat0261Fit (18).mp3', '../CatSound_dataset/Fighting/YashLL_CONF_Cat0261Fit (19).mp3', '../CatSound_dataset/Fighting/YashLL_CONF_Cat0261Fit (2).mp3', '../CatSound_dataset/Fighting/YashLL_CONF_Cat0261Fit (20).mp3', '../CatSound_dataset/Fighting/YashLL_CONF_Cat0261Fit (21).mp3', '../CatSound_dataset/Fighting/YashLL_CONF_Cat0261Fit (22).mp3', '../CatSound_dataset/Fighting/YashLL_CONF_Cat0261Fit (23).mp3', '../CatSound_dataset/Fighting/YashLL_CONF_Cat0261Fit (24).mp3', '../CatSound_dataset/Fighting/YashLL_CONF_Cat0261Fit (3).mp3', '../CatSound_dataset/Fighting/YashLL_CONF_Cat0261Fit (4).mp3', '../CatSound_dataset/Fighting/YashLL_CONF_Cat0261Fit (5).mp3', '../CatSound_dataset/Fighting/YashLL_CONF_Cat0261Fit (6).mp3', '../CatSound_dataset/Fighting/YashLL_CONF_Cat0261Fit (7).mp3', '../CatSound_dataset/Fighting/YashLL_CONF_Cat0261Fit (8).mp3', '../CatSound_dataset/Fighting/YashLL_CONF_Cat0261Fit (9).mp3', '../CatSound_dataset/Fighting/YashLL_Cat0214Fit (2).mp3', '../CatSound_dataset/Fighting/YashLL_Cat0214Fit.mp3', '../CatSound_dataset/Fighting/YashLL_Cat0215Fit.mp3', '../CatSound_dataset/Fighting/YashLL_Cat0217Fit.mp3', '../CatSound_dataset/Fighting/YashLL_Cat0217Mating.mp3', '../CatSound_dataset/Fighting/YashLL_Cat0218Fit.mp3', '../CatSound_dataset/Fighting/YashLL_Cat0219Fit.mp3', '../CatSound_dataset/Fighting/YashLL_Cat0220Fit (2).mp3', '../CatSound_dataset/Fighting/YashLL_Cat0220Fit.mp3', '../CatSound_dataset/Fighting/YashLL_Cat0221Fit.mp3', '../CatSound_dataset/Fighting/YashLL_Cat0223Fight.mp3', '../CatSound_dataset/Fighting/YashLL_Cat0231Fit.mp3', '../CatSound_dataset/Fighting/YashLL_Cat0232Fit.mp3', '../CatSound_dataset/Fighting/YashLL_Cat0233Fit.mp3', '../CatSound_dataset/Fighting/YashLL_Cat0234Fit.mp3', '../CatSound_dataset/Fighting/YashLL_Cat0235Fit.mp3', '../CatSound_dataset/Fighting/YashLL_Cat0236Fit.mp3', '../CatSound_dataset/Fighting/YashLL_Cat0237Fit.mp3', '../CatSound_dataset/Fighting/YashLL_Cat0239Fit.mp3', '../CatSound_dataset/Fighting/YashLL_Cat0240Fit (2).mp3', '../CatSound_dataset/Fighting/YashLL_Cat0240Fit.mp3', '../CatSound_dataset/Fighting/YashLL_Cat0241Fit.mp3', '../CatSound_dataset/Fighting/YashLL_Cat0242Fit.mp3', '../CatSound_dataset/Fighting/YashLL_Cat0243Fit (2).mp3', '../CatSound_dataset/Fighting/YashLL_Cat0243Fit (3).mp3', '../CatSound_dataset/Fighting/YashLL_Cat0243Fit.mp3', '../CatSound_dataset/Fighting/YashLL_Cat0244Fit.mp3', '../CatSound_dataset/Fighting/YashLL_Cat0245Fit.mp3', '../CatSound_dataset/Fighting/YashLL_Cat0246Fit.mp3', '../CatSound_dataset/Fighting/YashLL_Cat0247Fit.mp3', '../CatSound_dataset/Fighting/YashLL_Cat0248Fit.mp3', '../CatSound_dataset/Fighting/YashLL_Cat0249Fight.mp3', '../CatSound_dataset/Fighting/YashLL_Cat0249Fit.mp3', '../CatSound_dataset/Fighting/YashLL_Cat0250Fight.mp3', '../CatSound_dataset/Fighting/YashLL_Cat0250Fit.mp3', '../CatSound_dataset/Fighting/YashLL_Cat0251Fight.mp3', '../CatSound_dataset/Fighting/YashLL_Cat0251Fit.mp3', '../CatSound_dataset/Fighting/YashLL_Cat0252Fight (2).mp3', '../CatSound_dataset/Fighting/YashLL_Cat0252Fight.mp3', '../CatSound_dataset/Fighting/YashLL_Cat0252Fit.mp3', '../CatSound_dataset/Fighting/YashLL_Cat0253Fit.mp3', '../CatSound_dataset/Fighting/YashLL_Cat0254Fit.mp3', '../CatSound_dataset/Fighting/YashLL_Cat0255Fit.mp3', '../CatSound_dataset/Fighting/YashLL_Cat0256Fit.mp3', '../CatSound_dataset/Fighting/YashLL_Cat0257Fit.mp3', '../CatSound_dataset/Fighting/YashLL_Cat0258Fit (2).mp3', '../CatSound_dataset/Fighting/YashLL_Cat0258Fit.mp3', '../CatSound_dataset/Fighting/YashLL_Cat0259Fit.mp3', '../CatSound_dataset/Fighting/YashLL_Cat0260Fit.mp3', '../CatSound_dataset/Fighting/YashLL_Cat0261Fit.mp3', '../CatSound_dataset/Fighting/YashLL_Cat0262Fit.mp3', '../CatSound_dataset/Fighting/YashLL_Cat0263Fit.mp3', '../CatSound_dataset/Fighting/YashLL_Cat0264Fit.mp3', '../CatSound_dataset/Fighting/YashLL_Cat0280Fit.mp3', '../CatSound_dataset/Fighting/YashLL_Cat0284Fit (2).mp3', '../CatSound_dataset/Fighting/YashLL_Cat0284Fit.mp3', '../CatSound_dataset/Fighting/YashLL_Cat0285Fit.mp3', '../CatSound_dataset/Fighting/YashLL_Cat0286Fit.mp3', '../CatSound_dataset/Fighting/YashLL_Cat0287Fit.mp3', '../CatSound_dataset/Fighting/YashLL_Cat0288Fit.mp3', '../CatSound_dataset/Fighting/YashLL_Cat0289Fit.mp3', '../CatSound_dataset/Fighting/YashLL_Cat0290Fit.mp3', '../CatSound_dataset/Fighting/YashLL_Cat0291Fit.mp3', '../CatSound_dataset/Fighting/YashLL_Cat0296Fit.mp3', '../CatSound_dataset/Fighting/YashLL_Cat0298Fit.mp3', '../CatSound_dataset/Fighting/YashLL_Cat0902Fit.mp3', '../CatSound_dataset/Fighting/YashLL_Cat0903Fit.mp3', '../CatSound_dataset/Fighting/YashLL_Cat0904Fit.mp3', '../CatSound_dataset/Fighting/YashLL_Cat0905Fit.mp3', '../CatSound_dataset/Fighting/YashLL_Cat0906Fit.mp3', '../CatSound_dataset/Fighting/YashLL_Cat0907Fit.mp3', '../CatSound_dataset/Fighting/YashLL_Cat0908Fit.mp3', '../CatSound_dataset/Fighting/YashLL_Cat0909Fit.mp3', '../CatSound_dataset/Fighting/YashLL_Cat0910Fit.mp3', '../CatSound_dataset/Fighting/YashLL_Cat0911Fit.mp3', '../CatSound_dataset/Fighting/YashLL_Cat0913Fit.mp3', '../CatSound_dataset/Fighting/YashLL_Cat0914Fit.mp3', '../CatSound_dataset/Fighting/YashLL_Cat0915Fit.mp3', '../CatSound_dataset/Fighting/YashLL_Cat0916Fit.mp3', '../CatSound_dataset/Fighting/YashLL_Cat0917Fit.mp3', '../CatSound_dataset/Fighting/YashLL_Cat0918Fit.mp3', '../CatSound_dataset/Fighting/YashLL_Cat0919Fit.mp3', '../CatSound_dataset/Fighting/YashLL_Cat0920Fit.mp3', '../CatSound_dataset/Fighting/YashLL_Cat0921Fit.mp3', '../CatSound_dataset/Fighting/YashLL_Cat0922Fit.mp3', '../CatSound_dataset/Fighting/YashLL_Cat0923Fit.mp3', '../CatSound_dataset/Fighting/YashLL_Cat0924Fit.mp3', '../CatSound_dataset/Fighting/YashLL_Cat0925Fit.mp3', '../CatSound_dataset/Fighting/YashLL_Cat0926Fit.mp3', '../CatSound_dataset/Fighting/YashLL_Cat0927Fit.mp3', '../CatSound_dataset/Fighting/YashLL_Cat0928Fit.mp3', '../CatSound_dataset/Fighting/YashLL_Cat0930Fit.mp3', '../CatSound_dataset/Fighting/angry4.mp3', '../CatSound_dataset/Fighting/car_extcoll0101.mp3', '../CatSound_dataset/Fighting/car_extcoll0102.mp3', '../CatSound_dataset/Fighting/car_extcoll0136.mp3', '../CatSound_dataset/Fighting/car_extcoll0142.mp3', '../CatSound_dataset/Fighting/car_extcoll0143.mp3', '../CatSound_dataset/Fighting/car_extcoll0153.mp3', '../CatSound_dataset/Fighting/car_extcoll0160.mp3', '../CatSound_dataset/Fighting/car_extcoll0207.mp3', '../CatSound_dataset/Fighting/car_extcoll0208.mp3', '../CatSound_dataset/Fighting/car_extcoll0218.mp3', '../CatSound_dataset/Fighting/car_extcoll0222.mp3', '../CatSound_dataset/Fighting/car_extcoll0224.mp3', '../CatSound_dataset/Fighting/car_extcoll0232.mp3', '../CatSound_dataset/Fighting/car_extcoll0233.mp3', '../CatSound_dataset/Fighting/car_extcoll0234.mp3', '../CatSound_dataset/Fighting/car_extcoll0239.mp3', '../CatSound_dataset/Fighting/car_extcoll0253.mp3', '../CatSound_dataset/Fighting/car_extcoll0256.mp3', '../CatSound_dataset/Fighting/car_extcoll0257.mp3', '../CatSound_dataset/Fighting/car_extcoll0260.mp3', '../CatSound_dataset/Fighting/car_extcoll0262.mp3', '../CatSound_dataset/Fighting/car_extcoll0264.mp3', '../CatSound_dataset/Fighting/car_extcoll0266.mp3', '../CatSound_dataset/Fighting/car_extcoll0267.mp3', '../CatSound_dataset/Fighting/car_extcoll0269.mp3', '../CatSound_dataset/Fighting/car_extcoll0272.mp3', '../CatSound_dataset/Fighting/car_extcoll0275.mp3', '../CatSound_dataset/Fighting/car_extcoll0297.mp3', '../CatSound_dataset/Fighting/car_extcoll0298.mp3', '../CatSound_dataset/Fighting/car_extcoll0299.mp3', '../CatSound_dataset/Fighting/car_extcoll0301.mp3', '../CatSound_dataset/Fighting/cat015.mp3', '../CatSound_dataset/Fighting/cat016.mp3', '../CatSound_dataset/Fighting/cat017.mp3', '../CatSound_dataset/Fighting/cat018.mp3', '../CatSound_dataset/Fighting/cat019.mp3', '../CatSound_dataset/Fighting/cat021.mp3', '../CatSound_dataset/Fighting/cat022.mp3', '../CatSound_dataset/Fighting/cat023.mp3', '../CatSound_dataset/Fighting/cat0320.mp3', '../CatSound_dataset/Fighting/cat0323.mp3', '../CatSound_dataset/Fighting/cat0333.mp3', '../CatSound_dataset/Fighting/cat0334.mp3', '../CatSound_dataset/Fighting/cat03564.mp3', '../CatSound_dataset/Fighting/cat_122.mp3', '../CatSound_dataset/Fighting/cat_33.mp3', '../CatSound_dataset/Fighting/cat_coll0103.mp3', '../CatSound_dataset/Fighting/cat_coll0104.mp3', '../CatSound_dataset/Fighting/cat_coll0105.mp3', '../CatSound_dataset/Fighting/cat_flickr0101.mp3', '../CatSound_dataset/Fighting/cat_flickr0102.mp3', '../CatSound_dataset/Fighting/cat_flickr0103.mp3', '../CatSound_dataset/Fighting/cat_flickr0105.mp3', '../CatSound_dataset/Fighting/cat_flickr0110.mp3', '../CatSound_dataset/Fighting/cat_flickr01302.mp3', '../CatSound_dataset/Fighting/cat_flickr0131.mp3', '../CatSound_dataset/Fighting/cat_flickr01338.mp3', '../CatSound_dataset/Fighting/cat_flickr01341.mp3', '../CatSound_dataset/Fighting/cat_flickr01342.mp3', '../CatSound_dataset/Fighting/cat_flickr01343.mp3', '../CatSound_dataset/Fighting/cat_flickr01421.mp3', '../CatSound_dataset/Fighting/cat_flickr01449.mp3', '../CatSound_dataset/Fighting/cat_flickr01459.mp3', '../CatSound_dataset/Fighting/cat_flickr01464.mp3', '../CatSound_dataset/Fighting/cat_flickr01500.mp3', '../CatSound_dataset/Fighting/cat_flickr0170.mp3', '../CatSound_dataset/Fighting/cat_flickr0171.mp3', '../CatSound_dataset/Fighting/cat_flickr0172.mp3', '../CatSound_dataset/Fighting/cat_flickr0173.mp3', '../CatSound_dataset/Fighting/catangry016.mp3', '../CatSound_dataset/Fighting/quick fight.mp3', '../CatSound_dataset/Happy/1294_1256854279.mp3', '../CatSound_dataset/Happy/1295_1256854283.mp3', '../CatSound_dataset/Happy/1296_1256854286.mp3', '../CatSound_dataset/Happy/473_1230148478.mp3', '../CatSound_dataset/Happy/ANIM1027.mp3', '../CatSound_dataset/Happy/Cat (2).mp3', '../CatSound_dataset/Happy/Cat_YoutubeLLT42389.mp3', '../CatSound_dataset/Happy/Cat_YoutubeLLT42459.mp3', '../CatSound_dataset/Happy/Catmeow0111.mp3', '../CatSound_dataset/Happy/Edit9006Hpy.mp3', '../CatSound_dataset/Happy/Edit9082Hpy (2).mp3', '../CatSound_dataset/Happy/Edit9082Hpy.mp3', '../CatSound_dataset/Happy/Edit9083Hpy (2).mp3', '../CatSound_dataset/Happy/Edit9083Hpy.mp3', '../CatSound_dataset/Happy/Edit9084Hpy.mp3', '../CatSound_dataset/Happy/Edit9085Hpy.mp3', '../CatSound_dataset/Happy/Edit9086Hpy.mp3', '../CatSound_dataset/Happy/Edit9087Hpy.mp3', '../CatSound_dataset/Happy/Edit9088Hpy.mp3', '../CatSound_dataset/Happy/Edit9089Hpy.mp3', '../CatSound_dataset/Happy/Edit9090Hpy.mp3', '../CatSound_dataset/Happy/Edit9091Hpy.mp3', '../CatSound_dataset/Happy/Edit9092Hpy.mp3', '../CatSound_dataset/Happy/Edit9093Hpy.mp3', '../CatSound_dataset/Happy/Edit9101Hpy.mp3', '../CatSound_dataset/Happy/Edit9102Hpy.mp3', '../CatSound_dataset/Happy/Edit9103Hpy.mp3', '../CatSound_dataset/Happy/Edit9104Hpy.mp3', '../CatSound_dataset/Happy/LastEntry_cat1018Hpy.mp3', '../CatSound_dataset/Happy/LastEntry_cat1029Hpy.mp3', '../CatSound_dataset/Happy/LastEntry_cat1030Hpy.mp3', '../CatSound_dataset/Happy/LastEntry_cat1031Hpy.mp3', '../CatSound_dataset/Happy/LastEntry_cat1032Hpy.mp3', '../CatSound_dataset/Happy/LastEntry_cat1033Hpy.mp3', '../CatSound_dataset/Happy/LastEntry_cat1034Hpy.mp3', '../CatSound_dataset/Happy/Online_Cat0293.mp3', '../CatSound_dataset/Happy/Online_Cat0324hpy.mp3', '../CatSound_dataset/Happy/Online_Cat0328hpy.mp3', '../CatSound_dataset/Happy/Online_Cat0329hpy.mp3', '../CatSound_dataset/Happy/Online_Cat0331hpy.mp3', '../CatSound_dataset/Happy/Online_Cat0332hpy.mp3', '../CatSound_dataset/Happy/Online_Cat0333hpy.mp3', '../CatSound_dataset/Happy/Online_Cat0336hpy.mp3', '../CatSound_dataset/Happy/Online_Cat0337hpy.mp3', '../CatSound_dataset/Happy/Online_Cat0338hpy.mp3', '../CatSound_dataset/Happy/Online_Cat0339hpy.mp3', '../CatSound_dataset/Happy/Online_Cat0342hpy.mp3', '../CatSound_dataset/Happy/Online_Cat0343hpy.mp3', '../CatSound_dataset/Happy/Online_Cat0344hpy.mp3', '../CatSound_dataset/Happy/Online_Cat0345hpy.mp3', '../CatSound_dataset/Happy/Online_Cat0346hpy.mp3', '../CatSound_dataset/Happy/Online_Cat0347hpy.mp3', '../CatSound_dataset/Happy/Online_Cat0348hpy.mp3', '../CatSound_dataset/Happy/Online_Cat0349hpy.mp3', '../CatSound_dataset/Happy/Online_Cat0350hpy.mp3', '../CatSound_dataset/Happy/Online_Cat0351hpy.mp3', '../CatSound_dataset/Happy/Online_Cat0352hpy.mp3', '../CatSound_dataset/Happy/Online_Cat0354hpy.mp3', '../CatSound_dataset/Happy/Online_Cat0359Hpy.mp3', '../CatSound_dataset/Happy/Online_Cat0360hpy.mp3', '../CatSound_dataset/Happy/Online_Cat0364hpy.mp3', '../CatSound_dataset/Happy/Online_Cat0365hpy.mp3', '../CatSound_dataset/Happy/Online_Cat0366hpy.mp3', '../CatSound_dataset/Happy/Online_Cat0370hpy.mp3', '../CatSound_dataset/Happy/Online_Cat0371hpy.mp3', '../CatSound_dataset/Happy/Online_Cat0373hpy.mp3', '../CatSound_dataset/Happy/Online_Cat0374hpy.mp3', '../CatSound_dataset/Happy/Online_Cat0375hpy.mp3', '../CatSound_dataset/Happy/Online_Cat0376hpy.mp3', '../CatSound_dataset/Happy/Online_Cat0377hpy.mp3', '../CatSound_dataset/Happy/Online_Cat0379hpy.mp3', '../CatSound_dataset/Happy/Online_Cat0380hpy.mp3', '../CatSound_dataset/Happy/Online_Cat0386Hpy.mp3', '../CatSound_dataset/Happy/Online_Cat0388Hpy.mp3', '../CatSound_dataset/Happy/Online_Cat0389Hlp.mp3', '../CatSound_dataset/Happy/Online_Cat0391Hpy.mp3', '../CatSound_dataset/Happy/Online_Cat0392Hpy.mp3', '../CatSound_dataset/Happy/Online_Cat0393Hpy.mp3', '../CatSound_dataset/Happy/Online_Cat0394Hpy (2).mp3', '../CatSound_dataset/Happy/Online_Cat0394Hpy.mp3', '../CatSound_dataset/Happy/Online_Cat0395Hpy.mp3', '../CatSound_dataset/Happy/Online_Cat0396Hpy.mp3', '../CatSound_dataset/Happy/Online_Cat0397Hpy.mp3', '../CatSound_dataset/Happy/Online_Cat0398Hpy.mp3', '../CatSound_dataset/Happy/Online_Cat0400hpy.mp3', '../CatSound_dataset/Happy/Online_Cat0401hpy.mp3', '../CatSound_dataset/Happy/Online_Cat0402hpy.mp3', '../CatSound_dataset/Happy/Online_Cat0403hpy.mp3', '../CatSound_dataset/Happy/Online_Cat0404hpy.mp3', '../CatSound_dataset/Happy/Online_Cat0405hpy.mp3', '../CatSound_dataset/Happy/Online_Cat0406hpy.mp3', '../CatSound_dataset/Happy/Online_Cat0407hpy.mp3', '../CatSound_dataset/Happy/Online_Cat0408hpy.mp3', '../CatSound_dataset/Happy/Online_Cat0409hpy.mp3', '../CatSound_dataset/Happy/Online_Cat0410hpy.mp3', '../CatSound_dataset/Happy/Online_Cat0411hpy.mp3', '../CatSound_dataset/Happy/Online_Cat0413hpy.mp3', '../CatSound_dataset/Happy/Online_Cat0414hpy.mp3', '../CatSound_dataset/Happy/Online_Cat0449Hpy.mp3', '../CatSound_dataset/Happy/Online_Cat0458hpy.mp3', '../CatSound_dataset/Happy/Online_Cat0459hpy.mp3', '../CatSound_dataset/Happy/Online_Cat0460hpy.mp3', '../CatSound_dataset/Happy/Online_Cat0461hpy.mp3', '../CatSound_dataset/Happy/Online_Cat0464hpy.mp3', '../CatSound_dataset/Happy/Online_Cat0467Hpy.mp3', '../CatSound_dataset/Happy/Online_Cat0470Hpy.mp3', '../CatSound_dataset/Happy/Online_Cat0472Hpy.mp3', '../CatSound_dataset/Happy/Online_Cat0477Hpy.mp3', '../CatSound_dataset/Happy/Online_Cat0478hpy.mp3', '../CatSound_dataset/Happy/Online_Cat0479hpy.mp3', '../CatSound_dataset/Happy/Online_Cat0481hpy.mp3', '../CatSound_dataset/Happy/Online_Cat0482hpy.mp3', '../CatSound_dataset/Happy/Online_Cat0483hpy.mp3', '../CatSound_dataset/Happy/Online_Cat0494Hpy.mp3', '../CatSound_dataset/Happy/Online_Cat0495Hpy.mp3', '../CatSound_dataset/Happy/Online_Cat0496Hpy.mp3', '../CatSound_dataset/Happy/Online_Cat0497Hpy.mp3', '../CatSound_dataset/Happy/Online_Cat0499Hpy.mp3', '../CatSound_dataset/Happy/Online_Cat0500Hpy.mp3', '../CatSound_dataset/Happy/Online_Cat0502Hpy.mp3', '../CatSound_dataset/Happy/Online_Cat0503Hpy.mp3', '../CatSound_dataset/Happy/Online_Cat0504Hpy.mp3', '../CatSound_dataset/Happy/Online_Cat0505Hpy.mp3', '../CatSound_dataset/Happy/Online_Cat0506Hpy.mp3', '../CatSound_dataset/Happy/Online_Cat0507Hpy.mp3', '../CatSound_dataset/Happy/Online_Cat0509Hpy.mp3', '../CatSound_dataset/Happy/Online_Cat0512Hpy.mp3', '../CatSound_dataset/Happy/Online_Cat0513Hpy.mp3', '../CatSound_dataset/Happy/Online_Cat0514Hpy.mp3', '../CatSound_dataset/Happy/Online_Cat0516Hpy.mp3', '../CatSound_dataset/Happy/Online_Cat0522Hpy.mp3', '../CatSound_dataset/Happy/Online_Cat0537Hpy.mp3', '../CatSound_dataset/Happy/Online_Cat0539Hpy.mp3', '../CatSound_dataset/Happy/Online_Cat0540Hpy.mp3', '../CatSound_dataset/Happy/Online_Cat0546Hpy.mp3', '../CatSound_dataset/Happy/agressive.mp3', '../CatSound_dataset/Happy/car_extcoll0261.mp3', '../CatSound_dataset/Happy/cat01.mp3', '../CatSound_dataset/Happy/cat010.mp3', '../CatSound_dataset/Happy/cat011.mp3', '../CatSound_dataset/Happy/cat01101.mp3', '../CatSound_dataset/Happy/cat011010.mp3', '../CatSound_dataset/Happy/cat011011.mp3', '../CatSound_dataset/Happy/cat011012.mp3', '../CatSound_dataset/Happy/cat011013.mp3', '../CatSound_dataset/Happy/cat011014.mp3', '../CatSound_dataset/Happy/cat011015.mp3', '../CatSound_dataset/Happy/cat011016.mp3', '../CatSound_dataset/Happy/cat011018.mp3', '../CatSound_dataset/Happy/cat011019.mp3', '../CatSound_dataset/Happy/cat01102.mp3', '../CatSound_dataset/Happy/cat011020.mp3', '../CatSound_dataset/Happy/cat011021.mp3', '../CatSound_dataset/Happy/cat011022.mp3', '../CatSound_dataset/Happy/cat011023.mp3', '../CatSound_dataset/Happy/cat011024.mp3', '../CatSound_dataset/Happy/cat011025.mp3', '../CatSound_dataset/Happy/cat011026.mp3', '../CatSound_dataset/Happy/cat011029.mp3', '../CatSound_dataset/Happy/cat01103.mp3', '../CatSound_dataset/Happy/cat011030.mp3', '../CatSound_dataset/Happy/cat01104.mp3', '../CatSound_dataset/Happy/cat01105.mp3', '../CatSound_dataset/Happy/cat01106.mp3', '../CatSound_dataset/Happy/cat01107.mp3', '../CatSound_dataset/Happy/cat01108.mp3', '../CatSound_dataset/Happy/cat01109.mp3', '../CatSound_dataset/Happy/cat012.mp3', '../CatSound_dataset/Happy/cat02.mp3', '../CatSound_dataset/Happy/cat03.mp3', '../CatSound_dataset/Happy/cat04.mp3', '../CatSound_dataset/Happy/cat04nn.mp3', '../CatSound_dataset/Happy/cat05.mp3', '../CatSound_dataset/Happy/cat06.mp3', '../CatSound_dataset/Happy/cat07.mp3', '../CatSound_dataset/Happy/cat08.mp3', '../CatSound_dataset/Happy/cat09.mp3', '../CatSound_dataset/Happy/cat10.mp3', '../CatSound_dataset/Happy/cat12.mp3', '../CatSound_dataset/Happy/cat4546.mp3', '../CatSound_dataset/Happy/cat_100.mp3', '../CatSound_dataset/Happy/cat_109.mp3', '../CatSound_dataset/Happy/cat_110.mp3', '../CatSound_dataset/Happy/cat_119.mp3', '../CatSound_dataset/Happy/cat_121.mp3', '../CatSound_dataset/Happy/cat_124.mp3', '../CatSound_dataset/Happy/cat_129.mp3', '../CatSound_dataset/Happy/cat_133.mp3', '../CatSound_dataset/Happy/cat_134.mp3', '../CatSound_dataset/Happy/cat_135.mp3', '../CatSound_dataset/Happy/cat_136.mp3', '../CatSound_dataset/Happy/cat_137.mp3', '../CatSound_dataset/Happy/cat_138.mp3', '../CatSound_dataset/Happy/cat_139.mp3', '../CatSound_dataset/Happy/cat_140.mp3', '../CatSound_dataset/Happy/cat_15.mp3', '../CatSound_dataset/Happy/cat_155.mp3', '../CatSound_dataset/Happy/cat_156.mp3', '../CatSound_dataset/Happy/cat_158.mp3', '../CatSound_dataset/Happy/cat_18.mp3', '../CatSound_dataset/Happy/cat_20.mp3', '../CatSound_dataset/Happy/cat_24.mp3', '../CatSound_dataset/Happy/cat_4.mp3', '../CatSound_dataset/Happy/cat_52.mp3', '../CatSound_dataset/Happy/cat_53.mp3', '../CatSound_dataset/Happy/cat_54.mp3', '../CatSound_dataset/Happy/cat_67.mp3', '../CatSound_dataset/Happy/cat_68.mp3', '../CatSound_dataset/Happy/cat_75.mp3', '../CatSound_dataset/Happy/cat_76.mp3', '../CatSound_dataset/Happy/cat_8.mp3', '../CatSound_dataset/Happy/cat_85.mp3', '../CatSound_dataset/Happy/cat_86.mp3', '../CatSound_dataset/Happy/cat_9.mp3', '../CatSound_dataset/Happy/cat_91.mp3', '../CatSound_dataset/Happy/cat_coll0101.mp3', '../CatSound_dataset/Happy/cat_coll01013.mp3', '../CatSound_dataset/Happy/cat_coll01017.mp3', '../CatSound_dataset/Happy/cat_coll0103.mp3', '../CatSound_dataset/Happy/cat_coll0111.mp3', '../CatSound_dataset/Happy/cat_coll0112.mp3', '../CatSound_dataset/Happy/cat_coll0113.mp3', '../CatSound_dataset/Happy/cat_coll0125.mp3', '../CatSound_dataset/Happy/cat_coll0126.mp3', '../CatSound_dataset/Happy/cat_coll0127.mp3', '../CatSound_dataset/Happy/cat_coll0128.mp3', '../CatSound_dataset/Happy/cat_coll0130.mp3', '../CatSound_dataset/Happy/cat_coll0131.mp3', '../CatSound_dataset/Happy/cat_coll0132.mp3', '../CatSound_dataset/Happy/cat_coll0133.mp3', '../CatSound_dataset/Happy/cat_coll0158.mp3', '../CatSound_dataset/Happy/cat_coll0163.mp3', '../CatSound_dataset/Happy/cat_flickr0110.mp3', '../CatSound_dataset/Happy/cat_flickr0111.mp3', '../CatSound_dataset/Happy/cat_flickr0112.mp3', '../CatSound_dataset/Happy/cat_flickr01324.mp3', '../CatSound_dataset/Happy/cat_flickr01336.mp3', '../CatSound_dataset/Happy/cat_flickr01337.mp3', '../CatSound_dataset/Happy/cat_flickr0134.mp3', '../CatSound_dataset/Happy/cat_flickr01369.mp3', '../CatSound_dataset/Happy/cat_flickr01370.mp3', '../CatSound_dataset/Happy/cat_flickr01467.mp3', '../CatSound_dataset/Happy/cat_flickr0165.mp3', '../CatSound_dataset/Happy/cat_flickr0182.mp3', '../CatSound_dataset/Happy/cat_flickr0187.mp3', '../CatSound_dataset/Happy/cat_flickr0188 (2).mp3', '../CatSound_dataset/Happy/cat_flickr0188.mp3', '../CatSound_dataset/Happy/cat_youtube01102.mp3', '../CatSound_dataset/Happy/cat_youtube01103.mp3', '../CatSound_dataset/Happy/cat_youtube01104.mp3', '../CatSound_dataset/Happy/cat_youtube01105.mp3', '../CatSound_dataset/Happy/cat_youtube01106.mp3', '../CatSound_dataset/Happy/cat_youtube01112.mp3', '../CatSound_dataset/Happy/cat_youtube01113.mp3', '../CatSound_dataset/Happy/cat_youtube01114.mp3', '../CatSound_dataset/Happy/cat_youtube01115.mp3', '../CatSound_dataset/Happy/cat_youtube01123.mp3', '../CatSound_dataset/Happy/cat_youtube01124.mp3', '../CatSound_dataset/Happy/cat_youtube01125.mp3', '../CatSound_dataset/Happy/cat_youtube01126.mp3', '../CatSound_dataset/Happy/cat_youtube01127.mp3', '../CatSound_dataset/Happy/cat_youtube01128.mp3', '../CatSound_dataset/Happy/cat_youtube01129.mp3', '../CatSound_dataset/Happy/cat_youtube01130.mp3', '../CatSound_dataset/Happy/cat_youtube01131.mp3', '../CatSound_dataset/Happy/cat_youtube01132.mp3', '../CatSound_dataset/Happy/cat_youtube01133.mp3', '../CatSound_dataset/Happy/cat_youtube01134.mp3', '../CatSound_dataset/Happy/cat_youtube01135.mp3', '../CatSound_dataset/Happy/cat_youtube01136.mp3', '../CatSound_dataset/Happy/cat_youtube01137.mp3', '../CatSound_dataset/Happy/cat_youtube01194.mp3', '../CatSound_dataset/Happy/cat_youtube01196.mp3', '../CatSound_dataset/Happy/cat_youtube01197.mp3', '../CatSound_dataset/Happy/cat_youtube01251.mp3', '../CatSound_dataset/Happy/cat_youtube01255.mp3', '../CatSound_dataset/Happy/cat_youtube01256.mp3', '../CatSound_dataset/Happy/catmeow0116.mp3', '../CatSound_dataset/Happy/catmeow012.mp3', '../CatSound_dataset/Happy/catmeow013.mp3', '../CatSound_dataset/Happy/catmeow014.mp3', '../CatSound_dataset/Happy/catmeow015.mp3', '../CatSound_dataset/Happy/catmeow016.mp3', '../CatSound_dataset/Happy/catmeow017.mp3', '../CatSound_dataset/Happy/catmeow018.mp3', '../CatSound_dataset/Happy/catmeow019.mp3', '../CatSound_dataset/Happy/catmeow120.mp3', '../CatSound_dataset/Happy/catmeow121.mp3', '../CatSound_dataset/Happy/catmeow122.mp3', '../CatSound_dataset/Happy/catmeow123.mp3', '../CatSound_dataset/Happy/catmeow124.mp3', '../CatSound_dataset/Happy/catmeow125.mp3', '../CatSound_dataset/Happy/catmeow126.mp3', '../CatSound_dataset/Happy/catmeow127.mp3', '../CatSound_dataset/Happy/catmeow128.mp3', '../CatSound_dataset/Happy/hpy.mp3', '../CatSound_dataset/Happy/hpy9.mp3', '../CatSound_dataset/HuntingMind/Cat_YoutubeLLT42391.mp3', '../CatSound_dataset/HuntingMind/Cat_YoutubeLLT42392.mp3', '../CatSound_dataset/HuntingMind/Cat_YoutubeLLT42394.mp3', '../CatSound_dataset/HuntingMind/Cat_YoutubeLLT42395.mp3', '../CatSound_dataset/HuntingMind/Cat_YoutubeLLT42396.mp3', '../CatSound_dataset/HuntingMind/Cat_YoutubeLLT42398.mp3', '../CatSound_dataset/HuntingMind/Cat_YoutubeLLT42399.mp3', '../CatSound_dataset/HuntingMind/Cat_YoutubeLLT42400.mp3', '../CatSound_dataset/HuntingMind/Cat_YoutubeLLT42401.mp3', '../CatSound_dataset/HuntingMind/Cat_YoutubeLLT42402.mp3', '../CatSound_dataset/HuntingMind/Cat_YoutubeLLT424021.mp3', '../CatSound_dataset/HuntingMind/Cat_YoutubeLLT424022.mp3', '../CatSound_dataset/HuntingMind/Cat_YoutubeLLT42403.mp3', '../CatSound_dataset/HuntingMind/Cat_YoutubeLLT42404.mp3', '../CatSound_dataset/HuntingMind/Cat_YoutubeLLT42405.mp3', '../CatSound_dataset/HuntingMind/Cat_YoutubeLLT42406.mp3', '../CatSound_dataset/HuntingMind/Cat_YoutubeLLT42407.mp3', '../CatSound_dataset/HuntingMind/Cat_YoutubeLLT42409.mp3', '../CatSound_dataset/HuntingMind/Cat_YoutubeLLT42410.mp3', '../CatSound_dataset/HuntingMind/Cat_YoutubeLLT42411.mp3', '../CatSound_dataset/HuntingMind/Cat_YoutubeLLT42412.mp3', '../CatSound_dataset/HuntingMind/Cat_YoutubeLLT42413.mp3', '../CatSound_dataset/HuntingMind/Cat_YoutubeLLT424143.mp3', '../CatSound_dataset/HuntingMind/Cat_YoutubeLLT42415.mp3', '../CatSound_dataset/HuntingMind/Cat_YoutubeLLT42416.mp3', '../CatSound_dataset/HuntingMind/Cat_YoutubeLLT42417.mp3', '../CatSound_dataset/HuntingMind/Cat_YoutubeLLT42418.mp3', '../CatSound_dataset/HuntingMind/Cat_YoutubeLLT42419.mp3', '../CatSound_dataset/HuntingMind/Cat_YoutubeLLT42420.mp3', '../CatSound_dataset/HuntingMind/Cat_YoutubeLLT42421.mp3', '../CatSound_dataset/HuntingMind/Cat_YoutubeLLT42422.mp3', '../CatSound_dataset/HuntingMind/Cat_YoutubeLLT42423.mp3', '../CatSound_dataset/HuntingMind/Cat_YoutubeLLT42424.mp3', '../CatSound_dataset/HuntingMind/Cat_YoutubeLLT42425.mp3', '../CatSound_dataset/HuntingMind/Cat_YoutubeLLT42426.mp3', '../CatSound_dataset/HuntingMind/Cat_YoutubeLLT42429.mp3', '../CatSound_dataset/HuntingMind/Cat_YoutubeLLT42430.mp3', '../CatSound_dataset/HuntingMind/Cat_YoutubeLLT42431.mp3', '../CatSound_dataset/HuntingMind/Cat_YoutubeLLT42432.mp3', '../CatSound_dataset/HuntingMind/Cat_YoutubeLLT42433.mp3', '../CatSound_dataset/HuntingMind/Cat_YoutubeLLT42434.mp3', '../CatSound_dataset/HuntingMind/Cat_YoutubeLLT42435.mp3', '../CatSound_dataset/HuntingMind/Cat_YoutubeLLT42436.mp3', '../CatSound_dataset/HuntingMind/Cat_YoutubeLLT42437.mp3', '../CatSound_dataset/HuntingMind/Cat_YoutubeLLT42438.mp3', '../CatSound_dataset/HuntingMind/Cat_YoutubeLLT42439.mp3', '../CatSound_dataset/HuntingMind/Cat_YoutubeLLT42440.mp3', '../CatSound_dataset/HuntingMind/Cat_YoutubeLLT42441.mp3', '../CatSound_dataset/HuntingMind/Cat_YoutubeLLT42442.mp3', '../CatSound_dataset/HuntingMind/Cat_YoutubeLLT42443.mp3', '../CatSound_dataset/HuntingMind/Cat_YoutubeLLT42444.mp3', '../CatSound_dataset/HuntingMind/Cat_YoutubeLLT42445.mp3', '../CatSound_dataset/HuntingMind/Cat_YoutubeLLT42446.mp3', '../CatSound_dataset/HuntingMind/Cat_YoutubeLLT42447.mp3', '../CatSound_dataset/HuntingMind/Cat_YoutubeLLT42448.mp3', '../CatSound_dataset/HuntingMind/Cat_YoutubeLLT42449.mp3', '../CatSound_dataset/HuntingMind/Cat_trilling0111.mp3', '../CatSound_dataset/HuntingMind/Cat_trilling0112.mp3', '../CatSound_dataset/HuntingMind/Cat_trilling0113.mp3', '../CatSound_dataset/HuntingMind/Edit9084Tril.mp3', '../CatSound_dataset/HuntingMind/LastEntry_cat1022Chat.mp3', '../CatSound_dataset/HuntingMind/LastEntry_cat1023Chat.mp3', '../CatSound_dataset/HuntingMind/LastEntry_cat1024Chat.mp3', '../CatSound_dataset/HuntingMind/LastEntry_cat1025Chat.mp3', '../CatSound_dataset/HuntingMind/LastEntry_cat1026Chat.mp3', '../CatSound_dataset/HuntingMind/Last_addCat129595Chat.mp3', '../CatSound_dataset/HuntingMind/Last_addCat129596Chat.mp3', '../CatSound_dataset/HuntingMind/Last_addCat129597Chat.mp3', '../CatSound_dataset/HuntingMind/Last_addCat165Chat.mp3', '../CatSound_dataset/HuntingMind/Last_addCat166Chat.mp3', '../CatSound_dataset/HuntingMind/Last_addCat167Chat.mp3', '../CatSound_dataset/HuntingMind/Last_addCat168Chat.mp3', '../CatSound_dataset/HuntingMind/Last_addCat169Chat.mp3', '../CatSound_dataset/HuntingMind/Last_addCat170Chat.mp3', '../CatSound_dataset/HuntingMind/Last_addCat171Chat.mp3', '../CatSound_dataset/HuntingMind/Last_addCat172Chat.mp3', '../CatSound_dataset/HuntingMind/Last_addCat186Chat.mp3', '../CatSound_dataset/HuntingMind/Last_addCat187Chat.mp3', '../CatSound_dataset/HuntingMind/Last_addCat188Chat.mp3', '../CatSound_dataset/HuntingMind/Last_addCat188Chat1.mp3', '../CatSound_dataset/HuntingMind/Last_addCat189Chat.mp3', '../CatSound_dataset/HuntingMind/Last_addCat190Chat.mp3', '../CatSound_dataset/HuntingMind/Last_addCat191Chat.mp3', '../CatSound_dataset/HuntingMind/Last_addCat192Chat.mp3', '../CatSound_dataset/HuntingMind/Last_addCat193Chat.mp3', '../CatSound_dataset/HuntingMind/Last_addCat193Chat2.mp3', '../CatSound_dataset/HuntingMind/Last_addCat193Chat3.mp3', '../CatSound_dataset/HuntingMind/Last_addCat194Chat.mp3', '../CatSound_dataset/HuntingMind/Last_addCat195Chat.mp3', '../CatSound_dataset/HuntingMind/Last_addCat196Chat.mp3', '../CatSound_dataset/HuntingMind/Last_addCat197Chat.mp3', '../CatSound_dataset/HuntingMind/Last_addCat198Chat.mp3', '../CatSound_dataset/HuntingMind/Last_addCat199Chat.mp3', '../CatSound_dataset/HuntingMind/Last_addCat200Chat.mp3', '../CatSound_dataset/HuntingMind/Last_addCat203Chat.mp3', '../CatSound_dataset/HuntingMind/Last_addCat204Chat.mp3', '../CatSound_dataset/HuntingMind/Last_addCat205Chat.mp3', '../CatSound_dataset/HuntingMind/Last_addCat206Chat.mp3', '../CatSound_dataset/HuntingMind/Last_addCat207Chat.mp3', '../CatSound_dataset/HuntingMind/Last_addCat208Chat.mp3', '../CatSound_dataset/HuntingMind/Last_addCat209Chat.mp3', '../CatSound_dataset/HuntingMind/Last_addCat210Chat.mp3', '../CatSound_dataset/HuntingMind/Last_addCat211Chat.mp3', '../CatSound_dataset/HuntingMind/Last_addCat212Chat.mp3', '../CatSound_dataset/HuntingMind/Last_addCat213Chat.mp3', '../CatSound_dataset/HuntingMind/Last_addCat226Chat.mp3', '../CatSound_dataset/HuntingMind/Last_addCat227Chat.mp3', '../CatSound_dataset/HuntingMind/Last_addCat228Chat.mp3', '../CatSound_dataset/HuntingMind/Last_addCat229Chat.mp3', '../CatSound_dataset/HuntingMind/Last_addCat230Chat.mp3', '../CatSound_dataset/HuntingMind/Last_addCat231Chat.mp3', '../CatSound_dataset/HuntingMind/Last_addCat232Chat.mp3', '../CatSound_dataset/HuntingMind/Last_addCat232Chat4.mp3', '../CatSound_dataset/HuntingMind/Last_addCat233Chat.mp3', '../CatSound_dataset/HuntingMind/Last_addCat234Chat.mp3', '../CatSound_dataset/HuntingMind/Last_addCat235Chat.mp3', '../CatSound_dataset/HuntingMind/Last_addCat236Chat.mp3', '../CatSound_dataset/HuntingMind/Last_addCat237Chat.mp3', '../CatSound_dataset/HuntingMind/Last_addCat238Chat.mp3', '../CatSound_dataset/HuntingMind/Last_addCat239Chat.mp3', '../CatSound_dataset/HuntingMind/Last_addCat240Chat.mp3', '../CatSound_dataset/HuntingMind/Last_addCat240Chat4.mp3', '../CatSound_dataset/HuntingMind/Last_addCat241Chat.mp3', '../CatSound_dataset/HuntingMind/Last_addCat242Chat.mp3', '../CatSound_dataset/HuntingMind/Last_addCat243Chat.mp3', '../CatSound_dataset/HuntingMind/Last_addCat244Chat.mp3', '../CatSound_dataset/HuntingMind/Last_addCat244Chat2.mp3', '../CatSound_dataset/HuntingMind/Last_addCat245Chat.mp3', '../CatSound_dataset/HuntingMind/Online_Cat0419Chat.mp3', '../CatSound_dataset/HuntingMind/Online_Cat0420Chat.mp3', '../CatSound_dataset/HuntingMind/Online_Cat0421Chat.mp3', '../CatSound_dataset/HuntingMind/car_extcoll0326.mp3', '../CatSound_dataset/HuntingMind/car_extcoll0327.mp3', '../CatSound_dataset/HuntingMind/car_extcoll0328.mp3', '../CatSound_dataset/HuntingMind/car_extcoll0329.mp3', '../CatSound_dataset/HuntingMind/car_extcoll0330.mp3', '../CatSound_dataset/HuntingMind/car_extcoll0331.mp3', '../CatSound_dataset/HuntingMind/car_extcoll0332.mp3', '../CatSound_dataset/HuntingMind/cat01.mp3', '../CatSound_dataset/HuntingMind/cat010.mp3', '../CatSound_dataset/HuntingMind/cat02.mp3', '../CatSound_dataset/HuntingMind/cat0202.mp3', '../CatSound_dataset/HuntingMind/cat03583.mp3', '../CatSound_dataset/HuntingMind/cat04.mp3', '../CatSound_dataset/HuntingMind/cat05.mp3', '../CatSound_dataset/HuntingMind/cat_youtube01116.mp3', '../CatSound_dataset/HuntingMind/cat_youtube01117.mp3', '../CatSound_dataset/HuntingMind/cat_youtube01118.mp3', '../CatSound_dataset/HuntingMind/cat_youtube01119.mp3', '../CatSound_dataset/HuntingMind/cat_youtube01120.mp3', '../CatSound_dataset/HuntingMind/cat_youtube01121 (2).mp3', '../CatSound_dataset/HuntingMind/cat_youtube01121.mp3', '../CatSound_dataset/HuntingMind/cat_youtube01122.mp3', '../CatSound_dataset/HuntingMind/cat_youtube01123 (2).mp3', '../CatSound_dataset/HuntingMind/cat_youtube01123.mp3', '../CatSound_dataset/HuntingMind/cat_youtube01138.mp3', '../CatSound_dataset/HuntingMind/cat_youtube01139.mp3', '../CatSound_dataset/HuntingMind/cat_youtube01140.mp3', '../CatSound_dataset/HuntingMind/cat_youtube01141.mp3', '../CatSound_dataset/HuntingMind/cat_youtube01142.mp3', '../CatSound_dataset/HuntingMind/cat_youtube01143.mp3', '../CatSound_dataset/HuntingMind/cat_youtube01144.mp3', '../CatSound_dataset/HuntingMind/cat_youtube01145.mp3', '../CatSound_dataset/HuntingMind/cat_youtube01146.mp3', '../CatSound_dataset/HuntingMind/cat_youtube01147.mp3', '../CatSound_dataset/HuntingMind/cat_youtube01148.mp3', '../CatSound_dataset/HuntingMind/cat_youtube01149.mp3', '../CatSound_dataset/HuntingMind/cat_youtube01150.mp3', '../CatSound_dataset/HuntingMind/cat_youtube01154.mp3', '../CatSound_dataset/HuntingMind/cat_youtube01155.mp3', '../CatSound_dataset/HuntingMind/cat_youtube01156.mp3', '../CatSound_dataset/HuntingMind/cat_youtube01157.mp3', '../CatSound_dataset/HuntingMind/cat_youtube01158.mp3', '../CatSound_dataset/HuntingMind/cat_youtube01159.mp3', '../CatSound_dataset/HuntingMind/cat_youtube01160.mp3', '../CatSound_dataset/HuntingMind/cat_youtube01161.mp3', '../CatSound_dataset/HuntingMind/cat_youtube01162.mp3', '../CatSound_dataset/HuntingMind/cat_youtube01163.mp3', '../CatSound_dataset/HuntingMind/cat_youtube01164.mp3', '../CatSound_dataset/HuntingMind/cat_youtube01165.mp3', '../CatSound_dataset/HuntingMind/cat_youtube01166.mp3', '../CatSound_dataset/HuntingMind/cat_youtube01168.mp3', '../CatSound_dataset/HuntingMind/cat_youtube01169.mp3', '../CatSound_dataset/HuntingMind/cat_youtube01170.mp3', '../CatSound_dataset/HuntingMind/cat_youtube01171.mp3', '../CatSound_dataset/HuntingMind/cat_youtube01172.mp3', '../CatSound_dataset/HuntingMind/cat_youtube01173.mp3', '../CatSound_dataset/HuntingMind/cat_youtube01174.mp3', '../CatSound_dataset/HuntingMind/cat_youtube01175.mp3', '../CatSound_dataset/HuntingMind/cat_youtube01176.mp3', '../CatSound_dataset/HuntingMind/cat_youtube01177.mp3', '../CatSound_dataset/HuntingMind/cat_youtube01178.mp3', '../CatSound_dataset/HuntingMind/cat_youtube01179.mp3', '../CatSound_dataset/HuntingMind/cat_youtube01189.mp3', '../CatSound_dataset/HuntingMind/cat_youtube01190.mp3', '../CatSound_dataset/HuntingMind/cat_youtube01191.mp3', '../CatSound_dataset/HuntingMind/cat_youtube01192.mp3', '../CatSound_dataset/HuntingMind/cat_youtube01193.mp3', '../CatSound_dataset/HuntingMind/cat_youtube01235.mp3', '../CatSound_dataset/HuntingMind/cat_youtube01236.mp3', '../CatSound_dataset/HuntingMind/cat_youtube01237.mp3', '../CatSound_dataset/HuntingMind/cat_youtube01238.mp3', '../CatSound_dataset/HuntingMind/cat_youtube01239.mp3', '../CatSound_dataset/HuntingMind/cat_youtube01267 (2).mp3', '../CatSound_dataset/HuntingMind/cat_youtube01270.mp3', '../CatSound_dataset/HuntingMind/cat_youtube01272.mp3', '../CatSound_dataset/HuntingMind/cat_youtube01273.mp3', '../CatSound_dataset/HuntingMind/cat_youtube01274.mp3', '../CatSound_dataset/HuntingMind/cat_youtube01275.mp3', '../CatSound_dataset/HuntingMind/cat_youtube01276.mp3', '../CatSound_dataset/HuntingMind/cat_youtube01277.mp3', '../CatSound_dataset/HuntingMind/cat_youtube01278.mp3', '../CatSound_dataset/HuntingMind/cat_youtube01279.mp3', '../CatSound_dataset/HuntingMind/cat_youtube01280.mp3', '../CatSound_dataset/HuntingMind/cat_youtube64376 (2).mp3', '../CatSound_dataset/HuntingMind/catchatter010.mp3', '../CatSound_dataset/HuntingMind/catchatter011.mp3', '../CatSound_dataset/HuntingMind/catchatter012.mp3', '../CatSound_dataset/HuntingMind/catchatter013.mp3', '../CatSound_dataset/HuntingMind/catchatter014.mp3', '../CatSound_dataset/HuntingMind/catchatter015.mp3', '../CatSound_dataset/HuntingMind/catchatter016.mp3', '../CatSound_dataset/HuntingMind/catchatter017.mp3', '../CatSound_dataset/HuntingMind/catchatter018.mp3', '../CatSound_dataset/HuntingMind/catchatter019.mp3', '../CatSound_dataset/HuntingMind/catchatter020.mp3', '../CatSound_dataset/HuntingMind/catchatter021.mp3', '../CatSound_dataset/HuntingMind/catchatter022.mp3', '../CatSound_dataset/HuntingMind/catchatter023.mp3', '../CatSound_dataset/HuntingMind/catchatter024.mp3', '../CatSound_dataset/HuntingMind/catchatter025.mp3', '../CatSound_dataset/HuntingMind/catchatter126.mp3', '../CatSound_dataset/HuntingMind/catchatter127.mp3', '../CatSound_dataset/HuntingMind/catchatter128.mp3', '../CatSound_dataset/HuntingMind/catchatter129.mp3', '../CatSound_dataset/HuntingMind/catchatter130.mp3', '../CatSound_dataset/HuntingMind/catchatter131.mp3', '../CatSound_dataset/HuntingMind/catchatter132.mp3', '../CatSound_dataset/HuntingMind/catchatter233.mp3', '../CatSound_dataset/HuntingMind/catchatter234.mp3', '../CatSound_dataset/HuntingMind/catchatter235.mp3', '../CatSound_dataset/HuntingMind/catchatter236.mp3', '../CatSound_dataset/HuntingMind/catchatter237.mp3', '../CatSound_dataset/HuntingMind/catchatter238.mp3', '../CatSound_dataset/HuntingMind/catchatter239.mp3', '../CatSound_dataset/HuntingMind/catchatter240.mp3', '../CatSound_dataset/HuntingMind/catchatter241.mp3', '../CatSound_dataset/HuntingMind/catchatter342.mp3', '../CatSound_dataset/HuntingMind/catchatter343.mp3', '../CatSound_dataset/HuntingMind/catchatter344.mp3', '../CatSound_dataset/HuntingMind/catchatter345.mp3', '../CatSound_dataset/HuntingMind/catchatter346.mp3', '../CatSound_dataset/HuntingMind/catchatter347.mp3', '../CatSound_dataset/HuntingMind/catchatter448.mp3', '../CatSound_dataset/HuntingMind/catchatter551.mp3', '../CatSound_dataset/HuntingMind/catchatter552.mp3', '../CatSound_dataset/HuntingMind/catchatter553.mp3', '../CatSound_dataset/HuntingMind/catchatter554.mp3', '../CatSound_dataset/HuntingMind/catchatter555.mp3', '../CatSound_dataset/HuntingMind/catchatter656.mp3', '../CatSound_dataset/HuntingMind/catchatter657.mp3', '../CatSound_dataset/HuntingMind/catchatter658.mp3', '../CatSound_dataset/HuntingMind/catchatter659.mp3', '../CatSound_dataset/HuntingMind/catchatter660.mp3', '../CatSound_dataset/HuntingMind/catchatter661.mp3', '../CatSound_dataset/HuntingMind/catchatter762.mp3', '../CatSound_dataset/HuntingMind/catchatter763.mp3', '../CatSound_dataset/HuntingMind/catchatter764.mp3', '../CatSound_dataset/HuntingMind/catchatter765.mp3', '../CatSound_dataset/HuntingMind/catchatter766.mp3', '../CatSound_dataset/HuntingMind/catchatter767.mp3', '../CatSound_dataset/HuntingMind/trill02982.mp3', '../CatSound_dataset/HuntingMind/trill02983.mp3', '../CatSound_dataset/HuntingMind/trill02984.mp3', '../CatSound_dataset/HuntingMind/trill02985.mp3', '../CatSound_dataset/HuntingMind/trill029851.mp3', '../CatSound_dataset/HuntingMind/trill02986.mp3', '../CatSound_dataset/HuntingMind/trill02987.mp3', '../CatSound_dataset/HuntingMind/trill02988.mp3', '../CatSound_dataset/HuntingMind/trill02989.mp3', '../CatSound_dataset/HuntingMind/trill029892.mp3', '../CatSound_dataset/HuntingMind/trill02990.mp3', '../CatSound_dataset/HuntingMind/trill02991.mp3', '../CatSound_dataset/HuntingMind/trill02992.mp3', '../CatSound_dataset/HuntingMind/trill02993.mp3', '../CatSound_dataset/HuntingMind/trill02994.mp3', '../CatSound_dataset/HuntingMind/trill02997.mp3', '../CatSound_dataset/Mating/LastEntry_cat1021Mat_opt (1).mp3', '../CatSound_dataset/Mating/LastEntry_cat1021Mat_opt (2).mp3', '../CatSound_dataset/Mating/LastEntry_cat1021Mat_opt (3).mp3', '../CatSound_dataset/Mating/LastEntry_cat1048Mat.mp3', '../CatSound_dataset/Mating/LastEntry_cat1049Mat.mp3', '../CatSound_dataset/Mating/LastEntry_cat1050mat.mp3', '../CatSound_dataset/Mating/LastEntry_cat1051mat.mp3', '../CatSound_dataset/Mating/LastEntry_cat1052mat.mp3', '../CatSound_dataset/Mating/LastEntry_cat1053mat.mp3', '../CatSound_dataset/Mating/LastEntry_cat1054mat.mp3', '../CatSound_dataset/Mating/LastEntry_cat1055mat.mp3', '../CatSound_dataset/Mating/LastEntry_cat1057Mat.mp3', '../CatSound_dataset/Mating/LastEntry_cat1058Mat.mp3', '../CatSound_dataset/Mating/LastEntry_cat1060Mat (2).mp3', '../CatSound_dataset/Mating/LastEntry_cat1060Mat.mp3', '../CatSound_dataset/Mating/LastEntry_cat1061Mat.mp3', '../CatSound_dataset/Mating/LastEntry_cat1062Mat.mp3', '../CatSound_dataset/Mating/LastEntry_cat1063Mat.mp3', '../CatSound_dataset/Mating/LastEntry_cat1064Mat.mp3', '../CatSound_dataset/Mating/LastEntry_cat1065Mat.mp3', '../CatSound_dataset/Mating/LastEntry_cat1066Mat.mp3', '../CatSound_dataset/Mating/LastEntry_cat1067Mat.mp3', '../CatSound_dataset/Mating/LastEntry_cat1068Mat.mp3', '../CatSound_dataset/Mating/LastEntry_cat1069Mat.mp3', '../CatSound_dataset/Mating/LastEntry_cat1070Mat (2).mp3', '../CatSound_dataset/Mating/LastEntry_cat1070Mat.mp3', '../CatSound_dataset/Mating/LastEntry_cat1071Mat.mp3', '../CatSound_dataset/Mating/LastEntry_cat1072Mat.mp3', '../CatSound_dataset/Mating/LastEntry_cat1073Mat.mp3', '../CatSound_dataset/Mating/LastEntry_cat1074Mat.mp3', '../CatSound_dataset/Mating/LastEntry_cat1075Mat (2).mp3', '../CatSound_dataset/Mating/LastEntry_cat1075Mat.mp3', '../CatSound_dataset/Mating/LastEntry_cat1085Mat.mp3', '../CatSound_dataset/Mating/LastEntry_cat1086Mat.mp3', '../CatSound_dataset/Mating/LastEntry_cat1087Mat.mp3', '../CatSound_dataset/Mating/LastEntry_cat1288Mat.mp3', '../CatSound_dataset/Mating/LastEntry_cat1368Mt.mp3', '../CatSound_dataset/Mating/LastEntry_cat1369Mt.mp3', '../CatSound_dataset/Mating/LastEntry_cat1370Mt.mp3', '../CatSound_dataset/Mating/LastEntry_cat1371Mt.mp3', '../CatSound_dataset/Mating/LastEntry_cat1372Mt.mp3', '../CatSound_dataset/Mating/LastEntry_cat1373Mt.mp3', '../CatSound_dataset/Mating/LastEntry_cat1374Mt.mp3', '../CatSound_dataset/Mating/LastEntry_cat1375Mt.mp3', '../CatSound_dataset/Mating/LastEntry_cat1376Mt.mp3', '../CatSound_dataset/Mating/LastEntry_cat1377Mt.mp3', '../CatSound_dataset/Mating/LastEntry_cat1378Mt (2).mp3', '../CatSound_dataset/Mating/LastEntry_cat1378Mt.mp3', '../CatSound_dataset/Mating/LastEntry_cat1379Mt.mp3', '../CatSound_dataset/Mating/LastEntry_cat1380Mt.mp3', '../CatSound_dataset/Mating/LastEntry_cat1381Mt.mp3', '../CatSound_dataset/Mating/LastEntry_cat1382Mt.mp3', '../CatSound_dataset/Mating/LastEntry_cat1383Mt.mp3', '../CatSound_dataset/Mating/LastEntry_cat1384Mt.mp3', '../CatSound_dataset/Mating/LastEntry_cat1385Mt.mp3', '../CatSound_dataset/Mating/LastEntry_cat1386Mt.mp3', '../CatSound_dataset/Mating/LastEntry_cat138776Mt.mp3', '../CatSound_dataset/Mating/LastEntry_cat1388Mt.mp3', '../CatSound_dataset/Mating/LastEntry_cat1389Mt (2).mp3', '../CatSound_dataset/Mating/LastEntry_cat1389Mt.mp3', '../CatSound_dataset/Mating/LastEntry_cat1390Mt.mp3', '../CatSound_dataset/Mating/LastEntry_cat1391Mt (2).mp3', '../CatSound_dataset/Mating/LastEntry_cat1391Mt.mp3', '../CatSound_dataset/Mating/LastEntry_cat1392Mt.mp3', '../CatSound_dataset/Mating/LastEntry_cat1393Mt.mp3', '../CatSound_dataset/Mating/LastEntry_cat1394Mt.mp3', '../CatSound_dataset/Mating/LastEntry_cat1395Mt.mp3', '../CatSound_dataset/Mating/LastEntry_cat1396Mt.mp3', '../CatSound_dataset/Mating/LastEntry_cat1397Mt.mp3', '../CatSound_dataset/Mating/LastEntry_cat1398Mt.mp3', '../CatSound_dataset/Mating/LastEntry_cat1399Mt.mp3', '../CatSound_dataset/Mating/LastEntry_cat1400Mt.mp3', '../CatSound_dataset/Mating/LastEntry_cat1401Mt.mp3', '../CatSound_dataset/Mating/LastEntry_cat1402Mt.mp3', '../CatSound_dataset/Mating/LastEntry_cat1403Mt.mp3', '../CatSound_dataset/Mating/LastEntry_cat1404Mt.mp3', '../CatSound_dataset/Mating/LastEntry_cat1407Mt.mp3', '../CatSound_dataset/Mating/YashLL_Cat0210Mating.mp3', '../CatSound_dataset/Mating/YashLL_Cat0211Mating.mp3', '../CatSound_dataset/Mating/YashLL_Cat0212Mating.mp3', '../CatSound_dataset/Mating/YashLL_Cat0213Mating.mp3', '../CatSound_dataset/Mating/YashLL_Cat0214Mating.mp3', '../CatSound_dataset/Mating/YashLL_Cat0215Mating.mp3', '../CatSound_dataset/Mating/YashLL_Cat0216Mating.mp3', '../CatSound_dataset/Mating/YashLL_Cat0217Mating (2).mp3', '../CatSound_dataset/Mating/YashLL_Cat0218Mating.mp3', '../CatSound_dataset/Mating/YashLL_Cat0219Mating.mp3', '../CatSound_dataset/Mating/YashLL_Cat0220Mating.mp3', '../CatSound_dataset/Mating/YashLL_Cat0221Mating.mp3', '../CatSound_dataset/Mating/YashLL_Cat0222Mating.mp3', '../CatSound_dataset/Mating/YashLL_Cat0223Mating.mp3', '../CatSound_dataset/Mating/YashLL_Cat0224Mating.mp3', '../CatSound_dataset/Mating/YashLL_Cat0226Mating.mp3', '../CatSound_dataset/Mating/YashLL_Cat0227Mating.mp3', '../CatSound_dataset/Mating/YashLL_Cat0228Mating.mp3', '../CatSound_dataset/Mating/YashLL_Cat0229Mating.mp3', '../CatSound_dataset/Mating/YashLL_Cat0230Mating.mp3', '../CatSound_dataset/Mating/YashLL_Cat0231Mating (2).mp3', '../CatSound_dataset/Mating/YashLL_Cat0231Mating.mp3', '../CatSound_dataset/Mating/YashLL_Cat0241Mating.mp3', '../CatSound_dataset/Mating/YashLL_Cat0242Mating.mp3', '../CatSound_dataset/Mating/YashLL_Cat0243Mating.mp3', '../CatSound_dataset/Mating/YashLL_Cat0244Mating.mp3', '../CatSound_dataset/Mating/YashLL_Cat0245Mating.mp3', '../CatSound_dataset/Mating/YashLL_Cat0246Mating.mp3', '../CatSound_dataset/Mating/YashLL_Cat0247Mating.mp3', '../CatSound_dataset/Mating/car_extcoll0154.mp3', '../CatSound_dataset/Mating/cat010.mp3', '../CatSound_dataset/Mating/cat011.mp3', '../CatSound_dataset/Mating/cat012.mp3', '../CatSound_dataset/Mating/cat013.mp3', '../CatSound_dataset/Mating/cat014.mp3', '../CatSound_dataset/Mating/cat015.mp3', '../CatSound_dataset/Mating/cat016.mp3', '../CatSound_dataset/Mating/cat017.mp3', '../CatSound_dataset/Mating/cat018.mp3', '../CatSound_dataset/Mating/cat019.mp3', '../CatSound_dataset/Mating/cat020.mp3', '../CatSound_dataset/Mating/cat021.mp3', '../CatSound_dataset/Mating/cat022.mp3', '../CatSound_dataset/Mating/cat023.mp3', '../CatSound_dataset/Mating/cat024.mp3', '../CatSound_dataset/Mating/cat026.mp3', '../CatSound_dataset/Mating/cat027.mp3', '../CatSound_dataset/Mating/cat028.mp3', '../CatSound_dataset/Mating/cat029.mp3', '../CatSound_dataset/Mating/cat030.mp3', '../CatSound_dataset/Mating/cat031.mp3', '../CatSound_dataset/Mating/cat03100.mp3', '../CatSound_dataset/Mating/cat03101.mp3', '../CatSound_dataset/Mating/cat03102.mp3', '../CatSound_dataset/Mating/cat03103.mp3', '../CatSound_dataset/Mating/cat03104.mp3', '../CatSound_dataset/Mating/cat03105.mp3', '../CatSound_dataset/Mating/cat03106.mp3', '../CatSound_dataset/Mating/cat03107.mp3', '../CatSound_dataset/Mating/cat03108.mp3', '../CatSound_dataset/Mating/cat03110.mp3', '../CatSound_dataset/Mating/cat03111.mp3', '../CatSound_dataset/Mating/cat03112.mp3', '../CatSound_dataset/Mating/cat03113.mp3', '../CatSound_dataset/Mating/cat03114.mp3', '../CatSound_dataset/Mating/cat03115.mp3', '../CatSound_dataset/Mating/cat03116.mp3', '../CatSound_dataset/Mating/cat03117.mp3', '../CatSound_dataset/Mating/cat03118.mp3', '../CatSound_dataset/Mating/cat03120.mp3', '../CatSound_dataset/Mating/cat03121.mp3', '../CatSound_dataset/Mating/cat032.mp3', '../CatSound_dataset/Mating/cat033.mp3', '../CatSound_dataset/Mating/cat034.mp3', '../CatSound_dataset/Mating/cat03530.mp3', '../CatSound_dataset/Mating/cat03531.mp3', '../CatSound_dataset/Mating/cat03532.mp3', '../CatSound_dataset/Mating/cat03533.mp3', '../CatSound_dataset/Mating/cat03534.mp3', '../CatSound_dataset/Mating/cat03535.mp3', '../CatSound_dataset/Mating/cat03536.mp3', '../CatSound_dataset/Mating/cat03537.mp3', '../CatSound_dataset/Mating/cat03538.mp3', '../CatSound_dataset/Mating/cat03539.mp3', '../CatSound_dataset/Mating/cat03540.mp3', '../CatSound_dataset/Mating/cat03541.mp3', '../CatSound_dataset/Mating/cat03542.mp3', '../CatSound_dataset/Mating/cat03543.mp3', '../CatSound_dataset/Mating/cat03544.mp3', '../CatSound_dataset/Mating/cat03545.mp3', '../CatSound_dataset/Mating/cat03546.mp3', '../CatSound_dataset/Mating/cat03547.mp3', '../CatSound_dataset/Mating/cat03548.mp3', '../CatSound_dataset/Mating/cat03549.mp3', '../CatSound_dataset/Mating/cat03550.mp3', '../CatSound_dataset/Mating/cat03551.mp3', '../CatSound_dataset/Mating/cat03552.mp3', '../CatSound_dataset/Mating/cat03553.mp3', '../CatSound_dataset/Mating/cat03554.mp3', '../CatSound_dataset/Mating/cat03555.mp3', '../CatSound_dataset/Mating/cat03556.mp3', '../CatSound_dataset/Mating/cat03557.mp3', '../CatSound_dataset/Mating/cat03558.mp3', '../CatSound_dataset/Mating/cat03559.mp3', '../CatSound_dataset/Mating/cat03560.mp3', '../CatSound_dataset/Mating/cat03563.mp3', '../CatSound_dataset/Mating/cat03565.mp3', '../CatSound_dataset/Mating/cat03567.mp3', '../CatSound_dataset/Mating/cat03568.mp3', '../CatSound_dataset/Mating/cat03569.mp3', '../CatSound_dataset/Mating/cat03570.mp3', '../CatSound_dataset/Mating/cat03571.mp3', '../CatSound_dataset/Mating/cat03572.mp3', '../CatSound_dataset/Mating/cat03576.mp3', '../CatSound_dataset/Mating/cat03577.mp3', '../CatSound_dataset/Mating/cat03578.mp3', '../CatSound_dataset/Mating/cat03579.mp3', '../CatSound_dataset/Mating/cat03580.mp3', '../CatSound_dataset/Mating/cat03581.mp3', '../CatSound_dataset/Mating/cat03582.mp3', '../CatSound_dataset/Mating/cat03584.mp3', '../CatSound_dataset/Mating/cat03585.mp3', '../CatSound_dataset/Mating/cat03586.mp3', '../CatSound_dataset/Mating/cat03587.mp3', '../CatSound_dataset/Mating/cat03589.mp3', '../CatSound_dataset/Mating/cat03590.mp3', '../CatSound_dataset/Mating/cat03591.mp3', '../CatSound_dataset/Mating/cat03592.mp3', '../CatSound_dataset/Mating/cat03593.mp3', '../CatSound_dataset/Mating/cat03594.mp3', '../CatSound_dataset/Mating/cat03595.mp3', '../CatSound_dataset/Mating/cat03596.mp3', '../CatSound_dataset/Mating/cat03597.mp3', '../CatSound_dataset/Mating/cat03598.mp3', '../CatSound_dataset/Mating/cat03599.mp3', '../CatSound_dataset/Mating/cat4545.mp3', '../CatSound_dataset/Mating/cat4547.mp3', '../CatSound_dataset/Mating/cat_youtube64302 (3).mp3', '../CatSound_dataset/Mating/cat_youtube64303.mp3', '../CatSound_dataset/Mating/cat_youtube64304.mp3', '../CatSound_dataset/Mating/cat_youtube64306.mp3', '../CatSound_dataset/Mating/cat_youtube64307.mp3', '../CatSound_dataset/Mating/cat_youtube64309.mp3', '../CatSound_dataset/Mating/cat_youtube64310.mp3', '../CatSound_dataset/Mating/cat_youtube64311.mp3', '../CatSound_dataset/Mating/cat_youtube64312.mp3', '../CatSound_dataset/Mating/cat_youtube64313.mp3', '../CatSound_dataset/Mating/cat_youtube64314.mp3', '../CatSound_dataset/Mating/cat_youtube64315.mp3', '../CatSound_dataset/Mating/cat_youtube64316.mp3', '../CatSound_dataset/Mating/cat_youtube64317.mp3', '../CatSound_dataset/Mating/cat_youtube64318.mp3', '../CatSound_dataset/Mating/cat_youtube64319.mp3', '../CatSound_dataset/Mating/cat_youtube64320.mp3', '../CatSound_dataset/Mating/cat_youtube64321.mp3', '../CatSound_dataset/Mating/cat_youtube64322.mp3', '../CatSound_dataset/Mating/cat_youtube64323.mp3', '../CatSound_dataset/Mating/cat_youtube64324.mp3', '../CatSound_dataset/Mating/cat_youtube64325.mp3', '../CatSound_dataset/Mating/cat_youtube64326.mp3', '../CatSound_dataset/Mating/cat_youtube64327.mp3', '../CatSound_dataset/Mating/cat_youtube64328.mp3', '../CatSound_dataset/Mating/cat_youtube64329.mp3', '../CatSound_dataset/Mating/cat_youtube64330.mp3', '../CatSound_dataset/Mating/cat_youtube64331.mp3', '../CatSound_dataset/Mating/cat_youtube64332.mp3', '../CatSound_dataset/Mating/cat_youtube64333.mp3', '../CatSound_dataset/Mating/cat_youtube64334.mp3', '../CatSound_dataset/Mating/cat_youtube64335.mp3', '../CatSound_dataset/Mating/cat_youtube64336.mp3', '../CatSound_dataset/Mating/cat_youtube64337.mp3', '../CatSound_dataset/Mating/cat_youtube64338.mp3', '../CatSound_dataset/Mating/cat_youtube64339.mp3', '../CatSound_dataset/Mating/cat_youtube64340.mp3', '../CatSound_dataset/Mating/cat_youtube64341.mp3', '../CatSound_dataset/Mating/cat_youtube64342.mp3', '../CatSound_dataset/Mating/cat_youtube64343.mp3', '../CatSound_dataset/Mating/cat_youtube64344.mp3', '../CatSound_dataset/Mating/cat_youtube64345.mp3', '../CatSound_dataset/Mating/cat_youtube64346.mp3', '../CatSound_dataset/Mating/cat_youtube64347.mp3', '../CatSound_dataset/Mating/cat_youtube64348.mp3', '../CatSound_dataset/Mating/cat_youtube64349.mp3', '../CatSound_dataset/Mating/cat_youtube64350.mp3', '../CatSound_dataset/Mating/cat_youtube64351.mp3', '../CatSound_dataset/Mating/cat_youtube64352.mp3', '../CatSound_dataset/Mating/cat_youtube64353 (2).mp3', '../CatSound_dataset/Mating/cat_youtube64353 (3).mp3', '../CatSound_dataset/Mating/cat_youtube64353.mp3', '../CatSound_dataset/Mating/cat_youtube64354.mp3', '../CatSound_dataset/Mating/cat_youtube64355.mp3', '../CatSound_dataset/Mating/cat_youtube64356.mp3', '../CatSound_dataset/Mating/cat_youtube64357.mp3', '../CatSound_dataset/Mating/cat_youtube64358.mp3', '../CatSound_dataset/Mating/cat_youtube64359.mp3', '../CatSound_dataset/Mating/cat_youtube64360.mp3', '../CatSound_dataset/Mating/cat_youtube64361.mp3', '../CatSound_dataset/Mating/cat_youtube64362.mp3', '../CatSound_dataset/Mating/cat_youtube64364.mp3', '../CatSound_dataset/Mating/cat_youtube64368.mp3', '../CatSound_dataset/Mating/cat_youtube64370.mp3', '../CatSound_dataset/Mating/cat_youtube64371.mp3', '../CatSound_dataset/Mating/cat_youtube64372.mp3', '../CatSound_dataset/Mating/cat_youtube64375.mp3', '../CatSound_dataset/Mating/cat_youtube64380.mp3', '../CatSound_dataset/Mating/cat_youtube64381.mp3', '../CatSound_dataset/Mating/cat_youtube64382.mp3', '../CatSound_dataset/Mating/cat_youtube64383.mp3', '../CatSound_dataset/Mating/cat_youtube64384.mp3', '../CatSound_dataset/Mating/cat_youtube64385.mp3', '../CatSound_dataset/Mating/cat_youtube64386.mp3', '../CatSound_dataset/Mating/cat_youtube64387.mp3', '../CatSound_dataset/Mating/cat_youtube64388.mp3', '../CatSound_dataset/Mating/cat_youtube64389.mp3', '../CatSound_dataset/Mating/cat_youtube64390.mp3', '../CatSound_dataset/Mating/cat_youtube64391.mp3', '../CatSound_dataset/Mating/cat_youtube64392.mp3', '../CatSound_dataset/Mating/cat_youtube64393.mp3', '../CatSound_dataset/Mating/cat_youtube64394.mp3', '../CatSound_dataset/Mating/cat_youtube64395.mp3', '../CatSound_dataset/Mating/cat_youtube64397.mp3', '../CatSound_dataset/MotherCall/Cat_YoutubeLLT42313.mp3', '../CatSound_dataset/MotherCall/Cat_YoutubeLLT42314.mp3', '../CatSound_dataset/MotherCall/Cat_YoutubeLLT42315.mp3', '../CatSound_dataset/MotherCall/Cat_YoutubeLLT42316.mp3', '../CatSound_dataset/MotherCall/Cat_YoutubeLLT42317.mp3', '../CatSound_dataset/MotherCall/Cat_YoutubeLLT42318.mp3', '../CatSound_dataset/MotherCall/Cat_YoutubeLLT42319.mp3', '../CatSound_dataset/MotherCall/Cat_YoutubeLLT42320.mp3', '../CatSound_dataset/MotherCall/Cat_YoutubeLLT42321.mp3', '../CatSound_dataset/MotherCall/Cat_YoutubeLLT42322.mp3', '../CatSound_dataset/MotherCall/Cat_YoutubeLLT42323.mp3', '../CatSound_dataset/MotherCall/Cat_YoutubeLLT42328.mp3', '../CatSound_dataset/MotherCall/Cat_YoutubeLLT42329.mp3', '../CatSound_dataset/MotherCall/Cat_YoutubeLLT42330.mp3', '../CatSound_dataset/MotherCall/Cat_YoutubeLLT42331.mp3', '../CatSound_dataset/MotherCall/Cat_YoutubeLLT42332.mp3', '../CatSound_dataset/MotherCall/Cat_YoutubeLLT42333.mp3', '../CatSound_dataset/MotherCall/Cat_YoutubeLLT42334.mp3', '../CatSound_dataset/MotherCall/Cat_YoutubeLLT42335.mp3', '../CatSound_dataset/MotherCall/Cat_YoutubeLLT42336.mp3', '../CatSound_dataset/MotherCall/Cat_YoutubeLLT42337.mp3', '../CatSound_dataset/MotherCall/Cat_YoutubeLLT42338.mp3', '../CatSound_dataset/MotherCall/Cat_YoutubeLLT42350.mp3', '../CatSound_dataset/MotherCall/Cat_YoutubeLLT42377.mp3', '../CatSound_dataset/MotherCall/Cat_pills0111.mp3', '../CatSound_dataset/MotherCall/Cat_pills0112.mp3', '../CatSound_dataset/MotherCall/Cat_pills0113.mp3', '../CatSound_dataset/MotherCall/Cat_pills0114.mp3', '../CatSound_dataset/MotherCall/Cat_pills0115.mp3', '../CatSound_dataset/MotherCall/Cat_pills0116.mp3', '../CatSound_dataset/MotherCall/Cat_pills0117.mp3', '../CatSound_dataset/MotherCall/Cat_pills0118.mp3', '../CatSound_dataset/MotherCall/Cat_pills0119.mp3', '../CatSound_dataset/MotherCall/Cat_pills0120.mp3', '../CatSound_dataset/MotherCall/Cat_pills0121.mp3', '../CatSound_dataset/MotherCall/Cat_pills0122.mp3', '../CatSound_dataset/MotherCall/Cat_pills0123.mp3', '../CatSound_dataset/MotherCall/Cat_pills0124.mp3', '../CatSound_dataset/MotherCall/Cat_pills0125.mp3', '../CatSound_dataset/MotherCall/Cat_pills0126.mp3', '../CatSound_dataset/MotherCall/Cat_pills0127.mp3', '../CatSound_dataset/MotherCall/Cat_pills0128.mp3', '../CatSound_dataset/MotherCall/Cat_pills0129.mp3', '../CatSound_dataset/MotherCall/Cat_pills0130.mp3', '../CatSound_dataset/MotherCall/Cat_pills0131.mp3', '../CatSound_dataset/MotherCall/Cat_pills0132.mp3', '../CatSound_dataset/MotherCall/Cat_pills0133.mp3', '../CatSound_dataset/MotherCall/Cat_pills0134.mp3', '../CatSound_dataset/MotherCall/Cat_pills0135.mp3', '../CatSound_dataset/MotherCall/Cat_pills0136.mp3', '../CatSound_dataset/MotherCall/Cat_pills0137.mp3', '../CatSound_dataset/MotherCall/Cat_pills0138.mp3', '../CatSound_dataset/MotherCall/Cat_pills0139.mp3', '../CatSound_dataset/MotherCall/Cat_pills0140.mp3', '../CatSound_dataset/MotherCall/Cat_pills0141.mp3', '../CatSound_dataset/MotherCall/Cat_pills0142.mp3', '../CatSound_dataset/MotherCall/Cat_pills0143.mp3', '../CatSound_dataset/MotherCall/Cat_pills0144.mp3', '../CatSound_dataset/MotherCall/Cat_pills0145.mp3', '../CatSound_dataset/MotherCall/Cat_pills0146.mp3', '../CatSound_dataset/MotherCall/Cat_pills0147.mp3', '../CatSound_dataset/MotherCall/Cat_pills0148.mp3', '../CatSound_dataset/MotherCall/Cat_pills0149.mp3', '../CatSound_dataset/MotherCall/Cat_pills0150.mp3', '../CatSound_dataset/MotherCall/Cat_pills0151.mp3', '../CatSound_dataset/MotherCall/Cat_pills0152.mp3', '../CatSound_dataset/MotherCall/Cat_pills0153.mp3', '../CatSound_dataset/MotherCall/Cat_pills0154.mp3', '../CatSound_dataset/MotherCall/Cat_pills0155.mp3', '../CatSound_dataset/MotherCall/Cat_pills0156.mp3', '../CatSound_dataset/MotherCall/Cat_pills0157.mp3', '../CatSound_dataset/MotherCall/Cat_pills0158.mp3', '../CatSound_dataset/MotherCall/Cat_pills0159.mp3', '../CatSound_dataset/MotherCall/Cat_pills0160.mp3', '../CatSound_dataset/MotherCall/Cat_pills0161.mp3', '../CatSound_dataset/MotherCall/Cat_pills0162.mp3', '../CatSound_dataset/MotherCall/Cat_pills0163.mp3', '../CatSound_dataset/MotherCall/Cat_pills0164.mp3', '../CatSound_dataset/MotherCall/Cat_pills0165.mp3', '../CatSound_dataset/MotherCall/Cat_pills0166.mp3', '../CatSound_dataset/MotherCall/Cat_pills0167.mp3', '../CatSound_dataset/MotherCall/Cat_pills0168.mp3', '../CatSound_dataset/MotherCall/Cat_pills0169.mp3', '../CatSound_dataset/MotherCall/Cat_pills0170.mp3', '../CatSound_dataset/MotherCall/Cat_pills0171.mp3', '../CatSound_dataset/MotherCall/Cat_pills0172.mp3', '../CatSound_dataset/MotherCall/Cat_pills0173.mp3', '../CatSound_dataset/MotherCall/Cat_pills0174.mp3', '../CatSound_dataset/MotherCall/Cat_pills0175.mp3', '../CatSound_dataset/MotherCall/Cat_pills0176.mp3', '../CatSound_dataset/MotherCall/Cat_pills0177.mp3', '../CatSound_dataset/MotherCall/Cat_pills0178.mp3', '../CatSound_dataset/MotherCall/Cat_pills0179.mp3', '../CatSound_dataset/MotherCall/Cat_pills0180.mp3', '../CatSound_dataset/MotherCall/Cat_pills0181.mp3', '../CatSound_dataset/MotherCall/Cat_pills0182.mp3', '../CatSound_dataset/MotherCall/Cat_pills0183.mp3', '../CatSound_dataset/MotherCall/Cat_pills0185.mp3', '../CatSound_dataset/MotherCall/Cat_pills0186.mp3', '../CatSound_dataset/MotherCall/Cat_pills0187.mp3', '../CatSound_dataset/MotherCall/Cat_pills0188.mp3', '../CatSound_dataset/MotherCall/Cat_pills0189.mp3', '../CatSound_dataset/MotherCall/Cat_pills0190.mp3', '../CatSound_dataset/MotherCall/Cat_pills0191.mp3', '../CatSound_dataset/MotherCall/Cat_pills0192.mp3', '../CatSound_dataset/MotherCall/Cat_pills0193.mp3', '../CatSound_dataset/MotherCall/Cat_pills0194.mp3', '../CatSound_dataset/MotherCall/Cat_pills0195.mp3', '../CatSound_dataset/MotherCall/Cat_pills0196.mp3', '../CatSound_dataset/MotherCall/Cat_pills0197.mp3', '../CatSound_dataset/MotherCall/Cat_pills0198.mp3', '../CatSound_dataset/MotherCall/Edit9098Pill (2).mp3', '../CatSound_dataset/MotherCall/Edit9098Pill.mp3', '../CatSound_dataset/MotherCall/Edit9100Pill.mp3', '../CatSound_dataset/MotherCall/Edit9105Pill.mp3', '../CatSound_dataset/MotherCall/Edit9106Pill.mp3', '../CatSound_dataset/MotherCall/Edit9107Pill.mp3', '../CatSound_dataset/MotherCall/Edit9108Pill.mp3', '../CatSound_dataset/MotherCall/Edit9109Pill.mp3', '../CatSound_dataset/MotherCall/Edit9110Pill.mp3', '../CatSound_dataset/MotherCall/Edit9111Pill.mp3', '../CatSound_dataset/MotherCall/Last_addCat122Pil.mp3', '../CatSound_dataset/MotherCall/Last_addCat123Pil.mp3', '../CatSound_dataset/MotherCall/Last_addCat124Pil.mp3', '../CatSound_dataset/MotherCall/Last_addCat125Pil.mp3', '../CatSound_dataset/MotherCall/Last_addCat126Pil.mp3', '../CatSound_dataset/MotherCall/Last_addCat127Pil.mp3', '../CatSound_dataset/MotherCall/Last_addCat128Pil.mp3', '../CatSound_dataset/MotherCall/Last_addCat129554Pil.mp3', '../CatSound_dataset/MotherCall/Last_addCat129555Pil.mp3', '../CatSound_dataset/MotherCall/Last_addCat129556Pil.mp3', '../CatSound_dataset/MotherCall/Last_addCat129557Pil.mp3', '../CatSound_dataset/MotherCall/Last_addCat129558Pil.mp3', '../CatSound_dataset/MotherCall/Last_addCat129559Pil (2).mp3', '../CatSound_dataset/MotherCall/Last_addCat129559Pil.mp3', '../CatSound_dataset/MotherCall/Last_addCat129560Pil.mp3', '../CatSound_dataset/MotherCall/Last_addCat129561Pil.mp3', '../CatSound_dataset/MotherCall/Last_addCat129Pil.mp3', '../CatSound_dataset/MotherCall/Last_addCat130Pil.mp3', '../CatSound_dataset/MotherCall/Last_addCat131Pil.mp3', '../CatSound_dataset/MotherCall/Last_addCat132Pil.mp3', '../CatSound_dataset/MotherCall/Last_addCat133Pil.mp3', '../CatSound_dataset/MotherCall/Last_addCat134Pil.mp3', '../CatSound_dataset/MotherCall/Last_addCat135Pil.mp3', '../CatSound_dataset/MotherCall/Last_addCat136Pil.mp3', '../CatSound_dataset/MotherCall/Last_addCat137Pil.mp3', '../CatSound_dataset/MotherCall/Last_addCat138Pil.mp3', '../CatSound_dataset/MotherCall/Last_addCat139Pil.mp3', '../CatSound_dataset/MotherCall/Last_addCat140Pil.mp3', '../CatSound_dataset/MotherCall/Last_addCat141Pil.mp3', '../CatSound_dataset/MotherCall/Last_addCat142Pil.mp3', '../CatSound_dataset/MotherCall/Last_addCat143Pil.mp3', '../CatSound_dataset/MotherCall/Last_addCat144Pil.mp3', '../CatSound_dataset/MotherCall/Last_addCat145Pil.mp3', '../CatSound_dataset/MotherCall/Last_addCat146Pil.mp3', '../CatSound_dataset/MotherCall/Last_addCat147Pil.mp3', '../CatSound_dataset/MotherCall/Last_addCat148Pil.mp3', '../CatSound_dataset/MotherCall/Last_addCat149Pil.mp3', '../CatSound_dataset/MotherCall/Last_addCat150Pil.mp3', '../CatSound_dataset/MotherCall/Last_addCat151Pil.mp3', '../CatSound_dataset/MotherCall/Last_addCat152Pil.mp3', '../CatSound_dataset/MotherCall/Last_addCat153Pil.mp3', '../CatSound_dataset/MotherCall/Last_addCat154Pil.mp3', '../CatSound_dataset/MotherCall/Last_addCat155Pil.mp3', '../CatSound_dataset/MotherCall/Last_addCat156Pil.mp3', '../CatSound_dataset/MotherCall/Last_addCat157Pil.mp3', '../CatSound_dataset/MotherCall/Last_addCat158Pil.mp3', '../CatSound_dataset/MotherCall/Last_addCat159Pil.mp3', '../CatSound_dataset/MotherCall/Last_addCat160Pil.mp3', '../CatSound_dataset/MotherCall/Last_addCat161Pil.mp3', '../CatSound_dataset/MotherCall/Last_addCat162Pil.mp3', '../CatSound_dataset/MotherCall/Last_addCat163Pil.mp3', '../CatSound_dataset/MotherCall/Last_addCat164Pil.mp3', '../CatSound_dataset/MotherCall/Last_addCat165Pil.mp3', '../CatSound_dataset/MotherCall/Last_addCat177Pill.mp3', '../CatSound_dataset/MotherCall/Last_addCat178Pill.mp3', '../CatSound_dataset/MotherCall/Last_addCat179Pill.mp3', '../CatSound_dataset/MotherCall/Last_addCat180Pill.mp3', '../CatSound_dataset/MotherCall/Last_addCat181Pill.mp3', '../CatSound_dataset/MotherCall/Last_addCat182Pill.mp3', '../CatSound_dataset/MotherCall/Last_addCat183Pill.mp3', '../CatSound_dataset/MotherCall/Last_addCat184Pill.mp3', '../CatSound_dataset/MotherCall/Last_addCat185Pill.mp3', '../CatSound_dataset/MotherCall/Last_addCat266Pill.mp3', '../CatSound_dataset/MotherCall/Last_addCat267Pill.mp3', '../CatSound_dataset/MotherCall/Last_addCat268Pill.mp3', '../CatSound_dataset/MotherCall/Last_addCat269Pill.mp3', '../CatSound_dataset/MotherCall/Last_addCat270Pill.mp3', '../CatSound_dataset/MotherCall/Last_addCat271Pill.mp3', '../CatSound_dataset/MotherCall/Last_addCat296Pill.mp3', '../CatSound_dataset/MotherCall/Last_addCat297Pill.mp3', '../CatSound_dataset/MotherCall/Last_addCat298Pill.mp3', '../CatSound_dataset/MotherCall/Last_addCat299Pill.mp3', '../CatSound_dataset/MotherCall/Last_addCat300Pill.mp3', '../CatSound_dataset/MotherCall/Last_addCat301Pill.mp3', '../CatSound_dataset/MotherCall/Last_addCat302Pill.mp3', '../CatSound_dataset/MotherCall/Last_addCat309Pill.mp3', '../CatSound_dataset/MotherCall/Last_addCat310Pill.mp3', '../CatSound_dataset/MotherCall/Last_addCat311Pill.mp3', '../CatSound_dataset/MotherCall/Last_addCat312Pill.mp3', '../CatSound_dataset/MotherCall/Last_addCat313Pill.mp3', '../CatSound_dataset/MotherCall/Last_addCat321Pill.mp3', '../CatSound_dataset/MotherCall/Last_addCat322Pill.mp3', '../CatSound_dataset/MotherCall/Last_addCat323Pill.mp3', '../CatSound_dataset/MotherCall/Last_addCat363Pill.mp3', '../CatSound_dataset/MotherCall/Online_Cat0399Pill.mp3', '../CatSound_dataset/MotherCall/Online_Cat0412pil.mp3', '../CatSound_dataset/MotherCall/Online_Cat0447Pil.mp3', '../CatSound_dataset/MotherCall/Online_Cat0448Pil.mp3', '../CatSound_dataset/MotherCall/Online_Cat0485Pil.mp3', '../CatSound_dataset/MotherCall/Online_Cat0487Pil.mp3', '../CatSound_dataset/MotherCall/Online_Cat0488Pil.mp3', '../CatSound_dataset/MotherCall/Online_Cat0489Pill.mp3', '../CatSound_dataset/MotherCall/Online_Cat0490Pill.mp3', '../CatSound_dataset/MotherCall/Online_Cat0491Pill.mp3', '../CatSound_dataset/MotherCall/Online_Cat0492Pill.mp3', '../CatSound_dataset/MotherCall/Online_Cat0510Pill.mp3', '../CatSound_dataset/MotherCall/cat01.mp3', '../CatSound_dataset/MotherCall/cat010.mp3', '../CatSound_dataset/MotherCall/cat011.mp3', '../CatSound_dataset/MotherCall/cat012.mp3', '../CatSound_dataset/MotherCall/cat013.mp3', '../CatSound_dataset/MotherCall/cat014.mp3', '../CatSound_dataset/MotherCall/cat015.mp3', '../CatSound_dataset/MotherCall/cat017.mp3', '../CatSound_dataset/MotherCall/cat019.mp3', '../CatSound_dataset/MotherCall/cat02.mp3', '../CatSound_dataset/MotherCall/cat020.mp3', '../CatSound_dataset/MotherCall/cat021.mp3', '../CatSound_dataset/MotherCall/cat022.mp3', '../CatSound_dataset/MotherCall/cat023.mp3', '../CatSound_dataset/MotherCall/cat024.mp3', '../CatSound_dataset/MotherCall/cat025.mp3', '../CatSound_dataset/MotherCall/cat026.mp3', '../CatSound_dataset/MotherCall/cat027.mp3', '../CatSound_dataset/MotherCall/cat028.mp3', '../CatSound_dataset/MotherCall/cat03.mp3', '../CatSound_dataset/MotherCall/cat030.mp3', '../CatSound_dataset/MotherCall/cat031.mp3', '../CatSound_dataset/MotherCall/cat032.mp3', '../CatSound_dataset/MotherCall/cat04.mp3', '../CatSound_dataset/MotherCall/cat05.mp3', '../CatSound_dataset/MotherCall/cat06.mp3', '../CatSound_dataset/MotherCall/cat_19.mp3', '../CatSound_dataset/MotherCall/cat_coll0125.mp3', '../CatSound_dataset/MotherCall/cat_coll0136.mp3', '../CatSound_dataset/MotherCall/cat_coll0137.mp3', '../CatSound_dataset/MotherCall/cat_coll0140.mp3', '../CatSound_dataset/MotherCall/cat_coll0141.mp3', '../CatSound_dataset/MotherCall/cat_coll0142.mp3', '../CatSound_dataset/MotherCall/cat_coll01813.mp3', '../CatSound_dataset/MotherCall/cat_coll01814.mp3', '../CatSound_dataset/MotherCall/cat_coll01816.mp3', '../CatSound_dataset/MotherCall/cat_coll01818.mp3', '../CatSound_dataset/MotherCall/cat_coll01819.mp3', '../CatSound_dataset/MotherCall/cat_coll0183.mp3', '../CatSound_dataset/MotherCall/cat_coll0184.mp3', '../CatSound_dataset/MotherCall/cat_coll0185.mp3', '../CatSound_dataset/MotherCall/cat_coll0186.mp3', '../CatSound_dataset/MotherCall/cat_edit03023pill.mp3', '../CatSound_dataset/MotherCall/cat_flickr01293.mp3', '../CatSound_dataset/MotherCall/cat_flickr01296.mp3', '../CatSound_dataset/MotherCall/cat_flickr01297.mp3', '../CatSound_dataset/MotherCall/cat_flickr01298.mp3', '../CatSound_dataset/MotherCall/cat_flickr01299.mp3', '../CatSound_dataset/MotherCall/cat_flickr01300.mp3', '../CatSound_dataset/MotherCall/cat_flickr0184.mp3', '../CatSound_dataset/MotherCall/cat_flickr0185 (2).mp3', '../CatSound_dataset/MotherCall/cat_flickr0185.mp3', '../CatSound_dataset/MotherCall/cat_flickr0186.mp3', '../CatSound_dataset/MotherCall/cat_youtube01101.mp3', '../CatSound_dataset/MotherCall/cat_youtube01218.mp3', '../CatSound_dataset/MotherCall/cat_youtube01219.mp3', '../CatSound_dataset/MotherCall/cat_youtube01220.mp3', '../CatSound_dataset/MotherCall/cat_youtube01221.mp3', '../CatSound_dataset/MotherCall/cat_youtube01222.mp3', '../CatSound_dataset/MotherCall/cat_youtube01224.mp3', '../CatSound_dataset/MotherCall/cat_youtube01225.mp3', '../CatSound_dataset/MotherCall/cat_youtube01226.mp3', '../CatSound_dataset/MotherCall/cat_youtube01227.mp3', '../CatSound_dataset/MotherCall/cat_youtube01228.mp3', '../CatSound_dataset/MotherCall/cat_youtube01229.mp3', '../CatSound_dataset/MotherCall/cat_youtube01230.mp3', '../CatSound_dataset/MotherCall/cat_youtube01231.mp3', '../CatSound_dataset/MotherCall/cat_youtube01232.mp3', '../CatSound_dataset/MotherCall/cat_youtube01233.mp3', '../CatSound_dataset/MotherCall/cat_youtube01234.mp3', '../CatSound_dataset/MotherCall/cat_youtube01235 (2).mp3', '../CatSound_dataset/MotherCall/cat_youtube01235.mp3', '../CatSound_dataset/MotherCall/cat_youtube01240.mp3', '../CatSound_dataset/MotherCall/cat_youtube01244.mp3', '../CatSound_dataset/MotherCall/cat_youtube01245.mp3', '../CatSound_dataset/MotherCall/cat_youtube01246.mp3', '../CatSound_dataset/MotherCall/cat_youtube01247.mp3', '../CatSound_dataset/MotherCall/cat_youtube01248.mp3', '../CatSound_dataset/Paining/Cat meow (4).mp3', '../CatSound_dataset/Paining/Cat meow animals021.mp3', '../CatSound_dataset/Paining/Cat_YoutubeLLT42326.mp3', '../CatSound_dataset/Paining/Cat_YoutubeLLT42339.mp3', '../CatSound_dataset/Paining/Cat_YoutubeLLT42340.mp3', '../CatSound_dataset/Paining/Cat_YoutubeLLT42341.mp3', '../CatSound_dataset/Paining/Cat_YoutubeLLT42342.mp3', '../CatSound_dataset/Paining/Cat_YoutubeLLT42343.mp3', '../CatSound_dataset/Paining/Cat_YoutubeLLT42348.mp3', '../CatSound_dataset/Paining/Cat_YoutubeLLT42349.mp3', '../CatSound_dataset/Paining/Cat_YoutubeLLT42351.mp3', '../CatSound_dataset/Paining/Cat_YoutubeLLT42352.mp3', '../CatSound_dataset/Paining/Cat_YoutubeLLT42353.mp3', '../CatSound_dataset/Paining/Cat_YoutubeLLT42354.mp3', '../CatSound_dataset/Paining/Cat_YoutubeLLT42355.mp3', '../CatSound_dataset/Paining/Cat_YoutubeLLT42370.mp3', '../CatSound_dataset/Paining/Cat_YoutubeLLT42371.mp3', '../CatSound_dataset/Paining/Cat_YoutubeLLT42373.mp3', '../CatSound_dataset/Paining/Cat_YoutubeLLT42374.mp3', '../CatSound_dataset/Paining/Cat_YoutubeLLT42375.mp3', '../CatSound_dataset/Paining/Cat_YoutubeLLT42376.mp3', '../CatSound_dataset/Paining/Cat_YoutubeLLT42378.mp3', '../CatSound_dataset/Paining/Cat_YoutubeLLT42380.mp3', '../CatSound_dataset/Paining/Cat_YoutubeLLT42381.mp3', '../CatSound_dataset/Paining/Cat_YoutubeLLT42382.mp3', '../CatSound_dataset/Paining/Cat_YoutubeLLT42383.mp3', '../CatSound_dataset/Paining/Cat_YoutubeLLT42384.mp3', '../CatSound_dataset/Paining/Cat_YoutubeLLT42385.mp3', '../CatSound_dataset/Paining/Cat_YoutubeLLT42386.mp3', '../CatSound_dataset/Paining/Cat_YoutubeLLT42387.mp3', '../CatSound_dataset/Paining/Cat_YoutubeLLT42388.mp3', '../CatSound_dataset/Paining/Cat_YoutubeLLT42390.mp3', '../CatSound_dataset/Paining/Cat_YoutubeLLT42450.mp3', '../CatSound_dataset/Paining/Cat_YoutubeLLT42451.mp3', '../CatSound_dataset/Paining/Cat_YoutubeLLT42452.mp3', '../CatSound_dataset/Paining/Cat_YoutubeLLT42453 (2).mp3', '../CatSound_dataset/Paining/Cat_YoutubeLLT42453.mp3', '../CatSound_dataset/Paining/Cat_YoutubeLLT42454.mp3', '../CatSound_dataset/Paining/Cat_YoutubeLLT42455.mp3', '../CatSound_dataset/Paining/Cat_YoutubeLLT42456.mp3', '../CatSound_dataset/Paining/Cat_YoutubeLLT42457.mp3', '../CatSound_dataset/Paining/Edit9006Hlp.mp3', '../CatSound_dataset/Paining/Edit9007Hlp.mp3', '../CatSound_dataset/Paining/Edit9008Hlp.mp3', '../CatSound_dataset/Paining/Edit9088Hlp.mp3', '../CatSound_dataset/Paining/Edit9089Hlp.mp3', '../CatSound_dataset/Paining/Edit9094Hlp.mp3', '../CatSound_dataset/Paining/Edit9098Hlp.mp3', '../CatSound_dataset/Paining/LastEntry_cat1015Hlp.mp3', '../CatSound_dataset/Paining/LastEntry_cat1016Hlp.mp3', '../CatSound_dataset/Paining/LastEntry_cat1037Hlp.mp3', '../CatSound_dataset/Paining/LastEntry_cat1038Hlp.mp3', '../CatSound_dataset/Paining/LastEntry_cat1039Hlp.mp3', '../CatSound_dataset/Paining/LastEntry_cat1040Hlp.mp3', '../CatSound_dataset/Paining/LastEntry_cat1041Hlp.mp3', '../CatSound_dataset/Paining/LastEntry_cat1042Hlp.mp3', '../CatSound_dataset/Paining/LastEntry_cat1281Hlp.mp3', '../CatSound_dataset/Paining/LastEntry_cat1282Hlp.mp3', '../CatSound_dataset/Paining/LastEntry_cat1282Hpy.mp3', '../CatSound_dataset/Paining/LastEntry_cat1283Hpy.mp3', '../CatSound_dataset/Paining/LastEntry_cat1284Hpy.mp3', '../CatSound_dataset/Paining/LastEntry_cat1285Hpy.mp3', '../CatSound_dataset/Paining/Last_addCat129561Res.mp3', '../CatSound_dataset/Paining/Last_addCat129562Res.mp3', '../CatSound_dataset/Paining/Last_addCat129563Res (2).mp3', '../CatSound_dataset/Paining/Last_addCat129564Res.mp3', '../CatSound_dataset/Paining/Last_addCat129565Res.mp3', '../CatSound_dataset/Paining/Last_addCat129566Res.mp3', '../CatSound_dataset/Paining/Last_addCat129567Res.mp3', '../CatSound_dataset/Paining/Last_addCat129568Res.mp3', '../CatSound_dataset/Paining/Last_addCat129569Res (2).mp3', '../CatSound_dataset/Paining/Last_addCat129569Res.mp3', '../CatSound_dataset/Paining/Last_addCat129570Res.mp3', '../CatSound_dataset/Paining/Last_addCat129571Res.mp3', '../CatSound_dataset/Paining/Last_addCat129572Res.mp3', '../CatSound_dataset/Paining/Last_addCat129573Res.mp3', '../CatSound_dataset/Paining/Last_addCat129574Res.mp3', '../CatSound_dataset/Paining/Last_addCat129575Res.mp3', '../CatSound_dataset/Paining/Last_addCat129576Res.mp3', '../CatSound_dataset/Paining/Last_addCat129578Res.mp3', '../CatSound_dataset/Paining/Last_addCat129579Res.mp3', '../CatSound_dataset/Paining/Last_addCat129580Res.mp3', '../CatSound_dataset/Paining/Last_addCat129581Res.mp3', '../CatSound_dataset/Paining/Last_addCat129582Res.mp3', '../CatSound_dataset/Paining/Last_addCat129583Res.mp3', '../CatSound_dataset/Paining/Last_addCat129584Res.mp3', '../CatSound_dataset/Paining/Last_addCat129585Res.mp3', '../CatSound_dataset/Paining/Last_addCat129586Res.mp3', '../CatSound_dataset/Paining/Last_addCat129587Res.mp3', '../CatSound_dataset/Paining/Last_addCat129588Res.mp3', '../CatSound_dataset/Paining/Last_addCat129589Res.mp3', '../CatSound_dataset/Paining/Last_addCat274Hpy.mp3', '../CatSound_dataset/Paining/Online_Cat0303Help.mp3', '../CatSound_dataset/Paining/Online_Cat0304Help (2).mp3', '../CatSound_dataset/Paining/Online_Cat0304Help.mp3', '../CatSound_dataset/Paining/Online_Cat0305Help.mp3', '../CatSound_dataset/Paining/Online_Cat0306.mp3', '../CatSound_dataset/Paining/Online_Cat0307 (2).mp3', '../CatSound_dataset/Paining/Online_Cat0307.mp3', '../CatSound_dataset/Paining/Online_Cat0314hpy.mp3', '../CatSound_dataset/Paining/Online_Cat0315hpy.mp3', '../CatSound_dataset/Paining/Online_Cat0320hpy.mp3', '../CatSound_dataset/Paining/Online_Cat0325help.mp3', '../CatSound_dataset/Paining/Online_Cat0325hpy.mp3', '../CatSound_dataset/Paining/Online_Cat0326hpy.mp3', '../CatSound_dataset/Paining/Online_Cat0327help.mp3', '../CatSound_dataset/Paining/Online_Cat0328hlp.mp3', '../CatSound_dataset/Paining/Online_Cat0329hpy (2).mp3', '../CatSound_dataset/Paining/Online_Cat0330hlp.mp3', '../CatSound_dataset/Paining/Online_Cat0336ffhpy.mp3', '../CatSound_dataset/Paining/Online_Cat0336hlp.mp3', '../CatSound_dataset/Paining/Online_Cat0353hlp.mp3', '../CatSound_dataset/Paining/Online_Cat0355hlp.mp3', '../CatSound_dataset/Paining/Online_Cat0358hpy.mp3', '../CatSound_dataset/Paining/Online_Cat0362hlp.mp3', '../CatSound_dataset/Paining/Online_Cat0368ang.mp3', '../CatSound_dataset/Paining/Online_Cat0381Hlp.mp3', '../CatSound_dataset/Paining/Online_Cat0384hpy.mp3', '../CatSound_dataset/Paining/Online_Cat0385hlp.mp3', '../CatSound_dataset/Paining/Online_Cat0390Hlp.mp3', '../CatSound_dataset/Paining/Online_Cat0416hlp.mp3', '../CatSound_dataset/Paining/Online_Cat0417hlp.mp3', '../CatSound_dataset/Paining/Online_Cat0465hpy.mp3', '../CatSound_dataset/Paining/Online_Cat0468Hlp.mp3', '../CatSound_dataset/Paining/Online_Cat0471Hlp.mp3', '../CatSound_dataset/Paining/Online_Cat0473Hpy.mp3', '../CatSound_dataset/Paining/Online_Cat0475Hpy.mp3', '../CatSound_dataset/Paining/Online_Cat0480hpy.mp3', '../CatSound_dataset/Paining/Online_Cat0486Pil.mp3', '../CatSound_dataset/Paining/Online_Cat0493Hlp.mp3', '../CatSound_dataset/Paining/Online_Cat0501Hlp.mp3', '../CatSound_dataset/Paining/Online_Cat0508Hlp.mp3', '../CatSound_dataset/Paining/Online_Cat0511Hlp.mp3', '../CatSound_dataset/Paining/Online_Cat0515Hlp.mp3', '../CatSound_dataset/Paining/Online_Cat0518Hlp.mp3', '../CatSound_dataset/Paining/Online_Cat0519Hpy.mp3', '../CatSound_dataset/Paining/Online_Cat0520Hlp.mp3', '../CatSound_dataset/Paining/Online_Cat0521Hlp.mp3', '../CatSound_dataset/Paining/Online_Cat0538Hlp.mp3', '../CatSound_dataset/Paining/Online_Cat0544Hlp.mp3', '../CatSound_dataset/Paining/Online_Cat0547Hpy.mp3', '../CatSound_dataset/Paining/Online_Cat0548Help.mp3', '../CatSound_dataset/Paining/Online_Cat0549Pill.mp3', '../CatSound_dataset/Paining/Pain321.mp3', '../CatSound_dataset/Paining/Pain322.mp3', '../CatSound_dataset/Paining/Pain323.mp3', '../CatSound_dataset/Paining/Pain324.mp3', '../CatSound_dataset/Paining/Pain325.mp3', '../CatSound_dataset/Paining/Pain326.mp3', '../CatSound_dataset/Paining/Pain327.mp3', '../CatSound_dataset/Paining/Pain328.mp3', '../CatSound_dataset/Paining/Pain329.mp3', '../CatSound_dataset/Paining/Pain330.mp3', '../CatSound_dataset/Paining/Pain331.mp3', '../CatSound_dataset/Paining/Pain332.mp3', '../CatSound_dataset/Paining/Pain333.mp3', '../CatSound_dataset/Paining/Pain334.mp3', '../CatSound_dataset/Paining/Pain335.mp3', '../CatSound_dataset/Paining/Pain336.mp3', '../CatSound_dataset/Paining/Pain337.mp3', '../CatSound_dataset/Paining/Pain338.mp3', '../CatSound_dataset/Paining/Pain340.mp3', '../CatSound_dataset/Paining/Pain341.mp3', '../CatSound_dataset/Paining/YASH_LLT_Help3001.mp3', '../CatSound_dataset/Paining/YASH_LLT_Help3002.mp3', '../CatSound_dataset/Paining/YASH_LLT_Help3003 (2).mp3', '../CatSound_dataset/Paining/YASH_LLT_Help3005 (2).mp3', '../CatSound_dataset/Paining/YASH_LLT_Help3005.mp3', '../CatSound_dataset/Paining/YASH_LLT_Help3007.mp3', '../CatSound_dataset/Paining/YASH_LLT_Help3008.mp3', '../CatSound_dataset/Paining/YASH_LLT_Help3009.mp3', '../CatSound_dataset/Paining/YASH_LLT_Help3010.mp3', '../CatSound_dataset/Paining/a1.mp3', '../CatSound_dataset/Paining/angry2.mp3', '../CatSound_dataset/Paining/car_extcoll0146.mp3', '../CatSound_dataset/Paining/car_extcoll0147.mp3', '../CatSound_dataset/Paining/car_extcoll0148.mp3', '../CatSound_dataset/Paining/car_extcoll0163.mp3', '../CatSound_dataset/Paining/car_extcoll0187.mp3', '../CatSound_dataset/Paining/car_extcoll0188.mp3', '../CatSound_dataset/Paining/car_extcoll0223.mp3', '../CatSound_dataset/Paining/car_extcoll0229.mp3', '../CatSound_dataset/Paining/car_extcoll0247.mp3', '../CatSound_dataset/Paining/car_extcoll0336.mp3', '../CatSound_dataset/Paining/car_extcoll0337.mp3', '../CatSound_dataset/Paining/car_extcoll0338.mp3', '../CatSound_dataset/Paining/car_extcoll0339.mp3', '../CatSound_dataset/Paining/car_extcoll0340.mp3', '../CatSound_dataset/Paining/car_extcoll0341.mp3', '../CatSound_dataset/Paining/car_extcoll0342.mp3', '../CatSound_dataset/Paining/car_extcoll0343.mp3', '../CatSound_dataset/Paining/car_extcoll0344.mp3', '../CatSound_dataset/Paining/car_extcoll0345.mp3', '../CatSound_dataset/Paining/car_extcoll0346.mp3', '../CatSound_dataset/Paining/car_extcoll0347.mp3', '../CatSound_dataset/Paining/car_extcoll0348.mp3', '../CatSound_dataset/Paining/car_extcoll0349.mp3', '../CatSound_dataset/Paining/car_extcoll0350.mp3', '../CatSound_dataset/Paining/car_extcoll0351.mp3', '../CatSound_dataset/Paining/car_extcoll0352.mp3', '../CatSound_dataset/Paining/car_extcoll0353.mp3', '../CatSound_dataset/Paining/cat01.mp3', '../CatSound_dataset/Paining/cat016.mp3', '../CatSound_dataset/Paining/cat018.mp3', '../CatSound_dataset/Paining/cat02.mp3', '../CatSound_dataset/Paining/cat03.mp3', '../CatSound_dataset/Paining/cat04.mp3', '../CatSound_dataset/Paining/cat05.mp3', '../CatSound_dataset/Paining/cat06.mp3', '../CatSound_dataset/Paining/cat07.mp3', '../CatSound_dataset/Paining/cat08.mp3', '../CatSound_dataset/Paining/cat09.mp3', '../CatSound_dataset/Paining/cat10.mp3', '../CatSound_dataset/Paining/cat11.mp3', '../CatSound_dataset/Paining/cat12.mp3', '../CatSound_dataset/Paining/cat13.mp3', '../CatSound_dataset/Paining/cat14.mp3', '../CatSound_dataset/Paining/cat15.mp3', '../CatSound_dataset/Paining/cat16.mp3', '../CatSound_dataset/Paining/cat17.mp3', '../CatSound_dataset/Paining/cat18.mp3', '../CatSound_dataset/Paining/cat19.mp3', '../CatSound_dataset/Paining/cat20.mp3', '../CatSound_dataset/Paining/cat21.mp3', '../CatSound_dataset/Paining/cat_149.mp3', '../CatSound_dataset/Paining/cat_coll01417.mp3', '../CatSound_dataset/Paining/cat_coll0147.mp3', '../CatSound_dataset/Paining/cat_coll0148.mp3', '../CatSound_dataset/Paining/cat_coll0149.mp3', '../CatSound_dataset/Paining/cat_coll0150.mp3', '../CatSound_dataset/Paining/cat_coll0151.mp3', '../CatSound_dataset/Paining/cat_coll0152.mp3', '../CatSound_dataset/Paining/cat_coll0153.mp3', '../CatSound_dataset/Paining/cat_coll0154.mp3', '../CatSound_dataset/Paining/cat_coll0155.mp3', '../CatSound_dataset/Paining/cat_coll0156.mp3', '../CatSound_dataset/Paining/cat_coll0157.mp3', '../CatSound_dataset/Paining/cat_coll0160.mp3', '../CatSound_dataset/Paining/cat_coll0164.mp3', '../CatSound_dataset/Paining/cat_coll0165.mp3', '../CatSound_dataset/Paining/cat_coll0166.mp3', '../CatSound_dataset/Paining/cat_coll0167.mp3', '../CatSound_dataset/Paining/cat_coll0168.mp3', '../CatSound_dataset/Paining/cat_coll0169.mp3', '../CatSound_dataset/Paining/cat_coll0170.mp3', '../CatSound_dataset/Paining/cat_coll0171.mp3', '../CatSound_dataset/Paining/cat_coll0172.mp3', '../CatSound_dataset/Paining/cat_coll0173.mp3', '../CatSound_dataset/Paining/cat_coll0174.mp3', '../CatSound_dataset/Paining/cat_coll0175.mp3', '../CatSound_dataset/Paining/cat_coll0176.mp3', '../CatSound_dataset/Paining/cat_coll0177.mp3', '../CatSound_dataset/Paining/cat_coll0178.mp3', '../CatSound_dataset/Paining/cat_coll0179.mp3', '../CatSound_dataset/Paining/cat_flickr0118.mp3', '../CatSound_dataset/Paining/cat_flickr0119.mp3', '../CatSound_dataset/Paining/cat_flickr01294.mp3', '../CatSound_dataset/Paining/cat_flickr01295.mp3', '../CatSound_dataset/Paining/cat_flickr01301.mp3', '../CatSound_dataset/Paining/cat_flickr0189.mp3', '../CatSound_dataset/Paining/cat_flickr0191.mp3', '../CatSound_dataset/Paining/cat_flickr0192.mp3', '../CatSound_dataset/Paining/cat_flickr0194.mp3', '../CatSound_dataset/Paining/cat_flickr0195.mp3', '../CatSound_dataset/Paining/cat_flickr0197.mp3', '../CatSound_dataset/Paining/cat_flickr0198.mp3', '../CatSound_dataset/Paining/cat_flickr0199.mp3', '../CatSound_dataset/Paining/cat_youtube01107.mp3', '../CatSound_dataset/Paining/cat_youtube01108.mp3', '../CatSound_dataset/Paining/cat_youtube01109 (2).mp3', '../CatSound_dataset/Paining/cat_youtube01110.mp3', '../CatSound_dataset/Paining/cat_youtube01111.mp3', '../CatSound_dataset/Paining/cat_youtube01198.mp3', '../CatSound_dataset/Paining/cat_youtube01199.mp3', '../CatSound_dataset/Paining/cat_youtube01200.mp3', '../CatSound_dataset/Paining/cat_youtube01201.mp3', '../CatSound_dataset/Paining/cat_youtube01202.mp3', '../CatSound_dataset/Paining/cat_youtube01203.mp3', '../CatSound_dataset/Paining/cat_youtube01204.mp3', '../CatSound_dataset/Paining/cat_youtube01205.mp3', '../CatSound_dataset/Paining/cat_youtube01206.mp3', '../CatSound_dataset/Paining/cat_youtube01207.mp3', '../CatSound_dataset/Paining/cat_youtube01209.mp3', '../CatSound_dataset/Paining/cat_youtube01210.mp3', '../CatSound_dataset/Paining/cat_youtube01213.mp3', '../CatSound_dataset/Paining/cat_youtube01215.mp3', '../CatSound_dataset/Paining/cat_youtube01216.mp3', '../CatSound_dataset/Paining/cat_youtube01217.mp3', '../CatSound_dataset/Paining/cat_youtube01241.mp3', '../CatSound_dataset/Paining/cat_youtube01242.mp3', '../CatSound_dataset/Paining/cat_youtube01249.mp3', '../CatSound_dataset/Paining/cat_youtube01250.mp3', '../CatSound_dataset/Resting/LastEntry_cat1027Purr.mp3', '../CatSound_dataset/Resting/LastEntry_cat1028Purr (2).mp3', '../CatSound_dataset/Resting/LastEntry_cat1028Purr.mp3', '../CatSound_dataset/Resting/LastEntry_cat1210Purr.mp3', '../CatSound_dataset/Resting/LastEntry_cat1211Purr.mp3', '../CatSound_dataset/Resting/LastEntry_cat1212Purr (2).mp3', '../CatSound_dataset/Resting/LastEntry_cat1212Purr.mp3', '../CatSound_dataset/Resting/LastEntry_cat1213Purr (2).mp3', '../CatSound_dataset/Resting/LastEntry_cat1213Purr.mp3', '../CatSound_dataset/Resting/LastEntry_cat1214Purr.mp3', '../CatSound_dataset/Resting/LastEntry_cat1215Purr.mp3', '../CatSound_dataset/Resting/LastEntry_cat1216Purr.mp3', '../CatSound_dataset/Resting/LastEntry_cat1217Purr.mp3', '../CatSound_dataset/Resting/LastEntry_cat1218Purr (2).mp3', '../CatSound_dataset/Resting/LastEntry_cat1218Purr.mp3', '../CatSound_dataset/Resting/LastEntry_cat1219Purr.mp3', '../CatSound_dataset/Resting/LastEntry_cat1220Purr.mp3', '../CatSound_dataset/Resting/LastEntry_cat1221Purr.mp3', '../CatSound_dataset/Resting/LastEntry_cat1222Purr.mp3', '../CatSound_dataset/Resting/LastEntry_cat1223Purr.mp3', '../CatSound_dataset/Resting/LastEntry_cat1224Purr.mp3', '../CatSound_dataset/Resting/LastEntry_cat1225Purr.mp3', '../CatSound_dataset/Resting/LastEntry_cat1226Purr.mp3', '../CatSound_dataset/Resting/LastEntry_cat1227Purr.mp3', '../CatSound_dataset/Resting/LastEntry_cat1228Purr.mp3', '../CatSound_dataset/Resting/LastEntry_cat1229Purr.mp3', '../CatSound_dataset/Resting/LastEntry_cat1230Purr.mp3', '../CatSound_dataset/Resting/LastEntry_cat1231Purr (2).mp3', '../CatSound_dataset/Resting/LastEntry_cat1231Purr.mp3', '../CatSound_dataset/Resting/LastEntry_cat1232Purr.mp3', '../CatSound_dataset/Resting/LastEntry_cat1233Purr.mp3', '../CatSound_dataset/Resting/LastEntry_cat1234Purr.mp3', '../CatSound_dataset/Resting/LastEntry_cat1235Purr.mp3', '../CatSound_dataset/Resting/LastEntry_cat1236Purr.mp3', '../CatSound_dataset/Resting/LastEntry_cat1237Purr.mp3', '../CatSound_dataset/Resting/LastEntry_cat1238Purr.mp3', '../CatSound_dataset/Resting/LastEntry_cat1239Purr.mp3', '../CatSound_dataset/Resting/LastEntry_cat1240Purr.mp3', '../CatSound_dataset/Resting/LastEntry_cat1241Purr.mp3', '../CatSound_dataset/Resting/LastEntry_cat1242Purr.mp3', '../CatSound_dataset/Resting/LastEntry_cat1243Purr.mp3', '../CatSound_dataset/Resting/LastEntry_cat1244Purr.mp3', '../CatSound_dataset/Resting/LastEntry_cat1245Purr.mp3', '../CatSound_dataset/Resting/LastEntry_cat1246Purr.mp3', '../CatSound_dataset/Resting/LastEntry_cat1247Purr.mp3', '../CatSound_dataset/Resting/LastEntry_cat1248Purr.mp3', '../CatSound_dataset/Resting/LastEntry_cat1249Purr.mp3', '../CatSound_dataset/Resting/LastEntry_cat1250Purr.mp3', '../CatSound_dataset/Resting/LastEntry_cat1251Purr.mp3', '../CatSound_dataset/Resting/LastEntry_cat1252Purr.mp3', '../CatSound_dataset/Resting/LastEntry_cat1253Purr.mp3', '../CatSound_dataset/Resting/LastEntry_cat1254Purr.mp3', '../CatSound_dataset/Resting/LastEntry_cat1255Purr.mp3', '../CatSound_dataset/Resting/LastEntry_cat1256Purr.mp3', '../CatSound_dataset/Resting/LastEntry_cat1257Purr.mp3', '../CatSound_dataset/Resting/LastEntry_cat1258Purr.mp3', '../CatSound_dataset/Resting/LastEntry_cat1259Purr.mp3', '../CatSound_dataset/Resting/LastEntry_cat1260Purr.mp3', '../CatSound_dataset/Resting/LastEntry_cat1261Purr (2).mp3', '../CatSound_dataset/Resting/LastEntry_cat1261Purr.mp3', '../CatSound_dataset/Resting/Last_addCat303Purr.mp3', '../CatSound_dataset/Resting/Last_addCat304Purr.mp3', '../CatSound_dataset/Resting/Last_addCat305Purr.mp3', '../CatSound_dataset/Resting/Last_addCat306Purr.mp3', '../CatSound_dataset/Resting/Last_addCat307Purr.mp3', '../CatSound_dataset/Resting/Online_Cat0361purr.mp3', '../CatSound_dataset/Resting/Online_Cat0422Purr (2).mp3', '../CatSound_dataset/Resting/Online_Cat0422Purr.mp3', '../CatSound_dataset/Resting/Online_Cat0423Purr.mp3', '../CatSound_dataset/Resting/Online_Cat0424Purr.mp3', '../CatSound_dataset/Resting/Online_Cat0425Purr.mp3', '../CatSound_dataset/Resting/Online_Cat0426Purr.mp3', '../CatSound_dataset/Resting/Online_Cat0427Purr.mp3', '../CatSound_dataset/Resting/Online_Cat0428Purr.mp3', '../CatSound_dataset/Resting/Online_Cat0429Purr.mp3', '../CatSound_dataset/Resting/Online_Cat0430Purr.mp3', '../CatSound_dataset/Resting/Online_Cat0431Purr.mp3', '../CatSound_dataset/Resting/Online_Cat0432Purr.mp3', '../CatSound_dataset/Resting/Online_Cat0433Purr.mp3', '../CatSound_dataset/Resting/Online_Cat0434Purr.mp3', '../CatSound_dataset/Resting/Online_Cat0435Purr.mp3', '../CatSound_dataset/Resting/Online_Cat0474Purr.mp3', '../CatSound_dataset/Resting/Online_Cat0524Purr.mp3', '../CatSound_dataset/Resting/Online_Cat0533Purr.mp3', '../CatSound_dataset/Resting/Online_Cat0534Purr.mp3', '../CatSound_dataset/Resting/Online_Cat0535Purr (2).mp3', '../CatSound_dataset/Resting/Online_Cat0535Purr.mp3', '../CatSound_dataset/Resting/Online_Cat0541Purr.mp3', '../CatSound_dataset/Resting/Online_Cat0542Purr.mp3', '../CatSound_dataset/Resting/Online_Cat0543Purr.mp3', '../CatSound_dataset/Resting/Purr.mp3', '../CatSound_dataset/Resting/cat01.mp3', '../CatSound_dataset/Resting/cat010.mp3', '../CatSound_dataset/Resting/cat02.mp3', '../CatSound_dataset/Resting/cat03.mp3', '../CatSound_dataset/Resting/cat04.mp3', '../CatSound_dataset/Resting/cat05.mp3', '../CatSound_dataset/Resting/cat06.mp3', '../CatSound_dataset/Resting/cat07.mp3', '../CatSound_dataset/Resting/cat08.mp3', '../CatSound_dataset/Resting/cat09.mp3', '../CatSound_dataset/Resting/cat10.mp3', '../CatSound_dataset/Resting/cat11.mp3', '../CatSound_dataset/Resting/cat12.mp3', '../CatSound_dataset/Resting/cat13.mp3', '../CatSound_dataset/Resting/cat_coll0106.mp3', '../CatSound_dataset/Resting/cat_coll0107.mp3', '../CatSound_dataset/Resting/cat_coll0108.mp3', '../CatSound_dataset/Resting/cat_coll0109.mp3', '../CatSound_dataset/Resting/cat_coll0110.mp3', '../CatSound_dataset/Resting/cat_coll0115.mp3', '../CatSound_dataset/Resting/cat_coll0116.mp3', '../CatSound_dataset/Resting/cat_coll0117.mp3', '../CatSound_dataset/Resting/cat_coll0118.mp3', '../CatSound_dataset/Resting/cat_coll0124.mp3', '../CatSound_dataset/Resting/cat_coll0133.mp3', '../CatSound_dataset/Resting/cat_coll0134.mp3', '../CatSound_dataset/Resting/cat_flickr01314.mp3', '../CatSound_dataset/Resting/cat_flickr01315.mp3', '../CatSound_dataset/Resting/cat_flickr01316.mp3', '../CatSound_dataset/Resting/cat_flickr01317.mp3', '../CatSound_dataset/Resting/cat_flickr01318.mp3', '../CatSound_dataset/Resting/cat_flickr01319.mp3', '../CatSound_dataset/Resting/cat_flickr01320.mp3', '../CatSound_dataset/Resting/cat_flickr01321.mp3', '../CatSound_dataset/Resting/cat_flickr01327.mp3', '../CatSound_dataset/Resting/cat_flickr01328.mp3', '../CatSound_dataset/Resting/cat_flickr01329.mp3', '../CatSound_dataset/Resting/cat_flickr01330.mp3', '../CatSound_dataset/Resting/cat_flickr01331.mp3', '../CatSound_dataset/Resting/cat_flickr01332.mp3', '../CatSound_dataset/Resting/cat_flickr01333.mp3', '../CatSound_dataset/Resting/cat_flickr01371.mp3', '../CatSound_dataset/Resting/cat_flickr01372.mp3', '../CatSound_dataset/Resting/cat_flickr01373.mp3', '../CatSound_dataset/Resting/cat_flickr01374.mp3', '../CatSound_dataset/Resting/cat_flickr01375 (5).mp3', '../CatSound_dataset/Resting/cat_flickr01375.mp3', '../CatSound_dataset/Resting/cat_flickr01376 (2).mp3', '../CatSound_dataset/Resting/cat_flickr01376.mp3', '../CatSound_dataset/Resting/cat_flickr01377.mp3', '../CatSound_dataset/Resting/cat_flickr01378.mp3', '../CatSound_dataset/Resting/cat_flickr01379.mp3', '../CatSound_dataset/Resting/cat_flickr01381 (3).mp3', '../CatSound_dataset/Resting/cat_flickr01382.mp3', '../CatSound_dataset/Resting/cat_flickr01383.mp3', '../CatSound_dataset/Resting/cat_flickr01384.mp3', '../CatSound_dataset/Resting/cat_flickr01385.mp3', '../CatSound_dataset/Resting/cat_flickr01386 (2).mp3', '../CatSound_dataset/Resting/cat_flickr01386.mp3', '../CatSound_dataset/Resting/cat_flickr01387.mp3', '../CatSound_dataset/Resting/cat_flickr01388.mp3', '../CatSound_dataset/Resting/cat_flickr01389.mp3', '../CatSound_dataset/Resting/cat_flickr01390.mp3', '../CatSound_dataset/Resting/cat_flickr01391 (2).mp3', '../CatSound_dataset/Resting/cat_flickr01391.mp3', '../CatSound_dataset/Resting/cat_flickr01392.mp3', '../CatSound_dataset/Resting/cat_flickr01393.mp3', '../CatSound_dataset/Resting/cat_flickr01394.mp3', '../CatSound_dataset/Resting/cat_flickr01395.mp3', '../CatSound_dataset/Resting/cat_flickr01396.mp3', '../CatSound_dataset/Resting/cat_flickr01397 (2).mp3', '../CatSound_dataset/Resting/cat_flickr01397.mp3', '../CatSound_dataset/Resting/cat_flickr01398 (2).mp3', '../CatSound_dataset/Resting/cat_flickr01398 (3).mp3', '../CatSound_dataset/Resting/cat_flickr01398.mp3', '../CatSound_dataset/Resting/cat_flickr01399.mp3', '../CatSound_dataset/Resting/cat_flickr01400.mp3', '../CatSound_dataset/Resting/cat_flickr01401.mp3', '../CatSound_dataset/Resting/cat_flickr01402.mp3', '../CatSound_dataset/Resting/cat_flickr01403.mp3', '../CatSound_dataset/Resting/cat_flickr01404.mp3', '../CatSound_dataset/Resting/cat_flickr01405.mp3', '../CatSound_dataset/Resting/cat_flickr01406 (2).mp3', '../CatSound_dataset/Resting/cat_flickr01406.mp3', '../CatSound_dataset/Resting/cat_youtube01282.mp3', '../CatSound_dataset/Resting/cat_youtube01283.mp3', '../CatSound_dataset/Resting/cat_youtube01284.mp3', '../CatSound_dataset/Resting/cat_youtube01285.mp3', '../CatSound_dataset/Resting/cat_youtube01286.mp3', '../CatSound_dataset/Resting/cat_youtube01287.mp3', '../CatSound_dataset/Resting/cat_youtube01288.mp3', '../CatSound_dataset/Resting/cat_youtube01289.mp3', '../CatSound_dataset/Resting/cat_youtube01290.mp3', '../CatSound_dataset/Resting/cat_youtube01291.mp3', '../CatSound_dataset/Resting/cat_youtube01292.mp3', '../CatSound_dataset/Resting/cat_youtube01293.mp3', '../CatSound_dataset/Resting/cat_youtube01294.mp3', '../CatSound_dataset/Resting/cat_youtube01295.mp3', '../CatSound_dataset/Resting/cat_youtube01296 (2).mp3', '../CatSound_dataset/Resting/cat_youtube01296.mp3', '../CatSound_dataset/Resting/cat_youtube01297.mp3', '../CatSound_dataset/Resting/cat_youtube01298.mp3', '../CatSound_dataset/Resting/cat_youtube01299.mp3', '../CatSound_dataset/Resting/cat_youtube01300.mp3', '../CatSound_dataset/Resting/cat_youtube01301.mp3', '../CatSound_dataset/Resting/cat_youtube01302.mp3', '../CatSound_dataset/Resting/cat_youtube01303.mp3', '../CatSound_dataset/Resting/cat_youtube01304.mp3', '../CatSound_dataset/Resting/cat_youtube01305 (2).mp3', '../CatSound_dataset/Resting/cat_youtube01305.mp3', '../CatSound_dataset/Resting/cat_youtube01306.mp3', '../CatSound_dataset/Resting/cat_youtube01307.mp3', '../CatSound_dataset/Resting/cat_youtube01308.mp3', '../CatSound_dataset/Resting/cat_youtube01309.mp3', '../CatSound_dataset/Resting/cat_youtube01311.mp3', '../CatSound_dataset/Resting/cat_youtube01312.mp3', '../CatSound_dataset/Resting/cat_youtube01313.mp3', '../CatSound_dataset/Resting/cat_youtube01314.mp3', '../CatSound_dataset/Resting/cat_youtube01315.mp3', '../CatSound_dataset/Resting/cat_youtube01316.mp3', '../CatSound_dataset/Resting/cat_youtube01317.mp3', '../CatSound_dataset/Resting/cat_youtube01318.mp3', '../CatSound_dataset/Resting/cat_youtube01319.mp3', '../CatSound_dataset/Resting/cat_youtube01320.mp3', '../CatSound_dataset/Resting/cat_youtube01321.mp3', '../CatSound_dataset/Resting/cat_youtube01322.mp3', '../CatSound_dataset/Resting/cat_youtube01323.mp3', '../CatSound_dataset/Resting/cat_youtube01324.mp3', '../CatSound_dataset/Resting/cat_youtube01325.mp3', '../CatSound_dataset/Resting/cat_youtube01326.mp3', '../CatSound_dataset/Resting/cat_youtube01327.mp3', '../CatSound_dataset/Resting/cat_youtube01328.mp3', '../CatSound_dataset/Resting/cat_youtube01329.mp3', '../CatSound_dataset/Resting/cat_youtube01330.mp3', '../CatSound_dataset/Resting/cat_youtube01331.mp3', '../CatSound_dataset/Resting/cat_youtube01332.mp3', '../CatSound_dataset/Resting/cat_youtube01333.mp3', '../CatSound_dataset/Resting/catpurring010.mp3', '../CatSound_dataset/Resting/catpurring011.mp3', '../CatSound_dataset/Resting/catpurring012.mp3', '../CatSound_dataset/Resting/catpurring013.mp3', '../CatSound_dataset/Resting/catpurring014.mp3', '../CatSound_dataset/Resting/catpurring015.mp3', '../CatSound_dataset/Resting/catpurring016.mp3', '../CatSound_dataset/Resting/catpurring017.mp3', '../CatSound_dataset/Resting/catpurring018.mp3', '../CatSound_dataset/Resting/catpurring019.mp3', '../CatSound_dataset/Resting/catpurring020.mp3', '../CatSound_dataset/Resting/catpurring021.mp3', '../CatSound_dataset/Resting/catpurring022.mp3', '../CatSound_dataset/Resting/catpurring023.mp3', '../CatSound_dataset/Resting/catpurring024.mp3', '../CatSound_dataset/Resting/catpurring025.mp3', '../CatSound_dataset/Resting/catpurring026.mp3', '../CatSound_dataset/Resting/catpurring027.mp3', '../CatSound_dataset/Resting/catpurring028.mp3', '../CatSound_dataset/Resting/catpurring029.mp3', '../CatSound_dataset/Resting/catpurring030.mp3', '../CatSound_dataset/Resting/catpurring031.mp3', '../CatSound_dataset/Resting/catpurring032.mp3', '../CatSound_dataset/Resting/catpurring033.mp3', '../CatSound_dataset/Resting/catpurring034.mp3', '../CatSound_dataset/Resting/catpurring0341.mp3', '../CatSound_dataset/Resting/catpurring035.mp3', '../CatSound_dataset/Resting/catpurring036.mp3', '../CatSound_dataset/Resting/catpurring037.mp3', '../CatSound_dataset/Resting/catpurring138.mp3', '../CatSound_dataset/Resting/catpurring139.mp3', '../CatSound_dataset/Resting/catpurring140.mp3', '../CatSound_dataset/Resting/catpurring141.mp3', '../CatSound_dataset/Resting/catpurring142.mp3', '../CatSound_dataset/Resting/catpurring143.mp3', '../CatSound_dataset/Resting/catpurring144.mp3', '../CatSound_dataset/Resting/catpurring145.mp3', '../CatSound_dataset/Resting/catpurring146.mp3', '../CatSound_dataset/Resting/catpurring147.mp3', '../CatSound_dataset/Resting/catpurring148.mp3', '../CatSound_dataset/Resting/catpurring149.mp3', '../CatSound_dataset/Resting/catpurring150.mp3', '../CatSound_dataset/Resting/catpurring151.mp3', '../CatSound_dataset/Resting/catpurring252.mp3', '../CatSound_dataset/Resting/catpurring253.mp3', '../CatSound_dataset/Resting/catpurring254.mp3', '../CatSound_dataset/Resting/catpurring255.mp3', '../CatSound_dataset/Resting/catpurring256.mp3', '../CatSound_dataset/Resting/catpurring257.mp3', '../CatSound_dataset/Resting/catpurring258.mp3', '../CatSound_dataset/Resting/catpurring259.mp3', '../CatSound_dataset/Resting/catpurring260.mp3', '../CatSound_dataset/Resting/purr02995.mp3', '../CatSound_dataset/Resting/purr02996.mp3', '../CatSound_dataset/Resting/purr02997.mp3', '../CatSound_dataset/Resting/purr10.mp3', '../CatSound_dataset/Resting/purr2.mp3', '../CatSound_dataset/Resting/purr2088.mp3', '../CatSound_dataset/Resting/purr223.mp3', '../CatSound_dataset/Resting/purr3.mp3', '../CatSound_dataset/Resting/purr4 (2).mp3', '../CatSound_dataset/Resting/purr4 (3).mp3', '../CatSound_dataset/Resting/purr4.mp3', '../CatSound_dataset/Resting/purr6.mp3', '../CatSound_dataset/Resting/purr7.mp3', '../CatSound_dataset/Resting/purr8.mp3', '../CatSound_dataset/Resting/purr976.mp3', '../CatSound_dataset/Warning/Cat_Angry1050.mp3', '../CatSound_dataset/Warning/Cat_Angry1056.mp3', '../CatSound_dataset/Warning/Cat_Grawl1069.mp3', '../CatSound_dataset/Warning/Cat_Growing1081.mp3', '../CatSound_dataset/Warning/Cat_Growing1082.mp3', '../CatSound_dataset/Warning/Cat_Growl10052.mp3', '../CatSound_dataset/Warning/Cat_Growl1062.mp3', '../CatSound_dataset/Warning/Cat_Growl1063.mp3', '../CatSound_dataset/Warning/Cat_Growl1064.mp3', '../CatSound_dataset/Warning/Cat_Growl1066.mp3', '../CatSound_dataset/Warning/Cat_Growl1067.mp3', '../CatSound_dataset/Warning/Cat_Growl1090.mp3', '../CatSound_dataset/Warning/Cat_Growl1092.mp3', '../CatSound_dataset/Warning/Cat_growl42312.mp3', '../CatSound_dataset/Warning/Cat_hiss0112.mp3', '../CatSound_dataset/Warning/Cat_hiss0113.mp3', '../CatSound_dataset/Warning/Catgrow0111.mp3', '../CatSound_dataset/Warning/Catgrow0112.mp3', '../CatSound_dataset/Warning/Catgrow0113.mp3', '../CatSound_dataset/Warning/Catgrow0114.mp3', '../CatSound_dataset/Warning/Catgrow0115.mp3', '../CatSound_dataset/Warning/Catgrow0116.mp3', '../CatSound_dataset/Warning/Edit9006Grl.mp3', '../CatSound_dataset/Warning/Edit9009Grl.mp3', '../CatSound_dataset/Warning/Edit9025Grl.mp3', '../CatSound_dataset/Warning/Edit9026Grl.mp3', '../CatSound_dataset/Warning/Edit9031Grl.mp3', '../CatSound_dataset/Warning/Edit9037Grl.mp3', '../CatSound_dataset/Warning/Edit9052Grl.mp3', '../CatSound_dataset/Warning/Edit9054Grl.mp3', '../CatSound_dataset/Warning/Edit9056Grl.mp3', '../CatSound_dataset/Warning/Edit9059Grl.mp3', '../CatSound_dataset/Warning/Edit9061Grl.mp3', '../CatSound_dataset/Warning/Edit9077Grl.mp3', '../CatSound_dataset/Warning/Edit9095Grl (2).mp3', '../CatSound_dataset/Warning/Edit9095Grl.mp3', '../CatSound_dataset/Warning/Edit9096Grl.mp3', '../CatSound_dataset/Warning/Edit9098Grl.mp3', '../CatSound_dataset/Warning/Edit9112Grl.mp3', '../CatSound_dataset/Warning/Edit9113Grl.mp3', '../CatSound_dataset/Warning/Edit9114Grl.mp3', '../CatSound_dataset/Warning/Edit9115Grl.mp3', '../CatSound_dataset/Warning/Edit9116Grl.mp3', '../CatSound_dataset/Warning/Edit9117Grl.mp3', '../CatSound_dataset/Warning/Edit9120Grl.mp3', '../CatSound_dataset/Warning/LastEntry_cat1004Grl.mp3', '../CatSound_dataset/Warning/LastEntry_cat1005Grl.mp3', '../CatSound_dataset/Warning/LastEntry_cat1006Grl.mp3', '../CatSound_dataset/Warning/LastEntry_cat1007Grl.mp3', '../CatSound_dataset/Warning/LastEntry_cat1008Grl.mp3', '../CatSound_dataset/Warning/LastEntry_cat1009Grl.mp3', '../CatSound_dataset/Warning/LastEntry_cat1011Ang.mp3', '../CatSound_dataset/Warning/LastEntry_cat1012Ang.mp3', '../CatSound_dataset/Warning/LastEntry_cat1014Ang.mp3', '../CatSound_dataset/Warning/LastEntry_cat1018Grl.mp3', '../CatSound_dataset/Warning/LastEntry_cat1056Grl.mp3', '../CatSound_dataset/Warning/LastEntry_cat1059Grl.mp3', '../CatSound_dataset/Warning/LastEntry_cat1081Grl.mp3', '../CatSound_dataset/Warning/LastEntry_cat1094Grl (2).mp3', '../CatSound_dataset/Warning/LastEntry_cat1094Grl.mp3', '../CatSound_dataset/Warning/LastEntry_cat1095Grl.mp3', '../CatSound_dataset/Warning/LastEntry_cat1097Grl.mp3', '../CatSound_dataset/Warning/LastEntry_cat1098Grl.mp3', '../CatSound_dataset/Warning/LastEntry_cat1099Grl.mp3', '../CatSound_dataset/Warning/LastEntry_cat1290Grl.mp3', '../CatSound_dataset/Warning/LastEntry_cat1292Grl.mp3', '../CatSound_dataset/Warning/LastEntry_cat1293Grl.mp3', '../CatSound_dataset/Warning/LastEntry_cat1295Grl.mp3', '../CatSound_dataset/Warning/LastEntry_cat1297Grl.mp3', '../CatSound_dataset/Warning/LastEntry_cat1298Grl.mp3', '../CatSound_dataset/Warning/LastEntry_cat1304Grl.mp3', '../CatSound_dataset/Warning/LastEntry_cat1308Grl.mp3', '../CatSound_dataset/Warning/LastEntry_cat1310Grl.mp3', '../CatSound_dataset/Warning/LastEntry_cat1317Grl.mp3', '../CatSound_dataset/Warning/LastEntry_cat1318Grl.mp3', '../CatSound_dataset/Warning/LastEntry_cat1328Grl.mp3', '../CatSound_dataset/Warning/LastEntry_cat1331Grl.mp3', '../CatSound_dataset/Warning/LastEntry_cat1334Grl.mp3', '../CatSound_dataset/Warning/LastEntry_cat1336Grl.mp3', '../CatSound_dataset/Warning/LastEntry_cat1338Grl (2).mp3', '../CatSound_dataset/Warning/LastEntry_cat1338Grl.mp3', '../CatSound_dataset/Warning/LastEntry_cat1340Grl.mp3', '../CatSound_dataset/Warning/LastEntry_cat1342Grl.mp3', '../CatSound_dataset/Warning/LastEntry_cat1344Grl.mp3', '../CatSound_dataset/Warning/LastEntry_cat1346Grl.mp3', '../CatSound_dataset/Warning/LastEntry_cat1348Grl.mp3', '../CatSound_dataset/Warning/LastEntry_cat1349Grl.mp3', '../CatSound_dataset/Warning/LastEntry_cat1353Grl (2).mp3', '../CatSound_dataset/Warning/LastEntry_cat1353Grl.mp3', '../CatSound_dataset/Warning/LastEntry_cat1354Grl (2).mp3', '../CatSound_dataset/Warning/LastEntry_cat1354Grl.mp3', '../CatSound_dataset/Warning/LastEntry_cat1356Grl.mp3', '../CatSound_dataset/Warning/LastEntry_cat1358Grl.mp3', '../CatSound_dataset/Warning/LastEntry_cat1359Grl.mp3', '../CatSound_dataset/Warning/LastEntry_cat1361Grl.mp3', '../CatSound_dataset/Warning/LastEntry_cat1362Grl.mp3', '../CatSound_dataset/Warning/LastEntry_cat1363Grl.mp3', '../CatSound_dataset/Warning/Last_addCat117Grl.mp3', '../CatSound_dataset/Warning/Last_addCat118Grl.mp3', '../CatSound_dataset/Warning/Last_addCat129591Grl (2).mp3', '../CatSound_dataset/Warning/Last_addCat129591Grl.mp3', '../CatSound_dataset/Warning/Last_addCat129592Grl (2).mp3', '../CatSound_dataset/Warning/Last_addCat129592Grl (3).mp3', '../CatSound_dataset/Warning/Last_addCat129592Grl.mp3', '../CatSound_dataset/Warning/Last_addCat129593Grl.mp3', '../CatSound_dataset/Warning/Last_addCat174Grl.mp3', '../CatSound_dataset/Warning/Last_addCat259Grl.mp3', '../CatSound_dataset/Warning/Last_addCat278Grl.mp3', '../CatSound_dataset/Warning/Last_addCat319Grl.mp3', '../CatSound_dataset/Warning/Last_addCat326Grl.mp3', '../CatSound_dataset/Warning/Last_addCat327Grl.mp3', '../CatSound_dataset/Warning/Last_addCat328Grl.mp3', '../CatSound_dataset/Warning/Last_addCat329Grl.mp3', '../CatSound_dataset/Warning/Last_addCat330Grl.mp3', '../CatSound_dataset/Warning/Last_addCat332Grl.mp3', '../CatSound_dataset/Warning/Last_addCat333Grl.mp3', '../CatSound_dataset/Warning/Last_addCat337Grl.mp3', '../CatSound_dataset/Warning/Last_addCat344Grl.mp3', '../CatSound_dataset/Warning/Last_addCat345Grl.mp3', '../CatSound_dataset/Warning/Last_addCat347Grl.mp3', '../CatSound_dataset/Warning/Last_addCat349Grl.mp3', '../CatSound_dataset/Warning/Last_addCat350Grl.mp3', '../CatSound_dataset/Warning/Last_addCat351Grl.mp3', '../CatSound_dataset/Warning/Last_addCat352Grl.mp3', '../CatSound_dataset/Warning/Last_addCat354Grl.mp3', '../CatSound_dataset/Warning/Last_addCat355Grl.mp3', '../CatSound_dataset/Warning/Last_addCat356Grl.mp3', '../CatSound_dataset/Warning/Last_addCat357Grl.mp3', '../CatSound_dataset/Warning/Online_Cat0296Angry.mp3', '../CatSound_dataset/Warning/Online_Cat0298Angry.mp3', '../CatSound_dataset/Warning/Online_Cat0308Growl.mp3', '../CatSound_dataset/Warning/Online_Cat0309grl.mp3', '../CatSound_dataset/Warning/Online_Cat0310grl.mp3', '../CatSound_dataset/Warning/Online_Cat0311grl.mp3', '../CatSound_dataset/Warning/Online_Cat0312grl.mp3', '../CatSound_dataset/Warning/Online_Cat0313grl.mp3', '../CatSound_dataset/Warning/Online_Cat0320ang.mp3', '../CatSound_dataset/Warning/Online_Cat0320grl.mp3', '../CatSound_dataset/Warning/Online_Cat0445Grl.mp3', '../CatSound_dataset/Warning/Online_Cat0450Grl.mp3', '../CatSound_dataset/Warning/Online_Cat0451Grl.mp3', '../CatSound_dataset/Warning/Online_Cat0452Grl.mp3', '../CatSound_dataset/Warning/Online_Cat0453Grl.mp3', '../CatSound_dataset/Warning/Online_Cat0454Grl.mp3', '../CatSound_dataset/Warning/Online_Cat0455Grl.mp3', '../CatSound_dataset/Warning/Online_Cat0456Grl.mp3', '../CatSound_dataset/Warning/Online_Cat0469Grl.mp3', '../CatSound_dataset/Warning/car_extcoll0167.mp3', '../CatSound_dataset/Warning/car_extcoll0178.mp3', '../CatSound_dataset/Warning/car_extcoll0182.mp3', '../CatSound_dataset/Warning/car_extcoll0185.mp3', '../CatSound_dataset/Warning/car_extcoll0186.mp3', '../CatSound_dataset/Warning/car_extcoll0213.mp3', '../CatSound_dataset/Warning/car_extcoll0238.mp3', '../CatSound_dataset/Warning/car_extcoll0239.mp3', '../CatSound_dataset/Warning/car_extcoll0242.mp3', '../CatSound_dataset/Warning/car_extcoll0243.mp3', '../CatSound_dataset/Warning/car_extcoll0263.mp3', '../CatSound_dataset/Warning/car_extcoll0270.mp3', '../CatSound_dataset/Warning/car_extcoll0271.mp3', '../CatSound_dataset/Warning/car_extcoll02715.mp3', '../CatSound_dataset/Warning/car_extcoll0278.mp3', '../CatSound_dataset/Warning/car_extcoll0279.mp3', '../CatSound_dataset/Warning/car_extcoll0280.mp3', '../CatSound_dataset/Warning/car_extcoll02816.mp3', '../CatSound_dataset/Warning/car_extcoll0282.mp3', '../CatSound_dataset/Warning/car_extcoll0283.mp3', '../CatSound_dataset/Warning/car_extcoll0284.mp3', '../CatSound_dataset/Warning/car_extcoll0288.mp3', '../CatSound_dataset/Warning/car_extcoll0289.mp3', '../CatSound_dataset/Warning/car_extcoll0291.mp3', '../CatSound_dataset/Warning/car_extcoll0293.mp3', '../CatSound_dataset/Warning/car_extcoll0294.mp3', '../CatSound_dataset/Warning/car_extcoll0309.mp3', '../CatSound_dataset/Warning/car_extcoll0311.mp3', '../CatSound_dataset/Warning/car_extcoll0312.mp3', '../CatSound_dataset/Warning/car_extcoll0313.mp3', '../CatSound_dataset/Warning/car_extcoll0314.mp3', '../CatSound_dataset/Warning/car_extcoll0316.mp3', '../CatSound_dataset/Warning/car_extcoll0318.mp3', '../CatSound_dataset/Warning/car_extcoll0319.mp3', '../CatSound_dataset/Warning/car_extcoll0320.mp3', '../CatSound_dataset/Warning/car_extcoll0321.mp3', '../CatSound_dataset/Warning/car_extcoll03216.mp3', '../CatSound_dataset/Warning/car_extcoll03218.mp3', '../CatSound_dataset/Warning/car_extcoll0322.mp3', '../CatSound_dataset/Warning/car_extcoll0323.mp3', '../CatSound_dataset/Warning/car_extcoll0324.mp3', '../CatSound_dataset/Warning/car_extcoll0325.mp3', '../CatSound_dataset/Warning/car_extcoll0326.mp3', '../CatSound_dataset/Warning/cat02.mp3', '../CatSound_dataset/Warning/cat03.mp3', '../CatSound_dataset/Warning/cat03574.mp3', '../CatSound_dataset/Warning/cat05.mp3', '../CatSound_dataset/Warning/cat14.mp3', '../CatSound_dataset/Warning/cat_Growl010.mp3', '../CatSound_dataset/Warning/cat_Growl011.mp3', '../CatSound_dataset/Warning/cat_Growl012.mp3', '../CatSound_dataset/Warning/cat_Growl013.mp3', '../CatSound_dataset/Warning/cat_Growl014.mp3', '../CatSound_dataset/Warning/cat_Growl015.mp3', '../CatSound_dataset/Warning/cat_Growl016.mp3', '../CatSound_dataset/Warning/cat_Growl017.mp3', '../CatSound_dataset/Warning/cat_Growl018.mp3', '../CatSound_dataset/Warning/cat_flickr0106.mp3', '../CatSound_dataset/Warning/cat_flickr0107.mp3', '../CatSound_dataset/Warning/cat_flickr0109.mp3', '../CatSound_dataset/Warning/cat_flickr0110.mp3', '../CatSound_dataset/Warning/cat_flickr0125.mp3', '../CatSound_dataset/Warning/cat_flickr0126.mp3', '../CatSound_dataset/Warning/cat_flickr0127.mp3', '../CatSound_dataset/Warning/cat_flickr0128.mp3', '../CatSound_dataset/Warning/cat_flickr0129.mp3', '../CatSound_dataset/Warning/cat_flickr0130.mp3', '../CatSound_dataset/Warning/cat_flickr01308.mp3', '../CatSound_dataset/Warning/cat_flickr01309.mp3', '../CatSound_dataset/Warning/cat_flickr01311.mp3', '../CatSound_dataset/Warning/cat_flickr01313.mp3', '../CatSound_dataset/Warning/cat_flickr01345.mp3', '../CatSound_dataset/Warning/cat_flickr01346.mp3', '../CatSound_dataset/Warning/cat_flickr01349.mp3', '../CatSound_dataset/Warning/cat_flickr01350.mp3', '../CatSound_dataset/Warning/cat_flickr01352.mp3', '../CatSound_dataset/Warning/cat_flickr01353.mp3', '../CatSound_dataset/Warning/cat_flickr01354.mp3', '../CatSound_dataset/Warning/cat_flickr01357.mp3', '../CatSound_dataset/Warning/cat_flickr01358.mp3', '../CatSound_dataset/Warning/cat_flickr01359.mp3', '../CatSound_dataset/Warning/cat_flickr01360.mp3', '../CatSound_dataset/Warning/cat_flickr01361.mp3', '../CatSound_dataset/Warning/cat_flickr01362.mp3', '../CatSound_dataset/Warning/cat_flickr01363.mp3', '../CatSound_dataset/Warning/cat_flickr01365.mp3', '../CatSound_dataset/Warning/cat_flickr01367 (2).mp3', '../CatSound_dataset/Warning/cat_flickr01367.mp3', '../CatSound_dataset/Warning/cat_flickr01368.mp3', '../CatSound_dataset/Warning/cat_flickr01369.mp3', '../CatSound_dataset/Warning/cat_flickr0137.mp3', '../CatSound_dataset/Warning/cat_flickr01406.mp3', '../CatSound_dataset/Warning/cat_flickr01409.mp3', '../CatSound_dataset/Warning/cat_flickr01410.mp3', '../CatSound_dataset/Warning/cat_flickr01412.mp3', '../CatSound_dataset/Warning/cat_flickr01414.mp3', '../CatSound_dataset/Warning/cat_flickr01418.mp3', '../CatSound_dataset/Warning/cat_flickr01423.mp3', '../CatSound_dataset/Warning/cat_flickr01424.mp3', '../CatSound_dataset/Warning/cat_flickr01426.mp3', '../CatSound_dataset/Warning/cat_flickr01427.mp3', '../CatSound_dataset/Warning/cat_flickr01428.mp3', '../CatSound_dataset/Warning/cat_flickr01429.mp3', '../CatSound_dataset/Warning/cat_flickr01432.mp3', '../CatSound_dataset/Warning/cat_flickr01433.mp3', '../CatSound_dataset/Warning/cat_flickr01434.mp3', '../CatSound_dataset/Warning/cat_flickr01443.mp3', '../CatSound_dataset/Warning/cat_flickr01444.mp3', '../CatSound_dataset/Warning/cat_flickr01448.mp3', '../CatSound_dataset/Warning/cat_flickr01450.mp3', '../CatSound_dataset/Warning/cat_flickr01452 (2).mp3', '../CatSound_dataset/Warning/cat_flickr01455.mp3', '../CatSound_dataset/Warning/cat_flickr01457.mp3', '../CatSound_dataset/Warning/cat_flickr01460.mp3', '../CatSound_dataset/Warning/cat_flickr01461.mp3', '../CatSound_dataset/Warning/cat_flickr01462.mp3', '../CatSound_dataset/Warning/cat_flickr01466.mp3', '../CatSound_dataset/Warning/cat_flickr01469.mp3', '../CatSound_dataset/Warning/cat_flickr01472.mp3', '../CatSound_dataset/Warning/cat_flickr01474.mp3', '../CatSound_dataset/Warning/cat_flickr01475.mp3', '../CatSound_dataset/Warning/cat_flickr0178.mp3', '../CatSound_dataset/Warning/cat_youtube01259.mp3', '../CatSound_dataset/Warning/cat_youtube01261.mp3', '../CatSound_dataset/Warning/cat_youtube01262.mp3', '../CatSound_dataset/Warning/cat_youtube01263 (2).mp3', '../CatSound_dataset/Warning/cat_youtube01263.mp3', '../CatSound_dataset/Warning/cat_youtube01265.mp3', '../CatSound_dataset/Warning/cat_youtube01267.mp3', '../CatSound_dataset/Warning/cat_youtube01268.mp3', '../CatSound_dataset/Warning/cat_youtube01269.mp3', '../CatSound_dataset/Warning/cat_youtube01334.mp3', '../CatSound_dataset/Warning/cat_youtube01335.mp3', '../CatSound_dataset/Warning/cat_youtube64301 (2).mp3', '../CatSound_dataset/Warning/cat_youtube64302 (2).mp3', '../CatSound_dataset/Warning/cat_youtube64302.mp3', '../CatSound_dataset/Warning/cat_youtube64363.mp3', '../CatSound_dataset/Warning/cat_youtube64365.mp3', '../CatSound_dataset/Warning/cat_youtube64366.mp3', '../CatSound_dataset/Warning/cat_youtube64367.mp3', '../CatSound_dataset/Warning/cat_youtube64377.mp3', '../CatSound_dataset/Warning/cat_youtube64378.mp3', '../CatSound_dataset/Warning/cat_youtube64379.mp3', '../CatSound_dataset/Warning/cat_youtube64399.mp3', '../CatSound_dataset/Warning/cat_youtube64400.mp3', '../CatSound_dataset/Warning/cat_youtube64401.mp3', '../CatSound_dataset/Warning/cat_youtube64402.mp3', '../CatSound_dataset/Warning/catangry011.mp3', '../CatSound_dataset/Warning/catangry013.mp3', '../CatSound_dataset/Warning/catangry015.mp3', '../CatSound_dataset/Warning/grl02998.mp3', '../CatSound_dataset/Warning/grl5.mp3']\n"
     ]
    },
    {
     "name": "stdout",
     "output_type": "stream",
     "text": [
      "encoded labelint values [   0    1    2 ... 2947 2948 2949]\n"
     ]
    }
   ],
   "source": [
    "from sklearn.preprocessing import LabelEncoder\n",
    "from sklearn.preprocessing import OneHotEncoder\n",
    "from keras.utils import to_categorical\n",
    "from numpy import argmax\n",
    "\n",
    "# get a set of unique text labels\n",
    "list_labels = sorted(list(set(valid_train_data.path.values)))\n",
    "print (\"unique text labels count: \",len(list_labels))\n",
    "print (\"labels: \",list_labels)\n",
    "\n",
    "# integer encode\n",
    "label_encoder = LabelEncoder()\n",
    "label_integer_encoded = label_encoder.fit_transform(list_labels)\n",
    "print(\"encoded labelint values\", label_integer_encoded)\n",
    "\n",
    "# one hot encode\n",
    "encoded_test = to_categorical(label_integer_encoded)\n",
    "inverted_test = argmax(encoded_test[0])\n",
    "#print(encoded_test, inverted_test)\n",
    "\n",
    "#map filename to label\n",
    "file_to_label = {k:v for k,v in zip(valid_train_data.path.values, valid_train_data.label.values)}\n",
    "\n",
    "# Map integer value to text labels\n",
    "label_to_int = {k:v for v,k in enumerate(list_labels)}\n",
    "#print (\"test label to int \",label_to_int[\"Applause\"])\n",
    "\n",
    "# map integer to text labels\n",
    "int_to_label = {v:k for k,v in label_to_int.items()}"
   ]
  },
  {
   "cell_type": "code",
   "execution_count": 385,
   "metadata": {},
   "outputs": [],
   "source": [
    "#full dataset\n",
    "dataset = train_audio_data\n",
    "random.shuffle(dataset)\n",
    "\n",
    "RATIO=0.8\n",
    "train_cutoff= round(len(dataset) * RATIO)\n",
    "train = dataset[:train_cutoff]\n",
    "test = dataset[train_cutoff:]\n",
    "\n"
   ]
  },
  {
   "cell_type": "code",
   "execution_count": 378,
   "metadata": {},
   "outputs": [
    {
     "name": "stdout",
     "output_type": "stream",
     "text": [
      "train  (2158, 128, 128, 1) 2158\n",
      "test  (540, 128, 128, 1) 540\n"
     ]
    }
   ],
   "source": [
    "train\n",
    "\n",
    "\n",
    "X_train, y_train = zip(*train)\n",
    "X_test, y_test = zip(*test)\n",
    "\n",
    "\n",
    "# Reshape for CNN input\n",
    "X_train = np.array([x.reshape( (128, 128, 1) ) for x in X_train])\n",
    "X_test = np.array([x.reshape( (128, 128, 1) ) for x in X_test])\n",
    "\n",
    "print (\"train \",X_train.shape, len(y_train))\n",
    "print (\"test \", X_test.shape, len(y_test))"
   ]
  },
  {
   "cell_type": "code",
   "execution_count": 388,
   "metadata": {},
   "outputs": [
    {
     "data": {
      "text/plain": [
       "array([['1460', '../CatSound_dataset/HuntingMind/trill02986.mp3', '4'],\n",
       "       ['346', '../CatSound_dataset/Defence/cat_flickr0155.mp3', '1'],\n",
       "       ['1641', '../CatSound_dataset/Mating/cat_youtube64368.mp3', '5'],\n",
       "       ...,\n",
       "       ['1989', '../CatSound_dataset/MotherCall/Last_addCat134Pil.mp3',\n",
       "        '6'],\n",
       "       ['2809', '../CatSound_dataset/Warning/cat_youtube64301 (2).mp3',\n",
       "        '9'],\n",
       "       ['1934', '../CatSound_dataset/MotherCall/Cat_YoutubeLLT42313.mp3',\n",
       "        '6']], dtype='<U60')"
      ]
     },
     "execution_count": 388,
     "metadata": {},
     "output_type": "execute_result"
    }
   ],
   "source": [
    "y_test"
   ]
  },
  {
   "cell_type": "code",
   "execution_count": 389,
   "metadata": {},
   "outputs": [
    {
     "data": {
      "text/plain": [
       "array([['1436',\n",
       "        '../CatSound_dataset/HuntingMind/Last_addCat232Chat4.mp3', '4'],\n",
       "       ['2633', '../CatSound_dataset/Resting/Online_Cat0542Purr.mp3',\n",
       "        '8'],\n",
       "       ['2716', '../CatSound_dataset/Warning/cat_flickr0127.mp3', '9'],\n",
       "       ...,\n",
       "       ['2402', '../CatSound_dataset/Resting/catpurring141.mp3', '8'],\n",
       "       ['591', '../CatSound_dataset/Fighting/car_extcoll0102.mp3', '2'],\n",
       "       ['1336',\n",
       "        '../CatSound_dataset/HuntingMind/Cat_YoutubeLLT42402.mp3', '4']],\n",
       "      dtype='<U60')"
      ]
     },
     "execution_count": 389,
     "metadata": {},
     "output_type": "execute_result"
    }
   ],
   "source": [
    "y_train"
   ]
  },
  {
   "cell_type": "code",
   "execution_count": 394,
   "metadata": {},
   "outputs": [],
   "source": [
    "y_train=np.array(y_train)\n",
    "y_train_l=y_train[0][2]\n",
    "\n",
    "for i in y_train[1:]:\n",
    "    y_train_l = np.vstack([y_train_l, i[2]])\n",
    "    \n",
    "\n",
    "y_test=np.array(y_test)\n",
    "y_test_l=y_test[0][2]\n",
    "\n",
    "for i in y_test[1:]:\n",
    "    y_test_l = np.vstack([y_test_l, i[2]])\n",
    "    "
   ]
  },
  {
   "cell_type": "code",
   "execution_count": 396,
   "metadata": {},
   "outputs": [],
   "source": [
    "# Apply sck-learn label text encoding to integer\n",
    "\n",
    "label_encoder = LabelEncoder()\n",
    "y_train_integer_encoded = label_encoder.fit_transform(y_train_l)\n",
    "y_test_integer_encoded = label_encoder.fit_transform(y_test_l)"
   ]
  },
  {
   "cell_type": "code",
   "execution_count": 397,
   "metadata": {},
   "outputs": [
    {
     "data": {
      "text/plain": [
       "array([4, 8, 9, ..., 8, 2, 4], dtype=int64)"
      ]
     },
     "execution_count": 397,
     "metadata": {},
     "output_type": "execute_result"
    }
   ],
   "source": [
    "y_train_integer_encoded"
   ]
  },
  {
   "cell_type": "code",
   "execution_count": 398,
   "metadata": {},
   "outputs": [
    {
     "data": {
      "text/plain": [
       "array([4, 1, 5, 5, 7, 8, 6, 9, 3, 1, 4, 1, 6, 7, 2, 7, 0, 1, 0, 3, 7, 9,\n",
       "       6, 0, 6, 0, 3, 3, 2, 9, 5, 5, 9, 3, 3, 2, 4, 9, 2, 5, 3, 0, 5, 6,\n",
       "       0, 9, 3, 9, 6, 3, 0, 0, 0, 6, 0, 1, 5, 5, 7, 0, 5, 5, 0, 7, 0, 4,\n",
       "       1, 4, 2, 1, 8, 6, 1, 5, 0, 6, 2, 0, 8, 4, 9, 7, 5, 6, 8, 6, 8, 1,\n",
       "       1, 1, 6, 0, 1, 9, 0, 5, 5, 8, 5, 7, 7, 2, 3, 7, 1, 2, 3, 2, 6, 4,\n",
       "       0, 2, 4, 7, 4, 5, 1, 0, 9, 0, 5, 5, 1, 8, 0, 2, 9, 2, 1, 7, 7, 6,\n",
       "       0, 3, 9, 6, 0, 2, 8, 8, 0, 3, 6, 3, 1, 6, 1, 2, 3, 9, 9, 7, 8, 1,\n",
       "       0, 5, 4, 8, 9, 7, 8, 7, 1, 4, 3, 1, 9, 2, 2, 8, 9, 3, 6, 4, 7, 5,\n",
       "       8, 9, 8, 8, 2, 1, 6, 3, 9, 6, 9, 7, 6, 0, 8, 2, 0, 7, 1, 0, 7, 4,\n",
       "       4, 6, 8, 6, 4, 0, 8, 7, 4, 2, 3, 4, 2, 4, 0, 7, 5, 6, 9, 2, 2, 0,\n",
       "       9, 3, 7, 6, 1, 3, 8, 0, 8, 7, 7, 5, 3, 0, 3, 8, 9, 6, 1, 5, 2, 6,\n",
       "       1, 7, 3, 5, 1, 3, 3, 0, 1, 3, 5, 8, 6, 5, 0, 5, 9, 8, 7, 8, 4, 6,\n",
       "       8, 3, 9, 7, 2, 9, 8, 6, 3, 6, 7, 5, 2, 9, 7, 1, 9, 0, 0, 5, 7, 2,\n",
       "       1, 3, 9, 7, 1, 3, 3, 7, 6, 9, 2, 5, 8, 5, 6, 3, 0, 4, 7, 9, 1, 3,\n",
       "       3, 4, 6, 1, 8, 2, 3, 1, 5, 7, 3, 7, 4, 3, 0, 4, 0, 3, 2, 3, 6, 8,\n",
       "       8, 7, 9, 5, 8, 7, 7, 7, 8, 5, 3, 0, 7, 1, 6, 9, 8, 9, 2, 2, 3, 3,\n",
       "       7, 5, 5, 3, 8, 8, 3, 9, 2, 3, 2, 2, 8, 3, 0, 4, 1, 6, 5, 9, 9, 1,\n",
       "       5, 0, 3, 1, 6, 2, 1, 4, 2, 0, 7, 7, 6, 2, 5, 8, 5, 4, 5, 3, 6, 7,\n",
       "       2, 1, 9, 7, 4, 0, 7, 5, 2, 7, 1, 2, 8, 0, 7, 6, 3, 4, 4, 8, 3, 2,\n",
       "       1, 4, 1, 9, 4, 3, 0, 5, 1, 7, 3, 9, 8, 8, 5, 5, 8, 2, 6, 5, 2, 6,\n",
       "       1, 4, 6, 2, 8, 1, 6, 0, 3, 5, 9, 3, 7, 1, 9, 8, 6, 6, 3, 9, 4, 6,\n",
       "       4, 1, 9, 9, 1, 7, 3, 7, 5, 1, 6, 5, 4, 3, 9, 9, 7, 9, 2, 6, 8, 5,\n",
       "       5, 2, 9, 7, 8, 0, 3, 3, 4, 8, 0, 3, 8, 4, 6, 8, 4, 6, 3, 3, 4, 3,\n",
       "       2, 6, 6, 7, 1, 4, 9, 1, 1, 5, 4, 1, 3, 6, 9, 0, 4, 9, 5, 0, 6, 0,\n",
       "       8, 1, 0, 1, 0, 6, 8, 7, 3, 6, 9, 6], dtype=int64)"
      ]
     },
     "execution_count": 398,
     "metadata": {},
     "output_type": "execute_result"
    }
   ],
   "source": [
    "y_test_integer_encoded"
   ]
  },
  {
   "cell_type": "code",
   "execution_count": 399,
   "metadata": {},
   "outputs": [],
   "source": [
    "# Apply Keras One-Hot encoding for classes\n",
    "y_train = np.array(keras.utils.to_categorical(y_train_integer_encoded, len(list_labels)))\n",
    "y_test = np.array(keras.utils.to_categorical(y_test_integer_encoded, len(list_labels)))"
   ]
  },
  {
   "cell_type": "code",
   "execution_count": 400,
   "metadata": {},
   "outputs": [
    {
     "data": {
      "text/plain": [
       "(540, 128, 128, 1)"
      ]
     },
     "execution_count": 400,
     "metadata": {},
     "output_type": "execute_result"
    }
   ],
   "source": [
    "\n",
    "#y_test=y_test.ravel()\n",
    "y_test.shape\n",
    "X_test.shape"
   ]
  },
  {
   "cell_type": "code",
   "execution_count": 401,
   "metadata": {},
   "outputs": [
    {
     "name": "stdout",
     "output_type": "stream",
     "text": [
      "test  (378, 128, 128, 1) 378\n",
      "valid  (162, 128, 128, 1) 162\n"
     ]
    }
   ],
   "source": [
    "#split up test into test and validation \n",
    "X_test, X_val, y_test, y_val = train_test_split(X_test, y_test, test_size=0.3, random_state=42)\n",
    "\n",
    "print (\"test \",X_test.shape, len(y_test))\n",
    "print (\"valid \", X_val.shape, len(y_val))"
   ]
  },
  {
   "cell_type": "code",
   "execution_count": 409,
   "metadata": {},
   "outputs": [
    {
     "name": "stdout",
     "output_type": "stream",
     "text": [
      "_________________________________________________________________\n",
      "Layer (type)                 Output Shape              Param #   \n",
      "=================================================================\n",
      "conv2d_25 (Conv2D)           (None, 126, 126, 32)      320       \n",
      "_________________________________________________________________\n",
      "max_pooling2d_17 (MaxPooling (None, 63, 63, 32)        0         \n",
      "_________________________________________________________________\n",
      "activation_38 (Activation)   (None, 63, 63, 32)        0         \n",
      "_________________________________________________________________\n",
      "conv2d_26 (Conv2D)           (None, 61, 61, 32)        9248      \n",
      "_________________________________________________________________\n",
      "max_pooling2d_18 (MaxPooling (None, 30, 30, 32)        0         \n",
      "_________________________________________________________________\n",
      "activation_39 (Activation)   (None, 30, 30, 32)        0         \n",
      "_________________________________________________________________\n",
      "conv2d_27 (Conv2D)           (None, 28, 28, 32)        9248      \n",
      "_________________________________________________________________\n",
      "activation_40 (Activation)   (None, 28, 28, 32)        0         \n",
      "_________________________________________________________________\n",
      "flatten_8 (Flatten)          (None, 25088)             0         \n",
      "_________________________________________________________________\n",
      "dropout_15 (Dropout)         (None, 25088)             0         \n",
      "_________________________________________________________________\n",
      "dense_15 (Dense)             (None, 64)                1605696   \n",
      "_________________________________________________________________\n",
      "activation_41 (Activation)   (None, 64)                0         \n",
      "_________________________________________________________________\n",
      "dropout_16 (Dropout)         (None, 64)                0         \n",
      "_________________________________________________________________\n",
      "dense_16 (Dense)             (None, 2950)              191750    \n",
      "_________________________________________________________________\n",
      "activation_42 (Activation)   (None, 2950)              0         \n",
      "=================================================================\n",
      "Total params: 1,816,262\n",
      "Trainable params: 1,816,262\n",
      "Non-trainable params: 0\n",
      "_________________________________________________________________\n"
     ]
    }
   ],
   "source": [
    "# build convolution model\n",
    "# input shape = (128, 128, 1)\n",
    "model = Sequential()\n",
    "input_shape= X_train.shape[1:] \n",
    "\n",
    "model.add(Conv2D(32, (3, 3), strides=(1, 1), input_shape=input_shape))\n",
    "model.add(MaxPooling2D((2, 2), strides=(2, 2)))\n",
    "model.add(Activation('relu'))\n",
    "\n",
    "model.add(Conv2D(32, (3, 3), padding=\"valid\"))\n",
    "model.add(MaxPooling2D((2, 2), strides=(2, 2)))\n",
    "model.add(Activation('relu'))\n",
    "\n",
    "model.add(Conv2D(32, (3, 3), padding=\"valid\"))\n",
    "model.add(Activation('relu'))\n",
    "\n",
    "model.add(Flatten())\n",
    "model.add(Dropout(rate=0.5))\n",
    "\n",
    "model.add(Dense(64))\n",
    "model.add(Activation('relu'))\n",
    "model.add(Dropout(rate=0.5))\n",
    "\n",
    "model.add(Dense(len(list_labels)))\n",
    "model.add(Activation('softmax'))\n",
    "model.summary()"
   ]
  },
  {
   "cell_type": "code",
   "execution_count": 413,
   "metadata": {},
   "outputs": [
    {
     "name": "stdout",
     "output_type": "stream",
     "text": [
      "training started.... please wait!\n",
      "\n",
      "Epoch 00001: loss improved from inf to 1.48948, saving model to ./best_model_trained.hdf5\n",
      "\n",
      "Epoch 00002: loss improved from 1.48948 to 1.40606, saving model to ./best_model_trained.hdf5\n",
      "\n",
      "Epoch 00003: loss improved from 1.40606 to 1.21845, saving model to ./best_model_trained.hdf5\n",
      "training finished\n",
      "Evaluate model with test data\n",
      "378/378 [==============================] - ETA:  - ETA:  - ETA:  - ETA:  - ETA:  - ETA:  - ETA:  - ETA:  - ETA:  - ETA:  - ETA:  - 2s 4ms/step\n",
      "test loss: 1.3172772719115806\n",
      "test accuracy: 0.6587301577840533\n",
      "peak memory: 1934.72 MiB, increment: 133.59 MiB\n",
      "Wall time: 1min 38s\n"
     ]
    }
   ],
   "source": [
    "%%time\n",
    "%%memit\n",
    "\n",
    "# NOTE:\n",
    "# Increase number if epochs from  1 to 60 or 100 for higher prediction accuracy\n",
    "# default is set to 1 for faster commit \n",
    "MAX_EPOCHS=3\n",
    "MAX_BATCH_SIZE=10         \n",
    "# learning rate reduction rate \n",
    "MAX_PATIENT=2  \n",
    "\n",
    "# saved model checkpoint file\n",
    "best_model_file=\"./best_model_trained.hdf5\"\n",
    "\n",
    "# callbacks\n",
    "# removed EarlyStopping(patience=MAX_PATIENT)\n",
    "callback=[ReduceLROnPlateau(patience=MAX_PATIENT, verbose=1),\n",
    "          ModelCheckpoint(filepath=best_model_file, monitor='loss', verbose=1, save_best_only=True)]\n",
    "\n",
    "#compile\n",
    "model.compile(optimizer=\"Adam\",loss=\"categorical_crossentropy\",metrics=['accuracy'])\n",
    "\n",
    "#train\n",
    "print('training started.... please wait!')\n",
    "history = model.fit(x=X_train, y=y_train,\n",
    "                    epochs=MAX_EPOCHS,\n",
    "                    batch_size=MAX_BATCH_SIZE, \n",
    "                    verbose=0,\n",
    "                    validation_data= (X_val, y_val), \n",
    "                    callbacks=callback)\n",
    "print('training finished')\n",
    "\n",
    "# quick evaludate model\n",
    "print('Evaluate model with test data')\n",
    "score = model.evaluate(x=X_test,y=y_test)\n",
    "\n",
    "print('test loss:', score[0])\n",
    "print('test accuracy:', score[1])"
   ]
  },
  {
   "cell_type": "code",
   "execution_count": 414,
   "metadata": {},
   "outputs": [
    {
     "data": {
      "text/plain": [
       "<Figure size 1584x720 with 0 Axes>"
      ]
     },
     "metadata": {},
     "output_type": "display_data"
    },
    {
     "data": {
      "image/png": "[encoded data removed]",
      "text/plain": [
       "<Figure size 1440x720 with 2 Axes>"
      ]
     },
     "metadata": {},
     "output_type": "display_data"
    },
    {
     "name": "stdout",
     "output_type": "stream",
     "text": [
      "peak memory: 1234.22 MiB, increment: 6.24 MiB\n",
      "Wall time: 1.05 s\n"
     ]
    }
   ],
   "source": [
    "%%time\n",
    "%%memit\n",
    "\n",
    "import matplotlib.pyplot as plt\n",
    "#Plot loss and accuracy for the training and validation set.\n",
    "def plot_history(history):\n",
    "    loss_list = [s for s in history.history.keys() if 'loss' in s and 'val' not in s]\n",
    "    val_loss_list = [s for s in history.history.keys() if 'loss' in s and 'val' in s]\n",
    "    acc_list = [s for s in history.history.keys() if 'acc' in s and 'val' not in s]\n",
    "    val_acc_list = [s for s in history.history.keys() if 'acc' in s and 'val' in s]\n",
    "    if len(loss_list) == 0:\n",
    "        print('Loss is missing in history')\n",
    "        return \n",
    "    plt.figure(figsize=(22,10))\n",
    "    ## As loss always exists\n",
    "    epochs = range(1,len(history.history[loss_list[0]]) + 1)\n",
    "    ## Accuracy\n",
    "    plt.figure(221, figsize=(20,10))\n",
    "    ## Accuracy\n",
    "    # plt.figure(2,figsize=(14,5))\n",
    "    plt.subplot(221, title='Accuracy')\n",
    "    for l in acc_list:\n",
    "        plt.plot(epochs, history.history[l], 'b', label='Training accuracy (' + str(format(history.history[l][-1],'.5f'))+')')\n",
    "    for l in val_acc_list:    \n",
    "        plt.plot(epochs, history.history[l], 'g', label='Validation accuracy (' + str(format(history.history[l][-1],'.5f'))+')')\n",
    "    plt.title('Accuracy')\n",
    "    plt.xlabel('Epochs')\n",
    "    plt.ylabel('Accuracy')\n",
    "    plt.legend()\n",
    "    ## Loss\n",
    "    plt.subplot(222, title='Loss')\n",
    "    for l in loss_list:\n",
    "        plt.plot(epochs, history.history[l], 'b', label='Training loss (' + str(str(format(history.history[l][-1],'.5f'))+')'))\n",
    "    for l in val_loss_list:\n",
    "        plt.plot(epochs, history.history[l], 'g', label='Validation loss (' + str(str(format(history.history[l][-1],'.5f'))+')'))    \n",
    "    plt.title('Loss')\n",
    "    plt.xlabel('Epochs')\n",
    "    plt.ylabel('Loss')\n",
    "    plt.legend()\n",
    "    plt.show()\n",
    "\n",
    "# plot history\n",
    "plot_history(history)"
   ]
  },
  {
   "cell_type": "code",
   "execution_count": 415,
   "metadata": {},
   "outputs": [
    {
     "name": "stdout",
     "output_type": "stream",
     "text": [
      "model train data score       :  74.0 %\n",
      "model test data score        :  66.0 %\n",
      "model validation data score  :  56.0 %\n"
     ]
    }
   ],
   "source": [
    "#Evaludate model use Keras reported accuracy:\n",
    "score = model.evaluate(X_train, y_train, verbose=0) \n",
    "print (\"model train data score       : \",round(score[1]*100) , \"%\")\n",
    "\n",
    "score = model.evaluate(X_test, y_test, verbose=0) \n",
    "print (\"model test data score        : \",round(score[1]*100) , \"%\")\n",
    "\n",
    "score = model.evaluate(X_val, y_val, verbose=0) \n",
    "print (\"model validation data score  : \", round(score[1]*100), \"%\")"
   ]
  },
  {
   "cell_type": "code",
   "execution_count": 374,
   "metadata": {},
   "outputs": [
    {
     "name": "stdout",
     "output_type": "stream",
     "text": [
      "Prediction with [train] data\n",
      "  |__match    : 890\n",
      "  |__miss     : 1538\n",
      "  |__accuracy : -72.81 %\n",
      "\n",
      "---samples---\n",
      "0 predict = ../CatSound_dataset/Angry/Cat_Angry1026.mp3\n",
      "0 original= ../CatSound_dataset/Angry/Cat_Angry1026.mp3\n",
      "\n",
      "1 predict = ../CatSound_dataset/Angry/Cat_Angry1031.mp3\n",
      "1 original= ../CatSound_dataset/Angry/Cat_Angry1031.mp3\n",
      "\n",
      "2 predict = ../CatSound_dataset/Angry/Cat_Angry1032.mp3\n",
      "2 original= ../CatSound_dataset/Angry/Cat_Angry1032.mp3\n",
      "\n",
      "3 predict = ../CatSound_dataset/Angry/Cat_Angry1031.mp3\n",
      "3 original= ../CatSound_dataset/Angry/Cat_Angry1030.mp3\n",
      "\n",
      "4 predict = ../CatSound_dataset/Angry/Cat_Angry1031.mp3\n",
      "4 original= ../CatSound_dataset/Angry/Cat_Angry1031.mp3\n",
      "\n"
     ]
    }
   ],
   "source": [
    "print (\"Prediction with [train] data\")\n",
    "y_pred = model.predict_classes(X_train)\n",
    "missed=[]\n",
    "matched=[]\n",
    "for i in range(len(y_pred)):\n",
    "    y_val_label_int = argmax(y_train[i])\n",
    "    if (y_pred[i]!=y_val_label_int):\n",
    "        missed.append( (y_pred[i], \"-\", int_to_label[y_pred[i]], \" - \", int_to_label[y_val_label_int] ))\n",
    "    else:\n",
    "        matched.append((y_pred[i], \"-\", int_to_label[y_pred[i]], \" - \", int_to_label[y_val_label_int]))\n",
    "\n",
    "print (\"  |__match    :\", len(matched))\n",
    "print (\"  |__miss     :\", len(missed))\n",
    "print (\"  |__accuracy :\", round((len(matched)-len(missed))/len(matched)*100,2), \"%\")\n",
    "print (\"\")\n",
    "#print (\"Value missed : \\n\",missed)\n",
    "\n",
    "# show sample results\n",
    "print (\"---samples---\")\n",
    "for i in range(5):\n",
    "    print (i,\"predict =\", int_to_label[y_pred[i]])\n",
    "    print (i,\"original=\", int_to_label[argmax(y_train[i])])\n",
    "    print (\"\")"
   ]
  },
  {
   "cell_type": "code",
   "execution_count": 375,
   "metadata": {},
   "outputs": [
    {
     "name": "stdout",
     "output_type": "stream",
     "text": [
      "Prediction with [test] data\n",
      "  |__match    : 78\n",
      "  |__miss     : 111\n",
      "  |__accuracy : -42.31 %\n",
      "\n",
      "---samples---\n",
      "0 predict = ../CatSound_dataset/Angry/Cat_Angry1033.mp3\n",
      "0 original= ../CatSound_dataset/Angry/Cat_Angry1033.mp3\n",
      "\n",
      "1 predict = ../CatSound_dataset/Angry/Cat_Angry1035.mp3\n",
      "1 original= ../CatSound_dataset/Angry/Cat_Angry1034.mp3\n",
      "\n",
      "2 predict = ../CatSound_dataset/Angry/Cat_Angry1031.mp3\n",
      "2 original= ../CatSound_dataset/Angry/Cat_Angry1030.mp3\n",
      "\n",
      "3 predict = ../CatSound_dataset/Angry/Cat_Angry1034.mp3\n",
      "3 original= ../CatSound_dataset/Angry/Cat_Angry1034.mp3\n",
      "\n",
      "4 predict = ../CatSound_dataset/Angry/Cat_Angry1033.mp3\n",
      "4 original= ../CatSound_dataset/Angry/Cat_Angry1033.mp3\n",
      "\n",
      "5 predict = ../CatSound_dataset/Angry/Cat_Angry1027.mp3\n",
      "5 original= ../CatSound_dataset/Angry/Cat_Angry1027.mp3\n",
      "\n",
      "6 predict = ../CatSound_dataset/Angry/Cat_Angry1029.mp3\n",
      "6 original= ../CatSound_dataset/Angry/Cat_Angry1029.mp3\n",
      "\n",
      "7 predict = ../CatSound_dataset/Angry/Cat_Angry1031.mp3\n",
      "7 original= ../CatSound_dataset/Angry/Cat_Angry1030.mp3\n",
      "\n"
     ]
    }
   ],
   "source": [
    "# prediction class \n",
    "print (\"Prediction with [test] data\")\n",
    "y_pred = model.predict_classes(X_test)\n",
    "missed=[]\n",
    "matched=[]\n",
    "for i in range(len(y_pred)):\n",
    "    y_val_label_int = argmax(y_test[i])\n",
    "    if (y_pred[i]!=y_val_label_int):\n",
    "        missed.append( (y_pred[i], \"-\", int_to_label[y_pred[i]], \" - \", int_to_label[y_val_label_int] ))\n",
    "    else:\n",
    "        matched.append((y_pred[i], \"-\", int_to_label[y_pred[i]], \" - \", int_to_label[y_val_label_int]))\n",
    "\n",
    "print (\"  |__match    :\", len(matched))\n",
    "print (\"  |__miss     :\", len(missed))\n",
    "print (\"  |__accuracy :\", round((len(matched)-len(missed))/len(matched)*100,2), \"%\")\n",
    "print (\"\")\n",
    "#print (\"Value missed : \\n\",missed)\n",
    "\n",
    "# show sample results\n",
    "print (\"---samples---\")\n",
    "for i in range(8):\n",
    "    print (i,\"predict =\", int_to_label[y_pred[i]])\n",
    "    print (i,\"original=\", int_to_label[argmax(y_test[i])])\n",
    "    print (\"\")"
   ]
  },
  {
   "cell_type": "code",
   "execution_count": 376,
   "metadata": {},
   "outputs": [
    {
     "name": "stdout",
     "output_type": "stream",
     "text": [
      "Prediction with [validation] data\n",
      "  |__match    : 35\n",
      "  |__miss     : 46\n",
      "  |__accuracy : -31.43 %\n",
      "\n",
      "---samples---\n",
      "0 predict = ../CatSound_dataset/Angry/Cat_Angry1031.mp3\n",
      "0 original= ../CatSound_dataset/Angry/Cat_Angry1031.mp3\n",
      "\n",
      "1 predict = ../CatSound_dataset/Angry/Cat_Angry1033.mp3\n",
      "1 original= ../CatSound_dataset/Angry/Cat_Angry1032.mp3\n",
      "\n",
      "2 predict = ../CatSound_dataset/Angry/Cat_Angry1027.mp3\n",
      "2 original= ../CatSound_dataset/Angry/Cat_Angry1027.mp3\n",
      "\n",
      "3 predict = ../CatSound_dataset/Angry/Cat_Angry1029.mp3\n",
      "3 original= ../CatSound_dataset/Angry/Cat_Angry1029.mp3\n",
      "\n",
      "4 predict = ../CatSound_dataset/Angry/Cat_Angry1031.mp3\n",
      "4 original= ../CatSound_dataset/Angry/Cat_Angry1033.mp3\n",
      "\n",
      "5 predict = ../CatSound_dataset/Angry/Cat_Angry1033.mp3\n",
      "5 original= ../CatSound_dataset/Angry/Cat_Angry1026.mp3\n",
      "\n",
      "6 predict = ../CatSound_dataset/Angry/Cat_Angry1032.mp3\n",
      "6 original= ../CatSound_dataset/Angry/Cat_Angry1031.mp3\n",
      "\n",
      "7 predict = ../CatSound_dataset/Angry/Cat_Angry1031.mp3\n",
      "7 original= ../CatSound_dataset/Angry/Cat_Angry1034.mp3\n",
      "\n"
     ]
    }
   ],
   "source": [
    "# prediction class \n",
    "print (\"Prediction with [validation] data\")\n",
    "y_pred = model.predict_classes(X_val)\n",
    "missed=[]\n",
    "matched=[]\n",
    "for i in range(len(y_pred)):\n",
    "    y_val_label_int = argmax(y_val[i])\n",
    "    if (y_pred[i]!=y_val_label_int):\n",
    "        missed.append( (y_pred[i], \"-\", int_to_label[y_pred[i]], \" - \", int_to_label[y_val_label_int] ))\n",
    "    else:\n",
    "        matched.append((y_pred[i], \"-\", int_to_label[y_pred[i]], \" - \", int_to_label[y_val_label_int]))\n",
    "\n",
    "print (\"  |__match    :\", len(matched))\n",
    "print (\"  |__miss     :\", len(missed))\n",
    "print (\"  |__accuracy :\", round((len(matched)-len(missed))/len(matched)*100,2), \"%\")\n",
    "print (\"\")\n",
    "#print (\"Value missed : \\n\",missed)\n",
    "\n",
    "# show sample results\n",
    "print (\"---samples---\")\n",
    "for i in range(8):\n",
    "    print (i,\"predict =\", int_to_label[y_pred[i]])\n",
    "    print (i,\"original=\", int_to_label[argmax(y_val[i])])\n",
    "    print (\"\")"
   ]
  },
  {
   "cell_type": "code",
   "execution_count": 288,
   "metadata": {},
   "outputs": [
    {
     "name": "stdout",
     "output_type": "stream",
     "text": [
      "test data size  110\n",
      "test data shape  (110, 128, 128, 1)\n"
     ]
    }
   ],
   "source": [
    "print (\"test data size \",len(test_audio_data))\n",
    "sub_test = test_audio_data[1:22]\n",
    "tx_test, ty_test = zip(*test_audio_data)\n",
    "\n",
    "# make prediction \n",
    "tx_test2 = np.array([x.reshape((128, 128, 1)) for x in tx_test])\n",
    "print (\"test data shape \", tx_test2.shape)"
   ]
  },
  {
   "cell_type": "code",
   "execution_count": 289,
   "metadata": {},
   "outputs": [
    {
     "name": "stdout",
     "output_type": "stream",
     "text": [
      "110 110\n"
     ]
    }
   ],
   "source": [
    "# run prediction data\n",
    "y_pred = model.predict_classes(tx_test2, batch_size=1)\n",
    "print ( len(y_pred), len(tx_test2))"
   ]
  },
  {
   "cell_type": "code",
   "execution_count": 291,
   "metadata": {},
   "outputs": [
    {
     "name": "stdout",
     "output_type": "stream",
     "text": [
      "110\n"
     ]
    },
    {
     "data": {
      "text/html": [
       "<div>\n",
       "<style scoped>\n",
       "    .dataframe tbody tr th:only-of-type {\n",
       "        vertical-align: middle;\n",
       "    }\n",
       "\n",
       "    .dataframe tbody tr th {\n",
       "        vertical-align: top;\n",
       "    }\n",
       "\n",
       "    .dataframe thead th {\n",
       "        text-align: right;\n",
       "    }\n",
       "</style>\n",
       "<table border=\"1\" class=\"dataframe\">\n",
       "  <thead>\n",
       "    <tr style=\"text-align: right;\">\n",
       "      <th></th>\n",
       "      <th>ID</th>\n",
       "      <th>Prediction</th>\n",
       "    </tr>\n",
       "  </thead>\n",
       "  <tbody>\n",
       "    <tr>\n",
       "      <th>0</th>\n",
       "      <td>0</td>\n",
       "      <td>../CatSound_dataset/Angry/Cat_Angry1026.mp3</td>\n",
       "    </tr>\n",
       "    <tr>\n",
       "      <th>1</th>\n",
       "      <td>0</td>\n",
       "      <td>../CatSound_dataset/Angry/Cat_Angry1026.mp3</td>\n",
       "    </tr>\n",
       "    <tr>\n",
       "      <th>2</th>\n",
       "      <td>0</td>\n",
       "      <td>../CatSound_dataset/Angry/Cat_Angry1026.mp3</td>\n",
       "    </tr>\n",
       "    <tr>\n",
       "      <th>3</th>\n",
       "      <td>0</td>\n",
       "      <td>../CatSound_dataset/Angry/Cat_Angry1026.mp3</td>\n",
       "    </tr>\n",
       "    <tr>\n",
       "      <th>4</th>\n",
       "      <td>0</td>\n",
       "      <td>../CatSound_dataset/Angry/Cat_Angry1026.mp3</td>\n",
       "    </tr>\n",
       "    <tr>\n",
       "      <th>5</th>\n",
       "      <td>0</td>\n",
       "      <td>../CatSound_dataset/Angry/Cat_Angry1026.mp3</td>\n",
       "    </tr>\n",
       "    <tr>\n",
       "      <th>6</th>\n",
       "      <td>0</td>\n",
       "      <td>../CatSound_dataset/Angry/Cat_Angry1026.mp3</td>\n",
       "    </tr>\n",
       "    <tr>\n",
       "      <th>7</th>\n",
       "      <td>0</td>\n",
       "      <td>../CatSound_dataset/Angry/Cat_Angry1026.mp3</td>\n",
       "    </tr>\n",
       "    <tr>\n",
       "      <th>8</th>\n",
       "      <td>0</td>\n",
       "      <td>../CatSound_dataset/Angry/Cat_Angry1026.mp3</td>\n",
       "    </tr>\n",
       "    <tr>\n",
       "      <th>9</th>\n",
       "      <td>0</td>\n",
       "      <td>../CatSound_dataset/Angry/Cat_Angry1026.mp3</td>\n",
       "    </tr>\n",
       "    <tr>\n",
       "      <th>10</th>\n",
       "      <td>0</td>\n",
       "      <td>../CatSound_dataset/Angry/Cat_Angry1026.mp3</td>\n",
       "    </tr>\n",
       "    <tr>\n",
       "      <th>11</th>\n",
       "      <td>1</td>\n",
       "      <td>../CatSound_dataset/Angry/Cat_Angry1026.mp3</td>\n",
       "    </tr>\n",
       "    <tr>\n",
       "      <th>12</th>\n",
       "      <td>1</td>\n",
       "      <td>../CatSound_dataset/Angry/Cat_Angry1026.mp3</td>\n",
       "    </tr>\n",
       "    <tr>\n",
       "      <th>13</th>\n",
       "      <td>1</td>\n",
       "      <td>../CatSound_dataset/Angry/Cat_Angry1026.mp3</td>\n",
       "    </tr>\n",
       "    <tr>\n",
       "      <th>14</th>\n",
       "      <td>1</td>\n",
       "      <td>../CatSound_dataset/Angry/Cat_Angry1026.mp3</td>\n",
       "    </tr>\n",
       "    <tr>\n",
       "      <th>15</th>\n",
       "      <td>1</td>\n",
       "      <td>../CatSound_dataset/Angry/Cat_Angry1026.mp3</td>\n",
       "    </tr>\n",
       "    <tr>\n",
       "      <th>16</th>\n",
       "      <td>1</td>\n",
       "      <td>../CatSound_dataset/Angry/Cat_Angry1026.mp3</td>\n",
       "    </tr>\n",
       "    <tr>\n",
       "      <th>17</th>\n",
       "      <td>1</td>\n",
       "      <td>../CatSound_dataset/Angry/Cat_Angry1026.mp3</td>\n",
       "    </tr>\n",
       "    <tr>\n",
       "      <th>18</th>\n",
       "      <td>1</td>\n",
       "      <td>../CatSound_dataset/Angry/Cat_Angry1026.mp3</td>\n",
       "    </tr>\n",
       "    <tr>\n",
       "      <th>19</th>\n",
       "      <td>1</td>\n",
       "      <td>../CatSound_dataset/Angry/Cat_Angry1026.mp3</td>\n",
       "    </tr>\n",
       "  </tbody>\n",
       "</table>\n",
       "</div>"
      ],
      "text/plain": [
       "    ID                                   Prediction\n",
       "0    0  ../CatSound_dataset/Angry/Cat_Angry1026.mp3\n",
       "1    0  ../CatSound_dataset/Angry/Cat_Angry1026.mp3\n",
       "2    0  ../CatSound_dataset/Angry/Cat_Angry1026.mp3\n",
       "3    0  ../CatSound_dataset/Angry/Cat_Angry1026.mp3\n",
       "4    0  ../CatSound_dataset/Angry/Cat_Angry1026.mp3\n",
       "5    0  ../CatSound_dataset/Angry/Cat_Angry1026.mp3\n",
       "6    0  ../CatSound_dataset/Angry/Cat_Angry1026.mp3\n",
       "7    0  ../CatSound_dataset/Angry/Cat_Angry1026.mp3\n",
       "8    0  ../CatSound_dataset/Angry/Cat_Angry1026.mp3\n",
       "9    0  ../CatSound_dataset/Angry/Cat_Angry1026.mp3\n",
       "10   0  ../CatSound_dataset/Angry/Cat_Angry1026.mp3\n",
       "11   1  ../CatSound_dataset/Angry/Cat_Angry1026.mp3\n",
       "12   1  ../CatSound_dataset/Angry/Cat_Angry1026.mp3\n",
       "13   1  ../CatSound_dataset/Angry/Cat_Angry1026.mp3\n",
       "14   1  ../CatSound_dataset/Angry/Cat_Angry1026.mp3\n",
       "15   1  ../CatSound_dataset/Angry/Cat_Angry1026.mp3\n",
       "16   1  ../CatSound_dataset/Angry/Cat_Angry1026.mp3\n",
       "17   1  ../CatSound_dataset/Angry/Cat_Angry1026.mp3\n",
       "18   1  ../CatSound_dataset/Angry/Cat_Angry1026.mp3\n",
       "19   1  ../CatSound_dataset/Angry/Cat_Angry1026.mp3"
      ]
     },
     "execution_count": 291,
     "metadata": {},
     "output_type": "execute_result"
    }
   ],
   "source": [
    "# save result for submission\n",
    "prediction_output_file='prediction_result_1.csv'\n",
    "with open(prediction_output_file,\"w\") as file:\n",
    "    file.write(\"ID,Prediction\\n\") \n",
    "    i=0\n",
    "    for i in range( (len(valid_test_data)-1)) :\n",
    "        #print(i, y_pred[i])\n",
    "        file.write(str(valid_test_data['label'][i])+','+ int_to_label[y_pred[i]])\n",
    "        file.write('\\n')\n",
    "        i=i+1\n",
    "        \n",
    "print (len(y_pred))\n",
    "output = pd.read_csv(prediction_output_file)\n",
    "output.head(20)"
   ]
  },
  {
   "cell_type": "code",
   "execution_count": null,
   "metadata": {},
   "outputs": [],
   "source": []
  }
 ],
 "metadata": {
  "kernelspec": {
   "display_name": "Python 3",
   "language": "python",
   "name": "python3"
  },
  "language_info": {
   "codemirror_mode": {
    "name": "ipython",
    "version": 3
   },
   "file_extension": ".py",
   "mimetype": "text/x-python",
   "name": "python",
   "nbconvert_exporter": "python",
   "pygments_lexer": "ipython3",
   "version": "3.6.5"
  }
 },
 "nbformat": 4,
 "nbformat_minor": 2
}
